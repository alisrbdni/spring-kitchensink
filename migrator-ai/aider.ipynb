{
 "cells": [
  {
   "cell_type": "code",
   "execution_count": null,
   "id": "42231ac1-fcd1-4cb7-ae7b-b5379a09f1fd",
   "metadata": {},
   "outputs": [],
   "source": [
    "!git clone https://github.com/alisrbdni/spring-kitchensink.git"
   ]
  },
  {
   "cell_type": "code",
   "execution_count": null,
   "id": "17894ece-d5f1-4f97-ba7e-bc206ba8032c",
   "metadata": {},
   "outputs": [],
   "source": [
    "!pip install aider-install\n",
    "!aider-install"
   ]
  },
  {
   "cell_type": "code",
   "execution_count": null,
   "id": "0cb80eb9-cec8-4c5c-8f4d-22da3d5e3acf",
   "metadata": {},
   "outputs": [],
   "source": [
    "!npm install -g repomix --y"
   ]
  },
  {
   "cell_type": "code",
   "execution_count": null,
   "id": "e6056e70-f26a-4c5d-8fbc-b2bbf526be34",
   "metadata": {},
   "outputs": [],
   "source": [
    "!repomix"
   ]
  },
  {
   "cell_type": "code",
   "execution_count": 1,
   "id": "348c73f9-f57c-49f9-8ea5-fe217c12ac6f",
   "metadata": {},
   "outputs": [],
   "source": [
    "!export OPENAI_API_KEY=sk-proj-"
   ]
  },
  {
   "cell_type": "code",
   "execution_count": 2,
   "id": "7de19f96-884c-44c4-88c5-695753b5557a",
   "metadata": {},
   "outputs": [
    {
     "name": "stdout",
     "output_type": "stream",
     "text": [
      "\n"
     ]
    }
   ],
   "source": [
    "import os\n",
    "\n",
    "# Set an environment variable\n",
    "os.environ['OPENAI_API_KEY'] = ''\n",
    "\n",
    "# Check the value\n",
    "print(os.environ['OPENAI_API_KEY'])"
   ]
  },
  {
   "cell_type": "code",
   "execution_count": 6,
   "id": "66f6060d-eefe-45b8-9c80-dae108b7d9b9",
   "metadata": {},
   "outputs": [
    {
     "name": "stderr",
     "output_type": "stream",
     "text": [
      "Warning: Input is not a terminal (fd=0).\n"
     ]
    },
    {
     "data": {
      "text/html": [
       "<pre style=\"white-space:pre;overflow-x:auto;line-height:normal;font-family:Menlo,'DejaVu Sans Mono',consolas,'Courier New',monospace\">Creating empty file spring-kitchensink\n",
       "</pre>\n"
      ],
      "text/plain": [
       "Creating empty file spring-kitchensink\n"
      ]
     },
     "metadata": {},
     "output_type": "display_data"
    },
    {
     "data": {
      "text/html": [
       "<pre style=\"white-space:pre;overflow-x:auto;line-height:normal;font-family:Menlo,'DejaVu Sans Mono',consolas,'Courier New',monospace\"><span style=\"color: #000080; text-decoration-color: #000080\">Based on the summaries provided, here's a conceptual map of the project:</span>                                           \n",
       "\n",
       "<span style=\"color: #808000; text-decoration-color: #808000; font-weight: bold\"> 1 </span><span style=\"color: #000080; text-decoration-color: #000080; font-weight: bold\">JBoss EAP Quickstarts - Kitchensink</span><span style=\"color: #000080; text-decoration-color: #000080\">:                                                                            </span>\n",
       "<span style=\"color: #808000; text-decoration-color: #808000; font-weight: bold\">    • </span><span style=\"color: #000080; text-decoration-color: #000080; font-weight: bold\">Data Layer</span><span style=\"color: #000080; text-decoration-color: #000080\">:                                                                                                  </span>\n",
       "<span style=\"color: #808000; text-decoration-color: #808000; font-weight: bold\">       • </span><span style=\"color: #008080; text-decoration-color: #008080; background-color: #000000; font-weight: bold\">MemberListProducer</span><span style=\"color: #000080; text-decoration-color: #000080\">: Manages the retrieval of member data, likely for presentation or business logic       </span>\n",
       "<span style=\"color: #808000; text-decoration-color: #808000; font-weight: bold\">         </span><span style=\"color: #000080; text-decoration-color: #000080\">layers.                                                                                                   </span>\n",
       "<span style=\"color: #808000; text-decoration-color: #808000; font-weight: bold\">       • </span><span style=\"color: #008080; text-decoration-color: #008080; background-color: #000000; font-weight: bold\">MemberRepository</span><span style=\"color: #000080; text-decoration-color: #000080\">: Handles database operations for </span><span style=\"color: #008080; text-decoration-color: #008080; background-color: #000000; font-weight: bold\">Member</span><span style=\"color: #000080; text-decoration-color: #000080\"> entities, including finding by ID or email and   </span>\n",
       "<span style=\"color: #808000; text-decoration-color: #808000; font-weight: bold\">         </span><span style=\"color: #000080; text-decoration-color: #000080\">listing all members ordered by name.                                                                      </span>\n",
       "<span style=\"color: #808000; text-decoration-color: #808000; font-weight: bold\">    • </span><span style=\"color: #000080; text-decoration-color: #000080; font-weight: bold\">Model Layer</span><span style=\"color: #000080; text-decoration-color: #000080\">:                                                                                                 </span>\n",
       "<span style=\"color: #808000; text-decoration-color: #808000; font-weight: bold\">       • </span><span style=\"color: #008080; text-decoration-color: #008080; background-color: #000000; font-weight: bold\">Member</span><span style=\"color: #000080; text-decoration-color: #000080\">: Represents a member entity with attributes like name and email, ensuring email uniqueness.        </span>\n",
       "<span style=\"color: #808000; text-decoration-color: #808000; font-weight: bold\"> 2 </span><span style=\"color: #000080; text-decoration-color: #000080; font-weight: bold\">Spring Kitchensink</span><span style=\"color: #000080; text-decoration-color: #000080\">:                                                                                             </span>\n",
       "<span style=\"color: #808000; text-decoration-color: #808000; font-weight: bold\">    • </span><span style=\"color: #000080; text-decoration-color: #000080; font-weight: bold\">Model Layer</span><span style=\"color: #000080; text-decoration-color: #000080\">:                                                                                                 </span>\n",
       "<span style=\"color: #808000; text-decoration-color: #808000; font-weight: bold\">       • </span><span style=\"color: #008080; text-decoration-color: #008080; background-color: #000000; font-weight: bold\">Member</span><span style=\"color: #000080; text-decoration-color: #000080\">: Represents a member document in a MongoDB collection, with methods to get name and email.         </span>\n",
       "<span style=\"color: #808000; text-decoration-color: #808000; font-weight: bold\">    • </span><span style=\"color: #000080; text-decoration-color: #000080; font-weight: bold\">Repository Layer</span><span style=\"color: #000080; text-decoration-color: #000080\">:                                                                                            </span>\n",
       "<span style=\"color: #808000; text-decoration-color: #808000; font-weight: bold\">       • </span><span style=\"color: #008080; text-decoration-color: #008080; background-color: #000000; font-weight: bold\">MemberRepository</span><span style=\"color: #000080; text-decoration-color: #000080\">: Extends </span><span style=\"color: #008080; text-decoration-color: #008080; background-color: #000000; font-weight: bold\">MongoRepository</span><span style=\"color: #000080; text-decoration-color: #000080\"> to provide CRUD operations and custom queries for </span><span style=\"color: #008080; text-decoration-color: #008080; background-color: #000000; font-weight: bold\">Member</span><span style=\"color: #000080; text-decoration-color: #000080\">        </span>\n",
       "<span style=\"color: #808000; text-decoration-color: #808000; font-weight: bold\">         </span><span style=\"color: #000080; text-decoration-color: #000080\">documents.                                                                                                </span>\n",
       "<span style=\"color: #808000; text-decoration-color: #808000; font-weight: bold\">    • </span><span style=\"color: #000080; text-decoration-color: #000080; font-weight: bold\">Service Layer</span><span style=\"color: #000080; text-decoration-color: #000080\">:                                                                                               </span>\n",
       "<span style=\"color: #808000; text-decoration-color: #808000; font-weight: bold\">       • </span><span style=\"color: #008080; text-decoration-color: #008080; background-color: #000000; font-weight: bold\">MemberService</span><span style=\"color: #000080; text-decoration-color: #000080\">: Provides business logic for member operations, such as registration with email uniqueness  </span>\n",
       "<span style=\"color: #808000; text-decoration-color: #808000; font-weight: bold\">         </span><span style=\"color: #000080; text-decoration-color: #000080\">checks and retrieval of all members or by ID.                                                             </span>\n",
       "<span style=\"color: #808000; text-decoration-color: #808000; font-weight: bold\"> 3 </span><span style=\"color: #000080; text-decoration-color: #000080; font-weight: bold\">Infrastructure</span><span style=\"color: #000080; text-decoration-color: #000080\">:                                                                                                 </span>\n",
       "<span style=\"color: #808000; text-decoration-color: #808000; font-weight: bold\">    • </span><span style=\"color: #000080; text-decoration-color: #000080; font-weight: bold\">Terraform Configuration</span><span style=\"color: #000080; text-decoration-color: #000080\">:                                                                                     </span>\n",
       "<span style=\"color: #808000; text-decoration-color: #808000; font-weight: bold\">       • </span><span style=\"color: #000080; text-decoration-color: #000080\">Manages Google Cloud resources, including artifact registry, build triggers, and Cloud Run services for   </span>\n",
       "<span style=\"color: #808000; text-decoration-color: #808000; font-weight: bold\">         </span><span style=\"color: #000080; text-decoration-color: #000080\">deploying the application.                                                                                </span>\n",
       "<span style=\"color: #808000; text-decoration-color: #808000; font-weight: bold\"> 4 </span><span style=\"color: #000080; text-decoration-color: #000080; font-weight: bold\">Migrator AI</span><span style=\"color: #000080; text-decoration-color: #000080\">:                                                                                                    </span>\n",
       "<span style=\"color: #808000; text-decoration-color: #808000; font-weight: bold\">    • </span><span style=\"color: #000080; text-decoration-color: #000080\">Contains functions for handling migration requests and pushing changes to a repository.                      </span>\n",
       "\n",
       "<span style=\"color: #000080; text-decoration-color: #000080\">This project appears to be a multi-layered application with both JBoss and Spring implementations of a </span>            \n",
       "<span style=\"color: #000080; text-decoration-color: #000080\">\"kitchensink\" application, which typically demonstrates a variety of features and integrations. The infrastructure </span>\n",
       "<span style=\"color: #000080; text-decoration-color: #000080\">is managed using Terraform for deployment on Google Cloud.</span>                                                         \n",
       "</pre>\n"
      ],
      "text/plain": [
       "\u001b[34mBased on the summaries provided, here's a conceptual map of the project:\u001b[0m                                           \n",
       "\n",
       "\u001b[1;33m 1 \u001b[0m\u001b[1;34mJBoss EAP Quickstarts - Kitchensink\u001b[0m\u001b[34m:\u001b[0m\u001b[34m                                                                            \u001b[0m\n",
       "\u001b[1;33m   \u001b[0m\u001b[1;33m • \u001b[0m\u001b[1;34mData Layer\u001b[0m\u001b[34m:\u001b[0m\u001b[34m                                                                                                  \u001b[0m\n",
       "\u001b[1;33m   \u001b[0m\u001b[1;33m   \u001b[0m\u001b[1;33m • \u001b[0m\u001b[1;36;40mMemberListProducer\u001b[0m\u001b[34m: Manages the retrieval of member data, likely for presentation or business logic \u001b[0m\u001b[34m      \u001b[0m\n",
       "\u001b[1;33m   \u001b[0m\u001b[1;33m   \u001b[0m\u001b[1;33m   \u001b[0m\u001b[34mlayers.\u001b[0m\u001b[34m                                                                                                   \u001b[0m\n",
       "\u001b[1;33m   \u001b[0m\u001b[1;33m   \u001b[0m\u001b[1;33m • \u001b[0m\u001b[1;36;40mMemberRepository\u001b[0m\u001b[34m: Handles database operations for \u001b[0m\u001b[1;36;40mMember\u001b[0m\u001b[34m entities, including finding by ID or email and \u001b[0m\u001b[34m  \u001b[0m\n",
       "\u001b[1;33m   \u001b[0m\u001b[1;33m   \u001b[0m\u001b[1;33m   \u001b[0m\u001b[34mlisting all members ordered by name.\u001b[0m\u001b[34m                                                                      \u001b[0m\n",
       "\u001b[1;33m   \u001b[0m\u001b[1;33m • \u001b[0m\u001b[1;34mModel Layer\u001b[0m\u001b[34m:\u001b[0m\u001b[34m                                                                                                 \u001b[0m\n",
       "\u001b[1;33m   \u001b[0m\u001b[1;33m   \u001b[0m\u001b[1;33m • \u001b[0m\u001b[1;36;40mMember\u001b[0m\u001b[34m: Represents a member entity with attributes like name and email, ensuring email uniqueness.\u001b[0m\u001b[34m        \u001b[0m\n",
       "\u001b[1;33m 2 \u001b[0m\u001b[1;34mSpring Kitchensink\u001b[0m\u001b[34m:\u001b[0m\u001b[34m                                                                                             \u001b[0m\n",
       "\u001b[1;33m   \u001b[0m\u001b[1;33m • \u001b[0m\u001b[1;34mModel Layer\u001b[0m\u001b[34m:\u001b[0m\u001b[34m                                                                                                 \u001b[0m\n",
       "\u001b[1;33m   \u001b[0m\u001b[1;33m   \u001b[0m\u001b[1;33m • \u001b[0m\u001b[1;36;40mMember\u001b[0m\u001b[34m: Represents a member document in a MongoDB collection, with methods to get name and email.\u001b[0m\u001b[34m         \u001b[0m\n",
       "\u001b[1;33m   \u001b[0m\u001b[1;33m • \u001b[0m\u001b[1;34mRepository Layer\u001b[0m\u001b[34m:\u001b[0m\u001b[34m                                                                                            \u001b[0m\n",
       "\u001b[1;33m   \u001b[0m\u001b[1;33m   \u001b[0m\u001b[1;33m • \u001b[0m\u001b[1;36;40mMemberRepository\u001b[0m\u001b[34m: Extends \u001b[0m\u001b[1;36;40mMongoRepository\u001b[0m\u001b[34m to provide CRUD operations and custom queries for \u001b[0m\u001b[1;36;40mMember\u001b[0m\u001b[34m \u001b[0m\u001b[34m       \u001b[0m\n",
       "\u001b[1;33m   \u001b[0m\u001b[1;33m   \u001b[0m\u001b[1;33m   \u001b[0m\u001b[34mdocuments.\u001b[0m\u001b[34m                                                                                                \u001b[0m\n",
       "\u001b[1;33m   \u001b[0m\u001b[1;33m • \u001b[0m\u001b[1;34mService Layer\u001b[0m\u001b[34m:\u001b[0m\u001b[34m                                                                                               \u001b[0m\n",
       "\u001b[1;33m   \u001b[0m\u001b[1;33m   \u001b[0m\u001b[1;33m • \u001b[0m\u001b[1;36;40mMemberService\u001b[0m\u001b[34m: Provides business logic for member operations, such as registration with email uniqueness \u001b[0m\u001b[34m \u001b[0m\n",
       "\u001b[1;33m   \u001b[0m\u001b[1;33m   \u001b[0m\u001b[1;33m   \u001b[0m\u001b[34mchecks and retrieval of all members or by ID.\u001b[0m\u001b[34m                                                             \u001b[0m\n",
       "\u001b[1;33m 3 \u001b[0m\u001b[1;34mInfrastructure\u001b[0m\u001b[34m:\u001b[0m\u001b[34m                                                                                                 \u001b[0m\n",
       "\u001b[1;33m   \u001b[0m\u001b[1;33m • \u001b[0m\u001b[1;34mTerraform Configuration\u001b[0m\u001b[34m:\u001b[0m\u001b[34m                                                                                     \u001b[0m\n",
       "\u001b[1;33m   \u001b[0m\u001b[1;33m   \u001b[0m\u001b[1;33m • \u001b[0m\u001b[34mManages Google Cloud resources, including artifact registry, build triggers, and Cloud Run services for \u001b[0m\u001b[34m  \u001b[0m\n",
       "\u001b[1;33m   \u001b[0m\u001b[1;33m   \u001b[0m\u001b[1;33m   \u001b[0m\u001b[34mdeploying the application.\u001b[0m\u001b[34m                                                                                \u001b[0m\n",
       "\u001b[1;33m 4 \u001b[0m\u001b[1;34mMigrator AI\u001b[0m\u001b[34m:\u001b[0m\u001b[34m                                                                                                    \u001b[0m\n",
       "\u001b[1;33m   \u001b[0m\u001b[1;33m • \u001b[0m\u001b[34mContains functions for handling migration requests and pushing changes to a repository.\u001b[0m\u001b[34m                      \u001b[0m\n",
       "\n",
       "\u001b[34mThis project appears to be a multi-layered application with both JBoss and Spring implementations of a \u001b[0m            \n",
       "\u001b[34m\"kitchensink\" application, which typically demonstrates a variety of features and integrations. The infrastructure \u001b[0m\n",
       "\u001b[34mis managed using Terraform for deployment on Google Cloud.\u001b[0m                                                         \n"
      ]
     },
     "metadata": {},
     "output_type": "display_data"
    },
    {
     "data": {
      "text/html": [
       "<pre style=\"white-space:pre;overflow-x:auto;line-height:normal;font-family:Menlo,'DejaVu Sans Mono',consolas,'Courier New',monospace\">\n",
       "</pre>\n"
      ],
      "text/plain": [
       "\n"
      ]
     },
     "metadata": {},
     "output_type": "display_data"
    },
    {
     "data": {
      "text/html": [
       "<pre style=\"white-space:pre;overflow-x:auto;line-height:normal;font-family:Menlo,'DejaVu Sans Mono',consolas,'Courier New',monospace\">Tokens: 3.6k sent, 329 received. Cost: $0.01 message, $0.01 session.\n",
       "</pre>\n"
      ],
      "text/plain": [
       "Tokens: 3.6k sent, 329 received. Cost: $0.01 message, $0.01 session.\n"
      ]
     },
     "metadata": {},
     "output_type": "display_data"
    }
   ],
   "source": [
    "from aider.coders import Coder\n",
    "from aider.models import Model\n",
    "\n",
    "# This is a list of files to add to the chat\n",
    "# fnames = [\"./*\"]\n",
    "\n",
    "# model = Model(\"gpt-4-turbo\")\n",
    "\n",
    "# # Create a coder object\n",
    "# coder = Coder.create(main_model=model, fnames=fnames)\n",
    "\n",
    "# # This will execute one instruction on those files and then return\n",
    "# coder.run(\"whats the project about?\")\n",
    "\n",
    "# # Send another instruction\n",
    "# coder.run(\"make it say goodbye\")\n",
    "\n",
    "# # You can run in-chat \"/\" commands too\n",
    "# coder.run(\"/tokens\")\n",
    "from aider.coders import Coder\n",
    "from aider.models import Model\n",
    "from aider.io import InputOutput\n",
    "io = InputOutput(yes=True)\n",
    "fnames = [\"spring-kitchensink\"]\n",
    "model = Model(\"gpt-4o\")\n",
    "coder = Coder.create(main_model=model, io=io,fnames=fnames,stream=False)\n",
    "aider_output = coder.run(\"whats this project about make a map of it\")\n",
    "\n"
   ]
  },
  {
   "cell_type": "code",
   "execution_count": 8,
   "id": "6238615a-990b-4242-bf77-903eb0b3e469",
   "metadata": {},
   "outputs": [
    {
     "data": {
      "text/html": [
       "<pre style=\"white-space:pre;overflow-x:auto;line-height:normal;font-family:Menlo,'DejaVu Sans Mono',consolas,'Courier New',monospace\"><span style=\"color: #000080; text-decoration-color: #000080\">To deploy a Spring application on Google Cloud Run using Terraform, you need to ensure your Terraform configuration</span>\n",
       "<span style=\"color: #000080; text-decoration-color: #000080\">is set up to build and deploy your application container. Here's a step-by-step guide to set up the necessary </span>     \n",
       "<span style=\"color: #000080; text-decoration-color: #000080\">Terraform configuration:</span>                                                                                           \n",
       "\n",
       "<span style=\"color: #808000; text-decoration-color: #808000; font-weight: bold\"> 1 </span><span style=\"color: #000080; text-decoration-color: #000080; font-weight: bold\">Define Variables</span><span style=\"color: #000080; text-decoration-color: #000080\">: Ensure you have variables for your project ID, region, service name, and artifact repository  </span>\n",
       "<span style=\"color: #808000; text-decoration-color: #808000; font-weight: bold\">   </span><span style=\"color: #000080; text-decoration-color: #000080\">name.                                                                                                           </span>\n",
       "<span style=\"color: #808000; text-decoration-color: #808000; font-weight: bold\"> 2 </span><span style=\"color: #000080; text-decoration-color: #000080; font-weight: bold\">Artifact Registry</span><span style=\"color: #000080; text-decoration-color: #000080\">: Configure a Google Artifact Registry to store your Docker images.                            </span>\n",
       "<span style=\"color: #808000; text-decoration-color: #808000; font-weight: bold\"> 3 </span><span style=\"color: #000080; text-decoration-color: #000080; font-weight: bold\">Cloud Build Trigger</span><span style=\"color: #000080; text-decoration-color: #000080\">: Set up a Cloud Build trigger to build your Docker image.                                   </span>\n",
       "<span style=\"color: #808000; text-decoration-color: #808000; font-weight: bold\"> 4 </span><span style=\"color: #000080; text-decoration-color: #000080; font-weight: bold\">Cloud Run Service</span><span style=\"color: #000080; text-decoration-color: #000080\">: Define a Cloud Run service to deploy your application.                                       </span>\n",
       "<span style=\"color: #808000; text-decoration-color: #808000; font-weight: bold\"> 5 </span><span style=\"color: #000080; text-decoration-color: #000080; font-weight: bold\">IAM Policy</span><span style=\"color: #000080; text-decoration-color: #000080\">: Set up IAM policies to allow public access to your Cloud Run service.                               </span>\n",
       "\n",
       "<span style=\"color: #000080; text-decoration-color: #000080\">Here's how you can modify your </span><span style=\"color: #008080; text-decoration-color: #008080; background-color: #000000; font-weight: bold\">main.tf</span><span style=\"color: #000080; text-decoration-color: #000080\"> to include these configurations:</span>                                            \n",
       "\n",
       "<span style=\"background-color: #f8f8f8\">                                                                                                                   </span>\n",
       "<span style=\"background-color: #f8f8f8\"> </span><span style=\"color: #008000; text-decoration-color: #008000; background-color: #f8f8f8; font-weight: bold\">variable</span><span style=\"color: #bbbbbb; text-decoration-color: #bbbbbb; background-color: #f8f8f8\"> </span><span style=\"color: #19177c; text-decoration-color: #19177c; background-color: #f8f8f8\">\"gcp_project_id\"</span><span style=\"color: #bbbbbb; text-decoration-color: #bbbbbb; background-color: #f8f8f8\"> </span><span style=\"color: #000000; text-decoration-color: #000000; background-color: #f8f8f8\">{</span><span style=\"background-color: #f8f8f8\">                                                                                       </span>\n",
       "<span style=\"background-color: #f8f8f8\"> </span><span style=\"color: #bbbbbb; text-decoration-color: #bbbbbb; background-color: #f8f8f8\">  </span><span style=\"color: #687822; text-decoration-color: #687822; background-color: #f8f8f8\">description</span><span style=\"color: #bbbbbb; text-decoration-color: #bbbbbb; background-color: #f8f8f8\"> </span><span style=\"color: #666666; text-decoration-color: #666666; background-color: #f8f8f8\">=</span><span style=\"color: #bbbbbb; text-decoration-color: #bbbbbb; background-color: #f8f8f8\"> </span><span style=\"color: #ba2121; text-decoration-color: #ba2121; background-color: #f8f8f8\">\"The GCP project ID\"</span><span style=\"background-color: #f8f8f8\">                                                                              </span>\n",
       "<span style=\"background-color: #f8f8f8\"> </span><span style=\"color: #000000; text-decoration-color: #000000; background-color: #f8f8f8\">}</span><span style=\"background-color: #f8f8f8\">                                                                                                                 </span>\n",
       "<span style=\"background-color: #f8f8f8\">                                                                                                                   </span>\n",
       "<span style=\"background-color: #f8f8f8\"> </span><span style=\"color: #008000; text-decoration-color: #008000; background-color: #f8f8f8; font-weight: bold\">variable</span><span style=\"color: #bbbbbb; text-decoration-color: #bbbbbb; background-color: #f8f8f8\"> </span><span style=\"color: #19177c; text-decoration-color: #19177c; background-color: #f8f8f8\">\"gcp_region\"</span><span style=\"color: #bbbbbb; text-decoration-color: #bbbbbb; background-color: #f8f8f8\"> </span><span style=\"color: #000000; text-decoration-color: #000000; background-color: #f8f8f8\">{</span><span style=\"background-color: #f8f8f8\">                                                                                           </span>\n",
       "<span style=\"background-color: #f8f8f8\"> </span><span style=\"color: #bbbbbb; text-decoration-color: #bbbbbb; background-color: #f8f8f8\">  </span><span style=\"color: #687822; text-decoration-color: #687822; background-color: #f8f8f8\">description</span><span style=\"color: #bbbbbb; text-decoration-color: #bbbbbb; background-color: #f8f8f8\"> </span><span style=\"color: #666666; text-decoration-color: #666666; background-color: #f8f8f8\">=</span><span style=\"color: #bbbbbb; text-decoration-color: #bbbbbb; background-color: #f8f8f8\"> </span><span style=\"color: #ba2121; text-decoration-color: #ba2121; background-color: #f8f8f8\">\"The GCP region\"</span><span style=\"background-color: #f8f8f8\">                                                                                  </span>\n",
       "<span style=\"background-color: #f8f8f8\"> </span><span style=\"color: #000000; text-decoration-color: #000000; background-color: #f8f8f8\">}</span><span style=\"background-color: #f8f8f8\">                                                                                                                 </span>\n",
       "<span style=\"background-color: #f8f8f8\">                                                                                                                   </span>\n",
       "<span style=\"background-color: #f8f8f8\"> </span><span style=\"color: #008000; text-decoration-color: #008000; background-color: #f8f8f8; font-weight: bold\">variable</span><span style=\"color: #bbbbbb; text-decoration-color: #bbbbbb; background-color: #f8f8f8\"> </span><span style=\"color: #19177c; text-decoration-color: #19177c; background-color: #f8f8f8\">\"service_name\"</span><span style=\"color: #bbbbbb; text-decoration-color: #bbbbbb; background-color: #f8f8f8\"> </span><span style=\"color: #000000; text-decoration-color: #000000; background-color: #f8f8f8\">{</span><span style=\"background-color: #f8f8f8\">                                                                                         </span>\n",
       "<span style=\"background-color: #f8f8f8\"> </span><span style=\"color: #bbbbbb; text-decoration-color: #bbbbbb; background-color: #f8f8f8\">  </span><span style=\"color: #687822; text-decoration-color: #687822; background-color: #f8f8f8\">description</span><span style=\"color: #bbbbbb; text-decoration-color: #bbbbbb; background-color: #f8f8f8\"> </span><span style=\"color: #666666; text-decoration-color: #666666; background-color: #f8f8f8\">=</span><span style=\"color: #bbbbbb; text-decoration-color: #bbbbbb; background-color: #f8f8f8\"> </span><span style=\"color: #ba2121; text-decoration-color: #ba2121; background-color: #f8f8f8\">\"The name of the Cloud Run service\"</span><span style=\"background-color: #f8f8f8\">                                                               </span>\n",
       "<span style=\"background-color: #f8f8f8\"> </span><span style=\"color: #000000; text-decoration-color: #000000; background-color: #f8f8f8\">}</span><span style=\"background-color: #f8f8f8\">                                                                                                                 </span>\n",
       "<span style=\"background-color: #f8f8f8\">                                                                                                                   </span>\n",
       "<span style=\"background-color: #f8f8f8\"> </span><span style=\"color: #008000; text-decoration-color: #008000; background-color: #f8f8f8; font-weight: bold\">variable</span><span style=\"color: #bbbbbb; text-decoration-color: #bbbbbb; background-color: #f8f8f8\"> </span><span style=\"color: #19177c; text-decoration-color: #19177c; background-color: #f8f8f8\">\"artifact_repo_name\"</span><span style=\"color: #bbbbbb; text-decoration-color: #bbbbbb; background-color: #f8f8f8\"> </span><span style=\"color: #000000; text-decoration-color: #000000; background-color: #f8f8f8\">{</span><span style=\"background-color: #f8f8f8\">                                                                                   </span>\n",
       "<span style=\"background-color: #f8f8f8\"> </span><span style=\"color: #bbbbbb; text-decoration-color: #bbbbbb; background-color: #f8f8f8\">  </span><span style=\"color: #687822; text-decoration-color: #687822; background-color: #f8f8f8\">description</span><span style=\"color: #bbbbbb; text-decoration-color: #bbbbbb; background-color: #f8f8f8\"> </span><span style=\"color: #666666; text-decoration-color: #666666; background-color: #f8f8f8\">=</span><span style=\"color: #bbbbbb; text-decoration-color: #bbbbbb; background-color: #f8f8f8\"> </span><span style=\"color: #ba2121; text-decoration-color: #ba2121; background-color: #f8f8f8\">\"The name of the Artifact Registry repository\"</span><span style=\"background-color: #f8f8f8\">                                                    </span>\n",
       "<span style=\"background-color: #f8f8f8\"> </span><span style=\"color: #000000; text-decoration-color: #000000; background-color: #f8f8f8\">}</span><span style=\"background-color: #f8f8f8\">                                                                                                                 </span>\n",
       "<span style=\"background-color: #f8f8f8\">                                                                                                                   </span>\n",
       "<span style=\"background-color: #f8f8f8\"> </span><span style=\"color: #008000; text-decoration-color: #008000; background-color: #f8f8f8; font-weight: bold\">resource</span><span style=\"color: #bbbbbb; text-decoration-color: #bbbbbb; background-color: #f8f8f8\"> </span><span style=\"color: #0000ff; text-decoration-color: #0000ff; background-color: #f8f8f8; font-weight: bold\">\"google_artifact_registry_repository\"</span><span style=\"color: #bbbbbb; text-decoration-color: #bbbbbb; background-color: #f8f8f8\"> </span><span style=\"color: #19177c; text-decoration-color: #19177c; background-color: #f8f8f8\">\"docker_repo\"</span><span style=\"color: #bbbbbb; text-decoration-color: #bbbbbb; background-color: #f8f8f8\"> </span><span style=\"color: #000000; text-decoration-color: #000000; background-color: #f8f8f8\">{</span><span style=\"background-color: #f8f8f8\">                                                    </span>\n",
       "<span style=\"background-color: #f8f8f8\"> </span><span style=\"color: #bbbbbb; text-decoration-color: #bbbbbb; background-color: #f8f8f8\">  </span><span style=\"color: #687822; text-decoration-color: #687822; background-color: #f8f8f8\">provider</span><span style=\"color: #bbbbbb; text-decoration-color: #bbbbbb; background-color: #f8f8f8\"> </span><span style=\"color: #666666; text-decoration-color: #666666; background-color: #f8f8f8\">=</span><span style=\"color: #bbbbbb; text-decoration-color: #bbbbbb; background-color: #f8f8f8\"> </span><span style=\"color: #000000; text-decoration-color: #000000; background-color: #f8f8f8\">google-beta</span><span style=\"background-color: #f8f8f8\">                                                                                          </span>\n",
       "<span style=\"background-color: #f8f8f8\"> </span><span style=\"color: #bbbbbb; text-decoration-color: #bbbbbb; background-color: #f8f8f8\">  </span><span style=\"color: #687822; text-decoration-color: #687822; background-color: #f8f8f8\">project</span><span style=\"color: #bbbbbb; text-decoration-color: #bbbbbb; background-color: #f8f8f8\">  </span><span style=\"color: #666666; text-decoration-color: #666666; background-color: #f8f8f8\">=</span><span style=\"color: #bbbbbb; text-decoration-color: #bbbbbb; background-color: #f8f8f8\"> </span><span style=\"color: #19177c; text-decoration-color: #19177c; background-color: #f8f8f8\">var.gcp_project_id</span><span style=\"background-color: #f8f8f8\">                                                                                   </span>\n",
       "<span style=\"background-color: #f8f8f8\"> </span><span style=\"color: #bbbbbb; text-decoration-color: #bbbbbb; background-color: #f8f8f8\">  </span><span style=\"color: #687822; text-decoration-color: #687822; background-color: #f8f8f8\">location</span><span style=\"color: #bbbbbb; text-decoration-color: #bbbbbb; background-color: #f8f8f8\"> </span><span style=\"color: #666666; text-decoration-color: #666666; background-color: #f8f8f8\">=</span><span style=\"color: #bbbbbb; text-decoration-color: #bbbbbb; background-color: #f8f8f8\"> </span><span style=\"color: #19177c; text-decoration-color: #19177c; background-color: #f8f8f8\">var.gcp_region</span><span style=\"background-color: #f8f8f8\">                                                                                       </span>\n",
       "<span style=\"background-color: #f8f8f8\"> </span><span style=\"color: #bbbbbb; text-decoration-color: #bbbbbb; background-color: #f8f8f8\">  </span><span style=\"color: #687822; text-decoration-color: #687822; background-color: #f8f8f8\">repository_id</span><span style=\"color: #bbbbbb; text-decoration-color: #bbbbbb; background-color: #f8f8f8\"> </span><span style=\"color: #666666; text-decoration-color: #666666; background-color: #f8f8f8\">=</span><span style=\"color: #bbbbbb; text-decoration-color: #bbbbbb; background-color: #f8f8f8\"> </span><span style=\"color: #19177c; text-decoration-color: #19177c; background-color: #f8f8f8\">var.artifact_repo_name</span><span style=\"background-color: #f8f8f8\">                                                                          </span>\n",
       "<span style=\"background-color: #f8f8f8\"> </span><span style=\"color: #bbbbbb; text-decoration-color: #bbbbbb; background-color: #f8f8f8\">  </span><span style=\"color: #687822; text-decoration-color: #687822; background-color: #f8f8f8\">format</span><span style=\"color: #bbbbbb; text-decoration-color: #bbbbbb; background-color: #f8f8f8\"> </span><span style=\"color: #666666; text-decoration-color: #666666; background-color: #f8f8f8\">=</span><span style=\"color: #bbbbbb; text-decoration-color: #bbbbbb; background-color: #f8f8f8\"> </span><span style=\"color: #ba2121; text-decoration-color: #ba2121; background-color: #f8f8f8\">\"DOCKER\"</span><span style=\"background-color: #f8f8f8\">                                                                                               </span>\n",
       "<span style=\"background-color: #f8f8f8\"> </span><span style=\"color: #000000; text-decoration-color: #000000; background-color: #f8f8f8\">}</span><span style=\"background-color: #f8f8f8\">                                                                                                                 </span>\n",
       "<span style=\"background-color: #f8f8f8\">                                                                                                                   </span>\n",
       "<span style=\"background-color: #f8f8f8\"> </span><span style=\"color: #008000; text-decoration-color: #008000; background-color: #f8f8f8; font-weight: bold\">resource</span><span style=\"color: #bbbbbb; text-decoration-color: #bbbbbb; background-color: #f8f8f8\"> </span><span style=\"color: #0000ff; text-decoration-color: #0000ff; background-color: #f8f8f8; font-weight: bold\">\"google_cloudbuild_trigger\"</span><span style=\"color: #bbbbbb; text-decoration-color: #bbbbbb; background-color: #f8f8f8\"> </span><span style=\"color: #19177c; text-decoration-color: #19177c; background-color: #f8f8f8\">\"docker_build\"</span><span style=\"color: #bbbbbb; text-decoration-color: #bbbbbb; background-color: #f8f8f8\"> </span><span style=\"color: #000000; text-decoration-color: #000000; background-color: #f8f8f8\">{</span><span style=\"background-color: #f8f8f8\">                                                             </span>\n",
       "<span style=\"background-color: #f8f8f8\"> </span><span style=\"color: #bbbbbb; text-decoration-color: #bbbbbb; background-color: #f8f8f8\">  </span><span style=\"color: #687822; text-decoration-color: #687822; background-color: #f8f8f8\">provider</span><span style=\"color: #bbbbbb; text-decoration-color: #bbbbbb; background-color: #f8f8f8\"> </span><span style=\"color: #666666; text-decoration-color: #666666; background-color: #f8f8f8\">=</span><span style=\"color: #bbbbbb; text-decoration-color: #bbbbbb; background-color: #f8f8f8\"> </span><span style=\"color: #000000; text-decoration-color: #000000; background-color: #f8f8f8\">google-beta</span><span style=\"background-color: #f8f8f8\">                                                                                          </span>\n",
       "<span style=\"background-color: #f8f8f8\"> </span><span style=\"color: #bbbbbb; text-decoration-color: #bbbbbb; background-color: #f8f8f8\">  </span><span style=\"color: #687822; text-decoration-color: #687822; background-color: #f8f8f8\">project</span><span style=\"color: #bbbbbb; text-decoration-color: #bbbbbb; background-color: #f8f8f8\">  </span><span style=\"color: #666666; text-decoration-color: #666666; background-color: #f8f8f8\">=</span><span style=\"color: #bbbbbb; text-decoration-color: #bbbbbb; background-color: #f8f8f8\"> </span><span style=\"color: #19177c; text-decoration-color: #19177c; background-color: #f8f8f8\">var.gcp_project_id</span><span style=\"background-color: #f8f8f8\">                                                                                   </span>\n",
       "<span style=\"background-color: #f8f8f8\"> </span><span style=\"color: #bbbbbb; text-decoration-color: #bbbbbb; background-color: #f8f8f8\">  </span><span style=\"color: #687822; text-decoration-color: #687822; background-color: #f8f8f8\">name</span><span style=\"color: #bbbbbb; text-decoration-color: #bbbbbb; background-color: #f8f8f8\">     </span><span style=\"color: #666666; text-decoration-color: #666666; background-color: #f8f8f8\">=</span><span style=\"color: #bbbbbb; text-decoration-color: #bbbbbb; background-color: #f8f8f8\"> </span><span style=\"color: #ba2121; text-decoration-color: #ba2121; background-color: #f8f8f8\">\"kitchensink-build\"</span><span style=\"background-color: #f8f8f8\">                                                                                  </span>\n",
       "<span style=\"background-color: #f8f8f8\"> </span><span style=\"color: #bbbbbb; text-decoration-color: #bbbbbb; background-color: #f8f8f8\">  </span><span style=\"color: #687822; text-decoration-color: #687822; background-color: #f8f8f8\">location</span><span style=\"color: #bbbbbb; text-decoration-color: #bbbbbb; background-color: #f8f8f8\"> </span><span style=\"color: #666666; text-decoration-color: #666666; background-color: #f8f8f8\">=</span><span style=\"color: #bbbbbb; text-decoration-color: #bbbbbb; background-color: #f8f8f8\"> </span><span style=\"color: #19177c; text-decoration-color: #19177c; background-color: #f8f8f8\">var.gcp_region</span><span style=\"background-color: #f8f8f8\">                                                                                       </span>\n",
       "<span style=\"background-color: #f8f8f8\">                                                                                                                   </span>\n",
       "<span style=\"background-color: #f8f8f8\"> </span><span style=\"color: #bbbbbb; text-decoration-color: #bbbbbb; background-color: #f8f8f8\">  </span><span style=\"color: #008000; text-decoration-color: #008000; background-color: #f8f8f8\">github</span><span style=\"color: #bbbbbb; text-decoration-color: #bbbbbb; background-color: #f8f8f8\"> </span><span style=\"color: #000000; text-decoration-color: #000000; background-color: #f8f8f8\">{</span><span style=\"background-color: #f8f8f8\">                                                                                                        </span>\n",
       "<span style=\"background-color: #f8f8f8\"> </span><span style=\"color: #bbbbbb; text-decoration-color: #bbbbbb; background-color: #f8f8f8\">    </span><span style=\"color: #687822; text-decoration-color: #687822; background-color: #f8f8f8\">owner</span><span style=\"color: #bbbbbb; text-decoration-color: #bbbbbb; background-color: #f8f8f8\"> </span><span style=\"color: #666666; text-decoration-color: #666666; background-color: #f8f8f8\">=</span><span style=\"color: #bbbbbb; text-decoration-color: #bbbbbb; background-color: #f8f8f8\"> </span><span style=\"color: #ba2121; text-decoration-color: #ba2121; background-color: #f8f8f8\">\"YOUR_GITHUB_USERNAME\"</span><span style=\"background-color: #f8f8f8\">                                                                                </span>\n",
       "<span style=\"background-color: #f8f8f8\"> </span><span style=\"color: #bbbbbb; text-decoration-color: #bbbbbb; background-color: #f8f8f8\">    </span><span style=\"color: #687822; text-decoration-color: #687822; background-color: #f8f8f8\">name</span><span style=\"color: #bbbbbb; text-decoration-color: #bbbbbb; background-color: #f8f8f8\">  </span><span style=\"color: #666666; text-decoration-color: #666666; background-color: #f8f8f8\">=</span><span style=\"color: #bbbbbb; text-decoration-color: #bbbbbb; background-color: #f8f8f8\"> </span><span style=\"color: #ba2121; text-decoration-color: #ba2121; background-color: #f8f8f8\">\"YOUR_REPOSITORY_NAME\"</span><span style=\"background-color: #f8f8f8\">                                                                                </span>\n",
       "<span style=\"background-color: #f8f8f8\"> </span><span style=\"color: #bbbbbb; text-decoration-color: #bbbbbb; background-color: #f8f8f8\">    </span><span style=\"color: #008000; text-decoration-color: #008000; background-color: #f8f8f8\">push</span><span style=\"color: #bbbbbb; text-decoration-color: #bbbbbb; background-color: #f8f8f8\"> </span><span style=\"color: #000000; text-decoration-color: #000000; background-color: #f8f8f8\">{</span><span style=\"background-color: #f8f8f8\">                                                                                                        </span>\n",
       "<span style=\"background-color: #f8f8f8\"> </span><span style=\"color: #bbbbbb; text-decoration-color: #bbbbbb; background-color: #f8f8f8\">      </span><span style=\"color: #687822; text-decoration-color: #687822; background-color: #f8f8f8\">branch</span><span style=\"color: #bbbbbb; text-decoration-color: #bbbbbb; background-color: #f8f8f8\"> </span><span style=\"color: #666666; text-decoration-color: #666666; background-color: #f8f8f8\">=</span><span style=\"color: #bbbbbb; text-decoration-color: #bbbbbb; background-color: #f8f8f8\"> </span><span style=\"color: #ba2121; text-decoration-color: #ba2121; background-color: #f8f8f8\">\"main\"</span><span style=\"background-color: #f8f8f8\">                                                                                             </span>\n",
       "<span style=\"background-color: #f8f8f8\"> </span><span style=\"color: #bbbbbb; text-decoration-color: #bbbbbb; background-color: #f8f8f8\">    </span><span style=\"color: #000000; text-decoration-color: #000000; background-color: #f8f8f8\">}</span><span style=\"background-color: #f8f8f8\">                                                                                                             </span>\n",
       "<span style=\"background-color: #f8f8f8\"> </span><span style=\"color: #bbbbbb; text-decoration-color: #bbbbbb; background-color: #f8f8f8\">  </span><span style=\"color: #000000; text-decoration-color: #000000; background-color: #f8f8f8\">}</span><span style=\"background-color: #f8f8f8\">                                                                                                               </span>\n",
       "<span style=\"background-color: #f8f8f8\">                                                                                                                   </span>\n",
       "<span style=\"background-color: #f8f8f8\"> </span><span style=\"color: #bbbbbb; text-decoration-color: #bbbbbb; background-color: #f8f8f8\">  </span><span style=\"color: #008000; text-decoration-color: #008000; background-color: #f8f8f8\">build</span><span style=\"color: #bbbbbb; text-decoration-color: #bbbbbb; background-color: #f8f8f8\"> </span><span style=\"color: #000000; text-decoration-color: #000000; background-color: #f8f8f8\">{</span><span style=\"background-color: #f8f8f8\">                                                                                                         </span>\n",
       "<span style=\"background-color: #f8f8f8\"> </span><span style=\"color: #bbbbbb; text-decoration-color: #bbbbbb; background-color: #f8f8f8\">    </span><span style=\"color: #008000; text-decoration-color: #008000; background-color: #f8f8f8\">steps</span><span style=\"color: #bbbbbb; text-decoration-color: #bbbbbb; background-color: #f8f8f8\"> </span><span style=\"color: #000000; text-decoration-color: #000000; background-color: #f8f8f8\">{</span><span style=\"background-color: #f8f8f8\">                                                                                                       </span>\n",
       "<span style=\"background-color: #f8f8f8\"> </span><span style=\"color: #bbbbbb; text-decoration-color: #bbbbbb; background-color: #f8f8f8\">      </span><span style=\"color: #687822; text-decoration-color: #687822; background-color: #f8f8f8\">name</span><span style=\"color: #bbbbbb; text-decoration-color: #bbbbbb; background-color: #f8f8f8\"> </span><span style=\"color: #666666; text-decoration-color: #666666; background-color: #f8f8f8\">=</span><span style=\"color: #bbbbbb; text-decoration-color: #bbbbbb; background-color: #f8f8f8\"> </span><span style=\"color: #ba2121; text-decoration-color: #ba2121; background-color: #f8f8f8\">\"gcr.io/cloud-builders/docker\"</span><span style=\"background-color: #f8f8f8\">                                                                       </span>\n",
       "<span style=\"background-color: #f8f8f8\"> </span><span style=\"color: #bbbbbb; text-decoration-color: #bbbbbb; background-color: #f8f8f8\">      </span><span style=\"color: #687822; text-decoration-color: #687822; background-color: #f8f8f8\">args</span><span style=\"color: #bbbbbb; text-decoration-color: #bbbbbb; background-color: #f8f8f8\"> </span><span style=\"color: #666666; text-decoration-color: #666666; background-color: #f8f8f8\">=</span><span style=\"color: #bbbbbb; text-decoration-color: #bbbbbb; background-color: #f8f8f8\"> </span><span style=\"color: #000000; text-decoration-color: #000000; background-color: #f8f8f8\">[</span><span style=\"color: #ba2121; text-decoration-color: #ba2121; background-color: #f8f8f8\">\"build\", \"-t\", </span><span style=\"background-color: #f8f8f8\">                                                                                     </span>\n",
       "<span style=\"background-color: #f8f8f8\"> </span><span style=\"color: #ba2121; text-decoration-color: #ba2121; background-color: #f8f8f8\">\"${google_artifact_registry_repository.docker_repo.repository_url}/kitchensink:latest\", \".\"</span><span style=\"color: #000000; text-decoration-color: #000000; background-color: #f8f8f8\">]</span><span style=\"background-color: #f8f8f8\">                      </span>\n",
       "<span style=\"background-color: #f8f8f8\"> </span><span style=\"color: #bbbbbb; text-decoration-color: #bbbbbb; background-color: #f8f8f8\">    </span><span style=\"color: #000000; text-decoration-color: #000000; background-color: #f8f8f8\">}</span><span style=\"background-color: #f8f8f8\">                                                                                                             </span>\n",
       "<span style=\"background-color: #f8f8f8\">                                                                                                                   </span>\n",
       "<span style=\"background-color: #f8f8f8\"> </span><span style=\"color: #bbbbbb; text-decoration-color: #bbbbbb; background-color: #f8f8f8\">    </span><span style=\"color: #687822; text-decoration-color: #687822; background-color: #f8f8f8\">images</span><span style=\"color: #bbbbbb; text-decoration-color: #bbbbbb; background-color: #f8f8f8\"> </span><span style=\"color: #666666; text-decoration-color: #666666; background-color: #f8f8f8\">=</span><span style=\"color: #bbbbbb; text-decoration-color: #bbbbbb; background-color: #f8f8f8\"> </span><span style=\"color: #000000; text-decoration-color: #000000; background-color: #f8f8f8\">[</span><span style=\"color: #ba2121; text-decoration-color: #ba2121; background-color: #f8f8f8\">\"${google_artifact_registry_repository.docker_repo.repository_url}/kitchensink:latest\"</span><span style=\"color: #000000; text-decoration-color: #000000; background-color: #f8f8f8\">]</span><span style=\"background-color: #f8f8f8\">             </span>\n",
       "<span style=\"background-color: #f8f8f8\"> </span><span style=\"color: #bbbbbb; text-decoration-color: #bbbbbb; background-color: #f8f8f8\">  </span><span style=\"color: #000000; text-decoration-color: #000000; background-color: #f8f8f8\">}</span><span style=\"background-color: #f8f8f8\">                                                                                                               </span>\n",
       "<span style=\"background-color: #f8f8f8\"> </span><span style=\"color: #000000; text-decoration-color: #000000; background-color: #f8f8f8\">}</span><span style=\"background-color: #f8f8f8\">                                                                                                                 </span>\n",
       "<span style=\"background-color: #f8f8f8\">                                                                                                                   </span>\n",
       "<span style=\"background-color: #f8f8f8\"> </span><span style=\"color: #008000; text-decoration-color: #008000; background-color: #f8f8f8; font-weight: bold\">resource</span><span style=\"color: #bbbbbb; text-decoration-color: #bbbbbb; background-color: #f8f8f8\"> </span><span style=\"color: #0000ff; text-decoration-color: #0000ff; background-color: #f8f8f8; font-weight: bold\">\"google_cloud_run_service\"</span><span style=\"color: #bbbbbb; text-decoration-color: #bbbbbb; background-color: #f8f8f8\"> </span><span style=\"color: #19177c; text-decoration-color: #19177c; background-color: #f8f8f8\">\"cloud_run\"</span><span style=\"color: #bbbbbb; text-decoration-color: #bbbbbb; background-color: #f8f8f8\"> </span><span style=\"color: #000000; text-decoration-color: #000000; background-color: #f8f8f8\">{</span><span style=\"background-color: #f8f8f8\">                                                                 </span>\n",
       "<span style=\"background-color: #f8f8f8\"> </span><span style=\"color: #bbbbbb; text-decoration-color: #bbbbbb; background-color: #f8f8f8\">  </span><span style=\"color: #687822; text-decoration-color: #687822; background-color: #f8f8f8\">provider</span><span style=\"color: #bbbbbb; text-decoration-color: #bbbbbb; background-color: #f8f8f8\"> </span><span style=\"color: #666666; text-decoration-color: #666666; background-color: #f8f8f8\">=</span><span style=\"color: #bbbbbb; text-decoration-color: #bbbbbb; background-color: #f8f8f8\"> </span><span style=\"color: #000000; text-decoration-color: #000000; background-color: #f8f8f8\">google-beta</span><span style=\"background-color: #f8f8f8\">                                                                                          </span>\n",
       "<span style=\"background-color: #f8f8f8\"> </span><span style=\"color: #bbbbbb; text-decoration-color: #bbbbbb; background-color: #f8f8f8\">  </span><span style=\"color: #687822; text-decoration-color: #687822; background-color: #f8f8f8\">project</span><span style=\"color: #bbbbbb; text-decoration-color: #bbbbbb; background-color: #f8f8f8\">  </span><span style=\"color: #666666; text-decoration-color: #666666; background-color: #f8f8f8\">=</span><span style=\"color: #bbbbbb; text-decoration-color: #bbbbbb; background-color: #f8f8f8\"> </span><span style=\"color: #19177c; text-decoration-color: #19177c; background-color: #f8f8f8\">var.gcp_project_id</span><span style=\"background-color: #f8f8f8\">                                                                                   </span>\n",
       "<span style=\"background-color: #f8f8f8\"> </span><span style=\"color: #bbbbbb; text-decoration-color: #bbbbbb; background-color: #f8f8f8\">  </span><span style=\"color: #687822; text-decoration-color: #687822; background-color: #f8f8f8\">name</span><span style=\"color: #bbbbbb; text-decoration-color: #bbbbbb; background-color: #f8f8f8\">     </span><span style=\"color: #666666; text-decoration-color: #666666; background-color: #f8f8f8\">=</span><span style=\"color: #bbbbbb; text-decoration-color: #bbbbbb; background-color: #f8f8f8\"> </span><span style=\"color: #19177c; text-decoration-color: #19177c; background-color: #f8f8f8\">var.service_name</span><span style=\"background-color: #f8f8f8\">                                                                                     </span>\n",
       "<span style=\"background-color: #f8f8f8\"> </span><span style=\"color: #bbbbbb; text-decoration-color: #bbbbbb; background-color: #f8f8f8\">  </span><span style=\"color: #687822; text-decoration-color: #687822; background-color: #f8f8f8\">location</span><span style=\"color: #bbbbbb; text-decoration-color: #bbbbbb; background-color: #f8f8f8\"> </span><span style=\"color: #666666; text-decoration-color: #666666; background-color: #f8f8f8\">=</span><span style=\"color: #bbbbbb; text-decoration-color: #bbbbbb; background-color: #f8f8f8\"> </span><span style=\"color: #19177c; text-decoration-color: #19177c; background-color: #f8f8f8\">var.gcp_region</span><span style=\"background-color: #f8f8f8\">                                                                                       </span>\n",
       "<span style=\"background-color: #f8f8f8\">                                                                                                                   </span>\n",
       "<span style=\"background-color: #f8f8f8\"> </span><span style=\"color: #bbbbbb; text-decoration-color: #bbbbbb; background-color: #f8f8f8\">  </span><span style=\"color: #008000; text-decoration-color: #008000; background-color: #f8f8f8\">template</span><span style=\"color: #bbbbbb; text-decoration-color: #bbbbbb; background-color: #f8f8f8\"> </span><span style=\"color: #000000; text-decoration-color: #000000; background-color: #f8f8f8\">{</span><span style=\"background-color: #f8f8f8\">                                                                                                      </span>\n",
       "<span style=\"background-color: #f8f8f8\"> </span><span style=\"color: #bbbbbb; text-decoration-color: #bbbbbb; background-color: #f8f8f8\">    </span><span style=\"color: #008000; text-decoration-color: #008000; background-color: #f8f8f8\">spec</span><span style=\"color: #bbbbbb; text-decoration-color: #bbbbbb; background-color: #f8f8f8\"> </span><span style=\"color: #000000; text-decoration-color: #000000; background-color: #f8f8f8\">{</span><span style=\"background-color: #f8f8f8\">                                                                                                        </span>\n",
       "<span style=\"background-color: #f8f8f8\"> </span><span style=\"color: #bbbbbb; text-decoration-color: #bbbbbb; background-color: #f8f8f8\">      </span><span style=\"color: #008000; text-decoration-color: #008000; background-color: #f8f8f8\">containers</span><span style=\"color: #bbbbbb; text-decoration-color: #bbbbbb; background-color: #f8f8f8\"> </span><span style=\"color: #000000; text-decoration-color: #000000; background-color: #f8f8f8\">{</span><span style=\"background-color: #f8f8f8\">                                                                                                </span>\n",
       "<span style=\"background-color: #f8f8f8\"> </span><span style=\"color: #bbbbbb; text-decoration-color: #bbbbbb; background-color: #f8f8f8\">        </span><span style=\"color: #687822; text-decoration-color: #687822; background-color: #f8f8f8\">image</span><span style=\"color: #bbbbbb; text-decoration-color: #bbbbbb; background-color: #f8f8f8\"> </span><span style=\"color: #666666; text-decoration-color: #666666; background-color: #f8f8f8\">=</span><span style=\"color: #bbbbbb; text-decoration-color: #bbbbbb; background-color: #f8f8f8\"> </span><span style=\"color: #ba2121; text-decoration-color: #ba2121; background-color: #f8f8f8\">\"${google_artifact_registry_repository.docker_repo.repository_url}/kitchensink:latest\"</span><span style=\"background-color: #f8f8f8\">            </span>\n",
       "<span style=\"background-color: #f8f8f8\"> </span><span style=\"color: #bbbbbb; text-decoration-color: #bbbbbb; background-color: #f8f8f8\">      </span><span style=\"color: #000000; text-decoration-color: #000000; background-color: #f8f8f8\">}</span><span style=\"background-color: #f8f8f8\">                                                                                                           </span>\n",
       "<span style=\"background-color: #f8f8f8\"> </span><span style=\"color: #bbbbbb; text-decoration-color: #bbbbbb; background-color: #f8f8f8\">    </span><span style=\"color: #000000; text-decoration-color: #000000; background-color: #f8f8f8\">}</span><span style=\"background-color: #f8f8f8\">                                                                                                             </span>\n",
       "<span style=\"background-color: #f8f8f8\"> </span><span style=\"color: #bbbbbb; text-decoration-color: #bbbbbb; background-color: #f8f8f8\">  </span><span style=\"color: #000000; text-decoration-color: #000000; background-color: #f8f8f8\">}</span><span style=\"background-color: #f8f8f8\">                                                                                                               </span>\n",
       "<span style=\"background-color: #f8f8f8\"> </span><span style=\"color: #000000; text-decoration-color: #000000; background-color: #f8f8f8\">}</span><span style=\"background-color: #f8f8f8\">                                                                                                                 </span>\n",
       "<span style=\"background-color: #f8f8f8\">                                                                                                                   </span>\n",
       "<span style=\"background-color: #f8f8f8\"> </span><span style=\"color: #008000; text-decoration-color: #008000; background-color: #f8f8f8; font-weight: bold\">resource</span><span style=\"color: #bbbbbb; text-decoration-color: #bbbbbb; background-color: #f8f8f8\"> </span><span style=\"color: #0000ff; text-decoration-color: #0000ff; background-color: #f8f8f8; font-weight: bold\">\"google_cloud_run_service_iam_policy\"</span><span style=\"color: #bbbbbb; text-decoration-color: #bbbbbb; background-color: #f8f8f8\"> </span><span style=\"color: #19177c; text-decoration-color: #19177c; background-color: #f8f8f8\">\"public_access\"</span><span style=\"color: #bbbbbb; text-decoration-color: #bbbbbb; background-color: #f8f8f8\"> </span><span style=\"color: #000000; text-decoration-color: #000000; background-color: #f8f8f8\">{</span><span style=\"background-color: #f8f8f8\">                                                  </span>\n",
       "<span style=\"background-color: #f8f8f8\"> </span><span style=\"color: #bbbbbb; text-decoration-color: #bbbbbb; background-color: #f8f8f8\">  </span><span style=\"color: #687822; text-decoration-color: #687822; background-color: #f8f8f8\">provider</span><span style=\"color: #bbbbbb; text-decoration-color: #bbbbbb; background-color: #f8f8f8\"> </span><span style=\"color: #666666; text-decoration-color: #666666; background-color: #f8f8f8\">=</span><span style=\"color: #bbbbbb; text-decoration-color: #bbbbbb; background-color: #f8f8f8\"> </span><span style=\"color: #000000; text-decoration-color: #000000; background-color: #f8f8f8\">google-beta</span><span style=\"background-color: #f8f8f8\">                                                                                          </span>\n",
       "<span style=\"background-color: #f8f8f8\"> </span><span style=\"color: #bbbbbb; text-decoration-color: #bbbbbb; background-color: #f8f8f8\">  </span><span style=\"color: #687822; text-decoration-color: #687822; background-color: #f8f8f8\">project</span><span style=\"color: #bbbbbb; text-decoration-color: #bbbbbb; background-color: #f8f8f8\">  </span><span style=\"color: #666666; text-decoration-color: #666666; background-color: #f8f8f8\">=</span><span style=\"color: #bbbbbb; text-decoration-color: #bbbbbb; background-color: #f8f8f8\"> </span><span style=\"color: #19177c; text-decoration-color: #19177c; background-color: #f8f8f8\">var.gcp_project_id</span><span style=\"background-color: #f8f8f8\">                                                                                   </span>\n",
       "<span style=\"background-color: #f8f8f8\"> </span><span style=\"color: #bbbbbb; text-decoration-color: #bbbbbb; background-color: #f8f8f8\">  </span><span style=\"color: #687822; text-decoration-color: #687822; background-color: #f8f8f8\">location</span><span style=\"color: #bbbbbb; text-decoration-color: #bbbbbb; background-color: #f8f8f8\"> </span><span style=\"color: #666666; text-decoration-color: #666666; background-color: #f8f8f8\">=</span><span style=\"color: #bbbbbb; text-decoration-color: #bbbbbb; background-color: #f8f8f8\"> </span><span style=\"color: #19177c; text-decoration-color: #19177c; background-color: #f8f8f8\">google_cloud_run_service.cloud_run.location</span><span style=\"background-color: #f8f8f8\">                                                          </span>\n",
       "<span style=\"background-color: #f8f8f8\"> </span><span style=\"color: #bbbbbb; text-decoration-color: #bbbbbb; background-color: #f8f8f8\">  </span><span style=\"color: #687822; text-decoration-color: #687822; background-color: #f8f8f8\">service</span><span style=\"color: #bbbbbb; text-decoration-color: #bbbbbb; background-color: #f8f8f8\">  </span><span style=\"color: #666666; text-decoration-color: #666666; background-color: #f8f8f8\">=</span><span style=\"color: #bbbbbb; text-decoration-color: #bbbbbb; background-color: #f8f8f8\"> </span><span style=\"color: #19177c; text-decoration-color: #19177c; background-color: #f8f8f8\">google_cloud_run_service.cloud_run.name</span><span style=\"background-color: #f8f8f8\">                                                              </span>\n",
       "<span style=\"background-color: #f8f8f8\">                                                                                                                   </span>\n",
       "<span style=\"background-color: #f8f8f8\"> </span><span style=\"color: #bbbbbb; text-decoration-color: #bbbbbb; background-color: #f8f8f8\">  </span><span style=\"color: #687822; text-decoration-color: #687822; background-color: #f8f8f8\">policy_data</span><span style=\"color: #bbbbbb; text-decoration-color: #bbbbbb; background-color: #f8f8f8\"> </span><span style=\"color: #666666; text-decoration-color: #666666; background-color: #f8f8f8\">=</span><span style=\"color: #bbbbbb; text-decoration-color: #bbbbbb; background-color: #f8f8f8\"> </span><span style=\"color: #19177c; text-decoration-color: #19177c; background-color: #f8f8f8\">data.google_iam_policy.public_access.policy_data</span><span style=\"background-color: #f8f8f8\">                                                  </span>\n",
       "<span style=\"background-color: #f8f8f8\"> </span><span style=\"color: #000000; text-decoration-color: #000000; background-color: #f8f8f8\">}</span><span style=\"background-color: #f8f8f8\">                                                                                                                 </span>\n",
       "<span style=\"background-color: #f8f8f8\">                                                                                                                   </span>\n",
       "<span style=\"background-color: #f8f8f8\"> </span><span style=\"color: #008000; text-decoration-color: #008000; background-color: #f8f8f8; font-weight: bold\">data</span><span style=\"color: #bbbbbb; text-decoration-color: #bbbbbb; background-color: #f8f8f8\"> </span><span style=\"color: #0000ff; text-decoration-color: #0000ff; background-color: #f8f8f8; font-weight: bold\">\"google_iam_policy\"</span><span style=\"color: #bbbbbb; text-decoration-color: #bbbbbb; background-color: #f8f8f8\"> </span><span style=\"color: #19177c; text-decoration-color: #19177c; background-color: #f8f8f8\">\"public_access\"</span><span style=\"color: #bbbbbb; text-decoration-color: #bbbbbb; background-color: #f8f8f8\"> </span><span style=\"color: #000000; text-decoration-color: #000000; background-color: #f8f8f8\">{</span><span style=\"background-color: #f8f8f8\">                                                                        </span>\n",
       "<span style=\"background-color: #f8f8f8\"> </span><span style=\"color: #bbbbbb; text-decoration-color: #bbbbbb; background-color: #f8f8f8\">  </span><span style=\"color: #008000; text-decoration-color: #008000; background-color: #f8f8f8\">binding</span><span style=\"color: #bbbbbb; text-decoration-color: #bbbbbb; background-color: #f8f8f8\"> </span><span style=\"color: #000000; text-decoration-color: #000000; background-color: #f8f8f8\">{</span><span style=\"background-color: #f8f8f8\">                                                                                                       </span>\n",
       "<span style=\"background-color: #f8f8f8\"> </span><span style=\"color: #bbbbbb; text-decoration-color: #bbbbbb; background-color: #f8f8f8\">    </span><span style=\"color: #687822; text-decoration-color: #687822; background-color: #f8f8f8\">role</span><span style=\"color: #bbbbbb; text-decoration-color: #bbbbbb; background-color: #f8f8f8\"> </span><span style=\"color: #666666; text-decoration-color: #666666; background-color: #f8f8f8\">=</span><span style=\"color: #bbbbbb; text-decoration-color: #bbbbbb; background-color: #f8f8f8\"> </span><span style=\"color: #ba2121; text-decoration-color: #ba2121; background-color: #f8f8f8\">\"roles/run.invoker\"</span><span style=\"background-color: #f8f8f8\">                                                                                    </span>\n",
       "<span style=\"background-color: #f8f8f8\"> </span><span style=\"color: #bbbbbb; text-decoration-color: #bbbbbb; background-color: #f8f8f8\">    </span><span style=\"color: #687822; text-decoration-color: #687822; background-color: #f8f8f8\">members</span><span style=\"color: #bbbbbb; text-decoration-color: #bbbbbb; background-color: #f8f8f8\"> </span><span style=\"color: #666666; text-decoration-color: #666666; background-color: #f8f8f8\">=</span><span style=\"color: #bbbbbb; text-decoration-color: #bbbbbb; background-color: #f8f8f8\"> </span><span style=\"color: #000000; text-decoration-color: #000000; background-color: #f8f8f8\">[</span><span style=\"color: #ba2121; text-decoration-color: #ba2121; background-color: #f8f8f8\">\"allUsers\"</span><span style=\"color: #000000; text-decoration-color: #000000; background-color: #f8f8f8\">]</span><span style=\"background-color: #f8f8f8\">                                                                                        </span>\n",
       "<span style=\"background-color: #f8f8f8\"> </span><span style=\"color: #bbbbbb; text-decoration-color: #bbbbbb; background-color: #f8f8f8\">  </span><span style=\"color: #000000; text-decoration-color: #000000; background-color: #f8f8f8\">}</span><span style=\"background-color: #f8f8f8\">                                                                                                               </span>\n",
       "<span style=\"background-color: #f8f8f8\"> </span><span style=\"color: #000000; text-decoration-color: #000000; background-color: #f8f8f8\">}</span><span style=\"background-color: #f8f8f8\">                                                                                                                 </span>\n",
       "<span style=\"background-color: #f8f8f8\">                                                                                                                   </span>\n",
       "\n",
       "<span style=\"color: #000080; text-decoration-color: #000080\">Make sure to replace </span><span style=\"color: #008080; text-decoration-color: #008080; background-color: #000000; font-weight: bold\">\"YOUR_GITHUB_USERNAME\"</span><span style=\"color: #000080; text-decoration-color: #000080\"> and </span><span style=\"color: #008080; text-decoration-color: #008080; background-color: #000000; font-weight: bold\">\"YOUR_REPOSITORY_NAME\"</span><span style=\"color: #000080; text-decoration-color: #000080\"> with your actual GitHub username and </span>       \n",
       "<span style=\"color: #000080; text-decoration-color: #000080\">repository name.</span>                                                                                                   \n",
       "\n",
       "<span style=\"color: #000080; text-decoration-color: #000080\">After setting up your </span><span style=\"color: #008080; text-decoration-color: #008080; background-color: #000000; font-weight: bold\">main.tf</span><span style=\"color: #000080; text-decoration-color: #000080\">, you can deploy your application using the following Terraform commands:</span>             \n",
       "\n",
       "<span style=\"background-color: #f8f8f8\">                                                                                                                   </span>\n",
       "<span style=\"background-color: #f8f8f8\"> </span><span style=\"color: #000000; text-decoration-color: #000000; background-color: #f8f8f8\">terraform</span><span style=\"color: #bbbbbb; text-decoration-color: #bbbbbb; background-color: #f8f8f8\"> </span><span style=\"color: #000000; text-decoration-color: #000000; background-color: #f8f8f8\">init</span><span style=\"background-color: #f8f8f8\">                                                                                                    </span>\n",
       "<span style=\"background-color: #f8f8f8\"> </span><span style=\"color: #000000; text-decoration-color: #000000; background-color: #f8f8f8\">terraform</span><span style=\"color: #bbbbbb; text-decoration-color: #bbbbbb; background-color: #f8f8f8\"> </span><span style=\"color: #000000; text-decoration-color: #000000; background-color: #f8f8f8\">apply</span><span style=\"background-color: #f8f8f8\">                                                                                                   </span>\n",
       "<span style=\"background-color: #f8f8f8\">                                                                                                                   </span>\n",
       "\n",
       "<span style=\"color: #000080; text-decoration-color: #000080\">This will initialize your Terraform environment and apply the configuration to deploy your Spring application on </span>  \n",
       "<span style=\"color: #000080; text-decoration-color: #000080\">Google Cloud Run.</span>                                                                                                  \n",
       "</pre>\n"
      ],
      "text/plain": [
       "\u001b[34mTo deploy a Spring application on Google Cloud Run using Terraform, you need to ensure your Terraform configuration\u001b[0m\n",
       "\u001b[34mis set up to build and deploy your application container. Here's a step-by-step guide to set up the necessary \u001b[0m     \n",
       "\u001b[34mTerraform configuration:\u001b[0m                                                                                           \n",
       "\n",
       "\u001b[1;33m 1 \u001b[0m\u001b[1;34mDefine Variables\u001b[0m\u001b[34m: Ensure you have variables for your project ID, region, service name, and artifact repository \u001b[0m\u001b[34m \u001b[0m\n",
       "\u001b[1;33m   \u001b[0m\u001b[34mname.\u001b[0m\u001b[34m                                                                                                           \u001b[0m\n",
       "\u001b[1;33m 2 \u001b[0m\u001b[1;34mArtifact Registry\u001b[0m\u001b[34m: Configure a Google Artifact Registry to store your Docker images.\u001b[0m\u001b[34m                            \u001b[0m\n",
       "\u001b[1;33m 3 \u001b[0m\u001b[1;34mCloud Build Trigger\u001b[0m\u001b[34m: Set up a Cloud Build trigger to build your Docker image.\u001b[0m\u001b[34m                                   \u001b[0m\n",
       "\u001b[1;33m 4 \u001b[0m\u001b[1;34mCloud Run Service\u001b[0m\u001b[34m: Define a Cloud Run service to deploy your application.\u001b[0m\u001b[34m                                       \u001b[0m\n",
       "\u001b[1;33m 5 \u001b[0m\u001b[1;34mIAM Policy\u001b[0m\u001b[34m: Set up IAM policies to allow public access to your Cloud Run service.\u001b[0m\u001b[34m                               \u001b[0m\n",
       "\n",
       "\u001b[34mHere's how you can modify your \u001b[0m\u001b[1;36;40mmain.tf\u001b[0m\u001b[34m to include these configurations:\u001b[0m                                            \n",
       "\n",
       "\u001b[48;2;248;248;248m                                                                                                                   \u001b[0m\n",
       "\u001b[48;2;248;248;248m \u001b[0m\u001b[1;38;2;0;128;0;48;2;248;248;248mvariable\u001b[0m\u001b[38;2;187;187;187;48;2;248;248;248m \u001b[0m\u001b[38;2;25;23;124;48;2;248;248;248m\"gcp_project_id\"\u001b[0m\u001b[38;2;187;187;187;48;2;248;248;248m \u001b[0m\u001b[38;2;0;0;0;48;2;248;248;248m{\u001b[0m\u001b[48;2;248;248;248m                                                                                      \u001b[0m\u001b[48;2;248;248;248m \u001b[0m\n",
       "\u001b[48;2;248;248;248m \u001b[0m\u001b[38;2;187;187;187;48;2;248;248;248m  \u001b[0m\u001b[38;2;104;120;34;48;2;248;248;248mdescription\u001b[0m\u001b[38;2;187;187;187;48;2;248;248;248m \u001b[0m\u001b[38;2;102;102;102;48;2;248;248;248m=\u001b[0m\u001b[38;2;187;187;187;48;2;248;248;248m \u001b[0m\u001b[38;2;186;33;33;48;2;248;248;248m\"The GCP project ID\"\u001b[0m\u001b[48;2;248;248;248m                                                                             \u001b[0m\u001b[48;2;248;248;248m \u001b[0m\n",
       "\u001b[48;2;248;248;248m \u001b[0m\u001b[38;2;0;0;0;48;2;248;248;248m}\u001b[0m\u001b[48;2;248;248;248m                                                                                                                \u001b[0m\u001b[48;2;248;248;248m \u001b[0m\n",
       "\u001b[48;2;248;248;248m \u001b[0m\u001b[48;2;248;248;248m                                                                                                                 \u001b[0m\u001b[48;2;248;248;248m \u001b[0m\n",
       "\u001b[48;2;248;248;248m \u001b[0m\u001b[1;38;2;0;128;0;48;2;248;248;248mvariable\u001b[0m\u001b[38;2;187;187;187;48;2;248;248;248m \u001b[0m\u001b[38;2;25;23;124;48;2;248;248;248m\"gcp_region\"\u001b[0m\u001b[38;2;187;187;187;48;2;248;248;248m \u001b[0m\u001b[38;2;0;0;0;48;2;248;248;248m{\u001b[0m\u001b[48;2;248;248;248m                                                                                          \u001b[0m\u001b[48;2;248;248;248m \u001b[0m\n",
       "\u001b[48;2;248;248;248m \u001b[0m\u001b[38;2;187;187;187;48;2;248;248;248m  \u001b[0m\u001b[38;2;104;120;34;48;2;248;248;248mdescription\u001b[0m\u001b[38;2;187;187;187;48;2;248;248;248m \u001b[0m\u001b[38;2;102;102;102;48;2;248;248;248m=\u001b[0m\u001b[38;2;187;187;187;48;2;248;248;248m \u001b[0m\u001b[38;2;186;33;33;48;2;248;248;248m\"The GCP region\"\u001b[0m\u001b[48;2;248;248;248m                                                                                 \u001b[0m\u001b[48;2;248;248;248m \u001b[0m\n",
       "\u001b[48;2;248;248;248m \u001b[0m\u001b[38;2;0;0;0;48;2;248;248;248m}\u001b[0m\u001b[48;2;248;248;248m                                                                                                                \u001b[0m\u001b[48;2;248;248;248m \u001b[0m\n",
       "\u001b[48;2;248;248;248m \u001b[0m\u001b[48;2;248;248;248m                                                                                                                 \u001b[0m\u001b[48;2;248;248;248m \u001b[0m\n",
       "\u001b[48;2;248;248;248m \u001b[0m\u001b[1;38;2;0;128;0;48;2;248;248;248mvariable\u001b[0m\u001b[38;2;187;187;187;48;2;248;248;248m \u001b[0m\u001b[38;2;25;23;124;48;2;248;248;248m\"service_name\"\u001b[0m\u001b[38;2;187;187;187;48;2;248;248;248m \u001b[0m\u001b[38;2;0;0;0;48;2;248;248;248m{\u001b[0m\u001b[48;2;248;248;248m                                                                                        \u001b[0m\u001b[48;2;248;248;248m \u001b[0m\n",
       "\u001b[48;2;248;248;248m \u001b[0m\u001b[38;2;187;187;187;48;2;248;248;248m  \u001b[0m\u001b[38;2;104;120;34;48;2;248;248;248mdescription\u001b[0m\u001b[38;2;187;187;187;48;2;248;248;248m \u001b[0m\u001b[38;2;102;102;102;48;2;248;248;248m=\u001b[0m\u001b[38;2;187;187;187;48;2;248;248;248m \u001b[0m\u001b[38;2;186;33;33;48;2;248;248;248m\"The name of the Cloud Run service\"\u001b[0m\u001b[48;2;248;248;248m                                                              \u001b[0m\u001b[48;2;248;248;248m \u001b[0m\n",
       "\u001b[48;2;248;248;248m \u001b[0m\u001b[38;2;0;0;0;48;2;248;248;248m}\u001b[0m\u001b[48;2;248;248;248m                                                                                                                \u001b[0m\u001b[48;2;248;248;248m \u001b[0m\n",
       "\u001b[48;2;248;248;248m \u001b[0m\u001b[48;2;248;248;248m                                                                                                                 \u001b[0m\u001b[48;2;248;248;248m \u001b[0m\n",
       "\u001b[48;2;248;248;248m \u001b[0m\u001b[1;38;2;0;128;0;48;2;248;248;248mvariable\u001b[0m\u001b[38;2;187;187;187;48;2;248;248;248m \u001b[0m\u001b[38;2;25;23;124;48;2;248;248;248m\"artifact_repo_name\"\u001b[0m\u001b[38;2;187;187;187;48;2;248;248;248m \u001b[0m\u001b[38;2;0;0;0;48;2;248;248;248m{\u001b[0m\u001b[48;2;248;248;248m                                                                                  \u001b[0m\u001b[48;2;248;248;248m \u001b[0m\n",
       "\u001b[48;2;248;248;248m \u001b[0m\u001b[38;2;187;187;187;48;2;248;248;248m  \u001b[0m\u001b[38;2;104;120;34;48;2;248;248;248mdescription\u001b[0m\u001b[38;2;187;187;187;48;2;248;248;248m \u001b[0m\u001b[38;2;102;102;102;48;2;248;248;248m=\u001b[0m\u001b[38;2;187;187;187;48;2;248;248;248m \u001b[0m\u001b[38;2;186;33;33;48;2;248;248;248m\"The name of the Artifact Registry repository\"\u001b[0m\u001b[48;2;248;248;248m                                                   \u001b[0m\u001b[48;2;248;248;248m \u001b[0m\n",
       "\u001b[48;2;248;248;248m \u001b[0m\u001b[38;2;0;0;0;48;2;248;248;248m}\u001b[0m\u001b[48;2;248;248;248m                                                                                                                \u001b[0m\u001b[48;2;248;248;248m \u001b[0m\n",
       "\u001b[48;2;248;248;248m \u001b[0m\u001b[48;2;248;248;248m                                                                                                                 \u001b[0m\u001b[48;2;248;248;248m \u001b[0m\n",
       "\u001b[48;2;248;248;248m \u001b[0m\u001b[1;38;2;0;128;0;48;2;248;248;248mresource\u001b[0m\u001b[38;2;187;187;187;48;2;248;248;248m \u001b[0m\u001b[1;38;2;0;0;255;48;2;248;248;248m\"google_artifact_registry_repository\"\u001b[0m\u001b[38;2;187;187;187;48;2;248;248;248m \u001b[0m\u001b[38;2;25;23;124;48;2;248;248;248m\"docker_repo\"\u001b[0m\u001b[38;2;187;187;187;48;2;248;248;248m \u001b[0m\u001b[38;2;0;0;0;48;2;248;248;248m{\u001b[0m\u001b[48;2;248;248;248m                                                   \u001b[0m\u001b[48;2;248;248;248m \u001b[0m\n",
       "\u001b[48;2;248;248;248m \u001b[0m\u001b[38;2;187;187;187;48;2;248;248;248m  \u001b[0m\u001b[38;2;104;120;34;48;2;248;248;248mprovider\u001b[0m\u001b[38;2;187;187;187;48;2;248;248;248m \u001b[0m\u001b[38;2;102;102;102;48;2;248;248;248m=\u001b[0m\u001b[38;2;187;187;187;48;2;248;248;248m \u001b[0m\u001b[38;2;0;0;0;48;2;248;248;248mg\u001b[0m\u001b[38;2;0;0;0;48;2;248;248;248mo\u001b[0m\u001b[38;2;0;0;0;48;2;248;248;248mo\u001b[0m\u001b[38;2;0;0;0;48;2;248;248;248mg\u001b[0m\u001b[38;2;0;0;0;48;2;248;248;248ml\u001b[0m\u001b[38;2;0;0;0;48;2;248;248;248me\u001b[0m\u001b[38;2;0;0;0;48;2;248;248;248m-\u001b[0m\u001b[38;2;0;0;0;48;2;248;248;248mb\u001b[0m\u001b[38;2;0;0;0;48;2;248;248;248me\u001b[0m\u001b[38;2;0;0;0;48;2;248;248;248mt\u001b[0m\u001b[38;2;0;0;0;48;2;248;248;248ma\u001b[0m\u001b[48;2;248;248;248m                                                                                         \u001b[0m\u001b[48;2;248;248;248m \u001b[0m\n",
       "\u001b[48;2;248;248;248m \u001b[0m\u001b[38;2;187;187;187;48;2;248;248;248m  \u001b[0m\u001b[38;2;104;120;34;48;2;248;248;248mproject\u001b[0m\u001b[38;2;187;187;187;48;2;248;248;248m  \u001b[0m\u001b[38;2;102;102;102;48;2;248;248;248m=\u001b[0m\u001b[38;2;187;187;187;48;2;248;248;248m \u001b[0m\u001b[38;2;25;23;124;48;2;248;248;248mvar.gcp_project_id\u001b[0m\u001b[48;2;248;248;248m                                                                                  \u001b[0m\u001b[48;2;248;248;248m \u001b[0m\n",
       "\u001b[48;2;248;248;248m \u001b[0m\u001b[38;2;187;187;187;48;2;248;248;248m  \u001b[0m\u001b[38;2;104;120;34;48;2;248;248;248mlocation\u001b[0m\u001b[38;2;187;187;187;48;2;248;248;248m \u001b[0m\u001b[38;2;102;102;102;48;2;248;248;248m=\u001b[0m\u001b[38;2;187;187;187;48;2;248;248;248m \u001b[0m\u001b[38;2;25;23;124;48;2;248;248;248mvar.gcp_region\u001b[0m\u001b[48;2;248;248;248m                                                                                      \u001b[0m\u001b[48;2;248;248;248m \u001b[0m\n",
       "\u001b[48;2;248;248;248m \u001b[0m\u001b[38;2;187;187;187;48;2;248;248;248m  \u001b[0m\u001b[38;2;104;120;34;48;2;248;248;248mrepository_id\u001b[0m\u001b[38;2;187;187;187;48;2;248;248;248m \u001b[0m\u001b[38;2;102;102;102;48;2;248;248;248m=\u001b[0m\u001b[38;2;187;187;187;48;2;248;248;248m \u001b[0m\u001b[38;2;25;23;124;48;2;248;248;248mvar.artifact_repo_name\u001b[0m\u001b[48;2;248;248;248m                                                                         \u001b[0m\u001b[48;2;248;248;248m \u001b[0m\n",
       "\u001b[48;2;248;248;248m \u001b[0m\u001b[38;2;187;187;187;48;2;248;248;248m  \u001b[0m\u001b[38;2;104;120;34;48;2;248;248;248mformat\u001b[0m\u001b[38;2;187;187;187;48;2;248;248;248m \u001b[0m\u001b[38;2;102;102;102;48;2;248;248;248m=\u001b[0m\u001b[38;2;187;187;187;48;2;248;248;248m \u001b[0m\u001b[38;2;186;33;33;48;2;248;248;248m\"DOCKER\"\u001b[0m\u001b[48;2;248;248;248m                                                                                              \u001b[0m\u001b[48;2;248;248;248m \u001b[0m\n",
       "\u001b[48;2;248;248;248m \u001b[0m\u001b[38;2;0;0;0;48;2;248;248;248m}\u001b[0m\u001b[48;2;248;248;248m                                                                                                                \u001b[0m\u001b[48;2;248;248;248m \u001b[0m\n",
       "\u001b[48;2;248;248;248m \u001b[0m\u001b[48;2;248;248;248m                                                                                                                 \u001b[0m\u001b[48;2;248;248;248m \u001b[0m\n",
       "\u001b[48;2;248;248;248m \u001b[0m\u001b[1;38;2;0;128;0;48;2;248;248;248mresource\u001b[0m\u001b[38;2;187;187;187;48;2;248;248;248m \u001b[0m\u001b[1;38;2;0;0;255;48;2;248;248;248m\"google_cloudbuild_trigger\"\u001b[0m\u001b[38;2;187;187;187;48;2;248;248;248m \u001b[0m\u001b[38;2;25;23;124;48;2;248;248;248m\"docker_build\"\u001b[0m\u001b[38;2;187;187;187;48;2;248;248;248m \u001b[0m\u001b[38;2;0;0;0;48;2;248;248;248m{\u001b[0m\u001b[48;2;248;248;248m                                                            \u001b[0m\u001b[48;2;248;248;248m \u001b[0m\n",
       "\u001b[48;2;248;248;248m \u001b[0m\u001b[38;2;187;187;187;48;2;248;248;248m  \u001b[0m\u001b[38;2;104;120;34;48;2;248;248;248mprovider\u001b[0m\u001b[38;2;187;187;187;48;2;248;248;248m \u001b[0m\u001b[38;2;102;102;102;48;2;248;248;248m=\u001b[0m\u001b[38;2;187;187;187;48;2;248;248;248m \u001b[0m\u001b[38;2;0;0;0;48;2;248;248;248mg\u001b[0m\u001b[38;2;0;0;0;48;2;248;248;248mo\u001b[0m\u001b[38;2;0;0;0;48;2;248;248;248mo\u001b[0m\u001b[38;2;0;0;0;48;2;248;248;248mg\u001b[0m\u001b[38;2;0;0;0;48;2;248;248;248ml\u001b[0m\u001b[38;2;0;0;0;48;2;248;248;248me\u001b[0m\u001b[38;2;0;0;0;48;2;248;248;248m-\u001b[0m\u001b[38;2;0;0;0;48;2;248;248;248mb\u001b[0m\u001b[38;2;0;0;0;48;2;248;248;248me\u001b[0m\u001b[38;2;0;0;0;48;2;248;248;248mt\u001b[0m\u001b[38;2;0;0;0;48;2;248;248;248ma\u001b[0m\u001b[48;2;248;248;248m                                                                                         \u001b[0m\u001b[48;2;248;248;248m \u001b[0m\n",
       "\u001b[48;2;248;248;248m \u001b[0m\u001b[38;2;187;187;187;48;2;248;248;248m  \u001b[0m\u001b[38;2;104;120;34;48;2;248;248;248mproject\u001b[0m\u001b[38;2;187;187;187;48;2;248;248;248m  \u001b[0m\u001b[38;2;102;102;102;48;2;248;248;248m=\u001b[0m\u001b[38;2;187;187;187;48;2;248;248;248m \u001b[0m\u001b[38;2;25;23;124;48;2;248;248;248mvar.gcp_project_id\u001b[0m\u001b[48;2;248;248;248m                                                                                  \u001b[0m\u001b[48;2;248;248;248m \u001b[0m\n",
       "\u001b[48;2;248;248;248m \u001b[0m\u001b[38;2;187;187;187;48;2;248;248;248m  \u001b[0m\u001b[38;2;104;120;34;48;2;248;248;248mname\u001b[0m\u001b[38;2;187;187;187;48;2;248;248;248m     \u001b[0m\u001b[38;2;102;102;102;48;2;248;248;248m=\u001b[0m\u001b[38;2;187;187;187;48;2;248;248;248m \u001b[0m\u001b[38;2;186;33;33;48;2;248;248;248m\"kitchensink-build\"\u001b[0m\u001b[48;2;248;248;248m                                                                                 \u001b[0m\u001b[48;2;248;248;248m \u001b[0m\n",
       "\u001b[48;2;248;248;248m \u001b[0m\u001b[38;2;187;187;187;48;2;248;248;248m  \u001b[0m\u001b[38;2;104;120;34;48;2;248;248;248mlocation\u001b[0m\u001b[38;2;187;187;187;48;2;248;248;248m \u001b[0m\u001b[38;2;102;102;102;48;2;248;248;248m=\u001b[0m\u001b[38;2;187;187;187;48;2;248;248;248m \u001b[0m\u001b[38;2;25;23;124;48;2;248;248;248mvar.gcp_region\u001b[0m\u001b[48;2;248;248;248m                                                                                      \u001b[0m\u001b[48;2;248;248;248m \u001b[0m\n",
       "\u001b[48;2;248;248;248m \u001b[0m\u001b[48;2;248;248;248m                                                                                                                 \u001b[0m\u001b[48;2;248;248;248m \u001b[0m\n",
       "\u001b[48;2;248;248;248m \u001b[0m\u001b[38;2;187;187;187;48;2;248;248;248m  \u001b[0m\u001b[38;2;0;128;0;48;2;248;248;248mgithub\u001b[0m\u001b[38;2;187;187;187;48;2;248;248;248m \u001b[0m\u001b[38;2;0;0;0;48;2;248;248;248m{\u001b[0m\u001b[48;2;248;248;248m                                                                                                       \u001b[0m\u001b[48;2;248;248;248m \u001b[0m\n",
       "\u001b[48;2;248;248;248m \u001b[0m\u001b[38;2;187;187;187;48;2;248;248;248m    \u001b[0m\u001b[38;2;104;120;34;48;2;248;248;248mowner\u001b[0m\u001b[38;2;187;187;187;48;2;248;248;248m \u001b[0m\u001b[38;2;102;102;102;48;2;248;248;248m=\u001b[0m\u001b[38;2;187;187;187;48;2;248;248;248m \u001b[0m\u001b[38;2;186;33;33;48;2;248;248;248m\"YOUR_GITHUB_USERNAME\"\u001b[0m\u001b[48;2;248;248;248m                                                                               \u001b[0m\u001b[48;2;248;248;248m \u001b[0m\n",
       "\u001b[48;2;248;248;248m \u001b[0m\u001b[38;2;187;187;187;48;2;248;248;248m    \u001b[0m\u001b[38;2;104;120;34;48;2;248;248;248mname\u001b[0m\u001b[38;2;187;187;187;48;2;248;248;248m  \u001b[0m\u001b[38;2;102;102;102;48;2;248;248;248m=\u001b[0m\u001b[38;2;187;187;187;48;2;248;248;248m \u001b[0m\u001b[38;2;186;33;33;48;2;248;248;248m\"YOUR_REPOSITORY_NAME\"\u001b[0m\u001b[48;2;248;248;248m                                                                               \u001b[0m\u001b[48;2;248;248;248m \u001b[0m\n",
       "\u001b[48;2;248;248;248m \u001b[0m\u001b[38;2;187;187;187;48;2;248;248;248m    \u001b[0m\u001b[38;2;0;128;0;48;2;248;248;248mpush\u001b[0m\u001b[38;2;187;187;187;48;2;248;248;248m \u001b[0m\u001b[38;2;0;0;0;48;2;248;248;248m{\u001b[0m\u001b[48;2;248;248;248m                                                                                                       \u001b[0m\u001b[48;2;248;248;248m \u001b[0m\n",
       "\u001b[48;2;248;248;248m \u001b[0m\u001b[38;2;187;187;187;48;2;248;248;248m      \u001b[0m\u001b[38;2;104;120;34;48;2;248;248;248mbranch\u001b[0m\u001b[38;2;187;187;187;48;2;248;248;248m \u001b[0m\u001b[38;2;102;102;102;48;2;248;248;248m=\u001b[0m\u001b[38;2;187;187;187;48;2;248;248;248m \u001b[0m\u001b[38;2;186;33;33;48;2;248;248;248m\"main\"\u001b[0m\u001b[48;2;248;248;248m                                                                                            \u001b[0m\u001b[48;2;248;248;248m \u001b[0m\n",
       "\u001b[48;2;248;248;248m \u001b[0m\u001b[38;2;187;187;187;48;2;248;248;248m    \u001b[0m\u001b[38;2;0;0;0;48;2;248;248;248m}\u001b[0m\u001b[48;2;248;248;248m                                                                                                            \u001b[0m\u001b[48;2;248;248;248m \u001b[0m\n",
       "\u001b[48;2;248;248;248m \u001b[0m\u001b[38;2;187;187;187;48;2;248;248;248m  \u001b[0m\u001b[38;2;0;0;0;48;2;248;248;248m}\u001b[0m\u001b[48;2;248;248;248m                                                                                                              \u001b[0m\u001b[48;2;248;248;248m \u001b[0m\n",
       "\u001b[48;2;248;248;248m \u001b[0m\u001b[48;2;248;248;248m                                                                                                                 \u001b[0m\u001b[48;2;248;248;248m \u001b[0m\n",
       "\u001b[48;2;248;248;248m \u001b[0m\u001b[38;2;187;187;187;48;2;248;248;248m  \u001b[0m\u001b[38;2;0;128;0;48;2;248;248;248mbuild\u001b[0m\u001b[38;2;187;187;187;48;2;248;248;248m \u001b[0m\u001b[38;2;0;0;0;48;2;248;248;248m{\u001b[0m\u001b[48;2;248;248;248m                                                                                                        \u001b[0m\u001b[48;2;248;248;248m \u001b[0m\n",
       "\u001b[48;2;248;248;248m \u001b[0m\u001b[38;2;187;187;187;48;2;248;248;248m    \u001b[0m\u001b[38;2;0;128;0;48;2;248;248;248msteps\u001b[0m\u001b[38;2;187;187;187;48;2;248;248;248m \u001b[0m\u001b[38;2;0;0;0;48;2;248;248;248m{\u001b[0m\u001b[48;2;248;248;248m                                                                                                      \u001b[0m\u001b[48;2;248;248;248m \u001b[0m\n",
       "\u001b[48;2;248;248;248m \u001b[0m\u001b[38;2;187;187;187;48;2;248;248;248m      \u001b[0m\u001b[38;2;104;120;34;48;2;248;248;248mname\u001b[0m\u001b[38;2;187;187;187;48;2;248;248;248m \u001b[0m\u001b[38;2;102;102;102;48;2;248;248;248m=\u001b[0m\u001b[38;2;187;187;187;48;2;248;248;248m \u001b[0m\u001b[38;2;186;33;33;48;2;248;248;248m\"gcr.io/cloud-builders/docker\"\u001b[0m\u001b[48;2;248;248;248m                                                                      \u001b[0m\u001b[48;2;248;248;248m \u001b[0m\n",
       "\u001b[48;2;248;248;248m \u001b[0m\u001b[38;2;187;187;187;48;2;248;248;248m      \u001b[0m\u001b[38;2;104;120;34;48;2;248;248;248margs\u001b[0m\u001b[38;2;187;187;187;48;2;248;248;248m \u001b[0m\u001b[38;2;102;102;102;48;2;248;248;248m=\u001b[0m\u001b[38;2;187;187;187;48;2;248;248;248m \u001b[0m\u001b[38;2;0;0;0;48;2;248;248;248m[\u001b[0m\u001b[38;2;186;33;33;48;2;248;248;248m\"build\", \"-t\", \u001b[0m\u001b[48;2;248;248;248m                                                                                    \u001b[0m\u001b[48;2;248;248;248m \u001b[0m\n",
       "\u001b[48;2;248;248;248m \u001b[0m\u001b[38;2;186;33;33;48;2;248;248;248m\"${google_artifact_registry_repository.docker_repo.repository_url}/kitchensink:latest\", \".\"\u001b[0m\u001b[38;2;0;0;0;48;2;248;248;248m]\u001b[0m\u001b[48;2;248;248;248m                     \u001b[0m\u001b[48;2;248;248;248m \u001b[0m\n",
       "\u001b[48;2;248;248;248m \u001b[0m\u001b[38;2;187;187;187;48;2;248;248;248m    \u001b[0m\u001b[38;2;0;0;0;48;2;248;248;248m}\u001b[0m\u001b[48;2;248;248;248m                                                                                                            \u001b[0m\u001b[48;2;248;248;248m \u001b[0m\n",
       "\u001b[48;2;248;248;248m \u001b[0m\u001b[48;2;248;248;248m                                                                                                                 \u001b[0m\u001b[48;2;248;248;248m \u001b[0m\n",
       "\u001b[48;2;248;248;248m \u001b[0m\u001b[38;2;187;187;187;48;2;248;248;248m    \u001b[0m\u001b[38;2;104;120;34;48;2;248;248;248mimages\u001b[0m\u001b[38;2;187;187;187;48;2;248;248;248m \u001b[0m\u001b[38;2;102;102;102;48;2;248;248;248m=\u001b[0m\u001b[38;2;187;187;187;48;2;248;248;248m \u001b[0m\u001b[38;2;0;0;0;48;2;248;248;248m[\u001b[0m\u001b[38;2;186;33;33;48;2;248;248;248m\"${google_artifact_registry_repository.docker_repo.repository_url}/kitchensink:latest\"\u001b[0m\u001b[38;2;0;0;0;48;2;248;248;248m]\u001b[0m\u001b[48;2;248;248;248m            \u001b[0m\u001b[48;2;248;248;248m \u001b[0m\n",
       "\u001b[48;2;248;248;248m \u001b[0m\u001b[38;2;187;187;187;48;2;248;248;248m  \u001b[0m\u001b[38;2;0;0;0;48;2;248;248;248m}\u001b[0m\u001b[48;2;248;248;248m                                                                                                              \u001b[0m\u001b[48;2;248;248;248m \u001b[0m\n",
       "\u001b[48;2;248;248;248m \u001b[0m\u001b[38;2;0;0;0;48;2;248;248;248m}\u001b[0m\u001b[48;2;248;248;248m                                                                                                                \u001b[0m\u001b[48;2;248;248;248m \u001b[0m\n",
       "\u001b[48;2;248;248;248m \u001b[0m\u001b[48;2;248;248;248m                                                                                                                 \u001b[0m\u001b[48;2;248;248;248m \u001b[0m\n",
       "\u001b[48;2;248;248;248m \u001b[0m\u001b[1;38;2;0;128;0;48;2;248;248;248mresource\u001b[0m\u001b[38;2;187;187;187;48;2;248;248;248m \u001b[0m\u001b[1;38;2;0;0;255;48;2;248;248;248m\"google_cloud_run_service\"\u001b[0m\u001b[38;2;187;187;187;48;2;248;248;248m \u001b[0m\u001b[38;2;25;23;124;48;2;248;248;248m\"cloud_run\"\u001b[0m\u001b[38;2;187;187;187;48;2;248;248;248m \u001b[0m\u001b[38;2;0;0;0;48;2;248;248;248m{\u001b[0m\u001b[48;2;248;248;248m                                                                \u001b[0m\u001b[48;2;248;248;248m \u001b[0m\n",
       "\u001b[48;2;248;248;248m \u001b[0m\u001b[38;2;187;187;187;48;2;248;248;248m  \u001b[0m\u001b[38;2;104;120;34;48;2;248;248;248mprovider\u001b[0m\u001b[38;2;187;187;187;48;2;248;248;248m \u001b[0m\u001b[38;2;102;102;102;48;2;248;248;248m=\u001b[0m\u001b[38;2;187;187;187;48;2;248;248;248m \u001b[0m\u001b[38;2;0;0;0;48;2;248;248;248mg\u001b[0m\u001b[38;2;0;0;0;48;2;248;248;248mo\u001b[0m\u001b[38;2;0;0;0;48;2;248;248;248mo\u001b[0m\u001b[38;2;0;0;0;48;2;248;248;248mg\u001b[0m\u001b[38;2;0;0;0;48;2;248;248;248ml\u001b[0m\u001b[38;2;0;0;0;48;2;248;248;248me\u001b[0m\u001b[38;2;0;0;0;48;2;248;248;248m-\u001b[0m\u001b[38;2;0;0;0;48;2;248;248;248mb\u001b[0m\u001b[38;2;0;0;0;48;2;248;248;248me\u001b[0m\u001b[38;2;0;0;0;48;2;248;248;248mt\u001b[0m\u001b[38;2;0;0;0;48;2;248;248;248ma\u001b[0m\u001b[48;2;248;248;248m                                                                                         \u001b[0m\u001b[48;2;248;248;248m \u001b[0m\n",
       "\u001b[48;2;248;248;248m \u001b[0m\u001b[38;2;187;187;187;48;2;248;248;248m  \u001b[0m\u001b[38;2;104;120;34;48;2;248;248;248mproject\u001b[0m\u001b[38;2;187;187;187;48;2;248;248;248m  \u001b[0m\u001b[38;2;102;102;102;48;2;248;248;248m=\u001b[0m\u001b[38;2;187;187;187;48;2;248;248;248m \u001b[0m\u001b[38;2;25;23;124;48;2;248;248;248mvar.gcp_project_id\u001b[0m\u001b[48;2;248;248;248m                                                                                  \u001b[0m\u001b[48;2;248;248;248m \u001b[0m\n",
       "\u001b[48;2;248;248;248m \u001b[0m\u001b[38;2;187;187;187;48;2;248;248;248m  \u001b[0m\u001b[38;2;104;120;34;48;2;248;248;248mname\u001b[0m\u001b[38;2;187;187;187;48;2;248;248;248m     \u001b[0m\u001b[38;2;102;102;102;48;2;248;248;248m=\u001b[0m\u001b[38;2;187;187;187;48;2;248;248;248m \u001b[0m\u001b[38;2;25;23;124;48;2;248;248;248mvar.service_name\u001b[0m\u001b[48;2;248;248;248m                                                                                    \u001b[0m\u001b[48;2;248;248;248m \u001b[0m\n",
       "\u001b[48;2;248;248;248m \u001b[0m\u001b[38;2;187;187;187;48;2;248;248;248m  \u001b[0m\u001b[38;2;104;120;34;48;2;248;248;248mlocation\u001b[0m\u001b[38;2;187;187;187;48;2;248;248;248m \u001b[0m\u001b[38;2;102;102;102;48;2;248;248;248m=\u001b[0m\u001b[38;2;187;187;187;48;2;248;248;248m \u001b[0m\u001b[38;2;25;23;124;48;2;248;248;248mvar.gcp_region\u001b[0m\u001b[48;2;248;248;248m                                                                                      \u001b[0m\u001b[48;2;248;248;248m \u001b[0m\n",
       "\u001b[48;2;248;248;248m \u001b[0m\u001b[48;2;248;248;248m                                                                                                                 \u001b[0m\u001b[48;2;248;248;248m \u001b[0m\n",
       "\u001b[48;2;248;248;248m \u001b[0m\u001b[38;2;187;187;187;48;2;248;248;248m  \u001b[0m\u001b[38;2;0;128;0;48;2;248;248;248mtemplate\u001b[0m\u001b[38;2;187;187;187;48;2;248;248;248m \u001b[0m\u001b[38;2;0;0;0;48;2;248;248;248m{\u001b[0m\u001b[48;2;248;248;248m                                                                                                     \u001b[0m\u001b[48;2;248;248;248m \u001b[0m\n",
       "\u001b[48;2;248;248;248m \u001b[0m\u001b[38;2;187;187;187;48;2;248;248;248m    \u001b[0m\u001b[38;2;0;128;0;48;2;248;248;248mspec\u001b[0m\u001b[38;2;187;187;187;48;2;248;248;248m \u001b[0m\u001b[38;2;0;0;0;48;2;248;248;248m{\u001b[0m\u001b[48;2;248;248;248m                                                                                                       \u001b[0m\u001b[48;2;248;248;248m \u001b[0m\n",
       "\u001b[48;2;248;248;248m \u001b[0m\u001b[38;2;187;187;187;48;2;248;248;248m      \u001b[0m\u001b[38;2;0;128;0;48;2;248;248;248mcontainers\u001b[0m\u001b[38;2;187;187;187;48;2;248;248;248m \u001b[0m\u001b[38;2;0;0;0;48;2;248;248;248m{\u001b[0m\u001b[48;2;248;248;248m                                                                                               \u001b[0m\u001b[48;2;248;248;248m \u001b[0m\n",
       "\u001b[48;2;248;248;248m \u001b[0m\u001b[38;2;187;187;187;48;2;248;248;248m        \u001b[0m\u001b[38;2;104;120;34;48;2;248;248;248mimage\u001b[0m\u001b[38;2;187;187;187;48;2;248;248;248m \u001b[0m\u001b[38;2;102;102;102;48;2;248;248;248m=\u001b[0m\u001b[38;2;187;187;187;48;2;248;248;248m \u001b[0m\u001b[38;2;186;33;33;48;2;248;248;248m\"${google_artifact_registry_repository.docker_repo.repository_url}/kitchensink:latest\"\u001b[0m\u001b[48;2;248;248;248m           \u001b[0m\u001b[48;2;248;248;248m \u001b[0m\n",
       "\u001b[48;2;248;248;248m \u001b[0m\u001b[38;2;187;187;187;48;2;248;248;248m      \u001b[0m\u001b[38;2;0;0;0;48;2;248;248;248m}\u001b[0m\u001b[48;2;248;248;248m                                                                                                          \u001b[0m\u001b[48;2;248;248;248m \u001b[0m\n",
       "\u001b[48;2;248;248;248m \u001b[0m\u001b[38;2;187;187;187;48;2;248;248;248m    \u001b[0m\u001b[38;2;0;0;0;48;2;248;248;248m}\u001b[0m\u001b[48;2;248;248;248m                                                                                                            \u001b[0m\u001b[48;2;248;248;248m \u001b[0m\n",
       "\u001b[48;2;248;248;248m \u001b[0m\u001b[38;2;187;187;187;48;2;248;248;248m  \u001b[0m\u001b[38;2;0;0;0;48;2;248;248;248m}\u001b[0m\u001b[48;2;248;248;248m                                                                                                              \u001b[0m\u001b[48;2;248;248;248m \u001b[0m\n",
       "\u001b[48;2;248;248;248m \u001b[0m\u001b[38;2;0;0;0;48;2;248;248;248m}\u001b[0m\u001b[48;2;248;248;248m                                                                                                                \u001b[0m\u001b[48;2;248;248;248m \u001b[0m\n",
       "\u001b[48;2;248;248;248m \u001b[0m\u001b[48;2;248;248;248m                                                                                                                 \u001b[0m\u001b[48;2;248;248;248m \u001b[0m\n",
       "\u001b[48;2;248;248;248m \u001b[0m\u001b[1;38;2;0;128;0;48;2;248;248;248mresource\u001b[0m\u001b[38;2;187;187;187;48;2;248;248;248m \u001b[0m\u001b[1;38;2;0;0;255;48;2;248;248;248m\"google_cloud_run_service_iam_policy\"\u001b[0m\u001b[38;2;187;187;187;48;2;248;248;248m \u001b[0m\u001b[38;2;25;23;124;48;2;248;248;248m\"public_access\"\u001b[0m\u001b[38;2;187;187;187;48;2;248;248;248m \u001b[0m\u001b[38;2;0;0;0;48;2;248;248;248m{\u001b[0m\u001b[48;2;248;248;248m                                                 \u001b[0m\u001b[48;2;248;248;248m \u001b[0m\n",
       "\u001b[48;2;248;248;248m \u001b[0m\u001b[38;2;187;187;187;48;2;248;248;248m  \u001b[0m\u001b[38;2;104;120;34;48;2;248;248;248mprovider\u001b[0m\u001b[38;2;187;187;187;48;2;248;248;248m \u001b[0m\u001b[38;2;102;102;102;48;2;248;248;248m=\u001b[0m\u001b[38;2;187;187;187;48;2;248;248;248m \u001b[0m\u001b[38;2;0;0;0;48;2;248;248;248mg\u001b[0m\u001b[38;2;0;0;0;48;2;248;248;248mo\u001b[0m\u001b[38;2;0;0;0;48;2;248;248;248mo\u001b[0m\u001b[38;2;0;0;0;48;2;248;248;248mg\u001b[0m\u001b[38;2;0;0;0;48;2;248;248;248ml\u001b[0m\u001b[38;2;0;0;0;48;2;248;248;248me\u001b[0m\u001b[38;2;0;0;0;48;2;248;248;248m-\u001b[0m\u001b[38;2;0;0;0;48;2;248;248;248mb\u001b[0m\u001b[38;2;0;0;0;48;2;248;248;248me\u001b[0m\u001b[38;2;0;0;0;48;2;248;248;248mt\u001b[0m\u001b[38;2;0;0;0;48;2;248;248;248ma\u001b[0m\u001b[48;2;248;248;248m                                                                                         \u001b[0m\u001b[48;2;248;248;248m \u001b[0m\n",
       "\u001b[48;2;248;248;248m \u001b[0m\u001b[38;2;187;187;187;48;2;248;248;248m  \u001b[0m\u001b[38;2;104;120;34;48;2;248;248;248mproject\u001b[0m\u001b[38;2;187;187;187;48;2;248;248;248m  \u001b[0m\u001b[38;2;102;102;102;48;2;248;248;248m=\u001b[0m\u001b[38;2;187;187;187;48;2;248;248;248m \u001b[0m\u001b[38;2;25;23;124;48;2;248;248;248mvar.gcp_project_id\u001b[0m\u001b[48;2;248;248;248m                                                                                  \u001b[0m\u001b[48;2;248;248;248m \u001b[0m\n",
       "\u001b[48;2;248;248;248m \u001b[0m\u001b[38;2;187;187;187;48;2;248;248;248m  \u001b[0m\u001b[38;2;104;120;34;48;2;248;248;248mlocation\u001b[0m\u001b[38;2;187;187;187;48;2;248;248;248m \u001b[0m\u001b[38;2;102;102;102;48;2;248;248;248m=\u001b[0m\u001b[38;2;187;187;187;48;2;248;248;248m \u001b[0m\u001b[38;2;25;23;124;48;2;248;248;248mgoogle_cloud_run_service.cloud_run.location\u001b[0m\u001b[48;2;248;248;248m                                                         \u001b[0m\u001b[48;2;248;248;248m \u001b[0m\n",
       "\u001b[48;2;248;248;248m \u001b[0m\u001b[38;2;187;187;187;48;2;248;248;248m  \u001b[0m\u001b[38;2;104;120;34;48;2;248;248;248mservice\u001b[0m\u001b[38;2;187;187;187;48;2;248;248;248m  \u001b[0m\u001b[38;2;102;102;102;48;2;248;248;248m=\u001b[0m\u001b[38;2;187;187;187;48;2;248;248;248m \u001b[0m\u001b[38;2;25;23;124;48;2;248;248;248mgoogle_cloud_run_service.cloud_run.name\u001b[0m\u001b[48;2;248;248;248m                                                             \u001b[0m\u001b[48;2;248;248;248m \u001b[0m\n",
       "\u001b[48;2;248;248;248m \u001b[0m\u001b[48;2;248;248;248m                                                                                                                 \u001b[0m\u001b[48;2;248;248;248m \u001b[0m\n",
       "\u001b[48;2;248;248;248m \u001b[0m\u001b[38;2;187;187;187;48;2;248;248;248m  \u001b[0m\u001b[38;2;104;120;34;48;2;248;248;248mpolicy_data\u001b[0m\u001b[38;2;187;187;187;48;2;248;248;248m \u001b[0m\u001b[38;2;102;102;102;48;2;248;248;248m=\u001b[0m\u001b[38;2;187;187;187;48;2;248;248;248m \u001b[0m\u001b[38;2;25;23;124;48;2;248;248;248mdata.google_iam_policy.public_access.policy_data\u001b[0m\u001b[48;2;248;248;248m                                                 \u001b[0m\u001b[48;2;248;248;248m \u001b[0m\n",
       "\u001b[48;2;248;248;248m \u001b[0m\u001b[38;2;0;0;0;48;2;248;248;248m}\u001b[0m\u001b[48;2;248;248;248m                                                                                                                \u001b[0m\u001b[48;2;248;248;248m \u001b[0m\n",
       "\u001b[48;2;248;248;248m \u001b[0m\u001b[48;2;248;248;248m                                                                                                                 \u001b[0m\u001b[48;2;248;248;248m \u001b[0m\n",
       "\u001b[48;2;248;248;248m \u001b[0m\u001b[1;38;2;0;128;0;48;2;248;248;248mdata\u001b[0m\u001b[38;2;187;187;187;48;2;248;248;248m \u001b[0m\u001b[1;38;2;0;0;255;48;2;248;248;248m\"google_iam_policy\"\u001b[0m\u001b[38;2;187;187;187;48;2;248;248;248m \u001b[0m\u001b[38;2;25;23;124;48;2;248;248;248m\"public_access\"\u001b[0m\u001b[38;2;187;187;187;48;2;248;248;248m \u001b[0m\u001b[38;2;0;0;0;48;2;248;248;248m{\u001b[0m\u001b[48;2;248;248;248m                                                                       \u001b[0m\u001b[48;2;248;248;248m \u001b[0m\n",
       "\u001b[48;2;248;248;248m \u001b[0m\u001b[38;2;187;187;187;48;2;248;248;248m  \u001b[0m\u001b[38;2;0;128;0;48;2;248;248;248mbinding\u001b[0m\u001b[38;2;187;187;187;48;2;248;248;248m \u001b[0m\u001b[38;2;0;0;0;48;2;248;248;248m{\u001b[0m\u001b[48;2;248;248;248m                                                                                                      \u001b[0m\u001b[48;2;248;248;248m \u001b[0m\n",
       "\u001b[48;2;248;248;248m \u001b[0m\u001b[38;2;187;187;187;48;2;248;248;248m    \u001b[0m\u001b[38;2;104;120;34;48;2;248;248;248mrole\u001b[0m\u001b[38;2;187;187;187;48;2;248;248;248m \u001b[0m\u001b[38;2;102;102;102;48;2;248;248;248m=\u001b[0m\u001b[38;2;187;187;187;48;2;248;248;248m \u001b[0m\u001b[38;2;186;33;33;48;2;248;248;248m\"roles/run.invoker\"\u001b[0m\u001b[48;2;248;248;248m                                                                                   \u001b[0m\u001b[48;2;248;248;248m \u001b[0m\n",
       "\u001b[48;2;248;248;248m \u001b[0m\u001b[38;2;187;187;187;48;2;248;248;248m    \u001b[0m\u001b[38;2;104;120;34;48;2;248;248;248mmembers\u001b[0m\u001b[38;2;187;187;187;48;2;248;248;248m \u001b[0m\u001b[38;2;102;102;102;48;2;248;248;248m=\u001b[0m\u001b[38;2;187;187;187;48;2;248;248;248m \u001b[0m\u001b[38;2;0;0;0;48;2;248;248;248m[\u001b[0m\u001b[38;2;186;33;33;48;2;248;248;248m\"allUsers\"\u001b[0m\u001b[38;2;0;0;0;48;2;248;248;248m]\u001b[0m\u001b[48;2;248;248;248m                                                                                       \u001b[0m\u001b[48;2;248;248;248m \u001b[0m\n",
       "\u001b[48;2;248;248;248m \u001b[0m\u001b[38;2;187;187;187;48;2;248;248;248m  \u001b[0m\u001b[38;2;0;0;0;48;2;248;248;248m}\u001b[0m\u001b[48;2;248;248;248m                                                                                                              \u001b[0m\u001b[48;2;248;248;248m \u001b[0m\n",
       "\u001b[48;2;248;248;248m \u001b[0m\u001b[38;2;0;0;0;48;2;248;248;248m}\u001b[0m\u001b[48;2;248;248;248m                                                                                                                \u001b[0m\u001b[48;2;248;248;248m \u001b[0m\n",
       "\u001b[48;2;248;248;248m                                                                                                                   \u001b[0m\n",
       "\n",
       "\u001b[34mMake sure to replace \u001b[0m\u001b[1;36;40m\"YOUR_GITHUB_USERNAME\"\u001b[0m\u001b[34m and \u001b[0m\u001b[1;36;40m\"YOUR_REPOSITORY_NAME\"\u001b[0m\u001b[34m with your actual GitHub username and \u001b[0m       \n",
       "\u001b[34mrepository name.\u001b[0m                                                                                                   \n",
       "\n",
       "\u001b[34mAfter setting up your \u001b[0m\u001b[1;36;40mmain.tf\u001b[0m\u001b[34m, you can deploy your application using the following Terraform commands:\u001b[0m             \n",
       "\n",
       "\u001b[48;2;248;248;248m                                                                                                                   \u001b[0m\n",
       "\u001b[48;2;248;248;248m \u001b[0m\u001b[38;2;0;0;0;48;2;248;248;248mterraform\u001b[0m\u001b[38;2;187;187;187;48;2;248;248;248m \u001b[0m\u001b[38;2;0;0;0;48;2;248;248;248minit\u001b[0m\u001b[48;2;248;248;248m                                                                                                   \u001b[0m\u001b[48;2;248;248;248m \u001b[0m\n",
       "\u001b[48;2;248;248;248m \u001b[0m\u001b[38;2;0;0;0;48;2;248;248;248mterraform\u001b[0m\u001b[38;2;187;187;187;48;2;248;248;248m \u001b[0m\u001b[38;2;0;0;0;48;2;248;248;248mapply\u001b[0m\u001b[48;2;248;248;248m                                                                                                  \u001b[0m\u001b[48;2;248;248;248m \u001b[0m\n",
       "\u001b[48;2;248;248;248m                                                                                                                   \u001b[0m\n",
       "\n",
       "\u001b[34mThis will initialize your Terraform environment and apply the configuration to deploy your Spring application on \u001b[0m  \n",
       "\u001b[34mGoogle Cloud Run.\u001b[0m                                                                                                  \n"
      ]
     },
     "metadata": {},
     "output_type": "display_data"
    },
    {
     "data": {
      "text/html": [
       "<pre style=\"white-space:pre;overflow-x:auto;line-height:normal;font-family:Menlo,'DejaVu Sans Mono',consolas,'Courier New',monospace\">\n",
       "</pre>\n"
      ],
      "text/plain": [
       "\n"
      ]
     },
     "metadata": {},
     "output_type": "display_data"
    },
    {
     "data": {
      "text/html": [
       "<pre style=\"white-space:pre;overflow-x:auto;line-height:normal;font-family:Menlo,'DejaVu Sans Mono',consolas,'Courier New',monospace\">Tokens: 6.0k sent, 717 received. Cost: $0.02 message, $0.06 session.\n",
       "</pre>\n"
      ],
      "text/plain": [
       "Tokens: 6.0k sent, 717 received. Cost: $0.02 message, $0.06 session.\n"
      ]
     },
     "metadata": {},
     "output_type": "display_data"
    },
    {
     "data": {
      "text/html": [
       "<pre style=\"white-space:pre;overflow-x:auto;line-height:normal;font-family:Menlo,'DejaVu Sans Mono',consolas,'Courier New',monospace\">\n",
       "</pre>\n"
      ],
      "text/plain": [
       "\n"
      ]
     },
     "metadata": {},
     "output_type": "display_data"
    },
    {
     "data": {
      "text/html": [
       "<pre style=\"white-space:pre;overflow-x:auto;line-height:normal;font-family:Menlo,'DejaVu Sans Mono',consolas,'Courier New',monospace\">spring/kitchensink/terraform/main.tf\n",
       "</pre>\n"
      ],
      "text/plain": [
       "\u001b[7mspring/kitchensink/terraform/main.tf\u001b[0m\n"
      ]
     },
     "metadata": {},
     "output_type": "display_data"
    },
    {
     "data": {
      "text/html": [
       "<pre style=\"white-space:pre;overflow-x:auto;line-height:normal;font-family:Menlo,'DejaVu Sans Mono',consolas,'Courier New',monospace\"><span style=\"color: #000080; text-decoration-color: #000080\">To deploy your Spring application on Google Cloud Run using Terraform, we need to ensure that your </span><span style=\"color: #008080; text-decoration-color: #008080; background-color: #000000; font-weight: bold\">main.tf</span><span style=\"color: #000080; text-decoration-color: #000080\"> file is </span>\n",
       "<span style=\"color: #000080; text-decoration-color: #000080\">correctly configured. Let's make sure the Terraform configuration is set up to build and deploy your application </span>  \n",
       "<span style=\"color: #000080; text-decoration-color: #000080\">container. Here are the necessary changes:</span>                                                                         \n",
       "\n",
       "<span style=\"color: #808000; text-decoration-color: #808000; font-weight: bold\"> 1 </span><span style=\"color: #000080; text-decoration-color: #000080\">Ensure the </span><span style=\"color: #008080; text-decoration-color: #008080; background-color: #000000; font-weight: bold\">google-beta</span><span style=\"color: #000080; text-decoration-color: #000080\"> provider is used for resources that require it.                                          </span>\n",
       "<span style=\"color: #808000; text-decoration-color: #808000; font-weight: bold\"> 2 </span><span style=\"color: #000080; text-decoration-color: #000080\">Update the </span><span style=\"color: #008080; text-decoration-color: #008080; background-color: #000000; font-weight: bold\">google_cloudbuild_trigger</span><span style=\"color: #000080; text-decoration-color: #000080\"> to include a build step for Docker.                                        </span>\n",
       "<span style=\"color: #808000; text-decoration-color: #808000; font-weight: bold\"> 3 </span><span style=\"color: #000080; text-decoration-color: #000080\">Ensure the </span><span style=\"color: #008080; text-decoration-color: #008080; background-color: #000000; font-weight: bold\">google_cloud_run_service</span><span style=\"color: #000080; text-decoration-color: #000080\"> is correctly configured to use the Docker image from the Artifact Registry. </span>\n",
       "\n",
       "<span style=\"color: #000080; text-decoration-color: #000080\">Here are the changes in the </span><span style=\"color: #008080; text-decoration-color: #008080; background-color: #000000; font-weight: bold\">main.tf</span><span style=\"color: #000080; text-decoration-color: #000080\"> file:</span>                                                                          \n",
       "\n",
       "<span style=\"color: #000080; text-decoration-color: #000080\">spring/kitchensink/terraform/main.tf</span>                                                                               \n",
       "\n",
       "<span style=\"background-color: #f8f8f8\">                                                                                                                   </span>\n",
       "<span style=\"background-color: #f8f8f8\"> </span><span style=\"color: #000000; text-decoration-color: #000000; background-color: #f8f8f8\">&lt;&lt;&lt;&lt;&lt;</span><span style=\"color: #666666; text-decoration-color: #666666; background-color: #f8f8f8\">&lt;&lt;</span><span style=\"color: #ba2121; text-decoration-color: #ba2121; background-color: #f8f8f8\">SEARCH</span><span style=\"background-color: #f8f8f8\">                                                                                                     </span>\n",
       "<span style=\"background-color: #f8f8f8\"> </span><span style=\"color: #000000; text-decoration-color: #000000; background-color: #f8f8f8\">  required_providers {</span><span style=\"background-color: #f8f8f8\">                                                                                            </span>\n",
       "<span style=\"background-color: #f8f8f8\"> </span><span style=\"color: #000000; text-decoration-color: #000000; background-color: #f8f8f8\">    google = {</span><span style=\"background-color: #f8f8f8\">                                                                                                    </span>\n",
       "<span style=\"background-color: #f8f8f8\"> </span><span style=\"color: #000000; text-decoration-color: #000000; background-color: #f8f8f8\">      source  = \"hashicorp/google\"</span><span style=\"background-color: #f8f8f8\">                                                                                </span>\n",
       "<span style=\"background-color: #f8f8f8\"> </span><span style=\"color: #000000; text-decoration-color: #000000; background-color: #f8f8f8\">      version = \"~&gt; 5.0\"</span><span style=\"background-color: #f8f8f8\">                                                                                          </span>\n",
       "<span style=\"background-color: #f8f8f8\"> </span><span style=\"color: #000000; text-decoration-color: #000000; background-color: #f8f8f8\">    }</span><span style=\"background-color: #f8f8f8\">                                                                                                             </span>\n",
       "<span style=\"background-color: #f8f8f8\"> </span><span style=\"color: #000000; text-decoration-color: #000000; background-color: #f8f8f8\">  }</span><span style=\"background-color: #f8f8f8\">                                                                                                               </span>\n",
       "<span style=\"background-color: #f8f8f8\"> </span><span style=\"color: #000000; text-decoration-color: #000000; background-color: #f8f8f8\">=======</span><span style=\"background-color: #f8f8f8\">                                                                                                           </span>\n",
       "<span style=\"background-color: #f8f8f8\"> </span><span style=\"color: #000000; text-decoration-color: #000000; background-color: #f8f8f8\">  required_providers {</span><span style=\"background-color: #f8f8f8\">                                                                                            </span>\n",
       "<span style=\"background-color: #f8f8f8\"> </span><span style=\"color: #000000; text-decoration-color: #000000; background-color: #f8f8f8\">    google = {</span><span style=\"background-color: #f8f8f8\">                                                                                                    </span>\n",
       "<span style=\"background-color: #f8f8f8\"> </span><span style=\"color: #000000; text-decoration-color: #000000; background-color: #f8f8f8\">      source  = \"hashicorp/google\"</span><span style=\"background-color: #f8f8f8\">                                                                                </span>\n",
       "<span style=\"background-color: #f8f8f8\"> </span><span style=\"color: #000000; text-decoration-color: #000000; background-color: #f8f8f8\">      version = \"~&gt; 5.0\"</span><span style=\"background-color: #f8f8f8\">                                                                                          </span>\n",
       "<span style=\"background-color: #f8f8f8\"> </span><span style=\"color: #000000; text-decoration-color: #000000; background-color: #f8f8f8\">    }</span><span style=\"background-color: #f8f8f8\">                                                                                                             </span>\n",
       "<span style=\"background-color: #f8f8f8\"> </span><span style=\"color: #000000; text-decoration-color: #000000; background-color: #f8f8f8\">    google-beta = {</span><span style=\"background-color: #f8f8f8\">                                                                                               </span>\n",
       "<span style=\"background-color: #f8f8f8\"> </span><span style=\"color: #000000; text-decoration-color: #000000; background-color: #f8f8f8\">      source  = \"hashicorp/google-beta\"</span><span style=\"background-color: #f8f8f8\">                                                                           </span>\n",
       "<span style=\"background-color: #f8f8f8\"> </span><span style=\"color: #000000; text-decoration-color: #000000; background-color: #f8f8f8\">      version = \"~&gt; 5.0\"</span><span style=\"background-color: #f8f8f8\">                                                                                          </span>\n",
       "<span style=\"background-color: #f8f8f8\"> </span><span style=\"color: #000000; text-decoration-color: #000000; background-color: #f8f8f8\">    }</span><span style=\"background-color: #f8f8f8\">                                                                                                             </span>\n",
       "<span style=\"background-color: #f8f8f8\"> </span><span style=\"color: #000000; text-decoration-color: #000000; background-color: #f8f8f8\">  }</span><span style=\"background-color: #f8f8f8\">                                                                                                               </span>\n",
       "<span style=\"background-color: #f8f8f8\"> </span><span style=\"color: #000000; text-decoration-color: #000000; background-color: #f8f8f8\">&gt;&gt;&gt;&gt;&gt;&gt;&gt; REPLACE</span><span style=\"background-color: #f8f8f8\">                                                                                                   </span>\n",
       "<span style=\"background-color: #f8f8f8\"> </span><span style=\"color: #bbbbbb; text-decoration-color: #bbbbbb; background-color: #f8f8f8\">  </span><span style=\"color: #008000; text-decoration-color: #008000; background-color: #f8f8f8\">required_providers</span><span style=\"color: #bbbbbb; text-decoration-color: #bbbbbb; background-color: #f8f8f8\"> </span><span style=\"color: #000000; text-decoration-color: #000000; background-color: #f8f8f8\">{</span><span style=\"background-color: #f8f8f8\">                                                                                            </span>\n",
       "<span style=\"background-color: #f8f8f8\"> </span><span style=\"color: #bbbbbb; text-decoration-color: #bbbbbb; background-color: #f8f8f8\">    </span><span style=\"color: #008000; text-decoration-color: #008000; background-color: #f8f8f8\">google</span><span style=\"color: #bbbbbb; text-decoration-color: #bbbbbb; background-color: #f8f8f8\"> </span><span style=\"color: #666666; text-decoration-color: #666666; background-color: #f8f8f8\">=</span><span style=\"color: #bbbbbb; text-decoration-color: #bbbbbb; background-color: #f8f8f8\"> </span><span style=\"color: #000000; text-decoration-color: #000000; background-color: #f8f8f8\">{</span><span style=\"background-color: #f8f8f8\">                                                                                                    </span>\n",
       "<span style=\"background-color: #f8f8f8\"> </span><span style=\"color: #bbbbbb; text-decoration-color: #bbbbbb; background-color: #f8f8f8\">      </span><span style=\"color: #687822; text-decoration-color: #687822; background-color: #f8f8f8\">source</span><span style=\"color: #bbbbbb; text-decoration-color: #bbbbbb; background-color: #f8f8f8\">  </span><span style=\"color: #666666; text-decoration-color: #666666; background-color: #f8f8f8\">=</span><span style=\"color: #bbbbbb; text-decoration-color: #bbbbbb; background-color: #f8f8f8\"> </span><span style=\"color: #ba2121; text-decoration-color: #ba2121; background-color: #f8f8f8\">\"hashicorp/google\"</span><span style=\"background-color: #f8f8f8\">                                                                                </span>\n",
       "<span style=\"background-color: #f8f8f8\"> </span><span style=\"color: #bbbbbb; text-decoration-color: #bbbbbb; background-color: #f8f8f8\">      </span><span style=\"color: #687822; text-decoration-color: #687822; background-color: #f8f8f8\">version</span><span style=\"color: #bbbbbb; text-decoration-color: #bbbbbb; background-color: #f8f8f8\"> </span><span style=\"color: #666666; text-decoration-color: #666666; background-color: #f8f8f8\">=</span><span style=\"color: #bbbbbb; text-decoration-color: #bbbbbb; background-color: #f8f8f8\"> </span><span style=\"color: #ba2121; text-decoration-color: #ba2121; background-color: #f8f8f8\">\"~&gt; 5.0\"</span><span style=\"background-color: #f8f8f8\">                                                                                          </span>\n",
       "<span style=\"background-color: #f8f8f8\"> </span><span style=\"color: #bbbbbb; text-decoration-color: #bbbbbb; background-color: #f8f8f8\">    </span><span style=\"color: #000000; text-decoration-color: #000000; background-color: #f8f8f8\">}</span><span style=\"background-color: #f8f8f8\">                                                                                                             </span>\n",
       "<span style=\"background-color: #f8f8f8\"> </span><span style=\"color: #bbbbbb; text-decoration-color: #bbbbbb; background-color: #f8f8f8\">  </span><span style=\"color: #000000; text-decoration-color: #000000; background-color: #f8f8f8\">}</span><span style=\"background-color: #f8f8f8\">                                                                                                               </span>\n",
       "<span style=\"background-color: #f8f8f8\"> </span><span style=\"color: #000000; text-decoration-color: #000000; background-color: #f8f8f8\">=======</span><span style=\"background-color: #f8f8f8\">                                                                                                           </span>\n",
       "<span style=\"background-color: #f8f8f8\"> </span><span style=\"color: #bbbbbb; text-decoration-color: #bbbbbb; background-color: #f8f8f8\">  </span><span style=\"color: #008000; text-decoration-color: #008000; background-color: #f8f8f8\">required_providers</span><span style=\"color: #bbbbbb; text-decoration-color: #bbbbbb; background-color: #f8f8f8\"> </span><span style=\"color: #000000; text-decoration-color: #000000; background-color: #f8f8f8\">{</span><span style=\"background-color: #f8f8f8\">                                                                                            </span>\n",
       "<span style=\"background-color: #f8f8f8\"> </span><span style=\"color: #bbbbbb; text-decoration-color: #bbbbbb; background-color: #f8f8f8\">    </span><span style=\"color: #008000; text-decoration-color: #008000; background-color: #f8f8f8\">google</span><span style=\"color: #bbbbbb; text-decoration-color: #bbbbbb; background-color: #f8f8f8\"> </span><span style=\"color: #666666; text-decoration-color: #666666; background-color: #f8f8f8\">=</span><span style=\"color: #bbbbbb; text-decoration-color: #bbbbbb; background-color: #f8f8f8\"> </span><span style=\"color: #000000; text-decoration-color: #000000; background-color: #f8f8f8\">{</span><span style=\"background-color: #f8f8f8\">                                                                                                    </span>\n",
       "<span style=\"background-color: #f8f8f8\"> </span><span style=\"color: #bbbbbb; text-decoration-color: #bbbbbb; background-color: #f8f8f8\">      </span><span style=\"color: #687822; text-decoration-color: #687822; background-color: #f8f8f8\">source</span><span style=\"color: #bbbbbb; text-decoration-color: #bbbbbb; background-color: #f8f8f8\">  </span><span style=\"color: #666666; text-decoration-color: #666666; background-color: #f8f8f8\">=</span><span style=\"color: #bbbbbb; text-decoration-color: #bbbbbb; background-color: #f8f8f8\"> </span><span style=\"color: #ba2121; text-decoration-color: #ba2121; background-color: #f8f8f8\">\"hashicorp/google\"</span><span style=\"background-color: #f8f8f8\">                                                                                </span>\n",
       "<span style=\"background-color: #f8f8f8\"> </span><span style=\"color: #bbbbbb; text-decoration-color: #bbbbbb; background-color: #f8f8f8\">      </span><span style=\"color: #687822; text-decoration-color: #687822; background-color: #f8f8f8\">version</span><span style=\"color: #bbbbbb; text-decoration-color: #bbbbbb; background-color: #f8f8f8\"> </span><span style=\"color: #666666; text-decoration-color: #666666; background-color: #f8f8f8\">=</span><span style=\"color: #bbbbbb; text-decoration-color: #bbbbbb; background-color: #f8f8f8\"> </span><span style=\"color: #ba2121; text-decoration-color: #ba2121; background-color: #f8f8f8\">\"~&gt; 5.0\"</span><span style=\"background-color: #f8f8f8\">                                                                                          </span>\n",
       "<span style=\"background-color: #f8f8f8\"> </span><span style=\"color: #bbbbbb; text-decoration-color: #bbbbbb; background-color: #f8f8f8\">    </span><span style=\"color: #000000; text-decoration-color: #000000; background-color: #f8f8f8\">}</span><span style=\"background-color: #f8f8f8\">                                                                                                             </span>\n",
       "<span style=\"background-color: #f8f8f8\"> </span><span style=\"color: #bbbbbb; text-decoration-color: #bbbbbb; background-color: #f8f8f8\">    </span><span style=\"color: #008000; text-decoration-color: #008000; background-color: #f8f8f8\">google-beta</span><span style=\"color: #bbbbbb; text-decoration-color: #bbbbbb; background-color: #f8f8f8\"> </span><span style=\"color: #666666; text-decoration-color: #666666; background-color: #f8f8f8\">=</span><span style=\"color: #bbbbbb; text-decoration-color: #bbbbbb; background-color: #f8f8f8\"> </span><span style=\"color: #000000; text-decoration-color: #000000; background-color: #f8f8f8\">{</span><span style=\"background-color: #f8f8f8\">                                                                                               </span>\n",
       "<span style=\"background-color: #f8f8f8\"> </span><span style=\"color: #bbbbbb; text-decoration-color: #bbbbbb; background-color: #f8f8f8\">      </span><span style=\"color: #687822; text-decoration-color: #687822; background-color: #f8f8f8\">source</span><span style=\"color: #bbbbbb; text-decoration-color: #bbbbbb; background-color: #f8f8f8\">  </span><span style=\"color: #666666; text-decoration-color: #666666; background-color: #f8f8f8\">=</span><span style=\"color: #bbbbbb; text-decoration-color: #bbbbbb; background-color: #f8f8f8\"> </span><span style=\"color: #ba2121; text-decoration-color: #ba2121; background-color: #f8f8f8\">\"hashicorp/google-beta\"</span><span style=\"background-color: #f8f8f8\">                                                                           </span>\n",
       "<span style=\"background-color: #f8f8f8\"> </span><span style=\"color: #bbbbbb; text-decoration-color: #bbbbbb; background-color: #f8f8f8\">      </span><span style=\"color: #687822; text-decoration-color: #687822; background-color: #f8f8f8\">version</span><span style=\"color: #bbbbbb; text-decoration-color: #bbbbbb; background-color: #f8f8f8\"> </span><span style=\"color: #666666; text-decoration-color: #666666; background-color: #f8f8f8\">=</span><span style=\"color: #bbbbbb; text-decoration-color: #bbbbbb; background-color: #f8f8f8\"> </span><span style=\"color: #ba2121; text-decoration-color: #ba2121; background-color: #f8f8f8\">\"~&gt; 5.0\"</span><span style=\"background-color: #f8f8f8\">                                                                                          </span>\n",
       "<span style=\"background-color: #f8f8f8\"> </span><span style=\"color: #bbbbbb; text-decoration-color: #bbbbbb; background-color: #f8f8f8\">    </span><span style=\"color: #000000; text-decoration-color: #000000; background-color: #f8f8f8\">}</span><span style=\"background-color: #f8f8f8\">                                                                                                             </span>\n",
       "<span style=\"background-color: #f8f8f8\"> </span><span style=\"color: #bbbbbb; text-decoration-color: #bbbbbb; background-color: #f8f8f8\">  </span><span style=\"color: #000000; text-decoration-color: #000000; background-color: #f8f8f8\">}</span><span style=\"background-color: #f8f8f8\">                                                                                                               </span>\n",
       "<span style=\"background-color: #f8f8f8\"> </span><span style=\"color: #000000; text-decoration-color: #000000; background-color: #f8f8f8\">&gt;&gt;&gt;&gt;&gt;&gt;&gt;</span><span style=\"color: #bbbbbb; text-decoration-color: #bbbbbb; background-color: #f8f8f8\"> </span><span style=\"color: #000000; text-decoration-color: #000000; background-color: #f8f8f8\">REPLACE</span><span style=\"background-color: #f8f8f8\">                                                                                                   </span>\n",
       "<span style=\"background-color: #f8f8f8\">                                                                                                                   </span>\n",
       "\n",
       "<span style=\"color: #000080; text-decoration-color: #000080\">spring/kitchensink/terraform/main.tf</span>                                                                               \n",
       "\n",
       "<span style=\"background-color: #f8f8f8\">                                                                                                                   </span>\n",
       "<span style=\"background-color: #f8f8f8\"> </span><span style=\"color: #000000; text-decoration-color: #000000; background-color: #f8f8f8\">&lt;&lt;&lt;&lt;&lt;</span><span style=\"color: #666666; text-decoration-color: #666666; background-color: #f8f8f8\">&lt;&lt;</span><span style=\"color: #ba2121; text-decoration-color: #ba2121; background-color: #f8f8f8\">SEARCH</span><span style=\"background-color: #f8f8f8\">                                                                                                     </span>\n",
       "<span style=\"background-color: #f8f8f8\"> </span><span style=\"color: #000000; text-decoration-color: #000000; background-color: #f8f8f8\">resource \"google_cloudbuild_trigger\" \"docker_build\" {</span><span style=\"background-color: #f8f8f8\">                                                             </span>\n",
       "<span style=\"background-color: #f8f8f8\"> </span><span style=\"color: #000000; text-decoration-color: #000000; background-color: #f8f8f8\">  name     = \"kitchensink-build\"</span><span style=\"background-color: #f8f8f8\">                                                                                  </span>\n",
       "<span style=\"background-color: #f8f8f8\"> </span><span style=\"color: #000000; text-decoration-color: #000000; background-color: #f8f8f8\">  location = var.gcp_region</span><span style=\"background-color: #f8f8f8\">                                                                                       </span>\n",
       "<span style=\"background-color: #f8f8f8\">                                                                                                                   </span>\n",
       "<span style=\"background-color: #f8f8f8\"> </span><span style=\"color: #000000; text-decoration-color: #000000; background-color: #f8f8f8\">  github {</span><span style=\"background-color: #f8f8f8\">                                                                                                        </span>\n",
       "<span style=\"background-color: #f8f8f8\"> </span><span style=\"color: #000000; text-decoration-color: #000000; background-color: #f8f8f8\">    owner = \"YOUR_GITHUB_USERNAME\"</span><span style=\"background-color: #f8f8f8\">                                                                                </span>\n",
       "<span style=\"background-color: #f8f8f8\"> </span><span style=\"color: #000000; text-decoration-color: #000000; background-color: #f8f8f8\">    name  = \"YOUR_REPOSITORY_NAME\"</span><span style=\"background-color: #f8f8f8\">                                                                                </span>\n",
       "<span style=\"background-color: #f8f8f8\"> </span><span style=\"color: #000000; text-decoration-color: #000000; background-color: #f8f8f8\">    push {</span><span style=\"background-color: #f8f8f8\">                                                                                                        </span>\n",
       "<span style=\"background-color: #f8f8f8\"> </span><span style=\"color: #000000; text-decoration-color: #000000; background-color: #f8f8f8\">      branch = \"main\"</span><span style=\"background-color: #f8f8f8\">                                                                                             </span>\n",
       "<span style=\"background-color: #f8f8f8\"> </span><span style=\"color: #000000; text-decoration-color: #000000; background-color: #f8f8f8\">    }</span><span style=\"background-color: #f8f8f8\">                                                                                                             </span>\n",
       "<span style=\"background-color: #f8f8f8\"> </span><span style=\"color: #000000; text-decoration-color: #000000; background-color: #f8f8f8\">  }</span><span style=\"background-color: #f8f8f8\">                                                                                                               </span>\n",
       "<span style=\"background-color: #f8f8f8\">                                                                                                                   </span>\n",
       "<span style=\"background-color: #f8f8f8\"> </span><span style=\"color: #000000; text-decoration-color: #000000; background-color: #f8f8f8\">  filename = \"cloudbuild.yaml\"</span><span style=\"background-color: #f8f8f8\">                                                                                    </span>\n",
       "<span style=\"background-color: #f8f8f8\"> </span><span style=\"color: #000000; text-decoration-color: #000000; background-color: #f8f8f8\">=======</span><span style=\"background-color: #f8f8f8\">                                                                                                           </span>\n",
       "<span style=\"background-color: #f8f8f8\"> </span><span style=\"color: #000000; text-decoration-color: #000000; background-color: #f8f8f8\">resource \"google_cloudbuild_trigger\" \"docker_build\" {</span><span style=\"background-color: #f8f8f8\">                                                             </span>\n",
       "<span style=\"background-color: #f8f8f8\"> </span><span style=\"color: #000000; text-decoration-color: #000000; background-color: #f8f8f8\">  provider = google-beta</span><span style=\"background-color: #f8f8f8\">                                                                                          </span>\n",
       "<span style=\"background-color: #f8f8f8\"> </span><span style=\"color: #000000; text-decoration-color: #000000; background-color: #f8f8f8\">  name     = \"kitchensink-build\"</span><span style=\"background-color: #f8f8f8\">                                                                                  </span>\n",
       "<span style=\"background-color: #f8f8f8\"> </span><span style=\"color: #000000; text-decoration-color: #000000; background-color: #f8f8f8\">  location = var.gcp_region</span><span style=\"background-color: #f8f8f8\">                                                                                       </span>\n",
       "<span style=\"background-color: #f8f8f8\">                                                                                                                   </span>\n",
       "<span style=\"background-color: #f8f8f8\"> </span><span style=\"color: #000000; text-decoration-color: #000000; background-color: #f8f8f8\">  github {</span><span style=\"background-color: #f8f8f8\">                                                                                                        </span>\n",
       "<span style=\"background-color: #f8f8f8\"> </span><span style=\"color: #000000; text-decoration-color: #000000; background-color: #f8f8f8\">    owner = \"YOUR_GITHUB_USERNAME\"</span><span style=\"background-color: #f8f8f8\">                                                                                </span>\n",
       "<span style=\"background-color: #f8f8f8\"> </span><span style=\"color: #000000; text-decoration-color: #000000; background-color: #f8f8f8\">    name  = \"YOUR_REPOSITORY_NAME\"</span><span style=\"background-color: #f8f8f8\">                                                                                </span>\n",
       "<span style=\"background-color: #f8f8f8\"> </span><span style=\"color: #000000; text-decoration-color: #000000; background-color: #f8f8f8\">    push {</span><span style=\"background-color: #f8f8f8\">                                                                                                        </span>\n",
       "<span style=\"background-color: #f8f8f8\"> </span><span style=\"color: #000000; text-decoration-color: #000000; background-color: #f8f8f8\">      branch = \"main\"</span><span style=\"background-color: #f8f8f8\">                                                                                             </span>\n",
       "<span style=\"background-color: #f8f8f8\"> </span><span style=\"color: #000000; text-decoration-color: #000000; background-color: #f8f8f8\">    }</span><span style=\"background-color: #f8f8f8\">                                                                                                             </span>\n",
       "<span style=\"background-color: #f8f8f8\"> </span><span style=\"color: #000000; text-decoration-color: #000000; background-color: #f8f8f8\">  }</span><span style=\"background-color: #f8f8f8\">                                                                                                               </span>\n",
       "<span style=\"background-color: #f8f8f8\">                                                                                                                   </span>\n",
       "<span style=\"background-color: #f8f8f8\"> </span><span style=\"color: #000000; text-decoration-color: #000000; background-color: #f8f8f8\">  build {</span><span style=\"background-color: #f8f8f8\">                                                                                                         </span>\n",
       "<span style=\"background-color: #f8f8f8\"> </span><span style=\"color: #000000; text-decoration-color: #000000; background-color: #f8f8f8\">    steps {</span><span style=\"background-color: #f8f8f8\">                                                                                                       </span>\n",
       "<span style=\"background-color: #f8f8f8\"> </span><span style=\"color: #000000; text-decoration-color: #000000; background-color: #f8f8f8\">      name = \"gcr.io/cloud-builders/docker\"</span><span style=\"background-color: #f8f8f8\">                                                                       </span>\n",
       "<span style=\"background-color: #f8f8f8\"> </span><span style=\"color: #000000; text-decoration-color: #000000; background-color: #f8f8f8\">      args = [\"build\", \"-t\", </span><span style=\"background-color: #f8f8f8\">                                                                                     </span>\n",
       "<span style=\"background-color: #f8f8f8\"> </span><span style=\"color: #000000; text-decoration-color: #000000; background-color: #f8f8f8\">\"${google_artifact_registry_repository.docker_repo.repository_url}/kitchensink:latest\", \".\"]</span><span style=\"background-color: #f8f8f8\">                      </span>\n",
       "<span style=\"background-color: #f8f8f8\"> </span><span style=\"color: #000000; text-decoration-color: #000000; background-color: #f8f8f8\">    }</span><span style=\"background-color: #f8f8f8\">                                                                                                             </span>\n",
       "<span style=\"background-color: #f8f8f8\">                                                                                                                   </span>\n",
       "<span style=\"background-color: #f8f8f8\"> </span><span style=\"color: #000000; text-decoration-color: #000000; background-color: #f8f8f8\">    images = [\"${google_artifact_registry_repository.docker_repo.repository_url}/kitchensink:latest\"]</span><span style=\"background-color: #f8f8f8\">             </span>\n",
       "<span style=\"background-color: #f8f8f8\"> </span><span style=\"color: #000000; text-decoration-color: #000000; background-color: #f8f8f8\">  }</span><span style=\"background-color: #f8f8f8\">                                                                                                               </span>\n",
       "<span style=\"background-color: #f8f8f8\"> </span><span style=\"color: #000000; text-decoration-color: #000000; background-color: #f8f8f8\">&gt;&gt;&gt;&gt;&gt;&gt;&gt; REPLACE</span><span style=\"background-color: #f8f8f8\">                                                                                                   </span>\n",
       "<span style=\"background-color: #f8f8f8\"> </span><span style=\"color: #008000; text-decoration-color: #008000; background-color: #f8f8f8; font-weight: bold\">resource</span><span style=\"color: #bbbbbb; text-decoration-color: #bbbbbb; background-color: #f8f8f8\"> </span><span style=\"color: #0000ff; text-decoration-color: #0000ff; background-color: #f8f8f8; font-weight: bold\">\"google_cloudbuild_trigger\"</span><span style=\"color: #bbbbbb; text-decoration-color: #bbbbbb; background-color: #f8f8f8\"> </span><span style=\"color: #19177c; text-decoration-color: #19177c; background-color: #f8f8f8\">\"docker_build\"</span><span style=\"color: #bbbbbb; text-decoration-color: #bbbbbb; background-color: #f8f8f8\"> </span><span style=\"color: #000000; text-decoration-color: #000000; background-color: #f8f8f8\">{</span><span style=\"background-color: #f8f8f8\">                                                             </span>\n",
       "<span style=\"background-color: #f8f8f8\"> </span><span style=\"color: #bbbbbb; text-decoration-color: #bbbbbb; background-color: #f8f8f8\">  </span><span style=\"color: #687822; text-decoration-color: #687822; background-color: #f8f8f8\">name</span><span style=\"color: #bbbbbb; text-decoration-color: #bbbbbb; background-color: #f8f8f8\">     </span><span style=\"color: #666666; text-decoration-color: #666666; background-color: #f8f8f8\">=</span><span style=\"color: #bbbbbb; text-decoration-color: #bbbbbb; background-color: #f8f8f8\"> </span><span style=\"color: #ba2121; text-decoration-color: #ba2121; background-color: #f8f8f8\">\"kitchensink-build\"</span><span style=\"background-color: #f8f8f8\">                                                                                  </span>\n",
       "<span style=\"background-color: #f8f8f8\"> </span><span style=\"color: #bbbbbb; text-decoration-color: #bbbbbb; background-color: #f8f8f8\">  </span><span style=\"color: #687822; text-decoration-color: #687822; background-color: #f8f8f8\">location</span><span style=\"color: #bbbbbb; text-decoration-color: #bbbbbb; background-color: #f8f8f8\"> </span><span style=\"color: #666666; text-decoration-color: #666666; background-color: #f8f8f8\">=</span><span style=\"color: #bbbbbb; text-decoration-color: #bbbbbb; background-color: #f8f8f8\"> </span><span style=\"color: #19177c; text-decoration-color: #19177c; background-color: #f8f8f8\">var.gcp_region</span><span style=\"background-color: #f8f8f8\">                                                                                       </span>\n",
       "<span style=\"background-color: #f8f8f8\">                                                                                                                   </span>\n",
       "<span style=\"background-color: #f8f8f8\"> </span><span style=\"color: #bbbbbb; text-decoration-color: #bbbbbb; background-color: #f8f8f8\">  </span><span style=\"color: #008000; text-decoration-color: #008000; background-color: #f8f8f8\">github</span><span style=\"color: #bbbbbb; text-decoration-color: #bbbbbb; background-color: #f8f8f8\"> </span><span style=\"color: #000000; text-decoration-color: #000000; background-color: #f8f8f8\">{</span><span style=\"background-color: #f8f8f8\">                                                                                                        </span>\n",
       "<span style=\"background-color: #f8f8f8\"> </span><span style=\"color: #bbbbbb; text-decoration-color: #bbbbbb; background-color: #f8f8f8\">    </span><span style=\"color: #687822; text-decoration-color: #687822; background-color: #f8f8f8\">owner</span><span style=\"color: #bbbbbb; text-decoration-color: #bbbbbb; background-color: #f8f8f8\"> </span><span style=\"color: #666666; text-decoration-color: #666666; background-color: #f8f8f8\">=</span><span style=\"color: #bbbbbb; text-decoration-color: #bbbbbb; background-color: #f8f8f8\"> </span><span style=\"color: #ba2121; text-decoration-color: #ba2121; background-color: #f8f8f8\">\"YOUR_GITHUB_USERNAME\"</span><span style=\"background-color: #f8f8f8\">                                                                                </span>\n",
       "<span style=\"background-color: #f8f8f8\"> </span><span style=\"color: #bbbbbb; text-decoration-color: #bbbbbb; background-color: #f8f8f8\">    </span><span style=\"color: #687822; text-decoration-color: #687822; background-color: #f8f8f8\">name</span><span style=\"color: #bbbbbb; text-decoration-color: #bbbbbb; background-color: #f8f8f8\">  </span><span style=\"color: #666666; text-decoration-color: #666666; background-color: #f8f8f8\">=</span><span style=\"color: #bbbbbb; text-decoration-color: #bbbbbb; background-color: #f8f8f8\"> </span><span style=\"color: #ba2121; text-decoration-color: #ba2121; background-color: #f8f8f8\">\"YOUR_REPOSITORY_NAME\"</span><span style=\"background-color: #f8f8f8\">                                                                                </span>\n",
       "<span style=\"background-color: #f8f8f8\"> </span><span style=\"color: #bbbbbb; text-decoration-color: #bbbbbb; background-color: #f8f8f8\">    </span><span style=\"color: #008000; text-decoration-color: #008000; background-color: #f8f8f8\">push</span><span style=\"color: #bbbbbb; text-decoration-color: #bbbbbb; background-color: #f8f8f8\"> </span><span style=\"color: #000000; text-decoration-color: #000000; background-color: #f8f8f8\">{</span><span style=\"background-color: #f8f8f8\">                                                                                                        </span>\n",
       "<span style=\"background-color: #f8f8f8\"> </span><span style=\"color: #bbbbbb; text-decoration-color: #bbbbbb; background-color: #f8f8f8\">      </span><span style=\"color: #687822; text-decoration-color: #687822; background-color: #f8f8f8\">branch</span><span style=\"color: #bbbbbb; text-decoration-color: #bbbbbb; background-color: #f8f8f8\"> </span><span style=\"color: #666666; text-decoration-color: #666666; background-color: #f8f8f8\">=</span><span style=\"color: #bbbbbb; text-decoration-color: #bbbbbb; background-color: #f8f8f8\"> </span><span style=\"color: #ba2121; text-decoration-color: #ba2121; background-color: #f8f8f8\">\"main\"</span><span style=\"background-color: #f8f8f8\">                                                                                             </span>\n",
       "<span style=\"background-color: #f8f8f8\"> </span><span style=\"color: #bbbbbb; text-decoration-color: #bbbbbb; background-color: #f8f8f8\">    </span><span style=\"color: #000000; text-decoration-color: #000000; background-color: #f8f8f8\">}</span><span style=\"background-color: #f8f8f8\">                                                                                                             </span>\n",
       "<span style=\"background-color: #f8f8f8\"> </span><span style=\"color: #bbbbbb; text-decoration-color: #bbbbbb; background-color: #f8f8f8\">  </span><span style=\"color: #000000; text-decoration-color: #000000; background-color: #f8f8f8\">}</span><span style=\"background-color: #f8f8f8\">                                                                                                               </span>\n",
       "<span style=\"background-color: #f8f8f8\">                                                                                                                   </span>\n",
       "<span style=\"background-color: #f8f8f8\"> </span><span style=\"color: #bbbbbb; text-decoration-color: #bbbbbb; background-color: #f8f8f8\">  </span><span style=\"color: #687822; text-decoration-color: #687822; background-color: #f8f8f8\">filename</span><span style=\"color: #bbbbbb; text-decoration-color: #bbbbbb; background-color: #f8f8f8\"> </span><span style=\"color: #666666; text-decoration-color: #666666; background-color: #f8f8f8\">=</span><span style=\"color: #bbbbbb; text-decoration-color: #bbbbbb; background-color: #f8f8f8\"> </span><span style=\"color: #ba2121; text-decoration-color: #ba2121; background-color: #f8f8f8\">\"cloudbuild.yaml\"</span><span style=\"background-color: #f8f8f8\">                                                                                    </span>\n",
       "<span style=\"background-color: #f8f8f8\"> </span><span style=\"color: #666666; text-decoration-color: #666666; background-color: #f8f8f8\">=</span><span style=\"color: #000000; text-decoration-color: #000000; background-color: #f8f8f8\">======</span><span style=\"background-color: #f8f8f8\">                                                                                                           </span>\n",
       "<span style=\"background-color: #f8f8f8\"> </span><span style=\"color: #008000; text-decoration-color: #008000; background-color: #f8f8f8; font-weight: bold\">resource</span><span style=\"color: #bbbbbb; text-decoration-color: #bbbbbb; background-color: #f8f8f8\"> </span><span style=\"color: #0000ff; text-decoration-color: #0000ff; background-color: #f8f8f8; font-weight: bold\">\"google_cloudbuild_trigger\"</span><span style=\"color: #bbbbbb; text-decoration-color: #bbbbbb; background-color: #f8f8f8\"> </span><span style=\"color: #19177c; text-decoration-color: #19177c; background-color: #f8f8f8\">\"docker_build\"</span><span style=\"color: #bbbbbb; text-decoration-color: #bbbbbb; background-color: #f8f8f8\"> </span><span style=\"color: #000000; text-decoration-color: #000000; background-color: #f8f8f8\">{</span><span style=\"background-color: #f8f8f8\">                                                             </span>\n",
       "<span style=\"background-color: #f8f8f8\"> </span><span style=\"color: #bbbbbb; text-decoration-color: #bbbbbb; background-color: #f8f8f8\">  </span><span style=\"color: #687822; text-decoration-color: #687822; background-color: #f8f8f8\">provider</span><span style=\"color: #bbbbbb; text-decoration-color: #bbbbbb; background-color: #f8f8f8\"> </span><span style=\"color: #666666; text-decoration-color: #666666; background-color: #f8f8f8\">=</span><span style=\"color: #bbbbbb; text-decoration-color: #bbbbbb; background-color: #f8f8f8\"> </span><span style=\"color: #000000; text-decoration-color: #000000; background-color: #f8f8f8\">google-beta</span><span style=\"background-color: #f8f8f8\">                                                                                          </span>\n",
       "<span style=\"background-color: #f8f8f8\"> </span><span style=\"color: #bbbbbb; text-decoration-color: #bbbbbb; background-color: #f8f8f8\">  </span><span style=\"color: #687822; text-decoration-color: #687822; background-color: #f8f8f8\">name</span><span style=\"color: #bbbbbb; text-decoration-color: #bbbbbb; background-color: #f8f8f8\">     </span><span style=\"color: #666666; text-decoration-color: #666666; background-color: #f8f8f8\">=</span><span style=\"color: #bbbbbb; text-decoration-color: #bbbbbb; background-color: #f8f8f8\"> </span><span style=\"color: #ba2121; text-decoration-color: #ba2121; background-color: #f8f8f8\">\"kitchensink-build\"</span><span style=\"background-color: #f8f8f8\">                                                                                  </span>\n",
       "<span style=\"background-color: #f8f8f8\"> </span><span style=\"color: #bbbbbb; text-decoration-color: #bbbbbb; background-color: #f8f8f8\">  </span><span style=\"color: #687822; text-decoration-color: #687822; background-color: #f8f8f8\">location</span><span style=\"color: #bbbbbb; text-decoration-color: #bbbbbb; background-color: #f8f8f8\"> </span><span style=\"color: #666666; text-decoration-color: #666666; background-color: #f8f8f8\">=</span><span style=\"color: #bbbbbb; text-decoration-color: #bbbbbb; background-color: #f8f8f8\"> </span><span style=\"color: #19177c; text-decoration-color: #19177c; background-color: #f8f8f8\">var.gcp_region</span><span style=\"background-color: #f8f8f8\">                                                                                       </span>\n",
       "<span style=\"background-color: #f8f8f8\">                                                                                                                   </span>\n",
       "<span style=\"background-color: #f8f8f8\"> </span><span style=\"color: #bbbbbb; text-decoration-color: #bbbbbb; background-color: #f8f8f8\">  </span><span style=\"color: #008000; text-decoration-color: #008000; background-color: #f8f8f8\">github</span><span style=\"color: #bbbbbb; text-decoration-color: #bbbbbb; background-color: #f8f8f8\"> </span><span style=\"color: #000000; text-decoration-color: #000000; background-color: #f8f8f8\">{</span><span style=\"background-color: #f8f8f8\">                                                                                                        </span>\n",
       "<span style=\"background-color: #f8f8f8\"> </span><span style=\"color: #bbbbbb; text-decoration-color: #bbbbbb; background-color: #f8f8f8\">    </span><span style=\"color: #687822; text-decoration-color: #687822; background-color: #f8f8f8\">owner</span><span style=\"color: #bbbbbb; text-decoration-color: #bbbbbb; background-color: #f8f8f8\"> </span><span style=\"color: #666666; text-decoration-color: #666666; background-color: #f8f8f8\">=</span><span style=\"color: #bbbbbb; text-decoration-color: #bbbbbb; background-color: #f8f8f8\"> </span><span style=\"color: #ba2121; text-decoration-color: #ba2121; background-color: #f8f8f8\">\"YOUR_GITHUB_USERNAME\"</span><span style=\"background-color: #f8f8f8\">                                                                                </span>\n",
       "<span style=\"background-color: #f8f8f8\"> </span><span style=\"color: #bbbbbb; text-decoration-color: #bbbbbb; background-color: #f8f8f8\">    </span><span style=\"color: #687822; text-decoration-color: #687822; background-color: #f8f8f8\">name</span><span style=\"color: #bbbbbb; text-decoration-color: #bbbbbb; background-color: #f8f8f8\">  </span><span style=\"color: #666666; text-decoration-color: #666666; background-color: #f8f8f8\">=</span><span style=\"color: #bbbbbb; text-decoration-color: #bbbbbb; background-color: #f8f8f8\"> </span><span style=\"color: #ba2121; text-decoration-color: #ba2121; background-color: #f8f8f8\">\"YOUR_REPOSITORY_NAME\"</span><span style=\"background-color: #f8f8f8\">                                                                                </span>\n",
       "<span style=\"background-color: #f8f8f8\"> </span><span style=\"color: #bbbbbb; text-decoration-color: #bbbbbb; background-color: #f8f8f8\">    </span><span style=\"color: #008000; text-decoration-color: #008000; background-color: #f8f8f8\">push</span><span style=\"color: #bbbbbb; text-decoration-color: #bbbbbb; background-color: #f8f8f8\"> </span><span style=\"color: #000000; text-decoration-color: #000000; background-color: #f8f8f8\">{</span><span style=\"background-color: #f8f8f8\">                                                                                                        </span>\n",
       "<span style=\"background-color: #f8f8f8\"> </span><span style=\"color: #bbbbbb; text-decoration-color: #bbbbbb; background-color: #f8f8f8\">      </span><span style=\"color: #687822; text-decoration-color: #687822; background-color: #f8f8f8\">branch</span><span style=\"color: #bbbbbb; text-decoration-color: #bbbbbb; background-color: #f8f8f8\"> </span><span style=\"color: #666666; text-decoration-color: #666666; background-color: #f8f8f8\">=</span><span style=\"color: #bbbbbb; text-decoration-color: #bbbbbb; background-color: #f8f8f8\"> </span><span style=\"color: #ba2121; text-decoration-color: #ba2121; background-color: #f8f8f8\">\"main\"</span><span style=\"background-color: #f8f8f8\">                                                                                             </span>\n",
       "<span style=\"background-color: #f8f8f8\"> </span><span style=\"color: #bbbbbb; text-decoration-color: #bbbbbb; background-color: #f8f8f8\">    </span><span style=\"color: #000000; text-decoration-color: #000000; background-color: #f8f8f8\">}</span><span style=\"background-color: #f8f8f8\">                                                                                                             </span>\n",
       "<span style=\"background-color: #f8f8f8\"> </span><span style=\"color: #bbbbbb; text-decoration-color: #bbbbbb; background-color: #f8f8f8\">  </span><span style=\"color: #000000; text-decoration-color: #000000; background-color: #f8f8f8\">}</span><span style=\"background-color: #f8f8f8\">                                                                                                               </span>\n",
       "<span style=\"background-color: #f8f8f8\">                                                                                                                   </span>\n",
       "<span style=\"background-color: #f8f8f8\"> </span><span style=\"color: #bbbbbb; text-decoration-color: #bbbbbb; background-color: #f8f8f8\">  </span><span style=\"color: #008000; text-decoration-color: #008000; background-color: #f8f8f8\">build</span><span style=\"color: #bbbbbb; text-decoration-color: #bbbbbb; background-color: #f8f8f8\"> </span><span style=\"color: #000000; text-decoration-color: #000000; background-color: #f8f8f8\">{</span><span style=\"background-color: #f8f8f8\">                                                                                                         </span>\n",
       "<span style=\"background-color: #f8f8f8\"> </span><span style=\"color: #bbbbbb; text-decoration-color: #bbbbbb; background-color: #f8f8f8\">    </span><span style=\"color: #008000; text-decoration-color: #008000; background-color: #f8f8f8\">steps</span><span style=\"color: #bbbbbb; text-decoration-color: #bbbbbb; background-color: #f8f8f8\"> </span><span style=\"color: #000000; text-decoration-color: #000000; background-color: #f8f8f8\">{</span><span style=\"background-color: #f8f8f8\">                                                                                                       </span>\n",
       "<span style=\"background-color: #f8f8f8\"> </span><span style=\"color: #bbbbbb; text-decoration-color: #bbbbbb; background-color: #f8f8f8\">      </span><span style=\"color: #687822; text-decoration-color: #687822; background-color: #f8f8f8\">name</span><span style=\"color: #bbbbbb; text-decoration-color: #bbbbbb; background-color: #f8f8f8\"> </span><span style=\"color: #666666; text-decoration-color: #666666; background-color: #f8f8f8\">=</span><span style=\"color: #bbbbbb; text-decoration-color: #bbbbbb; background-color: #f8f8f8\"> </span><span style=\"color: #ba2121; text-decoration-color: #ba2121; background-color: #f8f8f8\">\"gcr.io/cloud-builders/docker\"</span><span style=\"background-color: #f8f8f8\">                                                                       </span>\n",
       "<span style=\"background-color: #f8f8f8\"> </span><span style=\"color: #bbbbbb; text-decoration-color: #bbbbbb; background-color: #f8f8f8\">      </span><span style=\"color: #687822; text-decoration-color: #687822; background-color: #f8f8f8\">args</span><span style=\"color: #bbbbbb; text-decoration-color: #bbbbbb; background-color: #f8f8f8\"> </span><span style=\"color: #666666; text-decoration-color: #666666; background-color: #f8f8f8\">=</span><span style=\"color: #bbbbbb; text-decoration-color: #bbbbbb; background-color: #f8f8f8\"> </span><span style=\"color: #000000; text-decoration-color: #000000; background-color: #f8f8f8\">[</span><span style=\"color: #ba2121; text-decoration-color: #ba2121; background-color: #f8f8f8\">\"build\", \"-t\", </span><span style=\"background-color: #f8f8f8\">                                                                                     </span>\n",
       "<span style=\"background-color: #f8f8f8\"> </span><span style=\"color: #ba2121; text-decoration-color: #ba2121; background-color: #f8f8f8\">\"${google_artifact_registry_repository.docker_repo.repository_url}/kitchensink:latest\", \".\"</span><span style=\"color: #000000; text-decoration-color: #000000; background-color: #f8f8f8\">]</span><span style=\"background-color: #f8f8f8\">                      </span>\n",
       "<span style=\"background-color: #f8f8f8\"> </span><span style=\"color: #bbbbbb; text-decoration-color: #bbbbbb; background-color: #f8f8f8\">    </span><span style=\"color: #000000; text-decoration-color: #000000; background-color: #f8f8f8\">}</span><span style=\"background-color: #f8f8f8\">                                                                                                             </span>\n",
       "<span style=\"background-color: #f8f8f8\">                                                                                                                   </span>\n",
       "<span style=\"background-color: #f8f8f8\"> </span><span style=\"color: #bbbbbb; text-decoration-color: #bbbbbb; background-color: #f8f8f8\">    </span><span style=\"color: #687822; text-decoration-color: #687822; background-color: #f8f8f8\">images</span><span style=\"color: #bbbbbb; text-decoration-color: #bbbbbb; background-color: #f8f8f8\"> </span><span style=\"color: #666666; text-decoration-color: #666666; background-color: #f8f8f8\">=</span><span style=\"color: #bbbbbb; text-decoration-color: #bbbbbb; background-color: #f8f8f8\"> </span><span style=\"color: #000000; text-decoration-color: #000000; background-color: #f8f8f8\">[</span><span style=\"color: #ba2121; text-decoration-color: #ba2121; background-color: #f8f8f8\">\"${google_artifact_registry_repository.docker_repo.repository_url}/kitchensink:latest\"</span><span style=\"color: #000000; text-decoration-color: #000000; background-color: #f8f8f8\">]</span><span style=\"background-color: #f8f8f8\">             </span>\n",
       "<span style=\"background-color: #f8f8f8\"> </span><span style=\"color: #bbbbbb; text-decoration-color: #bbbbbb; background-color: #f8f8f8\">  </span><span style=\"color: #000000; text-decoration-color: #000000; background-color: #f8f8f8\">}</span><span style=\"background-color: #f8f8f8\">                                                                                                               </span>\n",
       "<span style=\"background-color: #f8f8f8\"> </span><span style=\"color: #000000; text-decoration-color: #000000; background-color: #f8f8f8\">&gt;&gt;&gt;&gt;&gt;&gt;&gt;</span><span style=\"color: #bbbbbb; text-decoration-color: #bbbbbb; background-color: #f8f8f8\"> </span><span style=\"color: #000000; text-decoration-color: #000000; background-color: #f8f8f8\">REPLACE</span><span style=\"background-color: #f8f8f8\">                                                                                                   </span>\n",
       "<span style=\"background-color: #f8f8f8\">                                                                                                                   </span>\n",
       "\n",
       "<span style=\"color: #000080; text-decoration-color: #000080\">spring/kitchensink/terraform/main.tf</span>                                                                               \n",
       "\n",
       "<span style=\"background-color: #f8f8f8\">                                                                                                                   </span>\n",
       "<span style=\"background-color: #f8f8f8\"> </span><span style=\"color: #000000; text-decoration-color: #000000; background-color: #f8f8f8\">&lt;&lt;&lt;&lt;&lt;</span><span style=\"color: #666666; text-decoration-color: #666666; background-color: #f8f8f8\">&lt;&lt;</span><span style=\"color: #ba2121; text-decoration-color: #ba2121; background-color: #f8f8f8\">SEARCH</span><span style=\"background-color: #f8f8f8\">                                                                                                     </span>\n",
       "<span style=\"background-color: #f8f8f8\"> </span><span style=\"color: #000000; text-decoration-color: #000000; background-color: #f8f8f8\">resource \"google_cloud_run_service\" \"cloud_run\" {</span><span style=\"background-color: #f8f8f8\">                                                                 </span>\n",
       "<span style=\"background-color: #f8f8f8\"> </span><span style=\"color: #000000; text-decoration-color: #000000; background-color: #f8f8f8\">  name     = var.service_name</span><span style=\"background-color: #f8f8f8\">                                                                                     </span>\n",
       "<span style=\"background-color: #f8f8f8\"> </span><span style=\"color: #000000; text-decoration-color: #000000; background-color: #f8f8f8\">  location = var.gcp_region</span><span style=\"background-color: #f8f8f8\">                                                                                       </span>\n",
       "<span style=\"background-color: #f8f8f8\">                                                                                                                   </span>\n",
       "<span style=\"background-color: #f8f8f8\"> </span><span style=\"color: #000000; text-decoration-color: #000000; background-color: #f8f8f8\">  template {</span><span style=\"background-color: #f8f8f8\">                                                                                                      </span>\n",
       "<span style=\"background-color: #f8f8f8\"> </span><span style=\"color: #000000; text-decoration-color: #000000; background-color: #f8f8f8\">    spec {</span><span style=\"background-color: #f8f8f8\">                                                                                                        </span>\n",
       "<span style=\"background-color: #f8f8f8\"> </span><span style=\"color: #000000; text-decoration-color: #000000; background-color: #f8f8f8\">      containers {</span><span style=\"background-color: #f8f8f8\">                                                                                                </span>\n",
       "<span style=\"background-color: #f8f8f8\"> </span><span style=\"color: #000000; text-decoration-color: #000000; background-color: #f8f8f8\">        image = \"us-central1-docker.pkg.dev/${var.gcp_project_id}/${var.artifact_repo_name}/kitchensink:latest\"</span><span style=\"background-color: #f8f8f8\">   </span>\n",
       "<span style=\"background-color: #f8f8f8\"> </span><span style=\"color: #000000; text-decoration-color: #000000; background-color: #f8f8f8\">        ports {</span><span style=\"background-color: #f8f8f8\">                                                                                                   </span>\n",
       "<span style=\"background-color: #f8f8f8\"> </span><span style=\"color: #000000; text-decoration-color: #000000; background-color: #f8f8f8\">          container_port = 8080</span><span style=\"background-color: #f8f8f8\">                                                                                   </span>\n",
       "<span style=\"background-color: #f8f8f8\"> </span><span style=\"color: #000000; text-decoration-color: #000000; background-color: #f8f8f8\">        }</span><span style=\"background-color: #f8f8f8\">                                                                                                         </span>\n",
       "<span style=\"background-color: #f8f8f8\"> </span><span style=\"color: #000000; text-decoration-color: #000000; background-color: #f8f8f8\">      }</span><span style=\"background-color: #f8f8f8\">                                                                                                           </span>\n",
       "<span style=\"background-color: #f8f8f8\"> </span><span style=\"color: #000000; text-decoration-color: #000000; background-color: #f8f8f8\">    }</span><span style=\"background-color: #f8f8f8\">                                                                                                             </span>\n",
       "<span style=\"background-color: #f8f8f8\"> </span><span style=\"color: #000000; text-decoration-color: #000000; background-color: #f8f8f8\">  }</span><span style=\"background-color: #f8f8f8\">                                                                                                               </span>\n",
       "<span style=\"background-color: #f8f8f8\">                                                                                                                   </span>\n",
       "<span style=\"background-color: #f8f8f8\"> </span><span style=\"color: #000000; text-decoration-color: #000000; background-color: #f8f8f8\">  traffic {</span><span style=\"background-color: #f8f8f8\">                                                                                                       </span>\n",
       "<span style=\"background-color: #f8f8f8\"> </span><span style=\"color: #000000; text-decoration-color: #000000; background-color: #f8f8f8\">    percent = 100</span><span style=\"background-color: #f8f8f8\">                                                                                                 </span>\n",
       "<span style=\"background-color: #f8f8f8\"> </span><span style=\"color: #000000; text-decoration-color: #000000; background-color: #f8f8f8\">    latest_revision = true</span><span style=\"background-color: #f8f8f8\">                                                                                        </span>\n",
       "<span style=\"background-color: #f8f8f8\"> </span><span style=\"color: #000000; text-decoration-color: #000000; background-color: #f8f8f8\">  }</span><span style=\"background-color: #f8f8f8\">                                                                                                               </span>\n",
       "<span style=\"background-color: #f8f8f8\"> </span><span style=\"color: #000000; text-decoration-color: #000000; background-color: #f8f8f8\">=======</span><span style=\"background-color: #f8f8f8\">                                                                                                           </span>\n",
       "<span style=\"background-color: #f8f8f8\"> </span><span style=\"color: #000000; text-decoration-color: #000000; background-color: #f8f8f8\">resource \"google_cloud_run_service\" \"cloud_run\" {</span><span style=\"background-color: #f8f8f8\">                                                                 </span>\n",
       "<span style=\"background-color: #f8f8f8\"> </span><span style=\"color: #000000; text-decoration-color: #000000; background-color: #f8f8f8\">  provider = google-beta</span><span style=\"background-color: #f8f8f8\">                                                                                          </span>\n",
       "<span style=\"background-color: #f8f8f8\"> </span><span style=\"color: #000000; text-decoration-color: #000000; background-color: #f8f8f8\">  name     = var.service_name</span><span style=\"background-color: #f8f8f8\">                                                                                     </span>\n",
       "<span style=\"background-color: #f8f8f8\"> </span><span style=\"color: #000000; text-decoration-color: #000000; background-color: #f8f8f8\">  location = var.gcp_region</span><span style=\"background-color: #f8f8f8\">                                                                                       </span>\n",
       "<span style=\"background-color: #f8f8f8\">                                                                                                                   </span>\n",
       "<span style=\"background-color: #f8f8f8\"> </span><span style=\"color: #000000; text-decoration-color: #000000; background-color: #f8f8f8\">  template {</span><span style=\"background-color: #f8f8f8\">                                                                                                      </span>\n",
       "<span style=\"background-color: #f8f8f8\"> </span><span style=\"color: #000000; text-decoration-color: #000000; background-color: #f8f8f8\">    spec {</span><span style=\"background-color: #f8f8f8\">                                                                                                        </span>\n",
       "<span style=\"background-color: #f8f8f8\"> </span><span style=\"color: #000000; text-decoration-color: #000000; background-color: #f8f8f8\">      containers {</span><span style=\"background-color: #f8f8f8\">                                                                                                </span>\n",
       "<span style=\"background-color: #f8f8f8\"> </span><span style=\"color: #000000; text-decoration-color: #000000; background-color: #f8f8f8\">        image = \"${google_artifact_registry_repository.docker_repo.repository_url}/kitchensink:latest\"</span><span style=\"background-color: #f8f8f8\">            </span>\n",
       "<span style=\"background-color: #f8f8f8\"> </span><span style=\"color: #000000; text-decoration-color: #000000; background-color: #f8f8f8\">        ports {</span><span style=\"background-color: #f8f8f8\">                                                                                                   </span>\n",
       "<span style=\"background-color: #f8f8f8\"> </span><span style=\"color: #000000; text-decoration-color: #000000; background-color: #f8f8f8\">          container_port = 8080</span><span style=\"background-color: #f8f8f8\">                                                                                   </span>\n",
       "<span style=\"background-color: #f8f8f8\"> </span><span style=\"color: #000000; text-decoration-color: #000000; background-color: #f8f8f8\">        }</span><span style=\"background-color: #f8f8f8\">                                                                                                         </span>\n",
       "<span style=\"background-color: #f8f8f8\"> </span><span style=\"color: #000000; text-decoration-color: #000000; background-color: #f8f8f8\">      }</span><span style=\"background-color: #f8f8f8\">                                                                                                           </span>\n",
       "<span style=\"background-color: #f8f8f8\"> </span><span style=\"color: #000000; text-decoration-color: #000000; background-color: #f8f8f8\">    }</span><span style=\"background-color: #f8f8f8\">                                                                                                             </span>\n",
       "<span style=\"background-color: #f8f8f8\"> </span><span style=\"color: #000000; text-decoration-color: #000000; background-color: #f8f8f8\">  }</span><span style=\"background-color: #f8f8f8\">                                                                                                               </span>\n",
       "<span style=\"background-color: #f8f8f8\">                                                                                                                   </span>\n",
       "<span style=\"background-color: #f8f8f8\"> </span><span style=\"color: #000000; text-decoration-color: #000000; background-color: #f8f8f8\">  traffic {</span><span style=\"background-color: #f8f8f8\">                                                                                                       </span>\n",
       "<span style=\"background-color: #f8f8f8\"> </span><span style=\"color: #000000; text-decoration-color: #000000; background-color: #f8f8f8\">    percent = 100</span><span style=\"background-color: #f8f8f8\">                                                                                                 </span>\n",
       "<span style=\"background-color: #f8f8f8\"> </span><span style=\"color: #000000; text-decoration-color: #000000; background-color: #f8f8f8\">    latest_revision = true</span><span style=\"background-color: #f8f8f8\">                                                                                        </span>\n",
       "<span style=\"background-color: #f8f8f8\"> </span><span style=\"color: #000000; text-decoration-color: #000000; background-color: #f8f8f8\">  }</span><span style=\"background-color: #f8f8f8\">                                                                                                               </span>\n",
       "<span style=\"background-color: #f8f8f8\"> </span><span style=\"color: #000000; text-decoration-color: #000000; background-color: #f8f8f8\">&gt;&gt;&gt;&gt;&gt;&gt;&gt; REPLACE</span><span style=\"background-color: #f8f8f8\">                                                                                                   </span>\n",
       "<span style=\"background-color: #f8f8f8\"> </span><span style=\"color: #008000; text-decoration-color: #008000; background-color: #f8f8f8; font-weight: bold\">resource</span><span style=\"color: #bbbbbb; text-decoration-color: #bbbbbb; background-color: #f8f8f8\"> </span><span style=\"color: #0000ff; text-decoration-color: #0000ff; background-color: #f8f8f8; font-weight: bold\">\"google_cloud_run_service\"</span><span style=\"color: #bbbbbb; text-decoration-color: #bbbbbb; background-color: #f8f8f8\"> </span><span style=\"color: #19177c; text-decoration-color: #19177c; background-color: #f8f8f8\">\"cloud_run\"</span><span style=\"color: #bbbbbb; text-decoration-color: #bbbbbb; background-color: #f8f8f8\"> </span><span style=\"color: #000000; text-decoration-color: #000000; background-color: #f8f8f8\">{</span><span style=\"background-color: #f8f8f8\">                                                                 </span>\n",
       "<span style=\"background-color: #f8f8f8\"> </span><span style=\"color: #bbbbbb; text-decoration-color: #bbbbbb; background-color: #f8f8f8\">  </span><span style=\"color: #687822; text-decoration-color: #687822; background-color: #f8f8f8\">name</span><span style=\"color: #bbbbbb; text-decoration-color: #bbbbbb; background-color: #f8f8f8\">     </span><span style=\"color: #666666; text-decoration-color: #666666; background-color: #f8f8f8\">=</span><span style=\"color: #bbbbbb; text-decoration-color: #bbbbbb; background-color: #f8f8f8\"> </span><span style=\"color: #19177c; text-decoration-color: #19177c; background-color: #f8f8f8\">var.service_name</span><span style=\"background-color: #f8f8f8\">                                                                                     </span>\n",
       "<span style=\"background-color: #f8f8f8\"> </span><span style=\"color: #bbbbbb; text-decoration-color: #bbbbbb; background-color: #f8f8f8\">  </span><span style=\"color: #687822; text-decoration-color: #687822; background-color: #f8f8f8\">location</span><span style=\"color: #bbbbbb; text-decoration-color: #bbbbbb; background-color: #f8f8f8\"> </span><span style=\"color: #666666; text-decoration-color: #666666; background-color: #f8f8f8\">=</span><span style=\"color: #bbbbbb; text-decoration-color: #bbbbbb; background-color: #f8f8f8\"> </span><span style=\"color: #19177c; text-decoration-color: #19177c; background-color: #f8f8f8\">var.gcp_region</span><span style=\"background-color: #f8f8f8\">                                                                                       </span>\n",
       "<span style=\"background-color: #f8f8f8\">                                                                                                                   </span>\n",
       "<span style=\"background-color: #f8f8f8\"> </span><span style=\"color: #bbbbbb; text-decoration-color: #bbbbbb; background-color: #f8f8f8\">  </span><span style=\"color: #008000; text-decoration-color: #008000; background-color: #f8f8f8\">template</span><span style=\"color: #bbbbbb; text-decoration-color: #bbbbbb; background-color: #f8f8f8\"> </span><span style=\"color: #000000; text-decoration-color: #000000; background-color: #f8f8f8\">{</span><span style=\"background-color: #f8f8f8\">                                                                                                      </span>\n",
       "<span style=\"background-color: #f8f8f8\"> </span><span style=\"color: #bbbbbb; text-decoration-color: #bbbbbb; background-color: #f8f8f8\">    </span><span style=\"color: #008000; text-decoration-color: #008000; background-color: #f8f8f8\">spec</span><span style=\"color: #bbbbbb; text-decoration-color: #bbbbbb; background-color: #f8f8f8\"> </span><span style=\"color: #000000; text-decoration-color: #000000; background-color: #f8f8f8\">{</span><span style=\"background-color: #f8f8f8\">                                                                                                        </span>\n",
       "<span style=\"background-color: #f8f8f8\"> </span><span style=\"color: #bbbbbb; text-decoration-color: #bbbbbb; background-color: #f8f8f8\">      </span><span style=\"color: #008000; text-decoration-color: #008000; background-color: #f8f8f8\">containers</span><span style=\"color: #bbbbbb; text-decoration-color: #bbbbbb; background-color: #f8f8f8\"> </span><span style=\"color: #000000; text-decoration-color: #000000; background-color: #f8f8f8\">{</span><span style=\"background-color: #f8f8f8\">                                                                                                </span>\n",
       "<span style=\"background-color: #f8f8f8\"> </span><span style=\"color: #bbbbbb; text-decoration-color: #bbbbbb; background-color: #f8f8f8\">        </span><span style=\"color: #687822; text-decoration-color: #687822; background-color: #f8f8f8\">image</span><span style=\"color: #bbbbbb; text-decoration-color: #bbbbbb; background-color: #f8f8f8\"> </span><span style=\"color: #666666; text-decoration-color: #666666; background-color: #f8f8f8\">=</span><span style=\"color: #bbbbbb; text-decoration-color: #bbbbbb; background-color: #f8f8f8\"> </span><span style=\"color: #ba2121; text-decoration-color: #ba2121; background-color: #f8f8f8\">\"us-central1-docker.pkg.dev/${var.gcp_project_id}/${var.artifact_repo_name}/kitchensink:latest\"</span><span style=\"background-color: #f8f8f8\">   </span>\n",
       "<span style=\"background-color: #f8f8f8\"> </span><span style=\"color: #bbbbbb; text-decoration-color: #bbbbbb; background-color: #f8f8f8\">        </span><span style=\"color: #008000; text-decoration-color: #008000; background-color: #f8f8f8\">ports</span><span style=\"color: #bbbbbb; text-decoration-color: #bbbbbb; background-color: #f8f8f8\"> </span><span style=\"color: #000000; text-decoration-color: #000000; background-color: #f8f8f8\">{</span><span style=\"background-color: #f8f8f8\">                                                                                                   </span>\n",
       "<span style=\"background-color: #f8f8f8\"> </span><span style=\"color: #bbbbbb; text-decoration-color: #bbbbbb; background-color: #f8f8f8\">          </span><span style=\"color: #687822; text-decoration-color: #687822; background-color: #f8f8f8\">container_port</span><span style=\"color: #bbbbbb; text-decoration-color: #bbbbbb; background-color: #f8f8f8\"> </span><span style=\"color: #666666; text-decoration-color: #666666; background-color: #f8f8f8\">=</span><span style=\"color: #bbbbbb; text-decoration-color: #bbbbbb; background-color: #f8f8f8\"> </span><span style=\"color: #666666; text-decoration-color: #666666; background-color: #f8f8f8\">8080</span><span style=\"background-color: #f8f8f8\">                                                                                   </span>\n",
       "<span style=\"background-color: #f8f8f8\"> </span><span style=\"color: #bbbbbb; text-decoration-color: #bbbbbb; background-color: #f8f8f8\">        </span><span style=\"color: #000000; text-decoration-color: #000000; background-color: #f8f8f8\">}</span><span style=\"background-color: #f8f8f8\">                                                                                                         </span>\n",
       "<span style=\"background-color: #f8f8f8\"> </span><span style=\"color: #bbbbbb; text-decoration-color: #bbbbbb; background-color: #f8f8f8\">      </span><span style=\"color: #000000; text-decoration-color: #000000; background-color: #f8f8f8\">}</span><span style=\"background-color: #f8f8f8\">                                                                                                           </span>\n",
       "<span style=\"background-color: #f8f8f8\"> </span><span style=\"color: #bbbbbb; text-decoration-color: #bbbbbb; background-color: #f8f8f8\">    </span><span style=\"color: #000000; text-decoration-color: #000000; background-color: #f8f8f8\">}</span><span style=\"background-color: #f8f8f8\">                                                                                                             </span>\n",
       "<span style=\"background-color: #f8f8f8\"> </span><span style=\"color: #bbbbbb; text-decoration-color: #bbbbbb; background-color: #f8f8f8\">  </span><span style=\"color: #000000; text-decoration-color: #000000; background-color: #f8f8f8\">}</span><span style=\"background-color: #f8f8f8\">                                                                                                               </span>\n",
       "<span style=\"background-color: #f8f8f8\">                                                                                                                   </span>\n",
       "<span style=\"background-color: #f8f8f8\"> </span><span style=\"color: #bbbbbb; text-decoration-color: #bbbbbb; background-color: #f8f8f8\">  </span><span style=\"color: #008000; text-decoration-color: #008000; background-color: #f8f8f8\">traffic</span><span style=\"color: #bbbbbb; text-decoration-color: #bbbbbb; background-color: #f8f8f8\"> </span><span style=\"color: #000000; text-decoration-color: #000000; background-color: #f8f8f8\">{</span><span style=\"background-color: #f8f8f8\">                                                                                                       </span>\n",
       "<span style=\"background-color: #f8f8f8\"> </span><span style=\"color: #bbbbbb; text-decoration-color: #bbbbbb; background-color: #f8f8f8\">    </span><span style=\"color: #687822; text-decoration-color: #687822; background-color: #f8f8f8\">percent</span><span style=\"color: #bbbbbb; text-decoration-color: #bbbbbb; background-color: #f8f8f8\"> </span><span style=\"color: #666666; text-decoration-color: #666666; background-color: #f8f8f8\">=</span><span style=\"color: #bbbbbb; text-decoration-color: #bbbbbb; background-color: #f8f8f8\"> </span><span style=\"color: #666666; text-decoration-color: #666666; background-color: #f8f8f8\">100</span><span style=\"background-color: #f8f8f8\">                                                                                                 </span>\n",
       "<span style=\"background-color: #f8f8f8\"> </span><span style=\"color: #bbbbbb; text-decoration-color: #bbbbbb; background-color: #f8f8f8\">    </span><span style=\"color: #687822; text-decoration-color: #687822; background-color: #f8f8f8\">latest_revision</span><span style=\"color: #bbbbbb; text-decoration-color: #bbbbbb; background-color: #f8f8f8\"> </span><span style=\"color: #666666; text-decoration-color: #666666; background-color: #f8f8f8\">=</span><span style=\"color: #bbbbbb; text-decoration-color: #bbbbbb; background-color: #f8f8f8\"> </span><span style=\"color: #880000; text-decoration-color: #880000; background-color: #f8f8f8\">true</span><span style=\"background-color: #f8f8f8\">                                                                                        </span>\n",
       "<span style=\"background-color: #f8f8f8\"> </span><span style=\"color: #bbbbbb; text-decoration-color: #bbbbbb; background-color: #f8f8f8\">  </span><span style=\"color: #000000; text-decoration-color: #000000; background-color: #f8f8f8\">}</span><span style=\"background-color: #f8f8f8\">                                                                                                               </span>\n",
       "<span style=\"background-color: #f8f8f8\"> </span><span style=\"color: #000000; text-decoration-color: #000000; background-color: #f8f8f8\">=======</span><span style=\"background-color: #f8f8f8\">                                                                                                           </span>\n",
       "<span style=\"background-color: #f8f8f8\"> </span><span style=\"color: #008000; text-decoration-color: #008000; background-color: #f8f8f8; font-weight: bold\">resource</span><span style=\"color: #bbbbbb; text-decoration-color: #bbbbbb; background-color: #f8f8f8\"> </span><span style=\"color: #0000ff; text-decoration-color: #0000ff; background-color: #f8f8f8; font-weight: bold\">\"google_cloud_run_service\"</span><span style=\"color: #bbbbbb; text-decoration-color: #bbbbbb; background-color: #f8f8f8\"> </span><span style=\"color: #19177c; text-decoration-color: #19177c; background-color: #f8f8f8\">\"cloud_run\"</span><span style=\"color: #bbbbbb; text-decoration-color: #bbbbbb; background-color: #f8f8f8\"> </span><span style=\"color: #000000; text-decoration-color: #000000; background-color: #f8f8f8\">{</span><span style=\"background-color: #f8f8f8\">                                                                 </span>\n",
       "<span style=\"background-color: #f8f8f8\"> </span><span style=\"color: #bbbbbb; text-decoration-color: #bbbbbb; background-color: #f8f8f8\">  </span><span style=\"color: #687822; text-decoration-color: #687822; background-color: #f8f8f8\">provider</span><span style=\"color: #bbbbbb; text-decoration-color: #bbbbbb; background-color: #f8f8f8\"> </span><span style=\"color: #666666; text-decoration-color: #666666; background-color: #f8f8f8\">=</span><span style=\"color: #bbbbbb; text-decoration-color: #bbbbbb; background-color: #f8f8f8\"> </span><span style=\"color: #000000; text-decoration-color: #000000; background-color: #f8f8f8\">google-beta</span><span style=\"background-color: #f8f8f8\">                                                                                          </span>\n",
       "<span style=\"background-color: #f8f8f8\"> </span><span style=\"color: #bbbbbb; text-decoration-color: #bbbbbb; background-color: #f8f8f8\">  </span><span style=\"color: #687822; text-decoration-color: #687822; background-color: #f8f8f8\">name</span><span style=\"color: #bbbbbb; text-decoration-color: #bbbbbb; background-color: #f8f8f8\">     </span><span style=\"color: #666666; text-decoration-color: #666666; background-color: #f8f8f8\">=</span><span style=\"color: #bbbbbb; text-decoration-color: #bbbbbb; background-color: #f8f8f8\"> </span><span style=\"color: #19177c; text-decoration-color: #19177c; background-color: #f8f8f8\">var.service_name</span><span style=\"background-color: #f8f8f8\">                                                                                     </span>\n",
       "<span style=\"background-color: #f8f8f8\"> </span><span style=\"color: #bbbbbb; text-decoration-color: #bbbbbb; background-color: #f8f8f8\">  </span><span style=\"color: #687822; text-decoration-color: #687822; background-color: #f8f8f8\">location</span><span style=\"color: #bbbbbb; text-decoration-color: #bbbbbb; background-color: #f8f8f8\"> </span><span style=\"color: #666666; text-decoration-color: #666666; background-color: #f8f8f8\">=</span><span style=\"color: #bbbbbb; text-decoration-color: #bbbbbb; background-color: #f8f8f8\"> </span><span style=\"color: #19177c; text-decoration-color: #19177c; background-color: #f8f8f8\">var.gcp_region</span><span style=\"background-color: #f8f8f8\">                                                                                       </span>\n",
       "<span style=\"background-color: #f8f8f8\">                                                                                                                   </span>\n",
       "<span style=\"background-color: #f8f8f8\"> </span><span style=\"color: #bbbbbb; text-decoration-color: #bbbbbb; background-color: #f8f8f8\">  </span><span style=\"color: #008000; text-decoration-color: #008000; background-color: #f8f8f8\">template</span><span style=\"color: #bbbbbb; text-decoration-color: #bbbbbb; background-color: #f8f8f8\"> </span><span style=\"color: #000000; text-decoration-color: #000000; background-color: #f8f8f8\">{</span><span style=\"background-color: #f8f8f8\">                                                                                                      </span>\n",
       "<span style=\"background-color: #f8f8f8\"> </span><span style=\"color: #bbbbbb; text-decoration-color: #bbbbbb; background-color: #f8f8f8\">    </span><span style=\"color: #008000; text-decoration-color: #008000; background-color: #f8f8f8\">spec</span><span style=\"color: #bbbbbb; text-decoration-color: #bbbbbb; background-color: #f8f8f8\"> </span><span style=\"color: #000000; text-decoration-color: #000000; background-color: #f8f8f8\">{</span><span style=\"background-color: #f8f8f8\">                                                                                                        </span>\n",
       "<span style=\"background-color: #f8f8f8\"> </span><span style=\"color: #bbbbbb; text-decoration-color: #bbbbbb; background-color: #f8f8f8\">      </span><span style=\"color: #008000; text-decoration-color: #008000; background-color: #f8f8f8\">containers</span><span style=\"color: #bbbbbb; text-decoration-color: #bbbbbb; background-color: #f8f8f8\"> </span><span style=\"color: #000000; text-decoration-color: #000000; background-color: #f8f8f8\">{</span><span style=\"background-color: #f8f8f8\">                                                                                                </span>\n",
       "<span style=\"background-color: #f8f8f8\"> </span><span style=\"color: #bbbbbb; text-decoration-color: #bbbbbb; background-color: #f8f8f8\">        </span><span style=\"color: #687822; text-decoration-color: #687822; background-color: #f8f8f8\">image</span><span style=\"color: #bbbbbb; text-decoration-color: #bbbbbb; background-color: #f8f8f8\"> </span><span style=\"color: #666666; text-decoration-color: #666666; background-color: #f8f8f8\">=</span><span style=\"color: #bbbbbb; text-decoration-color: #bbbbbb; background-color: #f8f8f8\"> </span><span style=\"color: #ba2121; text-decoration-color: #ba2121; background-color: #f8f8f8\">\"${google_artifact_registry_repository.docker_repo.repository_url}/kitchensink:latest\"</span><span style=\"background-color: #f8f8f8\">            </span>\n",
       "<span style=\"background-color: #f8f8f8\"> </span><span style=\"color: #bbbbbb; text-decoration-color: #bbbbbb; background-color: #f8f8f8\">        </span><span style=\"color: #008000; text-decoration-color: #008000; background-color: #f8f8f8\">ports</span><span style=\"color: #bbbbbb; text-decoration-color: #bbbbbb; background-color: #f8f8f8\"> </span><span style=\"color: #000000; text-decoration-color: #000000; background-color: #f8f8f8\">{</span><span style=\"background-color: #f8f8f8\">                                                                                                   </span>\n",
       "<span style=\"background-color: #f8f8f8\"> </span><span style=\"color: #bbbbbb; text-decoration-color: #bbbbbb; background-color: #f8f8f8\">          </span><span style=\"color: #687822; text-decoration-color: #687822; background-color: #f8f8f8\">container_port</span><span style=\"color: #bbbbbb; text-decoration-color: #bbbbbb; background-color: #f8f8f8\"> </span><span style=\"color: #666666; text-decoration-color: #666666; background-color: #f8f8f8\">=</span><span style=\"color: #bbbbbb; text-decoration-color: #bbbbbb; background-color: #f8f8f8\"> </span><span style=\"color: #666666; text-decoration-color: #666666; background-color: #f8f8f8\">8080</span><span style=\"background-color: #f8f8f8\">                                                                                   </span>\n",
       "<span style=\"background-color: #f8f8f8\"> </span><span style=\"color: #bbbbbb; text-decoration-color: #bbbbbb; background-color: #f8f8f8\">        </span><span style=\"color: #000000; text-decoration-color: #000000; background-color: #f8f8f8\">}</span><span style=\"background-color: #f8f8f8\">                                                                                                         </span>\n",
       "<span style=\"background-color: #f8f8f8\"> </span><span style=\"color: #bbbbbb; text-decoration-color: #bbbbbb; background-color: #f8f8f8\">      </span><span style=\"color: #000000; text-decoration-color: #000000; background-color: #f8f8f8\">}</span><span style=\"background-color: #f8f8f8\">                                                                                                           </span>\n",
       "<span style=\"background-color: #f8f8f8\"> </span><span style=\"color: #bbbbbb; text-decoration-color: #bbbbbb; background-color: #f8f8f8\">    </span><span style=\"color: #000000; text-decoration-color: #000000; background-color: #f8f8f8\">}</span><span style=\"background-color: #f8f8f8\">                                                                                                             </span>\n",
       "<span style=\"background-color: #f8f8f8\"> </span><span style=\"color: #bbbbbb; text-decoration-color: #bbbbbb; background-color: #f8f8f8\">  </span><span style=\"color: #000000; text-decoration-color: #000000; background-color: #f8f8f8\">}</span><span style=\"background-color: #f8f8f8\">                                                                                                               </span>\n",
       "<span style=\"background-color: #f8f8f8\">                                                                                                                   </span>\n",
       "<span style=\"background-color: #f8f8f8\"> </span><span style=\"color: #bbbbbb; text-decoration-color: #bbbbbb; background-color: #f8f8f8\">  </span><span style=\"color: #008000; text-decoration-color: #008000; background-color: #f8f8f8\">traffic</span><span style=\"color: #bbbbbb; text-decoration-color: #bbbbbb; background-color: #f8f8f8\"> </span><span style=\"color: #000000; text-decoration-color: #000000; background-color: #f8f8f8\">{</span><span style=\"background-color: #f8f8f8\">                                                                                                       </span>\n",
       "<span style=\"background-color: #f8f8f8\"> </span><span style=\"color: #bbbbbb; text-decoration-color: #bbbbbb; background-color: #f8f8f8\">    </span><span style=\"color: #687822; text-decoration-color: #687822; background-color: #f8f8f8\">percent</span><span style=\"color: #bbbbbb; text-decoration-color: #bbbbbb; background-color: #f8f8f8\"> </span><span style=\"color: #666666; text-decoration-color: #666666; background-color: #f8f8f8\">=</span><span style=\"color: #bbbbbb; text-decoration-color: #bbbbbb; background-color: #f8f8f8\"> </span><span style=\"color: #666666; text-decoration-color: #666666; background-color: #f8f8f8\">100</span><span style=\"background-color: #f8f8f8\">                                                                                                 </span>\n",
       "<span style=\"background-color: #f8f8f8\"> </span><span style=\"color: #bbbbbb; text-decoration-color: #bbbbbb; background-color: #f8f8f8\">    </span><span style=\"color: #687822; text-decoration-color: #687822; background-color: #f8f8f8\">latest_revision</span><span style=\"color: #bbbbbb; text-decoration-color: #bbbbbb; background-color: #f8f8f8\"> </span><span style=\"color: #666666; text-decoration-color: #666666; background-color: #f8f8f8\">=</span><span style=\"color: #bbbbbb; text-decoration-color: #bbbbbb; background-color: #f8f8f8\"> </span><span style=\"color: #880000; text-decoration-color: #880000; background-color: #f8f8f8\">true</span><span style=\"background-color: #f8f8f8\">                                                                                        </span>\n",
       "<span style=\"background-color: #f8f8f8\"> </span><span style=\"color: #bbbbbb; text-decoration-color: #bbbbbb; background-color: #f8f8f8\">  </span><span style=\"color: #000000; text-decoration-color: #000000; background-color: #f8f8f8\">}</span><span style=\"background-color: #f8f8f8\">                                                                                                               </span>\n",
       "<span style=\"background-color: #f8f8f8\"> </span><span style=\"color: #000000; text-decoration-color: #000000; background-color: #f8f8f8\">&gt;&gt;&gt;&gt;&gt;&gt;&gt;</span><span style=\"color: #bbbbbb; text-decoration-color: #bbbbbb; background-color: #f8f8f8\"> </span><span style=\"color: #000000; text-decoration-color: #000000; background-color: #f8f8f8\">REPLACE</span><span style=\"background-color: #f8f8f8\">                                                                                                   </span>\n",
       "<span style=\"background-color: #f8f8f8\">                                                                                                                   </span>\n",
       "\n",
       "<span style=\"color: #000080; text-decoration-color: #000080\">After applying these changes, you can deploy your application using the following Terraform commands:</span>              \n",
       "\n",
       "<span style=\"background-color: #f8f8f8\">                                                                                                                   </span>\n",
       "<span style=\"background-color: #f8f8f8\"> </span><span style=\"color: #000000; text-decoration-color: #000000; background-color: #f8f8f8\">terraform</span><span style=\"color: #bbbbbb; text-decoration-color: #bbbbbb; background-color: #f8f8f8\"> </span><span style=\"color: #000000; text-decoration-color: #000000; background-color: #f8f8f8\">init</span><span style=\"background-color: #f8f8f8\">                                                                                                    </span>\n",
       "<span style=\"background-color: #f8f8f8\"> </span><span style=\"color: #000000; text-decoration-color: #000000; background-color: #f8f8f8\">terraform</span><span style=\"color: #bbbbbb; text-decoration-color: #bbbbbb; background-color: #f8f8f8\"> </span><span style=\"color: #000000; text-decoration-color: #000000; background-color: #f8f8f8\">apply</span><span style=\"background-color: #f8f8f8\">                                                                                                   </span>\n",
       "<span style=\"background-color: #f8f8f8\">                                                                                                                   </span>\n",
       "\n",
       "<span style=\"color: #000080; text-decoration-color: #000080\">This will initialize your Terraform environment and apply the configuration to deploy your Spring application on </span>  \n",
       "<span style=\"color: #000080; text-decoration-color: #000080\">Google Cloud Run.</span>                                                                                                  \n",
       "</pre>\n"
      ],
      "text/plain": [
       "\u001b[34mTo deploy your Spring application on Google Cloud Run using Terraform, we need to ensure that your \u001b[0m\u001b[1;36;40mmain.tf\u001b[0m\u001b[34m file is \u001b[0m\n",
       "\u001b[34mcorrectly configured. Let's make sure the Terraform configuration is set up to build and deploy your application \u001b[0m  \n",
       "\u001b[34mcontainer. Here are the necessary changes:\u001b[0m                                                                         \n",
       "\n",
       "\u001b[1;33m 1 \u001b[0m\u001b[34mEnsure the \u001b[0m\u001b[1;36;40mgoogle-beta\u001b[0m\u001b[34m provider is used for resources that require it.\u001b[0m\u001b[34m                                          \u001b[0m\n",
       "\u001b[1;33m 2 \u001b[0m\u001b[34mUpdate the \u001b[0m\u001b[1;36;40mgoogle_cloudbuild_trigger\u001b[0m\u001b[34m to include a build step for Docker.\u001b[0m\u001b[34m                                        \u001b[0m\n",
       "\u001b[1;33m 3 \u001b[0m\u001b[34mEnsure the \u001b[0m\u001b[1;36;40mgoogle_cloud_run_service\u001b[0m\u001b[34m is correctly configured to use the Docker image from the Artifact Registry.\u001b[0m\u001b[34m \u001b[0m\n",
       "\n",
       "\u001b[34mHere are the changes in the \u001b[0m\u001b[1;36;40mmain.tf\u001b[0m\u001b[34m file:\u001b[0m                                                                          \n",
       "\n",
       "\u001b[34mspring/kitchensink/terraform/main.tf\u001b[0m                                                                               \n",
       "\n",
       "\u001b[48;2;248;248;248m                                                                                                                   \u001b[0m\n",
       "\u001b[48;2;248;248;248m \u001b[0m\u001b[38;2;0;0;0;48;2;248;248;248m<\u001b[0m\u001b[38;2;0;0;0;48;2;248;248;248m<\u001b[0m\u001b[38;2;0;0;0;48;2;248;248;248m<\u001b[0m\u001b[38;2;0;0;0;48;2;248;248;248m<\u001b[0m\u001b[38;2;0;0;0;48;2;248;248;248m<\u001b[0m\u001b[38;2;102;102;102;48;2;248;248;248m<<\u001b[0m\u001b[38;2;186;33;33;48;2;248;248;248mSEARCH\u001b[0m\u001b[48;2;248;248;248m                                                                                                    \u001b[0m\u001b[48;2;248;248;248m \u001b[0m\n",
       "\u001b[48;2;248;248;248m \u001b[0m\u001b[38;2;0;0;0;48;2;248;248;248m  required_providers {\u001b[0m\u001b[48;2;248;248;248m                                                                                           \u001b[0m\u001b[48;2;248;248;248m \u001b[0m\n",
       "\u001b[48;2;248;248;248m \u001b[0m\u001b[38;2;0;0;0;48;2;248;248;248m    google = {\u001b[0m\u001b[48;2;248;248;248m                                                                                                   \u001b[0m\u001b[48;2;248;248;248m \u001b[0m\n",
       "\u001b[48;2;248;248;248m \u001b[0m\u001b[38;2;0;0;0;48;2;248;248;248m      source  = \"hashicorp/google\"\u001b[0m\u001b[48;2;248;248;248m                                                                               \u001b[0m\u001b[48;2;248;248;248m \u001b[0m\n",
       "\u001b[48;2;248;248;248m \u001b[0m\u001b[38;2;0;0;0;48;2;248;248;248m      version = \"~> 5.0\"\u001b[0m\u001b[48;2;248;248;248m                                                                                         \u001b[0m\u001b[48;2;248;248;248m \u001b[0m\n",
       "\u001b[48;2;248;248;248m \u001b[0m\u001b[38;2;0;0;0;48;2;248;248;248m    }\u001b[0m\u001b[48;2;248;248;248m                                                                                                            \u001b[0m\u001b[48;2;248;248;248m \u001b[0m\n",
       "\u001b[48;2;248;248;248m \u001b[0m\u001b[38;2;0;0;0;48;2;248;248;248m  }\u001b[0m\u001b[48;2;248;248;248m                                                                                                              \u001b[0m\u001b[48;2;248;248;248m \u001b[0m\n",
       "\u001b[48;2;248;248;248m \u001b[0m\u001b[38;2;0;0;0;48;2;248;248;248m=======\u001b[0m\u001b[48;2;248;248;248m                                                                                                          \u001b[0m\u001b[48;2;248;248;248m \u001b[0m\n",
       "\u001b[48;2;248;248;248m \u001b[0m\u001b[38;2;0;0;0;48;2;248;248;248m  required_providers {\u001b[0m\u001b[48;2;248;248;248m                                                                                           \u001b[0m\u001b[48;2;248;248;248m \u001b[0m\n",
       "\u001b[48;2;248;248;248m \u001b[0m\u001b[38;2;0;0;0;48;2;248;248;248m    google = {\u001b[0m\u001b[48;2;248;248;248m                                                                                                   \u001b[0m\u001b[48;2;248;248;248m \u001b[0m\n",
       "\u001b[48;2;248;248;248m \u001b[0m\u001b[38;2;0;0;0;48;2;248;248;248m      source  = \"hashicorp/google\"\u001b[0m\u001b[48;2;248;248;248m                                                                               \u001b[0m\u001b[48;2;248;248;248m \u001b[0m\n",
       "\u001b[48;2;248;248;248m \u001b[0m\u001b[38;2;0;0;0;48;2;248;248;248m      version = \"~> 5.0\"\u001b[0m\u001b[48;2;248;248;248m                                                                                         \u001b[0m\u001b[48;2;248;248;248m \u001b[0m\n",
       "\u001b[48;2;248;248;248m \u001b[0m\u001b[38;2;0;0;0;48;2;248;248;248m    }\u001b[0m\u001b[48;2;248;248;248m                                                                                                            \u001b[0m\u001b[48;2;248;248;248m \u001b[0m\n",
       "\u001b[48;2;248;248;248m \u001b[0m\u001b[38;2;0;0;0;48;2;248;248;248m    google-beta = {\u001b[0m\u001b[48;2;248;248;248m                                                                                              \u001b[0m\u001b[48;2;248;248;248m \u001b[0m\n",
       "\u001b[48;2;248;248;248m \u001b[0m\u001b[38;2;0;0;0;48;2;248;248;248m      source  = \"hashicorp/google-beta\"\u001b[0m\u001b[48;2;248;248;248m                                                                          \u001b[0m\u001b[48;2;248;248;248m \u001b[0m\n",
       "\u001b[48;2;248;248;248m \u001b[0m\u001b[38;2;0;0;0;48;2;248;248;248m      version = \"~> 5.0\"\u001b[0m\u001b[48;2;248;248;248m                                                                                         \u001b[0m\u001b[48;2;248;248;248m \u001b[0m\n",
       "\u001b[48;2;248;248;248m \u001b[0m\u001b[38;2;0;0;0;48;2;248;248;248m    }\u001b[0m\u001b[48;2;248;248;248m                                                                                                            \u001b[0m\u001b[48;2;248;248;248m \u001b[0m\n",
       "\u001b[48;2;248;248;248m \u001b[0m\u001b[38;2;0;0;0;48;2;248;248;248m  }\u001b[0m\u001b[48;2;248;248;248m                                                                                                              \u001b[0m\u001b[48;2;248;248;248m \u001b[0m\n",
       "\u001b[48;2;248;248;248m \u001b[0m\u001b[38;2;0;0;0;48;2;248;248;248m>>>>>>> REPLACE\u001b[0m\u001b[48;2;248;248;248m                                                                                                  \u001b[0m\u001b[48;2;248;248;248m \u001b[0m\n",
       "\u001b[48;2;248;248;248m \u001b[0m\u001b[38;2;187;187;187;48;2;248;248;248m  \u001b[0m\u001b[38;2;0;128;0;48;2;248;248;248mrequired_providers\u001b[0m\u001b[38;2;187;187;187;48;2;248;248;248m \u001b[0m\u001b[38;2;0;0;0;48;2;248;248;248m{\u001b[0m\u001b[48;2;248;248;248m                                                                                           \u001b[0m\u001b[48;2;248;248;248m \u001b[0m\n",
       "\u001b[48;2;248;248;248m \u001b[0m\u001b[38;2;187;187;187;48;2;248;248;248m    \u001b[0m\u001b[38;2;0;128;0;48;2;248;248;248mgoogle\u001b[0m\u001b[38;2;187;187;187;48;2;248;248;248m \u001b[0m\u001b[38;2;102;102;102;48;2;248;248;248m=\u001b[0m\u001b[38;2;187;187;187;48;2;248;248;248m \u001b[0m\u001b[38;2;0;0;0;48;2;248;248;248m{\u001b[0m\u001b[48;2;248;248;248m                                                                                                   \u001b[0m\u001b[48;2;248;248;248m \u001b[0m\n",
       "\u001b[48;2;248;248;248m \u001b[0m\u001b[38;2;187;187;187;48;2;248;248;248m      \u001b[0m\u001b[38;2;104;120;34;48;2;248;248;248msource\u001b[0m\u001b[38;2;187;187;187;48;2;248;248;248m  \u001b[0m\u001b[38;2;102;102;102;48;2;248;248;248m=\u001b[0m\u001b[38;2;187;187;187;48;2;248;248;248m \u001b[0m\u001b[38;2;186;33;33;48;2;248;248;248m\"hashicorp/google\"\u001b[0m\u001b[48;2;248;248;248m                                                                               \u001b[0m\u001b[48;2;248;248;248m \u001b[0m\n",
       "\u001b[48;2;248;248;248m \u001b[0m\u001b[38;2;187;187;187;48;2;248;248;248m      \u001b[0m\u001b[38;2;104;120;34;48;2;248;248;248mversion\u001b[0m\u001b[38;2;187;187;187;48;2;248;248;248m \u001b[0m\u001b[38;2;102;102;102;48;2;248;248;248m=\u001b[0m\u001b[38;2;187;187;187;48;2;248;248;248m \u001b[0m\u001b[38;2;186;33;33;48;2;248;248;248m\"~> 5.0\"\u001b[0m\u001b[48;2;248;248;248m                                                                                         \u001b[0m\u001b[48;2;248;248;248m \u001b[0m\n",
       "\u001b[48;2;248;248;248m \u001b[0m\u001b[38;2;187;187;187;48;2;248;248;248m    \u001b[0m\u001b[38;2;0;0;0;48;2;248;248;248m}\u001b[0m\u001b[48;2;248;248;248m                                                                                                            \u001b[0m\u001b[48;2;248;248;248m \u001b[0m\n",
       "\u001b[48;2;248;248;248m \u001b[0m\u001b[38;2;187;187;187;48;2;248;248;248m  \u001b[0m\u001b[38;2;0;0;0;48;2;248;248;248m}\u001b[0m\u001b[48;2;248;248;248m                                                                                                              \u001b[0m\u001b[48;2;248;248;248m \u001b[0m\n",
       "\u001b[48;2;248;248;248m \u001b[0m\u001b[38;2;0;0;0;48;2;248;248;248m=\u001b[0m\u001b[38;2;0;0;0;48;2;248;248;248m=\u001b[0m\u001b[38;2;0;0;0;48;2;248;248;248m=\u001b[0m\u001b[38;2;0;0;0;48;2;248;248;248m=\u001b[0m\u001b[38;2;0;0;0;48;2;248;248;248m=\u001b[0m\u001b[38;2;0;0;0;48;2;248;248;248m=\u001b[0m\u001b[38;2;0;0;0;48;2;248;248;248m=\u001b[0m\u001b[48;2;248;248;248m                                                                                                          \u001b[0m\u001b[48;2;248;248;248m \u001b[0m\n",
       "\u001b[48;2;248;248;248m \u001b[0m\u001b[38;2;187;187;187;48;2;248;248;248m  \u001b[0m\u001b[38;2;0;128;0;48;2;248;248;248mrequired_providers\u001b[0m\u001b[38;2;187;187;187;48;2;248;248;248m \u001b[0m\u001b[38;2;0;0;0;48;2;248;248;248m{\u001b[0m\u001b[48;2;248;248;248m                                                                                           \u001b[0m\u001b[48;2;248;248;248m \u001b[0m\n",
       "\u001b[48;2;248;248;248m \u001b[0m\u001b[38;2;187;187;187;48;2;248;248;248m    \u001b[0m\u001b[38;2;0;128;0;48;2;248;248;248mgoogle\u001b[0m\u001b[38;2;187;187;187;48;2;248;248;248m \u001b[0m\u001b[38;2;102;102;102;48;2;248;248;248m=\u001b[0m\u001b[38;2;187;187;187;48;2;248;248;248m \u001b[0m\u001b[38;2;0;0;0;48;2;248;248;248m{\u001b[0m\u001b[48;2;248;248;248m                                                                                                   \u001b[0m\u001b[48;2;248;248;248m \u001b[0m\n",
       "\u001b[48;2;248;248;248m \u001b[0m\u001b[38;2;187;187;187;48;2;248;248;248m      \u001b[0m\u001b[38;2;104;120;34;48;2;248;248;248msource\u001b[0m\u001b[38;2;187;187;187;48;2;248;248;248m  \u001b[0m\u001b[38;2;102;102;102;48;2;248;248;248m=\u001b[0m\u001b[38;2;187;187;187;48;2;248;248;248m \u001b[0m\u001b[38;2;186;33;33;48;2;248;248;248m\"hashicorp/google\"\u001b[0m\u001b[48;2;248;248;248m                                                                               \u001b[0m\u001b[48;2;248;248;248m \u001b[0m\n",
       "\u001b[48;2;248;248;248m \u001b[0m\u001b[38;2;187;187;187;48;2;248;248;248m      \u001b[0m\u001b[38;2;104;120;34;48;2;248;248;248mversion\u001b[0m\u001b[38;2;187;187;187;48;2;248;248;248m \u001b[0m\u001b[38;2;102;102;102;48;2;248;248;248m=\u001b[0m\u001b[38;2;187;187;187;48;2;248;248;248m \u001b[0m\u001b[38;2;186;33;33;48;2;248;248;248m\"~> 5.0\"\u001b[0m\u001b[48;2;248;248;248m                                                                                         \u001b[0m\u001b[48;2;248;248;248m \u001b[0m\n",
       "\u001b[48;2;248;248;248m \u001b[0m\u001b[38;2;187;187;187;48;2;248;248;248m    \u001b[0m\u001b[38;2;0;0;0;48;2;248;248;248m}\u001b[0m\u001b[48;2;248;248;248m                                                                                                            \u001b[0m\u001b[48;2;248;248;248m \u001b[0m\n",
       "\u001b[48;2;248;248;248m \u001b[0m\u001b[38;2;187;187;187;48;2;248;248;248m    \u001b[0m\u001b[38;2;0;128;0;48;2;248;248;248mgoogle-beta\u001b[0m\u001b[38;2;187;187;187;48;2;248;248;248m \u001b[0m\u001b[38;2;102;102;102;48;2;248;248;248m=\u001b[0m\u001b[38;2;187;187;187;48;2;248;248;248m \u001b[0m\u001b[38;2;0;0;0;48;2;248;248;248m{\u001b[0m\u001b[48;2;248;248;248m                                                                                              \u001b[0m\u001b[48;2;248;248;248m \u001b[0m\n",
       "\u001b[48;2;248;248;248m \u001b[0m\u001b[38;2;187;187;187;48;2;248;248;248m      \u001b[0m\u001b[38;2;104;120;34;48;2;248;248;248msource\u001b[0m\u001b[38;2;187;187;187;48;2;248;248;248m  \u001b[0m\u001b[38;2;102;102;102;48;2;248;248;248m=\u001b[0m\u001b[38;2;187;187;187;48;2;248;248;248m \u001b[0m\u001b[38;2;186;33;33;48;2;248;248;248m\"hashicorp/google-beta\"\u001b[0m\u001b[48;2;248;248;248m                                                                          \u001b[0m\u001b[48;2;248;248;248m \u001b[0m\n",
       "\u001b[48;2;248;248;248m \u001b[0m\u001b[38;2;187;187;187;48;2;248;248;248m      \u001b[0m\u001b[38;2;104;120;34;48;2;248;248;248mversion\u001b[0m\u001b[38;2;187;187;187;48;2;248;248;248m \u001b[0m\u001b[38;2;102;102;102;48;2;248;248;248m=\u001b[0m\u001b[38;2;187;187;187;48;2;248;248;248m \u001b[0m\u001b[38;2;186;33;33;48;2;248;248;248m\"~> 5.0\"\u001b[0m\u001b[48;2;248;248;248m                                                                                         \u001b[0m\u001b[48;2;248;248;248m \u001b[0m\n",
       "\u001b[48;2;248;248;248m \u001b[0m\u001b[38;2;187;187;187;48;2;248;248;248m    \u001b[0m\u001b[38;2;0;0;0;48;2;248;248;248m}\u001b[0m\u001b[48;2;248;248;248m                                                                                                            \u001b[0m\u001b[48;2;248;248;248m \u001b[0m\n",
       "\u001b[48;2;248;248;248m \u001b[0m\u001b[38;2;187;187;187;48;2;248;248;248m  \u001b[0m\u001b[38;2;0;0;0;48;2;248;248;248m}\u001b[0m\u001b[48;2;248;248;248m                                                                                                              \u001b[0m\u001b[48;2;248;248;248m \u001b[0m\n",
       "\u001b[48;2;248;248;248m \u001b[0m\u001b[38;2;0;0;0;48;2;248;248;248m>\u001b[0m\u001b[38;2;0;0;0;48;2;248;248;248m>\u001b[0m\u001b[38;2;0;0;0;48;2;248;248;248m>\u001b[0m\u001b[38;2;0;0;0;48;2;248;248;248m>\u001b[0m\u001b[38;2;0;0;0;48;2;248;248;248m>\u001b[0m\u001b[38;2;0;0;0;48;2;248;248;248m>\u001b[0m\u001b[38;2;0;0;0;48;2;248;248;248m>\u001b[0m\u001b[38;2;187;187;187;48;2;248;248;248m \u001b[0m\u001b[38;2;0;0;0;48;2;248;248;248mR\u001b[0m\u001b[38;2;0;0;0;48;2;248;248;248mE\u001b[0m\u001b[38;2;0;0;0;48;2;248;248;248mP\u001b[0m\u001b[38;2;0;0;0;48;2;248;248;248mL\u001b[0m\u001b[38;2;0;0;0;48;2;248;248;248mA\u001b[0m\u001b[38;2;0;0;0;48;2;248;248;248mC\u001b[0m\u001b[38;2;0;0;0;48;2;248;248;248mE\u001b[0m\u001b[48;2;248;248;248m                                                                                                  \u001b[0m\u001b[48;2;248;248;248m \u001b[0m\n",
       "\u001b[48;2;248;248;248m                                                                                                                   \u001b[0m\n",
       "\n",
       "\u001b[34mspring/kitchensink/terraform/main.tf\u001b[0m                                                                               \n",
       "\n",
       "\u001b[48;2;248;248;248m                                                                                                                   \u001b[0m\n",
       "\u001b[48;2;248;248;248m \u001b[0m\u001b[38;2;0;0;0;48;2;248;248;248m<\u001b[0m\u001b[38;2;0;0;0;48;2;248;248;248m<\u001b[0m\u001b[38;2;0;0;0;48;2;248;248;248m<\u001b[0m\u001b[38;2;0;0;0;48;2;248;248;248m<\u001b[0m\u001b[38;2;0;0;0;48;2;248;248;248m<\u001b[0m\u001b[38;2;102;102;102;48;2;248;248;248m<<\u001b[0m\u001b[38;2;186;33;33;48;2;248;248;248mSEARCH\u001b[0m\u001b[48;2;248;248;248m                                                                                                    \u001b[0m\u001b[48;2;248;248;248m \u001b[0m\n",
       "\u001b[48;2;248;248;248m \u001b[0m\u001b[38;2;0;0;0;48;2;248;248;248mresource \"google_cloudbuild_trigger\" \"docker_build\" {\u001b[0m\u001b[48;2;248;248;248m                                                            \u001b[0m\u001b[48;2;248;248;248m \u001b[0m\n",
       "\u001b[48;2;248;248;248m \u001b[0m\u001b[38;2;0;0;0;48;2;248;248;248m  name     = \"kitchensink-build\"\u001b[0m\u001b[48;2;248;248;248m                                                                                 \u001b[0m\u001b[48;2;248;248;248m \u001b[0m\n",
       "\u001b[48;2;248;248;248m \u001b[0m\u001b[38;2;0;0;0;48;2;248;248;248m  location = var.gcp_region\u001b[0m\u001b[48;2;248;248;248m                                                                                      \u001b[0m\u001b[48;2;248;248;248m \u001b[0m\n",
       "\u001b[48;2;248;248;248m \u001b[0m\u001b[48;2;248;248;248m                                                                                                                 \u001b[0m\u001b[48;2;248;248;248m \u001b[0m\n",
       "\u001b[48;2;248;248;248m \u001b[0m\u001b[38;2;0;0;0;48;2;248;248;248m  github {\u001b[0m\u001b[48;2;248;248;248m                                                                                                       \u001b[0m\u001b[48;2;248;248;248m \u001b[0m\n",
       "\u001b[48;2;248;248;248m \u001b[0m\u001b[38;2;0;0;0;48;2;248;248;248m    owner = \"YOUR_GITHUB_USERNAME\"\u001b[0m\u001b[48;2;248;248;248m                                                                               \u001b[0m\u001b[48;2;248;248;248m \u001b[0m\n",
       "\u001b[48;2;248;248;248m \u001b[0m\u001b[38;2;0;0;0;48;2;248;248;248m    name  = \"YOUR_REPOSITORY_NAME\"\u001b[0m\u001b[48;2;248;248;248m                                                                               \u001b[0m\u001b[48;2;248;248;248m \u001b[0m\n",
       "\u001b[48;2;248;248;248m \u001b[0m\u001b[38;2;0;0;0;48;2;248;248;248m    push {\u001b[0m\u001b[48;2;248;248;248m                                                                                                       \u001b[0m\u001b[48;2;248;248;248m \u001b[0m\n",
       "\u001b[48;2;248;248;248m \u001b[0m\u001b[38;2;0;0;0;48;2;248;248;248m      branch = \"main\"\u001b[0m\u001b[48;2;248;248;248m                                                                                            \u001b[0m\u001b[48;2;248;248;248m \u001b[0m\n",
       "\u001b[48;2;248;248;248m \u001b[0m\u001b[38;2;0;0;0;48;2;248;248;248m    }\u001b[0m\u001b[48;2;248;248;248m                                                                                                            \u001b[0m\u001b[48;2;248;248;248m \u001b[0m\n",
       "\u001b[48;2;248;248;248m \u001b[0m\u001b[38;2;0;0;0;48;2;248;248;248m  }\u001b[0m\u001b[48;2;248;248;248m                                                                                                              \u001b[0m\u001b[48;2;248;248;248m \u001b[0m\n",
       "\u001b[48;2;248;248;248m \u001b[0m\u001b[48;2;248;248;248m                                                                                                                 \u001b[0m\u001b[48;2;248;248;248m \u001b[0m\n",
       "\u001b[48;2;248;248;248m \u001b[0m\u001b[38;2;0;0;0;48;2;248;248;248m  filename = \"cloudbuild.yaml\"\u001b[0m\u001b[48;2;248;248;248m                                                                                   \u001b[0m\u001b[48;2;248;248;248m \u001b[0m\n",
       "\u001b[48;2;248;248;248m \u001b[0m\u001b[38;2;0;0;0;48;2;248;248;248m=======\u001b[0m\u001b[48;2;248;248;248m                                                                                                          \u001b[0m\u001b[48;2;248;248;248m \u001b[0m\n",
       "\u001b[48;2;248;248;248m \u001b[0m\u001b[38;2;0;0;0;48;2;248;248;248mresource \"google_cloudbuild_trigger\" \"docker_build\" {\u001b[0m\u001b[48;2;248;248;248m                                                            \u001b[0m\u001b[48;2;248;248;248m \u001b[0m\n",
       "\u001b[48;2;248;248;248m \u001b[0m\u001b[38;2;0;0;0;48;2;248;248;248m  provider = google-beta\u001b[0m\u001b[48;2;248;248;248m                                                                                         \u001b[0m\u001b[48;2;248;248;248m \u001b[0m\n",
       "\u001b[48;2;248;248;248m \u001b[0m\u001b[38;2;0;0;0;48;2;248;248;248m  name     = \"kitchensink-build\"\u001b[0m\u001b[48;2;248;248;248m                                                                                 \u001b[0m\u001b[48;2;248;248;248m \u001b[0m\n",
       "\u001b[48;2;248;248;248m \u001b[0m\u001b[38;2;0;0;0;48;2;248;248;248m  location = var.gcp_region\u001b[0m\u001b[48;2;248;248;248m                                                                                      \u001b[0m\u001b[48;2;248;248;248m \u001b[0m\n",
       "\u001b[48;2;248;248;248m \u001b[0m\u001b[48;2;248;248;248m                                                                                                                 \u001b[0m\u001b[48;2;248;248;248m \u001b[0m\n",
       "\u001b[48;2;248;248;248m \u001b[0m\u001b[38;2;0;0;0;48;2;248;248;248m  github {\u001b[0m\u001b[48;2;248;248;248m                                                                                                       \u001b[0m\u001b[48;2;248;248;248m \u001b[0m\n",
       "\u001b[48;2;248;248;248m \u001b[0m\u001b[38;2;0;0;0;48;2;248;248;248m    owner = \"YOUR_GITHUB_USERNAME\"\u001b[0m\u001b[48;2;248;248;248m                                                                               \u001b[0m\u001b[48;2;248;248;248m \u001b[0m\n",
       "\u001b[48;2;248;248;248m \u001b[0m\u001b[38;2;0;0;0;48;2;248;248;248m    name  = \"YOUR_REPOSITORY_NAME\"\u001b[0m\u001b[48;2;248;248;248m                                                                               \u001b[0m\u001b[48;2;248;248;248m \u001b[0m\n",
       "\u001b[48;2;248;248;248m \u001b[0m\u001b[38;2;0;0;0;48;2;248;248;248m    push {\u001b[0m\u001b[48;2;248;248;248m                                                                                                       \u001b[0m\u001b[48;2;248;248;248m \u001b[0m\n",
       "\u001b[48;2;248;248;248m \u001b[0m\u001b[38;2;0;0;0;48;2;248;248;248m      branch = \"main\"\u001b[0m\u001b[48;2;248;248;248m                                                                                            \u001b[0m\u001b[48;2;248;248;248m \u001b[0m\n",
       "\u001b[48;2;248;248;248m \u001b[0m\u001b[38;2;0;0;0;48;2;248;248;248m    }\u001b[0m\u001b[48;2;248;248;248m                                                                                                            \u001b[0m\u001b[48;2;248;248;248m \u001b[0m\n",
       "\u001b[48;2;248;248;248m \u001b[0m\u001b[38;2;0;0;0;48;2;248;248;248m  }\u001b[0m\u001b[48;2;248;248;248m                                                                                                              \u001b[0m\u001b[48;2;248;248;248m \u001b[0m\n",
       "\u001b[48;2;248;248;248m \u001b[0m\u001b[48;2;248;248;248m                                                                                                                 \u001b[0m\u001b[48;2;248;248;248m \u001b[0m\n",
       "\u001b[48;2;248;248;248m \u001b[0m\u001b[38;2;0;0;0;48;2;248;248;248m  build {\u001b[0m\u001b[48;2;248;248;248m                                                                                                        \u001b[0m\u001b[48;2;248;248;248m \u001b[0m\n",
       "\u001b[48;2;248;248;248m \u001b[0m\u001b[38;2;0;0;0;48;2;248;248;248m    steps {\u001b[0m\u001b[48;2;248;248;248m                                                                                                      \u001b[0m\u001b[48;2;248;248;248m \u001b[0m\n",
       "\u001b[48;2;248;248;248m \u001b[0m\u001b[38;2;0;0;0;48;2;248;248;248m      name = \"gcr.io/cloud-builders/docker\"\u001b[0m\u001b[48;2;248;248;248m                                                                      \u001b[0m\u001b[48;2;248;248;248m \u001b[0m\n",
       "\u001b[48;2;248;248;248m \u001b[0m\u001b[38;2;0;0;0;48;2;248;248;248m      args = [\"build\", \"-t\", \u001b[0m\u001b[48;2;248;248;248m                                                                                    \u001b[0m\u001b[48;2;248;248;248m \u001b[0m\n",
       "\u001b[48;2;248;248;248m \u001b[0m\u001b[38;2;0;0;0;48;2;248;248;248m\"${google_artifact_registry_repository.docker_repo.repository_url}/kitchensink:latest\", \".\"]\u001b[0m\u001b[48;2;248;248;248m                     \u001b[0m\u001b[48;2;248;248;248m \u001b[0m\n",
       "\u001b[48;2;248;248;248m \u001b[0m\u001b[38;2;0;0;0;48;2;248;248;248m    }\u001b[0m\u001b[48;2;248;248;248m                                                                                                            \u001b[0m\u001b[48;2;248;248;248m \u001b[0m\n",
       "\u001b[48;2;248;248;248m \u001b[0m\u001b[48;2;248;248;248m                                                                                                                 \u001b[0m\u001b[48;2;248;248;248m \u001b[0m\n",
       "\u001b[48;2;248;248;248m \u001b[0m\u001b[38;2;0;0;0;48;2;248;248;248m    images = [\"${google_artifact_registry_repository.docker_repo.repository_url}/kitchensink:latest\"]\u001b[0m\u001b[48;2;248;248;248m            \u001b[0m\u001b[48;2;248;248;248m \u001b[0m\n",
       "\u001b[48;2;248;248;248m \u001b[0m\u001b[38;2;0;0;0;48;2;248;248;248m  }\u001b[0m\u001b[48;2;248;248;248m                                                                                                              \u001b[0m\u001b[48;2;248;248;248m \u001b[0m\n",
       "\u001b[48;2;248;248;248m \u001b[0m\u001b[38;2;0;0;0;48;2;248;248;248m>>>>>>> REPLACE\u001b[0m\u001b[48;2;248;248;248m                                                                                                  \u001b[0m\u001b[48;2;248;248;248m \u001b[0m\n",
       "\u001b[48;2;248;248;248m \u001b[0m\u001b[1;38;2;0;128;0;48;2;248;248;248mresource\u001b[0m\u001b[38;2;187;187;187;48;2;248;248;248m \u001b[0m\u001b[1;38;2;0;0;255;48;2;248;248;248m\"google_cloudbuild_trigger\"\u001b[0m\u001b[38;2;187;187;187;48;2;248;248;248m \u001b[0m\u001b[38;2;25;23;124;48;2;248;248;248m\"docker_build\"\u001b[0m\u001b[38;2;187;187;187;48;2;248;248;248m \u001b[0m\u001b[38;2;0;0;0;48;2;248;248;248m{\u001b[0m\u001b[48;2;248;248;248m                                                            \u001b[0m\u001b[48;2;248;248;248m \u001b[0m\n",
       "\u001b[48;2;248;248;248m \u001b[0m\u001b[38;2;187;187;187;48;2;248;248;248m  \u001b[0m\u001b[38;2;104;120;34;48;2;248;248;248mname\u001b[0m\u001b[38;2;187;187;187;48;2;248;248;248m     \u001b[0m\u001b[38;2;102;102;102;48;2;248;248;248m=\u001b[0m\u001b[38;2;187;187;187;48;2;248;248;248m \u001b[0m\u001b[38;2;186;33;33;48;2;248;248;248m\"kitchensink-build\"\u001b[0m\u001b[48;2;248;248;248m                                                                                 \u001b[0m\u001b[48;2;248;248;248m \u001b[0m\n",
       "\u001b[48;2;248;248;248m \u001b[0m\u001b[38;2;187;187;187;48;2;248;248;248m  \u001b[0m\u001b[38;2;104;120;34;48;2;248;248;248mlocation\u001b[0m\u001b[38;2;187;187;187;48;2;248;248;248m \u001b[0m\u001b[38;2;102;102;102;48;2;248;248;248m=\u001b[0m\u001b[38;2;187;187;187;48;2;248;248;248m \u001b[0m\u001b[38;2;25;23;124;48;2;248;248;248mvar.gcp_region\u001b[0m\u001b[48;2;248;248;248m                                                                                      \u001b[0m\u001b[48;2;248;248;248m \u001b[0m\n",
       "\u001b[48;2;248;248;248m \u001b[0m\u001b[48;2;248;248;248m                                                                                                                 \u001b[0m\u001b[48;2;248;248;248m \u001b[0m\n",
       "\u001b[48;2;248;248;248m \u001b[0m\u001b[38;2;187;187;187;48;2;248;248;248m  \u001b[0m\u001b[38;2;0;128;0;48;2;248;248;248mgithub\u001b[0m\u001b[38;2;187;187;187;48;2;248;248;248m \u001b[0m\u001b[38;2;0;0;0;48;2;248;248;248m{\u001b[0m\u001b[48;2;248;248;248m                                                                                                       \u001b[0m\u001b[48;2;248;248;248m \u001b[0m\n",
       "\u001b[48;2;248;248;248m \u001b[0m\u001b[38;2;187;187;187;48;2;248;248;248m    \u001b[0m\u001b[38;2;104;120;34;48;2;248;248;248mowner\u001b[0m\u001b[38;2;187;187;187;48;2;248;248;248m \u001b[0m\u001b[38;2;102;102;102;48;2;248;248;248m=\u001b[0m\u001b[38;2;187;187;187;48;2;248;248;248m \u001b[0m\u001b[38;2;186;33;33;48;2;248;248;248m\"YOUR_GITHUB_USERNAME\"\u001b[0m\u001b[48;2;248;248;248m                                                                               \u001b[0m\u001b[48;2;248;248;248m \u001b[0m\n",
       "\u001b[48;2;248;248;248m \u001b[0m\u001b[38;2;187;187;187;48;2;248;248;248m    \u001b[0m\u001b[38;2;104;120;34;48;2;248;248;248mname\u001b[0m\u001b[38;2;187;187;187;48;2;248;248;248m  \u001b[0m\u001b[38;2;102;102;102;48;2;248;248;248m=\u001b[0m\u001b[38;2;187;187;187;48;2;248;248;248m \u001b[0m\u001b[38;2;186;33;33;48;2;248;248;248m\"YOUR_REPOSITORY_NAME\"\u001b[0m\u001b[48;2;248;248;248m                                                                               \u001b[0m\u001b[48;2;248;248;248m \u001b[0m\n",
       "\u001b[48;2;248;248;248m \u001b[0m\u001b[38;2;187;187;187;48;2;248;248;248m    \u001b[0m\u001b[38;2;0;128;0;48;2;248;248;248mpush\u001b[0m\u001b[38;2;187;187;187;48;2;248;248;248m \u001b[0m\u001b[38;2;0;0;0;48;2;248;248;248m{\u001b[0m\u001b[48;2;248;248;248m                                                                                                       \u001b[0m\u001b[48;2;248;248;248m \u001b[0m\n",
       "\u001b[48;2;248;248;248m \u001b[0m\u001b[38;2;187;187;187;48;2;248;248;248m      \u001b[0m\u001b[38;2;104;120;34;48;2;248;248;248mbranch\u001b[0m\u001b[38;2;187;187;187;48;2;248;248;248m \u001b[0m\u001b[38;2;102;102;102;48;2;248;248;248m=\u001b[0m\u001b[38;2;187;187;187;48;2;248;248;248m \u001b[0m\u001b[38;2;186;33;33;48;2;248;248;248m\"main\"\u001b[0m\u001b[48;2;248;248;248m                                                                                            \u001b[0m\u001b[48;2;248;248;248m \u001b[0m\n",
       "\u001b[48;2;248;248;248m \u001b[0m\u001b[38;2;187;187;187;48;2;248;248;248m    \u001b[0m\u001b[38;2;0;0;0;48;2;248;248;248m}\u001b[0m\u001b[48;2;248;248;248m                                                                                                            \u001b[0m\u001b[48;2;248;248;248m \u001b[0m\n",
       "\u001b[48;2;248;248;248m \u001b[0m\u001b[38;2;187;187;187;48;2;248;248;248m  \u001b[0m\u001b[38;2;0;0;0;48;2;248;248;248m}\u001b[0m\u001b[48;2;248;248;248m                                                                                                              \u001b[0m\u001b[48;2;248;248;248m \u001b[0m\n",
       "\u001b[48;2;248;248;248m \u001b[0m\u001b[48;2;248;248;248m                                                                                                                 \u001b[0m\u001b[48;2;248;248;248m \u001b[0m\n",
       "\u001b[48;2;248;248;248m \u001b[0m\u001b[38;2;187;187;187;48;2;248;248;248m  \u001b[0m\u001b[38;2;104;120;34;48;2;248;248;248mfilename\u001b[0m\u001b[38;2;187;187;187;48;2;248;248;248m \u001b[0m\u001b[38;2;102;102;102;48;2;248;248;248m=\u001b[0m\u001b[38;2;187;187;187;48;2;248;248;248m \u001b[0m\u001b[38;2;186;33;33;48;2;248;248;248m\"cloudbuild.yaml\"\u001b[0m\u001b[48;2;248;248;248m                                                                                   \u001b[0m\u001b[48;2;248;248;248m \u001b[0m\n",
       "\u001b[48;2;248;248;248m \u001b[0m\u001b[38;2;102;102;102;48;2;248;248;248m=\u001b[0m\u001b[38;2;0;0;0;48;2;248;248;248m=\u001b[0m\u001b[38;2;0;0;0;48;2;248;248;248m=\u001b[0m\u001b[38;2;0;0;0;48;2;248;248;248m=\u001b[0m\u001b[38;2;0;0;0;48;2;248;248;248m=\u001b[0m\u001b[38;2;0;0;0;48;2;248;248;248m=\u001b[0m\u001b[38;2;0;0;0;48;2;248;248;248m=\u001b[0m\u001b[48;2;248;248;248m                                                                                                          \u001b[0m\u001b[48;2;248;248;248m \u001b[0m\n",
       "\u001b[48;2;248;248;248m \u001b[0m\u001b[1;38;2;0;128;0;48;2;248;248;248mresource\u001b[0m\u001b[38;2;187;187;187;48;2;248;248;248m \u001b[0m\u001b[1;38;2;0;0;255;48;2;248;248;248m\"google_cloudbuild_trigger\"\u001b[0m\u001b[38;2;187;187;187;48;2;248;248;248m \u001b[0m\u001b[38;2;25;23;124;48;2;248;248;248m\"docker_build\"\u001b[0m\u001b[38;2;187;187;187;48;2;248;248;248m \u001b[0m\u001b[38;2;0;0;0;48;2;248;248;248m{\u001b[0m\u001b[48;2;248;248;248m                                                            \u001b[0m\u001b[48;2;248;248;248m \u001b[0m\n",
       "\u001b[48;2;248;248;248m \u001b[0m\u001b[38;2;187;187;187;48;2;248;248;248m  \u001b[0m\u001b[38;2;104;120;34;48;2;248;248;248mprovider\u001b[0m\u001b[38;2;187;187;187;48;2;248;248;248m \u001b[0m\u001b[38;2;102;102;102;48;2;248;248;248m=\u001b[0m\u001b[38;2;187;187;187;48;2;248;248;248m \u001b[0m\u001b[38;2;0;0;0;48;2;248;248;248mg\u001b[0m\u001b[38;2;0;0;0;48;2;248;248;248mo\u001b[0m\u001b[38;2;0;0;0;48;2;248;248;248mo\u001b[0m\u001b[38;2;0;0;0;48;2;248;248;248mg\u001b[0m\u001b[38;2;0;0;0;48;2;248;248;248ml\u001b[0m\u001b[38;2;0;0;0;48;2;248;248;248me\u001b[0m\u001b[38;2;0;0;0;48;2;248;248;248m-\u001b[0m\u001b[38;2;0;0;0;48;2;248;248;248mb\u001b[0m\u001b[38;2;0;0;0;48;2;248;248;248me\u001b[0m\u001b[38;2;0;0;0;48;2;248;248;248mt\u001b[0m\u001b[38;2;0;0;0;48;2;248;248;248ma\u001b[0m\u001b[48;2;248;248;248m                                                                                         \u001b[0m\u001b[48;2;248;248;248m \u001b[0m\n",
       "\u001b[48;2;248;248;248m \u001b[0m\u001b[38;2;187;187;187;48;2;248;248;248m  \u001b[0m\u001b[38;2;104;120;34;48;2;248;248;248mname\u001b[0m\u001b[38;2;187;187;187;48;2;248;248;248m     \u001b[0m\u001b[38;2;102;102;102;48;2;248;248;248m=\u001b[0m\u001b[38;2;187;187;187;48;2;248;248;248m \u001b[0m\u001b[38;2;186;33;33;48;2;248;248;248m\"kitchensink-build\"\u001b[0m\u001b[48;2;248;248;248m                                                                                 \u001b[0m\u001b[48;2;248;248;248m \u001b[0m\n",
       "\u001b[48;2;248;248;248m \u001b[0m\u001b[38;2;187;187;187;48;2;248;248;248m  \u001b[0m\u001b[38;2;104;120;34;48;2;248;248;248mlocation\u001b[0m\u001b[38;2;187;187;187;48;2;248;248;248m \u001b[0m\u001b[38;2;102;102;102;48;2;248;248;248m=\u001b[0m\u001b[38;2;187;187;187;48;2;248;248;248m \u001b[0m\u001b[38;2;25;23;124;48;2;248;248;248mvar.gcp_region\u001b[0m\u001b[48;2;248;248;248m                                                                                      \u001b[0m\u001b[48;2;248;248;248m \u001b[0m\n",
       "\u001b[48;2;248;248;248m \u001b[0m\u001b[48;2;248;248;248m                                                                                                                 \u001b[0m\u001b[48;2;248;248;248m \u001b[0m\n",
       "\u001b[48;2;248;248;248m \u001b[0m\u001b[38;2;187;187;187;48;2;248;248;248m  \u001b[0m\u001b[38;2;0;128;0;48;2;248;248;248mgithub\u001b[0m\u001b[38;2;187;187;187;48;2;248;248;248m \u001b[0m\u001b[38;2;0;0;0;48;2;248;248;248m{\u001b[0m\u001b[48;2;248;248;248m                                                                                                       \u001b[0m\u001b[48;2;248;248;248m \u001b[0m\n",
       "\u001b[48;2;248;248;248m \u001b[0m\u001b[38;2;187;187;187;48;2;248;248;248m    \u001b[0m\u001b[38;2;104;120;34;48;2;248;248;248mowner\u001b[0m\u001b[38;2;187;187;187;48;2;248;248;248m \u001b[0m\u001b[38;2;102;102;102;48;2;248;248;248m=\u001b[0m\u001b[38;2;187;187;187;48;2;248;248;248m \u001b[0m\u001b[38;2;186;33;33;48;2;248;248;248m\"YOUR_GITHUB_USERNAME\"\u001b[0m\u001b[48;2;248;248;248m                                                                               \u001b[0m\u001b[48;2;248;248;248m \u001b[0m\n",
       "\u001b[48;2;248;248;248m \u001b[0m\u001b[38;2;187;187;187;48;2;248;248;248m    \u001b[0m\u001b[38;2;104;120;34;48;2;248;248;248mname\u001b[0m\u001b[38;2;187;187;187;48;2;248;248;248m  \u001b[0m\u001b[38;2;102;102;102;48;2;248;248;248m=\u001b[0m\u001b[38;2;187;187;187;48;2;248;248;248m \u001b[0m\u001b[38;2;186;33;33;48;2;248;248;248m\"YOUR_REPOSITORY_NAME\"\u001b[0m\u001b[48;2;248;248;248m                                                                               \u001b[0m\u001b[48;2;248;248;248m \u001b[0m\n",
       "\u001b[48;2;248;248;248m \u001b[0m\u001b[38;2;187;187;187;48;2;248;248;248m    \u001b[0m\u001b[38;2;0;128;0;48;2;248;248;248mpush\u001b[0m\u001b[38;2;187;187;187;48;2;248;248;248m \u001b[0m\u001b[38;2;0;0;0;48;2;248;248;248m{\u001b[0m\u001b[48;2;248;248;248m                                                                                                       \u001b[0m\u001b[48;2;248;248;248m \u001b[0m\n",
       "\u001b[48;2;248;248;248m \u001b[0m\u001b[38;2;187;187;187;48;2;248;248;248m      \u001b[0m\u001b[38;2;104;120;34;48;2;248;248;248mbranch\u001b[0m\u001b[38;2;187;187;187;48;2;248;248;248m \u001b[0m\u001b[38;2;102;102;102;48;2;248;248;248m=\u001b[0m\u001b[38;2;187;187;187;48;2;248;248;248m \u001b[0m\u001b[38;2;186;33;33;48;2;248;248;248m\"main\"\u001b[0m\u001b[48;2;248;248;248m                                                                                            \u001b[0m\u001b[48;2;248;248;248m \u001b[0m\n",
       "\u001b[48;2;248;248;248m \u001b[0m\u001b[38;2;187;187;187;48;2;248;248;248m    \u001b[0m\u001b[38;2;0;0;0;48;2;248;248;248m}\u001b[0m\u001b[48;2;248;248;248m                                                                                                            \u001b[0m\u001b[48;2;248;248;248m \u001b[0m\n",
       "\u001b[48;2;248;248;248m \u001b[0m\u001b[38;2;187;187;187;48;2;248;248;248m  \u001b[0m\u001b[38;2;0;0;0;48;2;248;248;248m}\u001b[0m\u001b[48;2;248;248;248m                                                                                                              \u001b[0m\u001b[48;2;248;248;248m \u001b[0m\n",
       "\u001b[48;2;248;248;248m \u001b[0m\u001b[48;2;248;248;248m                                                                                                                 \u001b[0m\u001b[48;2;248;248;248m \u001b[0m\n",
       "\u001b[48;2;248;248;248m \u001b[0m\u001b[38;2;187;187;187;48;2;248;248;248m  \u001b[0m\u001b[38;2;0;128;0;48;2;248;248;248mbuild\u001b[0m\u001b[38;2;187;187;187;48;2;248;248;248m \u001b[0m\u001b[38;2;0;0;0;48;2;248;248;248m{\u001b[0m\u001b[48;2;248;248;248m                                                                                                        \u001b[0m\u001b[48;2;248;248;248m \u001b[0m\n",
       "\u001b[48;2;248;248;248m \u001b[0m\u001b[38;2;187;187;187;48;2;248;248;248m    \u001b[0m\u001b[38;2;0;128;0;48;2;248;248;248msteps\u001b[0m\u001b[38;2;187;187;187;48;2;248;248;248m \u001b[0m\u001b[38;2;0;0;0;48;2;248;248;248m{\u001b[0m\u001b[48;2;248;248;248m                                                                                                      \u001b[0m\u001b[48;2;248;248;248m \u001b[0m\n",
       "\u001b[48;2;248;248;248m \u001b[0m\u001b[38;2;187;187;187;48;2;248;248;248m      \u001b[0m\u001b[38;2;104;120;34;48;2;248;248;248mname\u001b[0m\u001b[38;2;187;187;187;48;2;248;248;248m \u001b[0m\u001b[38;2;102;102;102;48;2;248;248;248m=\u001b[0m\u001b[38;2;187;187;187;48;2;248;248;248m \u001b[0m\u001b[38;2;186;33;33;48;2;248;248;248m\"gcr.io/cloud-builders/docker\"\u001b[0m\u001b[48;2;248;248;248m                                                                      \u001b[0m\u001b[48;2;248;248;248m \u001b[0m\n",
       "\u001b[48;2;248;248;248m \u001b[0m\u001b[38;2;187;187;187;48;2;248;248;248m      \u001b[0m\u001b[38;2;104;120;34;48;2;248;248;248margs\u001b[0m\u001b[38;2;187;187;187;48;2;248;248;248m \u001b[0m\u001b[38;2;102;102;102;48;2;248;248;248m=\u001b[0m\u001b[38;2;187;187;187;48;2;248;248;248m \u001b[0m\u001b[38;2;0;0;0;48;2;248;248;248m[\u001b[0m\u001b[38;2;186;33;33;48;2;248;248;248m\"build\", \"-t\", \u001b[0m\u001b[48;2;248;248;248m                                                                                    \u001b[0m\u001b[48;2;248;248;248m \u001b[0m\n",
       "\u001b[48;2;248;248;248m \u001b[0m\u001b[38;2;186;33;33;48;2;248;248;248m\"${google_artifact_registry_repository.docker_repo.repository_url}/kitchensink:latest\", \".\"\u001b[0m\u001b[38;2;0;0;0;48;2;248;248;248m]\u001b[0m\u001b[48;2;248;248;248m                     \u001b[0m\u001b[48;2;248;248;248m \u001b[0m\n",
       "\u001b[48;2;248;248;248m \u001b[0m\u001b[38;2;187;187;187;48;2;248;248;248m    \u001b[0m\u001b[38;2;0;0;0;48;2;248;248;248m}\u001b[0m\u001b[48;2;248;248;248m                                                                                                            \u001b[0m\u001b[48;2;248;248;248m \u001b[0m\n",
       "\u001b[48;2;248;248;248m \u001b[0m\u001b[48;2;248;248;248m                                                                                                                 \u001b[0m\u001b[48;2;248;248;248m \u001b[0m\n",
       "\u001b[48;2;248;248;248m \u001b[0m\u001b[38;2;187;187;187;48;2;248;248;248m    \u001b[0m\u001b[38;2;104;120;34;48;2;248;248;248mimages\u001b[0m\u001b[38;2;187;187;187;48;2;248;248;248m \u001b[0m\u001b[38;2;102;102;102;48;2;248;248;248m=\u001b[0m\u001b[38;2;187;187;187;48;2;248;248;248m \u001b[0m\u001b[38;2;0;0;0;48;2;248;248;248m[\u001b[0m\u001b[38;2;186;33;33;48;2;248;248;248m\"${google_artifact_registry_repository.docker_repo.repository_url}/kitchensink:latest\"\u001b[0m\u001b[38;2;0;0;0;48;2;248;248;248m]\u001b[0m\u001b[48;2;248;248;248m            \u001b[0m\u001b[48;2;248;248;248m \u001b[0m\n",
       "\u001b[48;2;248;248;248m \u001b[0m\u001b[38;2;187;187;187;48;2;248;248;248m  \u001b[0m\u001b[38;2;0;0;0;48;2;248;248;248m}\u001b[0m\u001b[48;2;248;248;248m                                                                                                              \u001b[0m\u001b[48;2;248;248;248m \u001b[0m\n",
       "\u001b[48;2;248;248;248m \u001b[0m\u001b[38;2;0;0;0;48;2;248;248;248m>\u001b[0m\u001b[38;2;0;0;0;48;2;248;248;248m>\u001b[0m\u001b[38;2;0;0;0;48;2;248;248;248m>\u001b[0m\u001b[38;2;0;0;0;48;2;248;248;248m>\u001b[0m\u001b[38;2;0;0;0;48;2;248;248;248m>\u001b[0m\u001b[38;2;0;0;0;48;2;248;248;248m>\u001b[0m\u001b[38;2;0;0;0;48;2;248;248;248m>\u001b[0m\u001b[38;2;187;187;187;48;2;248;248;248m \u001b[0m\u001b[38;2;0;0;0;48;2;248;248;248mR\u001b[0m\u001b[38;2;0;0;0;48;2;248;248;248mE\u001b[0m\u001b[38;2;0;0;0;48;2;248;248;248mP\u001b[0m\u001b[38;2;0;0;0;48;2;248;248;248mL\u001b[0m\u001b[38;2;0;0;0;48;2;248;248;248mA\u001b[0m\u001b[38;2;0;0;0;48;2;248;248;248mC\u001b[0m\u001b[38;2;0;0;0;48;2;248;248;248mE\u001b[0m\u001b[48;2;248;248;248m                                                                                                  \u001b[0m\u001b[48;2;248;248;248m \u001b[0m\n",
       "\u001b[48;2;248;248;248m                                                                                                                   \u001b[0m\n",
       "\n",
       "\u001b[34mspring/kitchensink/terraform/main.tf\u001b[0m                                                                               \n",
       "\n",
       "\u001b[48;2;248;248;248m                                                                                                                   \u001b[0m\n",
       "\u001b[48;2;248;248;248m \u001b[0m\u001b[38;2;0;0;0;48;2;248;248;248m<\u001b[0m\u001b[38;2;0;0;0;48;2;248;248;248m<\u001b[0m\u001b[38;2;0;0;0;48;2;248;248;248m<\u001b[0m\u001b[38;2;0;0;0;48;2;248;248;248m<\u001b[0m\u001b[38;2;0;0;0;48;2;248;248;248m<\u001b[0m\u001b[38;2;102;102;102;48;2;248;248;248m<<\u001b[0m\u001b[38;2;186;33;33;48;2;248;248;248mSEARCH\u001b[0m\u001b[48;2;248;248;248m                                                                                                    \u001b[0m\u001b[48;2;248;248;248m \u001b[0m\n",
       "\u001b[48;2;248;248;248m \u001b[0m\u001b[38;2;0;0;0;48;2;248;248;248mresource \"google_cloud_run_service\" \"cloud_run\" {\u001b[0m\u001b[48;2;248;248;248m                                                                \u001b[0m\u001b[48;2;248;248;248m \u001b[0m\n",
       "\u001b[48;2;248;248;248m \u001b[0m\u001b[38;2;0;0;0;48;2;248;248;248m  name     = var.service_name\u001b[0m\u001b[48;2;248;248;248m                                                                                    \u001b[0m\u001b[48;2;248;248;248m \u001b[0m\n",
       "\u001b[48;2;248;248;248m \u001b[0m\u001b[38;2;0;0;0;48;2;248;248;248m  location = var.gcp_region\u001b[0m\u001b[48;2;248;248;248m                                                                                      \u001b[0m\u001b[48;2;248;248;248m \u001b[0m\n",
       "\u001b[48;2;248;248;248m \u001b[0m\u001b[48;2;248;248;248m                                                                                                                 \u001b[0m\u001b[48;2;248;248;248m \u001b[0m\n",
       "\u001b[48;2;248;248;248m \u001b[0m\u001b[38;2;0;0;0;48;2;248;248;248m  template {\u001b[0m\u001b[48;2;248;248;248m                                                                                                     \u001b[0m\u001b[48;2;248;248;248m \u001b[0m\n",
       "\u001b[48;2;248;248;248m \u001b[0m\u001b[38;2;0;0;0;48;2;248;248;248m    spec {\u001b[0m\u001b[48;2;248;248;248m                                                                                                       \u001b[0m\u001b[48;2;248;248;248m \u001b[0m\n",
       "\u001b[48;2;248;248;248m \u001b[0m\u001b[38;2;0;0;0;48;2;248;248;248m      containers {\u001b[0m\u001b[48;2;248;248;248m                                                                                               \u001b[0m\u001b[48;2;248;248;248m \u001b[0m\n",
       "\u001b[48;2;248;248;248m \u001b[0m\u001b[38;2;0;0;0;48;2;248;248;248m        image = \"us-central1-docker.pkg.dev/${var.gcp_project_id}/${var.artifact_repo_name}/kitchensink:latest\"\u001b[0m\u001b[48;2;248;248;248m  \u001b[0m\u001b[48;2;248;248;248m \u001b[0m\n",
       "\u001b[48;2;248;248;248m \u001b[0m\u001b[38;2;0;0;0;48;2;248;248;248m        ports {\u001b[0m\u001b[48;2;248;248;248m                                                                                                  \u001b[0m\u001b[48;2;248;248;248m \u001b[0m\n",
       "\u001b[48;2;248;248;248m \u001b[0m\u001b[38;2;0;0;0;48;2;248;248;248m          container_port = 8080\u001b[0m\u001b[48;2;248;248;248m                                                                                  \u001b[0m\u001b[48;2;248;248;248m \u001b[0m\n",
       "\u001b[48;2;248;248;248m \u001b[0m\u001b[38;2;0;0;0;48;2;248;248;248m        }\u001b[0m\u001b[48;2;248;248;248m                                                                                                        \u001b[0m\u001b[48;2;248;248;248m \u001b[0m\n",
       "\u001b[48;2;248;248;248m \u001b[0m\u001b[38;2;0;0;0;48;2;248;248;248m      }\u001b[0m\u001b[48;2;248;248;248m                                                                                                          \u001b[0m\u001b[48;2;248;248;248m \u001b[0m\n",
       "\u001b[48;2;248;248;248m \u001b[0m\u001b[38;2;0;0;0;48;2;248;248;248m    }\u001b[0m\u001b[48;2;248;248;248m                                                                                                            \u001b[0m\u001b[48;2;248;248;248m \u001b[0m\n",
       "\u001b[48;2;248;248;248m \u001b[0m\u001b[38;2;0;0;0;48;2;248;248;248m  }\u001b[0m\u001b[48;2;248;248;248m                                                                                                              \u001b[0m\u001b[48;2;248;248;248m \u001b[0m\n",
       "\u001b[48;2;248;248;248m \u001b[0m\u001b[48;2;248;248;248m                                                                                                                 \u001b[0m\u001b[48;2;248;248;248m \u001b[0m\n",
       "\u001b[48;2;248;248;248m \u001b[0m\u001b[38;2;0;0;0;48;2;248;248;248m  traffic {\u001b[0m\u001b[48;2;248;248;248m                                                                                                      \u001b[0m\u001b[48;2;248;248;248m \u001b[0m\n",
       "\u001b[48;2;248;248;248m \u001b[0m\u001b[38;2;0;0;0;48;2;248;248;248m    percent = 100\u001b[0m\u001b[48;2;248;248;248m                                                                                                \u001b[0m\u001b[48;2;248;248;248m \u001b[0m\n",
       "\u001b[48;2;248;248;248m \u001b[0m\u001b[38;2;0;0;0;48;2;248;248;248m    latest_revision = true\u001b[0m\u001b[48;2;248;248;248m                                                                                       \u001b[0m\u001b[48;2;248;248;248m \u001b[0m\n",
       "\u001b[48;2;248;248;248m \u001b[0m\u001b[38;2;0;0;0;48;2;248;248;248m  }\u001b[0m\u001b[48;2;248;248;248m                                                                                                              \u001b[0m\u001b[48;2;248;248;248m \u001b[0m\n",
       "\u001b[48;2;248;248;248m \u001b[0m\u001b[38;2;0;0;0;48;2;248;248;248m=======\u001b[0m\u001b[48;2;248;248;248m                                                                                                          \u001b[0m\u001b[48;2;248;248;248m \u001b[0m\n",
       "\u001b[48;2;248;248;248m \u001b[0m\u001b[38;2;0;0;0;48;2;248;248;248mresource \"google_cloud_run_service\" \"cloud_run\" {\u001b[0m\u001b[48;2;248;248;248m                                                                \u001b[0m\u001b[48;2;248;248;248m \u001b[0m\n",
       "\u001b[48;2;248;248;248m \u001b[0m\u001b[38;2;0;0;0;48;2;248;248;248m  provider = google-beta\u001b[0m\u001b[48;2;248;248;248m                                                                                         \u001b[0m\u001b[48;2;248;248;248m \u001b[0m\n",
       "\u001b[48;2;248;248;248m \u001b[0m\u001b[38;2;0;0;0;48;2;248;248;248m  name     = var.service_name\u001b[0m\u001b[48;2;248;248;248m                                                                                    \u001b[0m\u001b[48;2;248;248;248m \u001b[0m\n",
       "\u001b[48;2;248;248;248m \u001b[0m\u001b[38;2;0;0;0;48;2;248;248;248m  location = var.gcp_region\u001b[0m\u001b[48;2;248;248;248m                                                                                      \u001b[0m\u001b[48;2;248;248;248m \u001b[0m\n",
       "\u001b[48;2;248;248;248m \u001b[0m\u001b[48;2;248;248;248m                                                                                                                 \u001b[0m\u001b[48;2;248;248;248m \u001b[0m\n",
       "\u001b[48;2;248;248;248m \u001b[0m\u001b[38;2;0;0;0;48;2;248;248;248m  template {\u001b[0m\u001b[48;2;248;248;248m                                                                                                     \u001b[0m\u001b[48;2;248;248;248m \u001b[0m\n",
       "\u001b[48;2;248;248;248m \u001b[0m\u001b[38;2;0;0;0;48;2;248;248;248m    spec {\u001b[0m\u001b[48;2;248;248;248m                                                                                                       \u001b[0m\u001b[48;2;248;248;248m \u001b[0m\n",
       "\u001b[48;2;248;248;248m \u001b[0m\u001b[38;2;0;0;0;48;2;248;248;248m      containers {\u001b[0m\u001b[48;2;248;248;248m                                                                                               \u001b[0m\u001b[48;2;248;248;248m \u001b[0m\n",
       "\u001b[48;2;248;248;248m \u001b[0m\u001b[38;2;0;0;0;48;2;248;248;248m        image = \"${google_artifact_registry_repository.docker_repo.repository_url}/kitchensink:latest\"\u001b[0m\u001b[48;2;248;248;248m           \u001b[0m\u001b[48;2;248;248;248m \u001b[0m\n",
       "\u001b[48;2;248;248;248m \u001b[0m\u001b[38;2;0;0;0;48;2;248;248;248m        ports {\u001b[0m\u001b[48;2;248;248;248m                                                                                                  \u001b[0m\u001b[48;2;248;248;248m \u001b[0m\n",
       "\u001b[48;2;248;248;248m \u001b[0m\u001b[38;2;0;0;0;48;2;248;248;248m          container_port = 8080\u001b[0m\u001b[48;2;248;248;248m                                                                                  \u001b[0m\u001b[48;2;248;248;248m \u001b[0m\n",
       "\u001b[48;2;248;248;248m \u001b[0m\u001b[38;2;0;0;0;48;2;248;248;248m        }\u001b[0m\u001b[48;2;248;248;248m                                                                                                        \u001b[0m\u001b[48;2;248;248;248m \u001b[0m\n",
       "\u001b[48;2;248;248;248m \u001b[0m\u001b[38;2;0;0;0;48;2;248;248;248m      }\u001b[0m\u001b[48;2;248;248;248m                                                                                                          \u001b[0m\u001b[48;2;248;248;248m \u001b[0m\n",
       "\u001b[48;2;248;248;248m \u001b[0m\u001b[38;2;0;0;0;48;2;248;248;248m    }\u001b[0m\u001b[48;2;248;248;248m                                                                                                            \u001b[0m\u001b[48;2;248;248;248m \u001b[0m\n",
       "\u001b[48;2;248;248;248m \u001b[0m\u001b[38;2;0;0;0;48;2;248;248;248m  }\u001b[0m\u001b[48;2;248;248;248m                                                                                                              \u001b[0m\u001b[48;2;248;248;248m \u001b[0m\n",
       "\u001b[48;2;248;248;248m \u001b[0m\u001b[48;2;248;248;248m                                                                                                                 \u001b[0m\u001b[48;2;248;248;248m \u001b[0m\n",
       "\u001b[48;2;248;248;248m \u001b[0m\u001b[38;2;0;0;0;48;2;248;248;248m  traffic {\u001b[0m\u001b[48;2;248;248;248m                                                                                                      \u001b[0m\u001b[48;2;248;248;248m \u001b[0m\n",
       "\u001b[48;2;248;248;248m \u001b[0m\u001b[38;2;0;0;0;48;2;248;248;248m    percent = 100\u001b[0m\u001b[48;2;248;248;248m                                                                                                \u001b[0m\u001b[48;2;248;248;248m \u001b[0m\n",
       "\u001b[48;2;248;248;248m \u001b[0m\u001b[38;2;0;0;0;48;2;248;248;248m    latest_revision = true\u001b[0m\u001b[48;2;248;248;248m                                                                                       \u001b[0m\u001b[48;2;248;248;248m \u001b[0m\n",
       "\u001b[48;2;248;248;248m \u001b[0m\u001b[38;2;0;0;0;48;2;248;248;248m  }\u001b[0m\u001b[48;2;248;248;248m                                                                                                              \u001b[0m\u001b[48;2;248;248;248m \u001b[0m\n",
       "\u001b[48;2;248;248;248m \u001b[0m\u001b[38;2;0;0;0;48;2;248;248;248m>>>>>>> REPLACE\u001b[0m\u001b[48;2;248;248;248m                                                                                                  \u001b[0m\u001b[48;2;248;248;248m \u001b[0m\n",
       "\u001b[48;2;248;248;248m \u001b[0m\u001b[1;38;2;0;128;0;48;2;248;248;248mresource\u001b[0m\u001b[38;2;187;187;187;48;2;248;248;248m \u001b[0m\u001b[1;38;2;0;0;255;48;2;248;248;248m\"google_cloud_run_service\"\u001b[0m\u001b[38;2;187;187;187;48;2;248;248;248m \u001b[0m\u001b[38;2;25;23;124;48;2;248;248;248m\"cloud_run\"\u001b[0m\u001b[38;2;187;187;187;48;2;248;248;248m \u001b[0m\u001b[38;2;0;0;0;48;2;248;248;248m{\u001b[0m\u001b[48;2;248;248;248m                                                                \u001b[0m\u001b[48;2;248;248;248m \u001b[0m\n",
       "\u001b[48;2;248;248;248m \u001b[0m\u001b[38;2;187;187;187;48;2;248;248;248m  \u001b[0m\u001b[38;2;104;120;34;48;2;248;248;248mname\u001b[0m\u001b[38;2;187;187;187;48;2;248;248;248m     \u001b[0m\u001b[38;2;102;102;102;48;2;248;248;248m=\u001b[0m\u001b[38;2;187;187;187;48;2;248;248;248m \u001b[0m\u001b[38;2;25;23;124;48;2;248;248;248mvar.service_name\u001b[0m\u001b[48;2;248;248;248m                                                                                    \u001b[0m\u001b[48;2;248;248;248m \u001b[0m\n",
       "\u001b[48;2;248;248;248m \u001b[0m\u001b[38;2;187;187;187;48;2;248;248;248m  \u001b[0m\u001b[38;2;104;120;34;48;2;248;248;248mlocation\u001b[0m\u001b[38;2;187;187;187;48;2;248;248;248m \u001b[0m\u001b[38;2;102;102;102;48;2;248;248;248m=\u001b[0m\u001b[38;2;187;187;187;48;2;248;248;248m \u001b[0m\u001b[38;2;25;23;124;48;2;248;248;248mvar.gcp_region\u001b[0m\u001b[48;2;248;248;248m                                                                                      \u001b[0m\u001b[48;2;248;248;248m \u001b[0m\n",
       "\u001b[48;2;248;248;248m \u001b[0m\u001b[48;2;248;248;248m                                                                                                                 \u001b[0m\u001b[48;2;248;248;248m \u001b[0m\n",
       "\u001b[48;2;248;248;248m \u001b[0m\u001b[38;2;187;187;187;48;2;248;248;248m  \u001b[0m\u001b[38;2;0;128;0;48;2;248;248;248mtemplate\u001b[0m\u001b[38;2;187;187;187;48;2;248;248;248m \u001b[0m\u001b[38;2;0;0;0;48;2;248;248;248m{\u001b[0m\u001b[48;2;248;248;248m                                                                                                     \u001b[0m\u001b[48;2;248;248;248m \u001b[0m\n",
       "\u001b[48;2;248;248;248m \u001b[0m\u001b[38;2;187;187;187;48;2;248;248;248m    \u001b[0m\u001b[38;2;0;128;0;48;2;248;248;248mspec\u001b[0m\u001b[38;2;187;187;187;48;2;248;248;248m \u001b[0m\u001b[38;2;0;0;0;48;2;248;248;248m{\u001b[0m\u001b[48;2;248;248;248m                                                                                                       \u001b[0m\u001b[48;2;248;248;248m \u001b[0m\n",
       "\u001b[48;2;248;248;248m \u001b[0m\u001b[38;2;187;187;187;48;2;248;248;248m      \u001b[0m\u001b[38;2;0;128;0;48;2;248;248;248mcontainers\u001b[0m\u001b[38;2;187;187;187;48;2;248;248;248m \u001b[0m\u001b[38;2;0;0;0;48;2;248;248;248m{\u001b[0m\u001b[48;2;248;248;248m                                                                                               \u001b[0m\u001b[48;2;248;248;248m \u001b[0m\n",
       "\u001b[48;2;248;248;248m \u001b[0m\u001b[38;2;187;187;187;48;2;248;248;248m        \u001b[0m\u001b[38;2;104;120;34;48;2;248;248;248mimage\u001b[0m\u001b[38;2;187;187;187;48;2;248;248;248m \u001b[0m\u001b[38;2;102;102;102;48;2;248;248;248m=\u001b[0m\u001b[38;2;187;187;187;48;2;248;248;248m \u001b[0m\u001b[38;2;186;33;33;48;2;248;248;248m\"us-central1-docker.pkg.dev/${var.gcp_project_id}/${var.artifact_repo_name}/kitchensink:latest\"\u001b[0m\u001b[48;2;248;248;248m  \u001b[0m\u001b[48;2;248;248;248m \u001b[0m\n",
       "\u001b[48;2;248;248;248m \u001b[0m\u001b[38;2;187;187;187;48;2;248;248;248m        \u001b[0m\u001b[38;2;0;128;0;48;2;248;248;248mports\u001b[0m\u001b[38;2;187;187;187;48;2;248;248;248m \u001b[0m\u001b[38;2;0;0;0;48;2;248;248;248m{\u001b[0m\u001b[48;2;248;248;248m                                                                                                  \u001b[0m\u001b[48;2;248;248;248m \u001b[0m\n",
       "\u001b[48;2;248;248;248m \u001b[0m\u001b[38;2;187;187;187;48;2;248;248;248m          \u001b[0m\u001b[38;2;104;120;34;48;2;248;248;248mcontainer_port\u001b[0m\u001b[38;2;187;187;187;48;2;248;248;248m \u001b[0m\u001b[38;2;102;102;102;48;2;248;248;248m=\u001b[0m\u001b[38;2;187;187;187;48;2;248;248;248m \u001b[0m\u001b[38;2;102;102;102;48;2;248;248;248m8080\u001b[0m\u001b[48;2;248;248;248m                                                                                  \u001b[0m\u001b[48;2;248;248;248m \u001b[0m\n",
       "\u001b[48;2;248;248;248m \u001b[0m\u001b[38;2;187;187;187;48;2;248;248;248m        \u001b[0m\u001b[38;2;0;0;0;48;2;248;248;248m}\u001b[0m\u001b[48;2;248;248;248m                                                                                                        \u001b[0m\u001b[48;2;248;248;248m \u001b[0m\n",
       "\u001b[48;2;248;248;248m \u001b[0m\u001b[38;2;187;187;187;48;2;248;248;248m      \u001b[0m\u001b[38;2;0;0;0;48;2;248;248;248m}\u001b[0m\u001b[48;2;248;248;248m                                                                                                          \u001b[0m\u001b[48;2;248;248;248m \u001b[0m\n",
       "\u001b[48;2;248;248;248m \u001b[0m\u001b[38;2;187;187;187;48;2;248;248;248m    \u001b[0m\u001b[38;2;0;0;0;48;2;248;248;248m}\u001b[0m\u001b[48;2;248;248;248m                                                                                                            \u001b[0m\u001b[48;2;248;248;248m \u001b[0m\n",
       "\u001b[48;2;248;248;248m \u001b[0m\u001b[38;2;187;187;187;48;2;248;248;248m  \u001b[0m\u001b[38;2;0;0;0;48;2;248;248;248m}\u001b[0m\u001b[48;2;248;248;248m                                                                                                              \u001b[0m\u001b[48;2;248;248;248m \u001b[0m\n",
       "\u001b[48;2;248;248;248m \u001b[0m\u001b[48;2;248;248;248m                                                                                                                 \u001b[0m\u001b[48;2;248;248;248m \u001b[0m\n",
       "\u001b[48;2;248;248;248m \u001b[0m\u001b[38;2;187;187;187;48;2;248;248;248m  \u001b[0m\u001b[38;2;0;128;0;48;2;248;248;248mtraffic\u001b[0m\u001b[38;2;187;187;187;48;2;248;248;248m \u001b[0m\u001b[38;2;0;0;0;48;2;248;248;248m{\u001b[0m\u001b[48;2;248;248;248m                                                                                                      \u001b[0m\u001b[48;2;248;248;248m \u001b[0m\n",
       "\u001b[48;2;248;248;248m \u001b[0m\u001b[38;2;187;187;187;48;2;248;248;248m    \u001b[0m\u001b[38;2;104;120;34;48;2;248;248;248mpercent\u001b[0m\u001b[38;2;187;187;187;48;2;248;248;248m \u001b[0m\u001b[38;2;102;102;102;48;2;248;248;248m=\u001b[0m\u001b[38;2;187;187;187;48;2;248;248;248m \u001b[0m\u001b[38;2;102;102;102;48;2;248;248;248m100\u001b[0m\u001b[48;2;248;248;248m                                                                                                \u001b[0m\u001b[48;2;248;248;248m \u001b[0m\n",
       "\u001b[48;2;248;248;248m \u001b[0m\u001b[38;2;187;187;187;48;2;248;248;248m    \u001b[0m\u001b[38;2;104;120;34;48;2;248;248;248mlatest_revision\u001b[0m\u001b[38;2;187;187;187;48;2;248;248;248m \u001b[0m\u001b[38;2;102;102;102;48;2;248;248;248m=\u001b[0m\u001b[38;2;187;187;187;48;2;248;248;248m \u001b[0m\u001b[38;2;136;0;0;48;2;248;248;248mtrue\u001b[0m\u001b[48;2;248;248;248m                                                                                       \u001b[0m\u001b[48;2;248;248;248m \u001b[0m\n",
       "\u001b[48;2;248;248;248m \u001b[0m\u001b[38;2;187;187;187;48;2;248;248;248m  \u001b[0m\u001b[38;2;0;0;0;48;2;248;248;248m}\u001b[0m\u001b[48;2;248;248;248m                                                                                                              \u001b[0m\u001b[48;2;248;248;248m \u001b[0m\n",
       "\u001b[48;2;248;248;248m \u001b[0m\u001b[38;2;0;0;0;48;2;248;248;248m=\u001b[0m\u001b[38;2;0;0;0;48;2;248;248;248m=\u001b[0m\u001b[38;2;0;0;0;48;2;248;248;248m=\u001b[0m\u001b[38;2;0;0;0;48;2;248;248;248m=\u001b[0m\u001b[38;2;0;0;0;48;2;248;248;248m=\u001b[0m\u001b[38;2;0;0;0;48;2;248;248;248m=\u001b[0m\u001b[38;2;0;0;0;48;2;248;248;248m=\u001b[0m\u001b[48;2;248;248;248m                                                                                                          \u001b[0m\u001b[48;2;248;248;248m \u001b[0m\n",
       "\u001b[48;2;248;248;248m \u001b[0m\u001b[1;38;2;0;128;0;48;2;248;248;248mresource\u001b[0m\u001b[38;2;187;187;187;48;2;248;248;248m \u001b[0m\u001b[1;38;2;0;0;255;48;2;248;248;248m\"google_cloud_run_service\"\u001b[0m\u001b[38;2;187;187;187;48;2;248;248;248m \u001b[0m\u001b[38;2;25;23;124;48;2;248;248;248m\"cloud_run\"\u001b[0m\u001b[38;2;187;187;187;48;2;248;248;248m \u001b[0m\u001b[38;2;0;0;0;48;2;248;248;248m{\u001b[0m\u001b[48;2;248;248;248m                                                                \u001b[0m\u001b[48;2;248;248;248m \u001b[0m\n",
       "\u001b[48;2;248;248;248m \u001b[0m\u001b[38;2;187;187;187;48;2;248;248;248m  \u001b[0m\u001b[38;2;104;120;34;48;2;248;248;248mprovider\u001b[0m\u001b[38;2;187;187;187;48;2;248;248;248m \u001b[0m\u001b[38;2;102;102;102;48;2;248;248;248m=\u001b[0m\u001b[38;2;187;187;187;48;2;248;248;248m \u001b[0m\u001b[38;2;0;0;0;48;2;248;248;248mg\u001b[0m\u001b[38;2;0;0;0;48;2;248;248;248mo\u001b[0m\u001b[38;2;0;0;0;48;2;248;248;248mo\u001b[0m\u001b[38;2;0;0;0;48;2;248;248;248mg\u001b[0m\u001b[38;2;0;0;0;48;2;248;248;248ml\u001b[0m\u001b[38;2;0;0;0;48;2;248;248;248me\u001b[0m\u001b[38;2;0;0;0;48;2;248;248;248m-\u001b[0m\u001b[38;2;0;0;0;48;2;248;248;248mb\u001b[0m\u001b[38;2;0;0;0;48;2;248;248;248me\u001b[0m\u001b[38;2;0;0;0;48;2;248;248;248mt\u001b[0m\u001b[38;2;0;0;0;48;2;248;248;248ma\u001b[0m\u001b[48;2;248;248;248m                                                                                         \u001b[0m\u001b[48;2;248;248;248m \u001b[0m\n",
       "\u001b[48;2;248;248;248m \u001b[0m\u001b[38;2;187;187;187;48;2;248;248;248m  \u001b[0m\u001b[38;2;104;120;34;48;2;248;248;248mname\u001b[0m\u001b[38;2;187;187;187;48;2;248;248;248m     \u001b[0m\u001b[38;2;102;102;102;48;2;248;248;248m=\u001b[0m\u001b[38;2;187;187;187;48;2;248;248;248m \u001b[0m\u001b[38;2;25;23;124;48;2;248;248;248mvar.service_name\u001b[0m\u001b[48;2;248;248;248m                                                                                    \u001b[0m\u001b[48;2;248;248;248m \u001b[0m\n",
       "\u001b[48;2;248;248;248m \u001b[0m\u001b[38;2;187;187;187;48;2;248;248;248m  \u001b[0m\u001b[38;2;104;120;34;48;2;248;248;248mlocation\u001b[0m\u001b[38;2;187;187;187;48;2;248;248;248m \u001b[0m\u001b[38;2;102;102;102;48;2;248;248;248m=\u001b[0m\u001b[38;2;187;187;187;48;2;248;248;248m \u001b[0m\u001b[38;2;25;23;124;48;2;248;248;248mvar.gcp_region\u001b[0m\u001b[48;2;248;248;248m                                                                                      \u001b[0m\u001b[48;2;248;248;248m \u001b[0m\n",
       "\u001b[48;2;248;248;248m \u001b[0m\u001b[48;2;248;248;248m                                                                                                                 \u001b[0m\u001b[48;2;248;248;248m \u001b[0m\n",
       "\u001b[48;2;248;248;248m \u001b[0m\u001b[38;2;187;187;187;48;2;248;248;248m  \u001b[0m\u001b[38;2;0;128;0;48;2;248;248;248mtemplate\u001b[0m\u001b[38;2;187;187;187;48;2;248;248;248m \u001b[0m\u001b[38;2;0;0;0;48;2;248;248;248m{\u001b[0m\u001b[48;2;248;248;248m                                                                                                     \u001b[0m\u001b[48;2;248;248;248m \u001b[0m\n",
       "\u001b[48;2;248;248;248m \u001b[0m\u001b[38;2;187;187;187;48;2;248;248;248m    \u001b[0m\u001b[38;2;0;128;0;48;2;248;248;248mspec\u001b[0m\u001b[38;2;187;187;187;48;2;248;248;248m \u001b[0m\u001b[38;2;0;0;0;48;2;248;248;248m{\u001b[0m\u001b[48;2;248;248;248m                                                                                                       \u001b[0m\u001b[48;2;248;248;248m \u001b[0m\n",
       "\u001b[48;2;248;248;248m \u001b[0m\u001b[38;2;187;187;187;48;2;248;248;248m      \u001b[0m\u001b[38;2;0;128;0;48;2;248;248;248mcontainers\u001b[0m\u001b[38;2;187;187;187;48;2;248;248;248m \u001b[0m\u001b[38;2;0;0;0;48;2;248;248;248m{\u001b[0m\u001b[48;2;248;248;248m                                                                                               \u001b[0m\u001b[48;2;248;248;248m \u001b[0m\n",
       "\u001b[48;2;248;248;248m \u001b[0m\u001b[38;2;187;187;187;48;2;248;248;248m        \u001b[0m\u001b[38;2;104;120;34;48;2;248;248;248mimage\u001b[0m\u001b[38;2;187;187;187;48;2;248;248;248m \u001b[0m\u001b[38;2;102;102;102;48;2;248;248;248m=\u001b[0m\u001b[38;2;187;187;187;48;2;248;248;248m \u001b[0m\u001b[38;2;186;33;33;48;2;248;248;248m\"${google_artifact_registry_repository.docker_repo.repository_url}/kitchensink:latest\"\u001b[0m\u001b[48;2;248;248;248m           \u001b[0m\u001b[48;2;248;248;248m \u001b[0m\n",
       "\u001b[48;2;248;248;248m \u001b[0m\u001b[38;2;187;187;187;48;2;248;248;248m        \u001b[0m\u001b[38;2;0;128;0;48;2;248;248;248mports\u001b[0m\u001b[38;2;187;187;187;48;2;248;248;248m \u001b[0m\u001b[38;2;0;0;0;48;2;248;248;248m{\u001b[0m\u001b[48;2;248;248;248m                                                                                                  \u001b[0m\u001b[48;2;248;248;248m \u001b[0m\n",
       "\u001b[48;2;248;248;248m \u001b[0m\u001b[38;2;187;187;187;48;2;248;248;248m          \u001b[0m\u001b[38;2;104;120;34;48;2;248;248;248mcontainer_port\u001b[0m\u001b[38;2;187;187;187;48;2;248;248;248m \u001b[0m\u001b[38;2;102;102;102;48;2;248;248;248m=\u001b[0m\u001b[38;2;187;187;187;48;2;248;248;248m \u001b[0m\u001b[38;2;102;102;102;48;2;248;248;248m8080\u001b[0m\u001b[48;2;248;248;248m                                                                                  \u001b[0m\u001b[48;2;248;248;248m \u001b[0m\n",
       "\u001b[48;2;248;248;248m \u001b[0m\u001b[38;2;187;187;187;48;2;248;248;248m        \u001b[0m\u001b[38;2;0;0;0;48;2;248;248;248m}\u001b[0m\u001b[48;2;248;248;248m                                                                                                        \u001b[0m\u001b[48;2;248;248;248m \u001b[0m\n",
       "\u001b[48;2;248;248;248m \u001b[0m\u001b[38;2;187;187;187;48;2;248;248;248m      \u001b[0m\u001b[38;2;0;0;0;48;2;248;248;248m}\u001b[0m\u001b[48;2;248;248;248m                                                                                                          \u001b[0m\u001b[48;2;248;248;248m \u001b[0m\n",
       "\u001b[48;2;248;248;248m \u001b[0m\u001b[38;2;187;187;187;48;2;248;248;248m    \u001b[0m\u001b[38;2;0;0;0;48;2;248;248;248m}\u001b[0m\u001b[48;2;248;248;248m                                                                                                            \u001b[0m\u001b[48;2;248;248;248m \u001b[0m\n",
       "\u001b[48;2;248;248;248m \u001b[0m\u001b[38;2;187;187;187;48;2;248;248;248m  \u001b[0m\u001b[38;2;0;0;0;48;2;248;248;248m}\u001b[0m\u001b[48;2;248;248;248m                                                                                                              \u001b[0m\u001b[48;2;248;248;248m \u001b[0m\n",
       "\u001b[48;2;248;248;248m \u001b[0m\u001b[48;2;248;248;248m                                                                                                                 \u001b[0m\u001b[48;2;248;248;248m \u001b[0m\n",
       "\u001b[48;2;248;248;248m \u001b[0m\u001b[38;2;187;187;187;48;2;248;248;248m  \u001b[0m\u001b[38;2;0;128;0;48;2;248;248;248mtraffic\u001b[0m\u001b[38;2;187;187;187;48;2;248;248;248m \u001b[0m\u001b[38;2;0;0;0;48;2;248;248;248m{\u001b[0m\u001b[48;2;248;248;248m                                                                                                      \u001b[0m\u001b[48;2;248;248;248m \u001b[0m\n",
       "\u001b[48;2;248;248;248m \u001b[0m\u001b[38;2;187;187;187;48;2;248;248;248m    \u001b[0m\u001b[38;2;104;120;34;48;2;248;248;248mpercent\u001b[0m\u001b[38;2;187;187;187;48;2;248;248;248m \u001b[0m\u001b[38;2;102;102;102;48;2;248;248;248m=\u001b[0m\u001b[38;2;187;187;187;48;2;248;248;248m \u001b[0m\u001b[38;2;102;102;102;48;2;248;248;248m100\u001b[0m\u001b[48;2;248;248;248m                                                                                                \u001b[0m\u001b[48;2;248;248;248m \u001b[0m\n",
       "\u001b[48;2;248;248;248m \u001b[0m\u001b[38;2;187;187;187;48;2;248;248;248m    \u001b[0m\u001b[38;2;104;120;34;48;2;248;248;248mlatest_revision\u001b[0m\u001b[38;2;187;187;187;48;2;248;248;248m \u001b[0m\u001b[38;2;102;102;102;48;2;248;248;248m=\u001b[0m\u001b[38;2;187;187;187;48;2;248;248;248m \u001b[0m\u001b[38;2;136;0;0;48;2;248;248;248mtrue\u001b[0m\u001b[48;2;248;248;248m                                                                                       \u001b[0m\u001b[48;2;248;248;248m \u001b[0m\n",
       "\u001b[48;2;248;248;248m \u001b[0m\u001b[38;2;187;187;187;48;2;248;248;248m  \u001b[0m\u001b[38;2;0;0;0;48;2;248;248;248m}\u001b[0m\u001b[48;2;248;248;248m                                                                                                              \u001b[0m\u001b[48;2;248;248;248m \u001b[0m\n",
       "\u001b[48;2;248;248;248m \u001b[0m\u001b[38;2;0;0;0;48;2;248;248;248m>\u001b[0m\u001b[38;2;0;0;0;48;2;248;248;248m>\u001b[0m\u001b[38;2;0;0;0;48;2;248;248;248m>\u001b[0m\u001b[38;2;0;0;0;48;2;248;248;248m>\u001b[0m\u001b[38;2;0;0;0;48;2;248;248;248m>\u001b[0m\u001b[38;2;0;0;0;48;2;248;248;248m>\u001b[0m\u001b[38;2;0;0;0;48;2;248;248;248m>\u001b[0m\u001b[38;2;187;187;187;48;2;248;248;248m \u001b[0m\u001b[38;2;0;0;0;48;2;248;248;248mR\u001b[0m\u001b[38;2;0;0;0;48;2;248;248;248mE\u001b[0m\u001b[38;2;0;0;0;48;2;248;248;248mP\u001b[0m\u001b[38;2;0;0;0;48;2;248;248;248mL\u001b[0m\u001b[38;2;0;0;0;48;2;248;248;248mA\u001b[0m\u001b[38;2;0;0;0;48;2;248;248;248mC\u001b[0m\u001b[38;2;0;0;0;48;2;248;248;248mE\u001b[0m\u001b[48;2;248;248;248m                                                                                                  \u001b[0m\u001b[48;2;248;248;248m \u001b[0m\n",
       "\u001b[48;2;248;248;248m                                                                                                                   \u001b[0m\n",
       "\n",
       "\u001b[34mAfter applying these changes, you can deploy your application using the following Terraform commands:\u001b[0m              \n",
       "\n",
       "\u001b[48;2;248;248;248m                                                                                                                   \u001b[0m\n",
       "\u001b[48;2;248;248;248m \u001b[0m\u001b[38;2;0;0;0;48;2;248;248;248mterraform\u001b[0m\u001b[38;2;187;187;187;48;2;248;248;248m \u001b[0m\u001b[38;2;0;0;0;48;2;248;248;248minit\u001b[0m\u001b[48;2;248;248;248m                                                                                                   \u001b[0m\u001b[48;2;248;248;248m \u001b[0m\n",
       "\u001b[48;2;248;248;248m \u001b[0m\u001b[38;2;0;0;0;48;2;248;248;248mterraform\u001b[0m\u001b[38;2;187;187;187;48;2;248;248;248m \u001b[0m\u001b[38;2;0;0;0;48;2;248;248;248mapply\u001b[0m\u001b[48;2;248;248;248m                                                                                                  \u001b[0m\u001b[48;2;248;248;248m \u001b[0m\n",
       "\u001b[48;2;248;248;248m                                                                                                                   \u001b[0m\n",
       "\n",
       "\u001b[34mThis will initialize your Terraform environment and apply the configuration to deploy your Spring application on \u001b[0m  \n",
       "\u001b[34mGoogle Cloud Run.\u001b[0m                                                                                                  \n"
      ]
     },
     "metadata": {},
     "output_type": "display_data"
    },
    {
     "data": {
      "text/html": [
       "<pre style=\"white-space:pre;overflow-x:auto;line-height:normal;font-family:Menlo,'DejaVu Sans Mono',consolas,'Courier New',monospace\">\n",
       "</pre>\n"
      ],
      "text/plain": [
       "\n"
      ]
     },
     "metadata": {},
     "output_type": "display_data"
    },
    {
     "data": {
      "text/html": [
       "<pre style=\"white-space:pre;overflow-x:auto;line-height:normal;font-family:Menlo,'DejaVu Sans Mono',consolas,'Courier New',monospace\">Tokens: 7.4k sent, 750 received. Cost: $0.03 message, $0.08 session.\n",
       "</pre>\n"
      ],
      "text/plain": [
       "Tokens: 7.4k sent, 750 received. Cost: $0.03 message, $0.08 session.\n"
      ]
     },
     "metadata": {},
     "output_type": "display_data"
    },
    {
     "data": {
      "text/html": [
       "<pre style=\"white-space:pre;overflow-x:auto;line-height:normal;font-family:Menlo,'DejaVu Sans Mono',consolas,'Courier New',monospace\">\n",
       "</pre>\n"
      ],
      "text/plain": [
       "\n"
      ]
     },
     "metadata": {},
     "output_type": "display_data"
    },
    {
     "data": {
      "text/html": [
       "<pre style=\"white-space:pre;overflow-x:auto;line-height:normal;font-family:Menlo,'DejaVu Sans Mono',consolas,'Courier New',monospace\">spring/kitchensink/terraform/cloudbuild.yaml\n",
       "</pre>\n"
      ],
      "text/plain": [
       "\u001b[7mspring/kitchensink/terraform/cloudbuild.yaml\u001b[0m\n"
      ]
     },
     "metadata": {},
     "output_type": "display_data"
    },
    {
     "data": {
      "text/html": [
       "<pre style=\"white-space:pre;overflow-x:auto;line-height:normal;font-family:Menlo,'DejaVu Sans Mono',consolas,'Courier New',monospace\"><span style=\"color: #000080; text-decoration-color: #000080\">To ensure your Cloud Build configuration is correctly set up for deploying your Spring application to Google Cloud </span>\n",
       "<span style=\"color: #000080; text-decoration-color: #000080\">Run, we need to make sure the </span><span style=\"color: #008080; text-decoration-color: #008080; background-color: #000000; font-weight: bold\">cloudbuild.yaml</span><span style=\"color: #000080; text-decoration-color: #000080\"> file is properly configured to build and push the Docker image. Here </span>\n",
       "<span style=\"color: #000080; text-decoration-color: #000080\">are the necessary changes:</span>                                                                                         \n",
       "\n",
       "<span style=\"color: #808000; text-decoration-color: #808000; font-weight: bold\"> 1 </span><span style=\"color: #000080; text-decoration-color: #000080\">Ensure the Docker build and push steps use the correct image path from the Artifact Registry.                   </span>\n",
       "<span style=\"color: #808000; text-decoration-color: #808000; font-weight: bold\"> 2 </span><span style=\"color: #000080; text-decoration-color: #000080\">Ensure the Cloud Run deployment step uses the correct image path and region.                                    </span>\n",
       "\n",
       "<span style=\"color: #000080; text-decoration-color: #000080\">Here are the changes in the </span><span style=\"color: #008080; text-decoration-color: #008080; background-color: #000000; font-weight: bold\">cloudbuild.yaml</span><span style=\"color: #000080; text-decoration-color: #000080\"> file:</span>                                                                  \n",
       "\n",
       "<span style=\"color: #000080; text-decoration-color: #000080\">spring/kitchensink/terraform/cloudbuild.yaml</span>                                                                       \n",
       "\n",
       "<span style=\"background-color: #f8f8f8\">                                                                                                                   </span>\n",
       "<span style=\"background-color: #f8f8f8\"> &lt;&lt;&lt;&lt;&lt;&lt;&lt; SEARCH                                                                                                    </span>\n",
       "<span style=\"background-color: #f8f8f8\"> </span><span style=\"color: #bbbbbb; text-decoration-color: #bbbbbb; background-color: #f8f8f8\">      </span><span style=\"background-color: #f8f8f8\">- 'us-central1-docker.pkg.dev/$PROJECT_ID/kitchensink-repo/kitchensink:latest'                              </span>\n",
       "<span style=\"background-color: #f8f8f8\"> =======                                                                                                           </span>\n",
       "<span style=\"background-color: #f8f8f8\"> </span><span style=\"color: #bbbbbb; text-decoration-color: #bbbbbb; background-color: #f8f8f8\">      </span><span style=\"background-color: #f8f8f8\">- '${_REGION}-docker.pkg.dev/$PROJECT_ID/${_ARTIFACT_REPO_NAME}/kitchensink:latest'                         </span>\n",
       "<span style=\"background-color: #f8f8f8\"> &gt;&gt;&gt;&gt;&gt;&gt;&gt; REPLACE                                                                                                   </span>\n",
       "<span style=\"background-color: #f8f8f8\">                                                                                                                   </span>\n",
       "\n",
       "<span style=\"color: #000080; text-decoration-color: #000080\">spring/kitchensink/terraform/cloudbuild.yaml</span>                                                                       \n",
       "\n",
       "<span style=\"background-color: #f8f8f8\">                                                                                                                   </span>\n",
       "<span style=\"background-color: #f8f8f8\"> &lt;&lt;&lt;&lt;&lt;&lt;&lt; SEARCH                                                                                                    </span>\n",
       "<span style=\"background-color: #f8f8f8\"> </span><span style=\"color: #bbbbbb; text-decoration-color: #bbbbbb; background-color: #f8f8f8\">      </span><span style=\"background-color: #f8f8f8\">- 'us-central1-docker.pkg.dev/$PROJECT_ID/kitchensink-repo/kitchensink:latest'                              </span>\n",
       "<span style=\"background-color: #f8f8f8\"> =======                                                                                                           </span>\n",
       "<span style=\"background-color: #f8f8f8\"> </span><span style=\"color: #bbbbbb; text-decoration-color: #bbbbbb; background-color: #f8f8f8\">      </span><span style=\"background-color: #f8f8f8\">- '${_REGION}-docker.pkg.dev/$PROJECT_ID/${_ARTIFACT_REPO_NAME}/kitchensink:latest'                         </span>\n",
       "<span style=\"background-color: #f8f8f8\"> &gt;&gt;&gt;&gt;&gt;&gt;&gt; REPLACE                                                                                                   </span>\n",
       "<span style=\"background-color: #f8f8f8\">                                                                                                                   </span>\n",
       "\n",
       "<span style=\"color: #000080; text-decoration-color: #000080\">spring/kitchensink/terraform/cloudbuild.yaml</span>                                                                       \n",
       "\n",
       "<span style=\"background-color: #f8f8f8\">                                                                                                                   </span>\n",
       "<span style=\"background-color: #f8f8f8\"> &lt;&lt;&lt;&lt;&lt;&lt;&lt; SEARCH                                                                                                    </span>\n",
       "<span style=\"background-color: #f8f8f8\"> </span><span style=\"color: #bbbbbb; text-decoration-color: #bbbbbb; background-color: #f8f8f8\">      </span><span style=\"background-color: #f8f8f8\">- '--image=us-central1-docker.pkg.dev/$PROJECT_ID/kitchensink-repo/kitchensink:latest'                      </span>\n",
       "<span style=\"background-color: #f8f8f8\"> </span><span style=\"color: #bbbbbb; text-decoration-color: #bbbbbb; background-color: #f8f8f8\">      </span><span style=\"background-color: #f8f8f8\">- '--region=us-central1'                                                                                    </span>\n",
       "<span style=\"background-color: #f8f8f8\"> =======                                                                                                           </span>\n",
       "<span style=\"background-color: #f8f8f8\"> </span><span style=\"color: #bbbbbb; text-decoration-color: #bbbbbb; background-color: #f8f8f8\">      </span><span style=\"background-color: #f8f8f8\">- '--image=${_REGION}-docker.pkg.dev/$PROJECT_ID/${_ARTIFACT_REPO_NAME}/kitchensink:latest'                 </span>\n",
       "<span style=\"background-color: #f8f8f8\"> </span><span style=\"color: #bbbbbb; text-decoration-color: #bbbbbb; background-color: #f8f8f8\">      </span><span style=\"background-color: #f8f8f8\">- '--region=${_REGION}'                                                                                     </span>\n",
       "<span style=\"background-color: #f8f8f8\"> &gt;&gt;&gt;&gt;&gt;&gt;&gt; REPLACE                                                                                                   </span>\n",
       "<span style=\"background-color: #f8f8f8\">                                                                                                                   </span>\n",
       "\n",
       "<span style=\"color: #000080; text-decoration-color: #000080\">Make sure to define the </span><span style=\"color: #008080; text-decoration-color: #008080; background-color: #000000; font-weight: bold\">_REGION</span><span style=\"color: #000080; text-decoration-color: #000080\"> and </span><span style=\"color: #008080; text-decoration-color: #008080; background-color: #000000; font-weight: bold\">_ARTIFACT_REPO_NAME</span><span style=\"color: #000080; text-decoration-color: #000080\"> as substitutions in your Cloud Build trigger or pipeline </span>  \n",
       "<span style=\"color: #000080; text-decoration-color: #000080\">configuration to ensure these variables are correctly replaced during the build process.</span>                           \n",
       "\n",
       "<span style=\"color: #000080; text-decoration-color: #000080\">After applying these changes, you can trigger the Cloud Build process to build and deploy your application.</span>        \n",
       "</pre>\n"
      ],
      "text/plain": [
       "\u001b[34mTo ensure your Cloud Build configuration is correctly set up for deploying your Spring application to Google Cloud \u001b[0m\n",
       "\u001b[34mRun, we need to make sure the \u001b[0m\u001b[1;36;40mcloudbuild.yaml\u001b[0m\u001b[34m file is properly configured to build and push the Docker image. Here \u001b[0m\n",
       "\u001b[34mare the necessary changes:\u001b[0m                                                                                         \n",
       "\n",
       "\u001b[1;33m 1 \u001b[0m\u001b[34mEnsure the Docker build and push steps use the correct image path from the Artifact Registry.\u001b[0m\u001b[34m                   \u001b[0m\n",
       "\u001b[1;33m 2 \u001b[0m\u001b[34mEnsure the Cloud Run deployment step uses the correct image path and region.\u001b[0m\u001b[34m                                    \u001b[0m\n",
       "\n",
       "\u001b[34mHere are the changes in the \u001b[0m\u001b[1;36;40mcloudbuild.yaml\u001b[0m\u001b[34m file:\u001b[0m                                                                  \n",
       "\n",
       "\u001b[34mspring/kitchensink/terraform/cloudbuild.yaml\u001b[0m                                                                       \n",
       "\n",
       "\u001b[48;2;248;248;248m                                                                                                                   \u001b[0m\n",
       "\u001b[48;2;248;248;248m \u001b[0m\u001b[48;2;248;248;248m<<<<<<< SEARCH                                                                                                   \u001b[0m\u001b[48;2;248;248;248m \u001b[0m\n",
       "\u001b[48;2;248;248;248m \u001b[0m\u001b[38;2;187;187;187;48;2;248;248;248m      \u001b[0m\u001b[48;2;248;248;248m- 'us-central1-docker.pkg.dev/$PROJECT_ID/kitchensink-repo/kitchensink:latest'                             \u001b[0m\u001b[48;2;248;248;248m \u001b[0m\n",
       "\u001b[48;2;248;248;248m \u001b[0m\u001b[48;2;248;248;248m=======                                                                                                          \u001b[0m\u001b[48;2;248;248;248m \u001b[0m\n",
       "\u001b[48;2;248;248;248m \u001b[0m\u001b[38;2;187;187;187;48;2;248;248;248m      \u001b[0m\u001b[48;2;248;248;248m- '${_REGION}-docker.pkg.dev/$PROJECT_ID/${_ARTIFACT_REPO_NAME}/kitchensink:latest'                        \u001b[0m\u001b[48;2;248;248;248m \u001b[0m\n",
       "\u001b[48;2;248;248;248m \u001b[0m\u001b[48;2;248;248;248m>>>>>>> REPLACE                                                                                                  \u001b[0m\u001b[48;2;248;248;248m \u001b[0m\n",
       "\u001b[48;2;248;248;248m                                                                                                                   \u001b[0m\n",
       "\n",
       "\u001b[34mspring/kitchensink/terraform/cloudbuild.yaml\u001b[0m                                                                       \n",
       "\n",
       "\u001b[48;2;248;248;248m                                                                                                                   \u001b[0m\n",
       "\u001b[48;2;248;248;248m \u001b[0m\u001b[48;2;248;248;248m<<<<<<< SEARCH                                                                                                   \u001b[0m\u001b[48;2;248;248;248m \u001b[0m\n",
       "\u001b[48;2;248;248;248m \u001b[0m\u001b[38;2;187;187;187;48;2;248;248;248m      \u001b[0m\u001b[48;2;248;248;248m- 'us-central1-docker.pkg.dev/$PROJECT_ID/kitchensink-repo/kitchensink:latest'                             \u001b[0m\u001b[48;2;248;248;248m \u001b[0m\n",
       "\u001b[48;2;248;248;248m \u001b[0m\u001b[48;2;248;248;248m=======                                                                                                          \u001b[0m\u001b[48;2;248;248;248m \u001b[0m\n",
       "\u001b[48;2;248;248;248m \u001b[0m\u001b[38;2;187;187;187;48;2;248;248;248m      \u001b[0m\u001b[48;2;248;248;248m- '${_REGION}-docker.pkg.dev/$PROJECT_ID/${_ARTIFACT_REPO_NAME}/kitchensink:latest'                        \u001b[0m\u001b[48;2;248;248;248m \u001b[0m\n",
       "\u001b[48;2;248;248;248m \u001b[0m\u001b[48;2;248;248;248m>>>>>>> REPLACE                                                                                                  \u001b[0m\u001b[48;2;248;248;248m \u001b[0m\n",
       "\u001b[48;2;248;248;248m                                                                                                                   \u001b[0m\n",
       "\n",
       "\u001b[34mspring/kitchensink/terraform/cloudbuild.yaml\u001b[0m                                                                       \n",
       "\n",
       "\u001b[48;2;248;248;248m                                                                                                                   \u001b[0m\n",
       "\u001b[48;2;248;248;248m \u001b[0m\u001b[48;2;248;248;248m<<<<<<< SEARCH                                                                                                   \u001b[0m\u001b[48;2;248;248;248m \u001b[0m\n",
       "\u001b[48;2;248;248;248m \u001b[0m\u001b[38;2;187;187;187;48;2;248;248;248m      \u001b[0m\u001b[48;2;248;248;248m- '--image=us-central1-docker.pkg.dev/$PROJECT_ID/kitchensink-repo/kitchensink:latest'                     \u001b[0m\u001b[48;2;248;248;248m \u001b[0m\n",
       "\u001b[48;2;248;248;248m \u001b[0m\u001b[38;2;187;187;187;48;2;248;248;248m      \u001b[0m\u001b[48;2;248;248;248m- '--region=us-central1'                                                                                   \u001b[0m\u001b[48;2;248;248;248m \u001b[0m\n",
       "\u001b[48;2;248;248;248m \u001b[0m\u001b[48;2;248;248;248m=======                                                                                                          \u001b[0m\u001b[48;2;248;248;248m \u001b[0m\n",
       "\u001b[48;2;248;248;248m \u001b[0m\u001b[38;2;187;187;187;48;2;248;248;248m      \u001b[0m\u001b[48;2;248;248;248m- '--image=${_REGION}-docker.pkg.dev/$PROJECT_ID/${_ARTIFACT_REPO_NAME}/kitchensink:latest'                \u001b[0m\u001b[48;2;248;248;248m \u001b[0m\n",
       "\u001b[48;2;248;248;248m \u001b[0m\u001b[38;2;187;187;187;48;2;248;248;248m      \u001b[0m\u001b[48;2;248;248;248m- '--region=${_REGION}'                                                                                    \u001b[0m\u001b[48;2;248;248;248m \u001b[0m\n",
       "\u001b[48;2;248;248;248m \u001b[0m\u001b[48;2;248;248;248m>>>>>>> REPLACE                                                                                                  \u001b[0m\u001b[48;2;248;248;248m \u001b[0m\n",
       "\u001b[48;2;248;248;248m                                                                                                                   \u001b[0m\n",
       "\n",
       "\u001b[34mMake sure to define the \u001b[0m\u001b[1;36;40m_REGION\u001b[0m\u001b[34m and \u001b[0m\u001b[1;36;40m_ARTIFACT_REPO_NAME\u001b[0m\u001b[34m as substitutions in your Cloud Build trigger or pipeline \u001b[0m  \n",
       "\u001b[34mconfiguration to ensure these variables are correctly replaced during the build process.\u001b[0m                           \n",
       "\n",
       "\u001b[34mAfter applying these changes, you can trigger the Cloud Build process to build and deploy your application.\u001b[0m        \n"
      ]
     },
     "metadata": {},
     "output_type": "display_data"
    },
    {
     "data": {
      "text/html": [
       "<pre style=\"white-space:pre;overflow-x:auto;line-height:normal;font-family:Menlo,'DejaVu Sans Mono',consolas,'Courier New',monospace\">\n",
       "</pre>\n"
      ],
      "text/plain": [
       "\n"
      ]
     },
     "metadata": {},
     "output_type": "display_data"
    },
    {
     "data": {
      "text/html": [
       "<pre style=\"white-space:pre;overflow-x:auto;line-height:normal;font-family:Menlo,'DejaVu Sans Mono',consolas,'Courier New',monospace\">Tokens: 8.4k sent, 404 received. Cost: $0.02 message, $0.11 session.\n",
       "</pre>\n"
      ],
      "text/plain": [
       "Tokens: 8.4k sent, 404 received. Cost: $0.02 message, $0.11 session.\n"
      ]
     },
     "metadata": {},
     "output_type": "display_data"
    },
    {
     "data": {
      "text/html": [
       "<pre style=\"white-space:pre;overflow-x:auto;line-height:normal;font-family:Menlo,'DejaVu Sans Mono',consolas,'Courier New',monospace\">Applied edit to spring/kitchensink/terraform/cloudbuild.yaml\n",
       "</pre>\n"
      ],
      "text/plain": [
       "Applied edit to spring/kitchensink/terraform/cloudbuild.yaml\n"
      ]
     },
     "metadata": {},
     "output_type": "display_data"
    },
    {
     "ename": "NoSectionError",
     "evalue": "No section: 'user'",
     "output_type": "error",
     "traceback": [
      "\u001b[0;31m---------------------------------------------------------------------------\u001b[0m",
      "\u001b[0;31mNoSectionError\u001b[0m                            Traceback (most recent call last)",
      "Cell \u001b[0;32mIn[8], line 1\u001b[0m\n\u001b[0;32m----> 1\u001b[0m aider_output \u001b[38;5;241m=\u001b[39m \u001b[43mcoder\u001b[49m\u001b[38;5;241;43m.\u001b[39;49m\u001b[43mrun\u001b[49m\u001b[43m(\u001b[49m\u001b[38;5;124;43m\"\u001b[39;49m\u001b[38;5;124;43mhow to deploy spring app on gcp cloud run with terraform\u001b[39;49m\u001b[38;5;124;43m\"\u001b[39;49m\u001b[43m)\u001b[49m\n",
      "File \u001b[0;32m/opt/conda/lib/python3.10/site-packages/aider/coders/base_coder.py:825\u001b[0m, in \u001b[0;36mCoder.run\u001b[0;34m(self, with_message, preproc)\u001b[0m\n\u001b[1;32m    823\u001b[0m \u001b[38;5;28;01mif\u001b[39;00m with_message:\n\u001b[1;32m    824\u001b[0m     \u001b[38;5;28mself\u001b[39m\u001b[38;5;241m.\u001b[39mio\u001b[38;5;241m.\u001b[39muser_input(with_message)\n\u001b[0;32m--> 825\u001b[0m     \u001b[38;5;28;43mself\u001b[39;49m\u001b[38;5;241;43m.\u001b[39;49m\u001b[43mrun_one\u001b[49m\u001b[43m(\u001b[49m\u001b[43mwith_message\u001b[49m\u001b[43m,\u001b[49m\u001b[43m \u001b[49m\u001b[43mpreproc\u001b[49m\u001b[43m)\u001b[49m\n\u001b[1;32m    826\u001b[0m     \u001b[38;5;28;01mreturn\u001b[39;00m \u001b[38;5;28mself\u001b[39m\u001b[38;5;241m.\u001b[39mpartial_response_content\n\u001b[1;32m    827\u001b[0m \u001b[38;5;28;01mwhile\u001b[39;00m \u001b[38;5;28;01mTrue\u001b[39;00m:\n",
      "File \u001b[0;32m/opt/conda/lib/python3.10/site-packages/aider/coders/base_coder.py:879\u001b[0m, in \u001b[0;36mCoder.run_one\u001b[0;34m(self, user_message, preproc)\u001b[0m\n\u001b[1;32m    877\u001b[0m \u001b[38;5;28;01mwhile\u001b[39;00m message:\n\u001b[1;32m    878\u001b[0m     \u001b[38;5;28mself\u001b[39m\u001b[38;5;241m.\u001b[39mreflected_message \u001b[38;5;241m=\u001b[39m \u001b[38;5;28;01mNone\u001b[39;00m\n\u001b[0;32m--> 879\u001b[0m     \u001b[38;5;28;43mlist\u001b[39;49m\u001b[43m(\u001b[49m\u001b[38;5;28;43mself\u001b[39;49m\u001b[38;5;241;43m.\u001b[39;49m\u001b[43msend_message\u001b[49m\u001b[43m(\u001b[49m\u001b[43mmessage\u001b[49m\u001b[43m)\u001b[49m\u001b[43m)\u001b[49m\n\u001b[1;32m    881\u001b[0m     \u001b[38;5;28;01mif\u001b[39;00m \u001b[38;5;129;01mnot\u001b[39;00m \u001b[38;5;28mself\u001b[39m\u001b[38;5;241m.\u001b[39mreflected_message:\n\u001b[1;32m    882\u001b[0m         \u001b[38;5;28;01mbreak\u001b[39;00m\n",
      "File \u001b[0;32m/opt/conda/lib/python3.10/site-packages/aider/coders/base_coder.py:1435\u001b[0m, in \u001b[0;36mCoder.send_message\u001b[0;34m(self, inp)\u001b[0m\n\u001b[1;32m   1433\u001b[0m \u001b[38;5;28;01mif\u001b[39;00m edited:\n\u001b[1;32m   1434\u001b[0m     \u001b[38;5;28mself\u001b[39m\u001b[38;5;241m.\u001b[39maider_edited_files\u001b[38;5;241m.\u001b[39mupdate(edited)\n\u001b[0;32m-> 1435\u001b[0m     saved_message \u001b[38;5;241m=\u001b[39m \u001b[38;5;28;43mself\u001b[39;49m\u001b[38;5;241;43m.\u001b[39;49m\u001b[43mauto_commit\u001b[49m\u001b[43m(\u001b[49m\u001b[43medited\u001b[49m\u001b[43m)\u001b[49m\n\u001b[1;32m   1437\u001b[0m     \u001b[38;5;28;01mif\u001b[39;00m \u001b[38;5;129;01mnot\u001b[39;00m saved_message \u001b[38;5;129;01mand\u001b[39;00m \u001b[38;5;28mhasattr\u001b[39m(\u001b[38;5;28mself\u001b[39m\u001b[38;5;241m.\u001b[39mgpt_prompts, \u001b[38;5;124m\"\u001b[39m\u001b[38;5;124mfiles_content_gpt_edits_no_repo\u001b[39m\u001b[38;5;124m\"\u001b[39m):\n\u001b[1;32m   1438\u001b[0m         saved_message \u001b[38;5;241m=\u001b[39m \u001b[38;5;28mself\u001b[39m\u001b[38;5;241m.\u001b[39mgpt_prompts\u001b[38;5;241m.\u001b[39mfiles_content_gpt_edits_no_repo\n",
      "File \u001b[0;32m/opt/conda/lib/python3.10/site-packages/aider/coders/base_coder.py:2145\u001b[0m, in \u001b[0;36mCoder.auto_commit\u001b[0;34m(self, edited, context)\u001b[0m\n\u001b[1;32m   2142\u001b[0m     context \u001b[38;5;241m=\u001b[39m \u001b[38;5;28mself\u001b[39m\u001b[38;5;241m.\u001b[39mget_context_from_history(\u001b[38;5;28mself\u001b[39m\u001b[38;5;241m.\u001b[39mcur_messages)\n\u001b[1;32m   2144\u001b[0m \u001b[38;5;28;01mtry\u001b[39;00m:\n\u001b[0;32m-> 2145\u001b[0m     res \u001b[38;5;241m=\u001b[39m \u001b[38;5;28;43mself\u001b[39;49m\u001b[38;5;241;43m.\u001b[39;49m\u001b[43mrepo\u001b[49m\u001b[38;5;241;43m.\u001b[39;49m\u001b[43mcommit\u001b[49m\u001b[43m(\u001b[49m\u001b[43mfnames\u001b[49m\u001b[38;5;241;43m=\u001b[39;49m\u001b[43medited\u001b[49m\u001b[43m,\u001b[49m\u001b[43m \u001b[49m\u001b[43mcontext\u001b[49m\u001b[38;5;241;43m=\u001b[39;49m\u001b[43mcontext\u001b[49m\u001b[43m,\u001b[49m\u001b[43m \u001b[49m\u001b[43maider_edits\u001b[49m\u001b[38;5;241;43m=\u001b[39;49m\u001b[38;5;28;43;01mTrue\u001b[39;49;00m\u001b[43m)\u001b[49m\n\u001b[1;32m   2146\u001b[0m     \u001b[38;5;28;01mif\u001b[39;00m res:\n\u001b[1;32m   2147\u001b[0m         \u001b[38;5;28mself\u001b[39m\u001b[38;5;241m.\u001b[39mshow_auto_commit_outcome(res)\n",
      "File \u001b[0;32m/opt/conda/lib/python3.10/site-packages/aider/repo.py:148\u001b[0m, in \u001b[0;36mGitRepo.commit\u001b[0;34m(self, fnames, context, message, aider_edits)\u001b[0m\n\u001b[1;32m    145\u001b[0m \u001b[38;5;28;01melse\u001b[39;00m:\n\u001b[1;32m    146\u001b[0m     cmd \u001b[38;5;241m+\u001b[39m\u001b[38;5;241m=\u001b[39m [\u001b[38;5;124m\"\u001b[39m\u001b[38;5;124m-a\u001b[39m\u001b[38;5;124m\"\u001b[39m]\n\u001b[0;32m--> 148\u001b[0m original_user_name \u001b[38;5;241m=\u001b[39m \u001b[38;5;28;43mself\u001b[39;49m\u001b[38;5;241;43m.\u001b[39;49m\u001b[43mrepo\u001b[49m\u001b[38;5;241;43m.\u001b[39;49m\u001b[43mconfig_reader\u001b[49m\u001b[43m(\u001b[49m\u001b[43m)\u001b[49m\u001b[38;5;241;43m.\u001b[39;49m\u001b[43mget_value\u001b[49m\u001b[43m(\u001b[49m\u001b[38;5;124;43m\"\u001b[39;49m\u001b[38;5;124;43muser\u001b[39;49m\u001b[38;5;124;43m\"\u001b[39;49m\u001b[43m,\u001b[49m\u001b[43m \u001b[49m\u001b[38;5;124;43m\"\u001b[39;49m\u001b[38;5;124;43mname\u001b[39;49m\u001b[38;5;124;43m\"\u001b[39;49m\u001b[43m)\u001b[49m\n\u001b[1;32m    149\u001b[0m original_committer_name_env \u001b[38;5;241m=\u001b[39m os\u001b[38;5;241m.\u001b[39menviron\u001b[38;5;241m.\u001b[39mget(\u001b[38;5;124m\"\u001b[39m\u001b[38;5;124mGIT_COMMITTER_NAME\u001b[39m\u001b[38;5;124m\"\u001b[39m)\n\u001b[1;32m    150\u001b[0m committer_name \u001b[38;5;241m=\u001b[39m \u001b[38;5;124mf\u001b[39m\u001b[38;5;124m\"\u001b[39m\u001b[38;5;132;01m{\u001b[39;00moriginal_user_name\u001b[38;5;132;01m}\u001b[39;00m\u001b[38;5;124m (aider)\u001b[39m\u001b[38;5;124m\"\u001b[39m\n",
      "File \u001b[0;32m/opt/conda/lib/python3.10/site-packages/git/config.py:793\u001b[0m, in \u001b[0;36mGitConfigParser.get_value\u001b[0;34m(self, section, option, default)\u001b[0m\n\u001b[1;32m    776\u001b[0m \u001b[38;5;250m\u001b[39m\u001b[38;5;124;03m\"\"\"Get an option's value.\u001b[39;00m\n\u001b[1;32m    777\u001b[0m \n\u001b[1;32m    778\u001b[0m \u001b[38;5;124;03mIf multiple values are specified for this option in the section, the last one\u001b[39;00m\n\u001b[0;32m   (...)\u001b[0m\n\u001b[1;32m    790\u001b[0m \u001b[38;5;124;03m    Otherwise the exceptions known to the ConfigParser will be raised.\u001b[39;00m\n\u001b[1;32m    791\u001b[0m \u001b[38;5;124;03m\"\"\"\u001b[39;00m\n\u001b[1;32m    792\u001b[0m \u001b[38;5;28;01mtry\u001b[39;00m:\n\u001b[0;32m--> 793\u001b[0m     valuestr \u001b[38;5;241m=\u001b[39m \u001b[38;5;28;43mself\u001b[39;49m\u001b[38;5;241;43m.\u001b[39;49m\u001b[43mget\u001b[49m\u001b[43m(\u001b[49m\u001b[43msection\u001b[49m\u001b[43m,\u001b[49m\u001b[43m \u001b[49m\u001b[43moption\u001b[49m\u001b[43m)\u001b[49m\n\u001b[1;32m    794\u001b[0m \u001b[38;5;28;01mexcept\u001b[39;00m \u001b[38;5;167;01mException\u001b[39;00m:\n\u001b[1;32m    795\u001b[0m     \u001b[38;5;28;01mif\u001b[39;00m default \u001b[38;5;129;01mis\u001b[39;00m \u001b[38;5;129;01mnot\u001b[39;00m \u001b[38;5;28;01mNone\u001b[39;00m:\n",
      "File \u001b[0;32m/opt/conda/lib/python3.10/site-packages/git/config.py:114\u001b[0m, in \u001b[0;36mneeds_values.<locals>.assure_data_present\u001b[0;34m(self, *args, **kwargs)\u001b[0m\n\u001b[1;32m    111\u001b[0m \u001b[38;5;129m@wraps\u001b[39m(func)\n\u001b[1;32m    112\u001b[0m \u001b[38;5;28;01mdef\u001b[39;00m\u001b[38;5;250m \u001b[39m\u001b[38;5;21massure_data_present\u001b[39m(\u001b[38;5;28mself\u001b[39m: \u001b[38;5;124m\"\u001b[39m\u001b[38;5;124mGitConfigParser\u001b[39m\u001b[38;5;124m\"\u001b[39m, \u001b[38;5;241m*\u001b[39margs: Any, \u001b[38;5;241m*\u001b[39m\u001b[38;5;241m*\u001b[39mkwargs: Any) \u001b[38;5;241m-\u001b[39m\u001b[38;5;241m>\u001b[39m _T:\n\u001b[1;32m    113\u001b[0m     \u001b[38;5;28mself\u001b[39m\u001b[38;5;241m.\u001b[39mread()\n\u001b[0;32m--> 114\u001b[0m     \u001b[38;5;28;01mreturn\u001b[39;00m \u001b[43mfunc\u001b[49m\u001b[43m(\u001b[49m\u001b[38;5;28;43mself\u001b[39;49m\u001b[43m,\u001b[49m\u001b[43m \u001b[49m\u001b[38;5;241;43m*\u001b[39;49m\u001b[43margs\u001b[49m\u001b[43m,\u001b[49m\u001b[43m \u001b[49m\u001b[38;5;241;43m*\u001b[39;49m\u001b[38;5;241;43m*\u001b[39;49m\u001b[43mkwargs\u001b[49m\u001b[43m)\u001b[49m\n",
      "File \u001b[0;32m/opt/conda/lib/python3.10/configparser.py:783\u001b[0m, in \u001b[0;36mRawConfigParser.get\u001b[0;34m(self, section, option, raw, vars, fallback)\u001b[0m\n\u001b[1;32m    768\u001b[0m \u001b[38;5;250m\u001b[39m\u001b[38;5;124;03m\"\"\"Get an option value for a given section.\u001b[39;00m\n\u001b[1;32m    769\u001b[0m \n\u001b[1;32m    770\u001b[0m \u001b[38;5;124;03mIf `vars` is provided, it must be a dictionary. The option is looked up\u001b[39;00m\n\u001b[0;32m   (...)\u001b[0m\n\u001b[1;32m    780\u001b[0m \u001b[38;5;124;03mThe section DEFAULT is special.\u001b[39;00m\n\u001b[1;32m    781\u001b[0m \u001b[38;5;124;03m\"\"\"\u001b[39;00m\n\u001b[1;32m    782\u001b[0m \u001b[38;5;28;01mtry\u001b[39;00m:\n\u001b[0;32m--> 783\u001b[0m     d \u001b[38;5;241m=\u001b[39m \u001b[38;5;28;43mself\u001b[39;49m\u001b[38;5;241;43m.\u001b[39;49m\u001b[43m_unify_values\u001b[49m\u001b[43m(\u001b[49m\u001b[43msection\u001b[49m\u001b[43m,\u001b[49m\u001b[43m \u001b[49m\u001b[38;5;28;43mvars\u001b[39;49m\u001b[43m)\u001b[49m\n\u001b[1;32m    784\u001b[0m \u001b[38;5;28;01mexcept\u001b[39;00m NoSectionError:\n\u001b[1;32m    785\u001b[0m     \u001b[38;5;28;01mif\u001b[39;00m fallback \u001b[38;5;129;01mis\u001b[39;00m _UNSET:\n",
      "File \u001b[0;32m/opt/conda/lib/python3.10/configparser.py:1154\u001b[0m, in \u001b[0;36mRawConfigParser._unify_values\u001b[0;34m(self, section, vars)\u001b[0m\n\u001b[1;32m   1152\u001b[0m \u001b[38;5;28;01mexcept\u001b[39;00m \u001b[38;5;167;01mKeyError\u001b[39;00m:\n\u001b[1;32m   1153\u001b[0m     \u001b[38;5;28;01mif\u001b[39;00m section \u001b[38;5;241m!=\u001b[39m \u001b[38;5;28mself\u001b[39m\u001b[38;5;241m.\u001b[39mdefault_section:\n\u001b[0;32m-> 1154\u001b[0m         \u001b[38;5;28;01mraise\u001b[39;00m NoSectionError(section) \u001b[38;5;28;01mfrom\u001b[39;00m\u001b[38;5;250m \u001b[39m\u001b[38;5;28;01mNone\u001b[39;00m\n\u001b[1;32m   1155\u001b[0m \u001b[38;5;66;03m# Update with the entry specific variables\u001b[39;00m\n\u001b[1;32m   1156\u001b[0m vardict \u001b[38;5;241m=\u001b[39m {}\n",
      "\u001b[0;31mNoSectionError\u001b[0m: No section: 'user'"
     ]
    }
   ],
   "source": [
    "aider_output = coder.run(\"how to deploy spring app on gcp cloud run with terraform\")\n"
   ]
  },
  {
   "cell_type": "code",
   "execution_count": 9,
   "id": "bb4a8b12-98f2-48b4-b6d4-2bb1fd957dd1",
   "metadata": {},
   "outputs": [
    {
     "data": {
      "text/html": [
       "<pre style=\"white-space:pre;overflow-x:auto;line-height:normal;font-family:Menlo,'DejaVu Sans Mono',consolas,'Courier New',monospace\"><span style=\"color: #000080; text-decoration-color: #000080\">To install Terraform on your GCP notebook, you can use the following shell commands:</span>                               \n",
       "\n",
       "<span style=\"background-color: #f8f8f8\">                                                                                                                   </span>\n",
       "<span style=\"background-color: #f8f8f8\"> </span><span style=\"color: #000000; text-decoration-color: #000000; background-color: #f8f8f8\">sudo</span><span style=\"color: #bbbbbb; text-decoration-color: #bbbbbb; background-color: #f8f8f8\"> </span><span style=\"color: #000000; text-decoration-color: #000000; background-color: #f8f8f8\">apt-get</span><span style=\"color: #bbbbbb; text-decoration-color: #bbbbbb; background-color: #f8f8f8\"> </span><span style=\"color: #000000; text-decoration-color: #000000; background-color: #f8f8f8\">update</span><span style=\"background-color: #f8f8f8\">                                                                                               </span>\n",
       "<span style=\"background-color: #f8f8f8\"> </span><span style=\"color: #000000; text-decoration-color: #000000; background-color: #f8f8f8\">sudo</span><span style=\"color: #bbbbbb; text-decoration-color: #bbbbbb; background-color: #f8f8f8\"> </span><span style=\"color: #000000; text-decoration-color: #000000; background-color: #f8f8f8\">apt-get</span><span style=\"color: #bbbbbb; text-decoration-color: #bbbbbb; background-color: #f8f8f8\"> </span><span style=\"color: #000000; text-decoration-color: #000000; background-color: #f8f8f8\">install</span><span style=\"color: #bbbbbb; text-decoration-color: #bbbbbb; background-color: #f8f8f8\"> </span><span style=\"color: #000000; text-decoration-color: #000000; background-color: #f8f8f8\">-y</span><span style=\"color: #bbbbbb; text-decoration-color: #bbbbbb; background-color: #f8f8f8\"> </span><span style=\"color: #000000; text-decoration-color: #000000; background-color: #f8f8f8\">wget</span><span style=\"color: #bbbbbb; text-decoration-color: #bbbbbb; background-color: #f8f8f8\"> </span><span style=\"color: #000000; text-decoration-color: #000000; background-color: #f8f8f8\">unzip</span><span style=\"background-color: #f8f8f8\">                                                                                </span>\n",
       "<span style=\"background-color: #f8f8f8\"> </span><span style=\"color: #000000; text-decoration-color: #000000; background-color: #f8f8f8\">wget</span><span style=\"color: #bbbbbb; text-decoration-color: #bbbbbb; background-color: #f8f8f8\"> </span><span style=\"color: #000000; text-decoration-color: #000000; background-color: #f8f8f8\">https://releases.hashicorp.com/terraform/1.0.11/terraform_1.0.11_linux_amd64.zip</span><span style=\"background-color: #f8f8f8\">                             </span>\n",
       "<span style=\"background-color: #f8f8f8\"> </span><span style=\"color: #000000; text-decoration-color: #000000; background-color: #f8f8f8\">unzip</span><span style=\"color: #bbbbbb; text-decoration-color: #bbbbbb; background-color: #f8f8f8\"> </span><span style=\"color: #000000; text-decoration-color: #000000; background-color: #f8f8f8\">terraform_1.0.11_linux_amd64.zip</span><span style=\"background-color: #f8f8f8\">                                                                            </span>\n",
       "<span style=\"background-color: #f8f8f8\"> </span><span style=\"color: #000000; text-decoration-color: #000000; background-color: #f8f8f8\">sudo</span><span style=\"color: #bbbbbb; text-decoration-color: #bbbbbb; background-color: #f8f8f8\"> </span><span style=\"color: #000000; text-decoration-color: #000000; background-color: #f8f8f8\">mv</span><span style=\"color: #bbbbbb; text-decoration-color: #bbbbbb; background-color: #f8f8f8\"> </span><span style=\"color: #000000; text-decoration-color: #000000; background-color: #f8f8f8\">terraform</span><span style=\"color: #bbbbbb; text-decoration-color: #bbbbbb; background-color: #f8f8f8\"> </span><span style=\"color: #000000; text-decoration-color: #000000; background-color: #f8f8f8\">/usr/local/bin/</span><span style=\"background-color: #f8f8f8\">                                                                                 </span>\n",
       "<span style=\"background-color: #f8f8f8\"> </span><span style=\"color: #000000; text-decoration-color: #000000; background-color: #f8f8f8\">terraform</span><span style=\"color: #bbbbbb; text-decoration-color: #bbbbbb; background-color: #f8f8f8\"> </span><span style=\"color: #000000; text-decoration-color: #000000; background-color: #f8f8f8\">-v</span><span style=\"background-color: #f8f8f8\">                                                                                                      </span>\n",
       "<span style=\"background-color: #f8f8f8\">                                                                                                                   </span>\n",
       "\n",
       "<span style=\"color: #000080; text-decoration-color: #000080\">These commands will update your package list, install necessary tools, download Terraform, unzip it, move it to a </span> \n",
       "<span style=\"color: #000080; text-decoration-color: #000080\">directory in your PATH, and verify the installation.</span>                                                               \n",
       "</pre>\n"
      ],
      "text/plain": [
       "\u001b[34mTo install Terraform on your GCP notebook, you can use the following shell commands:\u001b[0m                               \n",
       "\n",
       "\u001b[48;2;248;248;248m                                                                                                                   \u001b[0m\n",
       "\u001b[48;2;248;248;248m \u001b[0m\u001b[38;2;0;0;0;48;2;248;248;248msudo\u001b[0m\u001b[38;2;187;187;187;48;2;248;248;248m \u001b[0m\u001b[38;2;0;0;0;48;2;248;248;248mapt-get\u001b[0m\u001b[38;2;187;187;187;48;2;248;248;248m \u001b[0m\u001b[38;2;0;0;0;48;2;248;248;248mupdate\u001b[0m\u001b[48;2;248;248;248m                                                                                              \u001b[0m\u001b[48;2;248;248;248m \u001b[0m\n",
       "\u001b[48;2;248;248;248m \u001b[0m\u001b[38;2;0;0;0;48;2;248;248;248msudo\u001b[0m\u001b[38;2;187;187;187;48;2;248;248;248m \u001b[0m\u001b[38;2;0;0;0;48;2;248;248;248mapt-get\u001b[0m\u001b[38;2;187;187;187;48;2;248;248;248m \u001b[0m\u001b[38;2;0;0;0;48;2;248;248;248minstall\u001b[0m\u001b[38;2;187;187;187;48;2;248;248;248m \u001b[0m\u001b[38;2;0;0;0;48;2;248;248;248m-y\u001b[0m\u001b[38;2;187;187;187;48;2;248;248;248m \u001b[0m\u001b[38;2;0;0;0;48;2;248;248;248mwget\u001b[0m\u001b[38;2;187;187;187;48;2;248;248;248m \u001b[0m\u001b[38;2;0;0;0;48;2;248;248;248munzip\u001b[0m\u001b[48;2;248;248;248m                                                                               \u001b[0m\u001b[48;2;248;248;248m \u001b[0m\n",
       "\u001b[48;2;248;248;248m \u001b[0m\u001b[38;2;0;0;0;48;2;248;248;248mwget\u001b[0m\u001b[38;2;187;187;187;48;2;248;248;248m \u001b[0m\u001b[38;2;0;0;0;48;2;248;248;248mhttps://releases.hashicorp.com/terraform/1.0.11/terraform_1.0.11_linux_amd64.zip\u001b[0m\u001b[48;2;248;248;248m                            \u001b[0m\u001b[48;2;248;248;248m \u001b[0m\n",
       "\u001b[48;2;248;248;248m \u001b[0m\u001b[38;2;0;0;0;48;2;248;248;248munzip\u001b[0m\u001b[38;2;187;187;187;48;2;248;248;248m \u001b[0m\u001b[38;2;0;0;0;48;2;248;248;248mterraform_1.0.11_linux_amd64.zip\u001b[0m\u001b[48;2;248;248;248m                                                                           \u001b[0m\u001b[48;2;248;248;248m \u001b[0m\n",
       "\u001b[48;2;248;248;248m \u001b[0m\u001b[38;2;0;0;0;48;2;248;248;248msudo\u001b[0m\u001b[38;2;187;187;187;48;2;248;248;248m \u001b[0m\u001b[38;2;0;0;0;48;2;248;248;248mmv\u001b[0m\u001b[38;2;187;187;187;48;2;248;248;248m \u001b[0m\u001b[38;2;0;0;0;48;2;248;248;248mterraform\u001b[0m\u001b[38;2;187;187;187;48;2;248;248;248m \u001b[0m\u001b[38;2;0;0;0;48;2;248;248;248m/usr/local/bin/\u001b[0m\u001b[48;2;248;248;248m                                                                                \u001b[0m\u001b[48;2;248;248;248m \u001b[0m\n",
       "\u001b[48;2;248;248;248m \u001b[0m\u001b[38;2;0;0;0;48;2;248;248;248mterraform\u001b[0m\u001b[38;2;187;187;187;48;2;248;248;248m \u001b[0m\u001b[38;2;0;0;0;48;2;248;248;248m-v\u001b[0m\u001b[48;2;248;248;248m                                                                                                     \u001b[0m\u001b[48;2;248;248;248m \u001b[0m\n",
       "\u001b[48;2;248;248;248m                                                                                                                   \u001b[0m\n",
       "\n",
       "\u001b[34mThese commands will update your package list, install necessary tools, download Terraform, unzip it, move it to a \u001b[0m \n",
       "\u001b[34mdirectory in your PATH, and verify the installation.\u001b[0m                                                               \n"
      ]
     },
     "metadata": {},
     "output_type": "display_data"
    },
    {
     "data": {
      "text/html": [
       "<pre style=\"white-space:pre;overflow-x:auto;line-height:normal;font-family:Menlo,'DejaVu Sans Mono',consolas,'Courier New',monospace\">\n",
       "</pre>\n"
      ],
      "text/plain": [
       "\n"
      ]
     },
     "metadata": {},
     "output_type": "display_data"
    },
    {
     "data": {
      "text/html": [
       "<pre style=\"white-space:pre;overflow-x:auto;line-height:normal;font-family:Menlo,'DejaVu Sans Mono',consolas,'Courier New',monospace\">Tokens: 8.8k sent, 126 received. Cost: $0.02 message, $0.13 session.\n",
       "</pre>\n"
      ],
      "text/plain": [
       "Tokens: 8.8k sent, 126 received. Cost: $0.02 message, $0.13 session.\n"
      ]
     },
     "metadata": {},
     "output_type": "display_data"
    },
    {
     "data": {
      "text/html": [
       "<pre style=\"white-space:pre;overflow-x:auto;line-height:normal;font-family:Menlo,'DejaVu Sans Mono',consolas,'Courier New',monospace\">\n",
       "</pre>\n"
      ],
      "text/plain": [
       "\n"
      ]
     },
     "metadata": {},
     "output_type": "display_data"
    },
    {
     "data": {
      "text/html": [
       "<pre style=\"white-space:pre;overflow-x:auto;line-height:normal;font-family:Menlo,'DejaVu Sans Mono',consolas,'Courier New',monospace\">sudo apt-get update                                                                  \n",
       "sudo apt-get install -y wget unzip                                                   \n",
       "wget https://releases.hashicorp.com/terraform/1.0.11/terraform_1.0.11_linux_amd64.zip\n",
       "unzip terraform_1.0.11_linux_amd64.zip                                               \n",
       "sudo mv terraform /usr/local/bin/                                                    \n",
       "terraform -v                                                                         \n",
       "</pre>\n"
      ],
      "text/plain": [
       "\u001b[7msudo apt-get update                                                                  \u001b[0m\n",
       "\u001b[7msudo apt-get install -y wget unzip                                                   \u001b[0m\n",
       "\u001b[7mwget https://releases.hashicorp.com/terraform/1.0.11/terraform_1.0.11_linux_amd64.zip\u001b[0m\n",
       "\u001b[7munzip terraform_1.0.11_linux_amd64.zip                                               \u001b[0m\n",
       "\u001b[7msudo mv terraform /usr/local/bin/                                                    \u001b[0m\n",
       "\u001b[7mterraform -v                                                                         \u001b[0m\n"
      ]
     },
     "metadata": {},
     "output_type": "display_data"
    }
   ],
   "source": [
    "aider_output = coder.run(\"install terraform as its not found atm on gcp notebook\")\n"
   ]
  },
  {
   "cell_type": "code",
   "execution_count": 11,
   "id": "ed110349-0476-4325-b313-3284621bf0d2",
   "metadata": {},
   "outputs": [
    {
     "name": "stdout",
     "output_type": "stream",
     "text": [
      "Hit:1 https://deb.debian.org/debian bullseye InRelease\n",
      "Hit:2 https://deb.debian.org/debian-security bullseye-security InRelease       \n",
      "Hit:3 https://deb.debian.org/debian bullseye-updates InRelease                 \n",
      "Hit:4 https://deb.debian.org/debian bullseye-backports InRelease               \n",
      "Get:5 https://download.docker.com/linux/debian bullseye InRelease [43.3 kB]    \n",
      "Hit:6 https://nvidia.github.io/libnvidia-container/stable/deb/amd64  InRelease \n",
      "Hit:7 https://packages.cloud.google.com/apt gcsfuse-bullseye InRelease         \n",
      "Hit:8 https://packages.cloud.google.com/apt google-compute-engine-bullseye-stable InRelease\n",
      "Hit:9 https://packages.cloud.google.com/apt cloud-sdk-bullseye InRelease\n",
      "Hit:10 https://packages.cloud.google.com/apt google-fast-socket InRelease\n",
      "Fetched 43.3 kB in 1s (46.2 kB/s)\n",
      "Reading package lists... Done\n",
      "Reading package lists... Done\n",
      "Building dependency tree... Done\n",
      "Reading state information... Done\n",
      "unzip is already the newest version (6.0-26+deb11u1).\n",
      "wget is already the newest version (1.21-1+deb11u1).\n",
      "0 upgraded, 0 newly installed, 0 to remove and 14 not upgraded.\n",
      "--2025-02-15 06:14:14--  https://releases.hashicorp.com/terraform/1.0.11/terraform_1.0.11_linux_amd64.zip\n",
      "Resolving releases.hashicorp.com (releases.hashicorp.com)... 108.158.20.7, 108.158.20.47, 108.158.20.68, ...\n",
      "Connecting to releases.hashicorp.com (releases.hashicorp.com)|108.158.20.7|:443... connected.\n",
      "HTTP request sent, awaiting response... 200 OK\n",
      "Length: 18082446 (17M) [application/zip]\n",
      "Saving to: ‘terraform_1.0.11_linux_amd64.zip’\n",
      "\n",
      "terraform_1.0.11_li 100%[===================>]  17.24M  --.-KB/s    in 0.05s   \n",
      "\n",
      "2025-02-15 06:14:14 (357 MB/s) - ‘terraform_1.0.11_linux_amd64.zip’ saved [18082446/18082446]\n",
      "\n",
      "Archive:  terraform_1.0.11_linux_amd64.zip\n",
      "  inflating: terraform               \n",
      "Terraform v1.0.11\n",
      "on linux_amd64\n",
      "\n",
      "Your version of Terraform is out of date! The latest version\n",
      "is 1.10.5. You can update by downloading from https://www.terraform.io/downloads.html\n"
     ]
    }
   ],
   "source": [
    "!sudo apt-get update                                                                  \n",
    "!sudo apt-get install -y wget unzip                                                   \n",
    "!wget https://releases.hashicorp.com/terraform/1.0.11/terraform_1.0.11_linux_amd64.zip\n",
    "!unzip terraform_1.0.11_linux_amd64.zip                                               \n",
    "!sudo mv terraform /usr/local/bin/                                                    \n",
    "!terraform -v  "
   ]
  },
  {
   "cell_type": "code",
   "execution_count": 12,
   "id": "eeb7d3f1-d473-46ad-91e2-ac12e3db5bd5",
   "metadata": {},
   "outputs": [
    {
     "name": "stdout",
     "output_type": "stream",
     "text": [
      "Usage: terraform [global options] <subcommand> [args]\n",
      "\n",
      "The available commands for execution are listed below.\n",
      "The primary workflow commands are given first, followed by\n",
      "less common or more advanced commands.\n",
      "\n",
      "Main commands:\n",
      "  init          Prepare your working directory for other commands\n",
      "  validate      Check whether the configuration is valid\n",
      "  plan          Show changes required by the current configuration\n",
      "  apply         Create or update infrastructure\n",
      "  destroy       Destroy previously-created infrastructure\n",
      "\n",
      "All other commands:\n",
      "  console       Try Terraform expressions at an interactive command prompt\n",
      "  fmt           Reformat your configuration in the standard style\n",
      "  force-unlock  Release a stuck lock on the current workspace\n",
      "  get           Install or upgrade remote Terraform modules\n",
      "  graph         Generate a Graphviz graph of the steps in an operation\n",
      "  import        Associate existing infrastructure with a Terraform resource\n",
      "  login         Obtain and save credentials for a remote host\n",
      "  logout        Remove locally-stored credentials for a remote host\n",
      "  output        Show output values from your root module\n",
      "  providers     Show the providers required for this configuration\n",
      "  refresh       Update the state to match remote systems\n",
      "  show          Show the current state or a saved plan\n",
      "  state         Advanced state management\n",
      "  taint         Mark a resource instance as not fully functional\n",
      "  test          Experimental support for module integration testing\n",
      "  untaint       Remove the 'tainted' state from a resource instance\n",
      "  version       Show the current Terraform version\n",
      "  workspace     Workspace management\n",
      "\n",
      "Global options (use these before the subcommand, if any):\n",
      "  -chdir=DIR    Switch to a different working directory before executing the\n",
      "                given subcommand.\n",
      "  -help         Show this help output, or the help for a specified subcommand.\n",
      "  -version      An alias for the \"version\" subcommand.\n"
     ]
    }
   ],
   "source": [
    "!terraform"
   ]
  },
  {
   "cell_type": "code",
   "execution_count": 18,
   "id": "213b00d6-6659-4c67-8887-4f0191d5e229",
   "metadata": {},
   "outputs": [
    {
     "name": "stdout",
     "output_type": "stream",
     "text": [
      "/home/jupyter/github\n",
      "\n",
      "\u001b[0m\u001b[1mInitializing the backend...\u001b[0m\n",
      "\n",
      "\u001b[0m\u001b[1mInitializing provider plugins...\u001b[0m\n",
      "- Reusing previous version of hashicorp/google from the dependency lock file\n",
      "- Using previously-installed hashicorp/google v5.45.2\n",
      "\n",
      "\u001b[0m\u001b[1m\u001b[32mTerraform has been successfully initialized!\u001b[0m\u001b[32m\u001b[0m\n",
      "\u001b[0m\u001b[32m\n",
      "You may now begin working with Terraform. Try running \"terraform plan\" to see\n",
      "any changes that are required for your infrastructure. All Terraform commands\n",
      "should now work.\n",
      "\n",
      "If you ever set or change modules or backend configuration for Terraform,\n",
      "rerun this command to reinitialize your working directory. If you forget, other\n",
      "commands will detect it and remind you to do so if necessary.\u001b[0m\n",
      "\n",
      "Terraform used the selected providers to generate the following execution plan.\n",
      "Resource actions are indicated with the following symbols:\n",
      "  \u001b[32m+\u001b[0m create\n",
      "\u001b[0m\n",
      "Terraform will perform the following actions:\n",
      "\n",
      "\u001b[1m  # google_artifact_registry_repository.docker_repo\u001b[0m will be created\u001b[0m\u001b[0m\n",
      "\u001b[0m  \u001b[32m+\u001b[0m\u001b[0m resource \"google_artifact_registry_repository\" \"docker_repo\" {\n",
      "      \u001b[32m+\u001b[0m \u001b[0m\u001b[1m\u001b[0mcreate_time\u001b[0m\u001b[0m      = (known after apply)\n",
      "      \u001b[32m+\u001b[0m \u001b[0m\u001b[1m\u001b[0meffective_labels\u001b[0m\u001b[0m = (known after apply)\n",
      "      \u001b[32m+\u001b[0m \u001b[0m\u001b[1m\u001b[0mformat\u001b[0m\u001b[0m           = \"DOCKER\"\n",
      "      \u001b[32m+\u001b[0m \u001b[0m\u001b[1m\u001b[0mid\u001b[0m\u001b[0m               = (known after apply)\n",
      "      \u001b[32m+\u001b[0m \u001b[0m\u001b[1m\u001b[0mlocation\u001b[0m\u001b[0m         = \"us-central1\"\n",
      "      \u001b[32m+\u001b[0m \u001b[0m\u001b[1m\u001b[0mmode\u001b[0m\u001b[0m             = \"STANDARD_REPOSITORY\"\n",
      "      \u001b[32m+\u001b[0m \u001b[0m\u001b[1m\u001b[0mname\u001b[0m\u001b[0m             = (known after apply)\n",
      "      \u001b[32m+\u001b[0m \u001b[0m\u001b[1m\u001b[0mproject\u001b[0m\u001b[0m          = \"ali-gcp-450510\"\n",
      "      \u001b[32m+\u001b[0m \u001b[0m\u001b[1m\u001b[0mrepository_id\u001b[0m\u001b[0m    = \"kitchensink-repo\"\n",
      "      \u001b[32m+\u001b[0m \u001b[0m\u001b[1m\u001b[0mterraform_labels\u001b[0m\u001b[0m = (known after apply)\n",
      "      \u001b[32m+\u001b[0m \u001b[0m\u001b[1m\u001b[0mupdate_time\u001b[0m\u001b[0m      = (known after apply)\n",
      "    }\n",
      "\n",
      "\u001b[1m  # google_cloud_run_service.cloud_run\u001b[0m will be created\u001b[0m\u001b[0m\n",
      "\u001b[0m  \u001b[32m+\u001b[0m\u001b[0m resource \"google_cloud_run_service\" \"cloud_run\" {\n",
      "      \u001b[32m+\u001b[0m \u001b[0m\u001b[1m\u001b[0mautogenerate_revision_name\u001b[0m\u001b[0m = false\n",
      "      \u001b[32m+\u001b[0m \u001b[0m\u001b[1m\u001b[0mid\u001b[0m\u001b[0m                         = (known after apply)\n",
      "      \u001b[32m+\u001b[0m \u001b[0m\u001b[1m\u001b[0mlocation\u001b[0m\u001b[0m                   = \"us-central1\"\n",
      "      \u001b[32m+\u001b[0m \u001b[0m\u001b[1m\u001b[0mname\u001b[0m\u001b[0m                       = \"kitchensink-app\"\n",
      "      \u001b[32m+\u001b[0m \u001b[0m\u001b[1m\u001b[0mproject\u001b[0m\u001b[0m                    = \"ali-gcp-450510\"\n",
      "      \u001b[32m+\u001b[0m \u001b[0m\u001b[1m\u001b[0mstatus\u001b[0m\u001b[0m                     = (known after apply)\n",
      "\n",
      "      \u001b[32m+\u001b[0m \u001b[0mmetadata {\n",
      "          \u001b[32m+\u001b[0m \u001b[0m\u001b[1m\u001b[0mannotations\u001b[0m\u001b[0m           = (known after apply)\n",
      "          \u001b[32m+\u001b[0m \u001b[0m\u001b[1m\u001b[0meffective_annotations\u001b[0m\u001b[0m = (known after apply)\n",
      "          \u001b[32m+\u001b[0m \u001b[0m\u001b[1m\u001b[0meffective_labels\u001b[0m\u001b[0m      = (known after apply)\n",
      "          \u001b[32m+\u001b[0m \u001b[0m\u001b[1m\u001b[0mgeneration\u001b[0m\u001b[0m            = (known after apply)\n",
      "          \u001b[32m+\u001b[0m \u001b[0m\u001b[1m\u001b[0mlabels\u001b[0m\u001b[0m                = (known after apply)\n",
      "          \u001b[32m+\u001b[0m \u001b[0m\u001b[1m\u001b[0mnamespace\u001b[0m\u001b[0m             = (known after apply)\n",
      "          \u001b[32m+\u001b[0m \u001b[0m\u001b[1m\u001b[0mresource_version\u001b[0m\u001b[0m      = (known after apply)\n",
      "          \u001b[32m+\u001b[0m \u001b[0m\u001b[1m\u001b[0mself_link\u001b[0m\u001b[0m             = (known after apply)\n",
      "          \u001b[32m+\u001b[0m \u001b[0m\u001b[1m\u001b[0mterraform_labels\u001b[0m\u001b[0m      = (known after apply)\n",
      "          \u001b[32m+\u001b[0m \u001b[0m\u001b[1m\u001b[0muid\u001b[0m\u001b[0m                   = (known after apply)\n",
      "        }\n",
      "\n",
      "      \u001b[32m+\u001b[0m \u001b[0mtemplate {\n",
      "          \u001b[32m+\u001b[0m \u001b[0mmetadata {\n",
      "              \u001b[32m+\u001b[0m \u001b[0m\u001b[1m\u001b[0mannotations\u001b[0m\u001b[0m      = (known after apply)\n",
      "              \u001b[32m+\u001b[0m \u001b[0m\u001b[1m\u001b[0mgeneration\u001b[0m\u001b[0m       = (known after apply)\n",
      "              \u001b[32m+\u001b[0m \u001b[0m\u001b[1m\u001b[0mlabels\u001b[0m\u001b[0m           = (known after apply)\n",
      "              \u001b[32m+\u001b[0m \u001b[0m\u001b[1m\u001b[0mname\u001b[0m\u001b[0m             = (known after apply)\n",
      "              \u001b[32m+\u001b[0m \u001b[0m\u001b[1m\u001b[0mnamespace\u001b[0m\u001b[0m        = (known after apply)\n",
      "              \u001b[32m+\u001b[0m \u001b[0m\u001b[1m\u001b[0mresource_version\u001b[0m\u001b[0m = (known after apply)\n",
      "              \u001b[32m+\u001b[0m \u001b[0m\u001b[1m\u001b[0mself_link\u001b[0m\u001b[0m        = (known after apply)\n",
      "              \u001b[32m+\u001b[0m \u001b[0m\u001b[1m\u001b[0muid\u001b[0m\u001b[0m              = (known after apply)\n",
      "            }\n",
      "\n",
      "          \u001b[32m+\u001b[0m \u001b[0mspec {\n",
      "              \u001b[32m+\u001b[0m \u001b[0m\u001b[1m\u001b[0mcontainer_concurrency\u001b[0m\u001b[0m = (known after apply)\n",
      "              \u001b[32m+\u001b[0m \u001b[0m\u001b[1m\u001b[0mservice_account_name\u001b[0m\u001b[0m  = (known after apply)\n",
      "              \u001b[32m+\u001b[0m \u001b[0m\u001b[1m\u001b[0mserving_state\u001b[0m\u001b[0m         = (known after apply)\n",
      "              \u001b[32m+\u001b[0m \u001b[0m\u001b[1m\u001b[0mtimeout_seconds\u001b[0m\u001b[0m       = (known after apply)\n",
      "\n",
      "              \u001b[32m+\u001b[0m \u001b[0mcontainers {\n",
      "                  \u001b[32m+\u001b[0m \u001b[0m\u001b[1m\u001b[0mimage\u001b[0m\u001b[0m = \"us-central1-docker.pkg.dev/ali-gcp-450510/kitchensink-repo/kitchensink:latest\"\n",
      "                  \u001b[32m+\u001b[0m \u001b[0m\u001b[1m\u001b[0mname\u001b[0m\u001b[0m  = (known after apply)\n",
      "\n",
      "                  \u001b[32m+\u001b[0m \u001b[0mports {\n",
      "                      \u001b[32m+\u001b[0m \u001b[0m\u001b[1m\u001b[0mcontainer_port\u001b[0m\u001b[0m = 8080\n",
      "                      \u001b[32m+\u001b[0m \u001b[0m\u001b[1m\u001b[0mname\u001b[0m\u001b[0m           = (known after apply)\n",
      "                    }\n",
      "\n",
      "                  \u001b[32m+\u001b[0m \u001b[0mresources {\n",
      "                      \u001b[32m+\u001b[0m \u001b[0m\u001b[1m\u001b[0mlimits\u001b[0m\u001b[0m   = (known after apply)\n",
      "                      \u001b[32m+\u001b[0m \u001b[0m\u001b[1m\u001b[0mrequests\u001b[0m\u001b[0m = (known after apply)\n",
      "                    }\n",
      "\n",
      "                  \u001b[32m+\u001b[0m \u001b[0mstartup_probe {\n",
      "                      \u001b[32m+\u001b[0m \u001b[0m\u001b[1m\u001b[0mfailure_threshold\u001b[0m\u001b[0m     = (known after apply)\n",
      "                      \u001b[32m+\u001b[0m \u001b[0m\u001b[1m\u001b[0minitial_delay_seconds\u001b[0m\u001b[0m = (known after apply)\n",
      "                      \u001b[32m+\u001b[0m \u001b[0m\u001b[1m\u001b[0mperiod_seconds\u001b[0m\u001b[0m        = (known after apply)\n",
      "                      \u001b[32m+\u001b[0m \u001b[0m\u001b[1m\u001b[0mtimeout_seconds\u001b[0m\u001b[0m       = (known after apply)\n",
      "\n",
      "                      \u001b[32m+\u001b[0m \u001b[0mgrpc {\n",
      "                          \u001b[32m+\u001b[0m \u001b[0m\u001b[1m\u001b[0mport\u001b[0m\u001b[0m    = (known after apply)\n",
      "                          \u001b[32m+\u001b[0m \u001b[0m\u001b[1m\u001b[0mservice\u001b[0m\u001b[0m = (known after apply)\n",
      "                        }\n",
      "\n",
      "                      \u001b[32m+\u001b[0m \u001b[0mhttp_get {\n",
      "                          \u001b[32m+\u001b[0m \u001b[0m\u001b[1m\u001b[0mpath\u001b[0m\u001b[0m = (known after apply)\n",
      "                          \u001b[32m+\u001b[0m \u001b[0m\u001b[1m\u001b[0mport\u001b[0m\u001b[0m = (known after apply)\n",
      "\n",
      "                          \u001b[32m+\u001b[0m \u001b[0mhttp_headers {\n",
      "                              \u001b[32m+\u001b[0m \u001b[0m\u001b[1m\u001b[0mname\u001b[0m\u001b[0m  = (known after apply)\n",
      "                              \u001b[32m+\u001b[0m \u001b[0m\u001b[1m\u001b[0mvalue\u001b[0m\u001b[0m = (known after apply)\n",
      "                            }\n",
      "                        }\n",
      "\n",
      "                      \u001b[32m+\u001b[0m \u001b[0mtcp_socket {\n",
      "                          \u001b[32m+\u001b[0m \u001b[0m\u001b[1m\u001b[0mport\u001b[0m\u001b[0m = (known after apply)\n",
      "                        }\n",
      "                    }\n",
      "                }\n",
      "            }\n",
      "        }\n",
      "\n",
      "      \u001b[32m+\u001b[0m \u001b[0mtraffic {\n",
      "          \u001b[32m+\u001b[0m \u001b[0m\u001b[1m\u001b[0mlatest_revision\u001b[0m\u001b[0m = true\n",
      "          \u001b[32m+\u001b[0m \u001b[0m\u001b[1m\u001b[0mpercent\u001b[0m\u001b[0m         = 100\n",
      "          \u001b[32m+\u001b[0m \u001b[0m\u001b[1m\u001b[0murl\u001b[0m\u001b[0m             = (known after apply)\n",
      "        }\n",
      "    }\n",
      "\n",
      "\u001b[1m  # google_cloud_run_service_iam_policy.public_access\u001b[0m will be created\u001b[0m\u001b[0m\n",
      "\u001b[0m  \u001b[32m+\u001b[0m\u001b[0m resource \"google_cloud_run_service_iam_policy\" \"public_access\" {\n",
      "      \u001b[32m+\u001b[0m \u001b[0m\u001b[1m\u001b[0metag\u001b[0m\u001b[0m        = (known after apply)\n",
      "      \u001b[32m+\u001b[0m \u001b[0m\u001b[1m\u001b[0mid\u001b[0m\u001b[0m          = (known after apply)\n",
      "      \u001b[32m+\u001b[0m \u001b[0m\u001b[1m\u001b[0mlocation\u001b[0m\u001b[0m    = \"us-central1\"\n",
      "      \u001b[32m+\u001b[0m \u001b[0m\u001b[1m\u001b[0mpolicy_data\u001b[0m\u001b[0m = jsonencode(\n",
      "            {\n",
      "              \u001b[32m+\u001b[0m \u001b[0mbindings = [\n",
      "                  \u001b[32m+\u001b[0m \u001b[0m{\n",
      "                      \u001b[32m+\u001b[0m \u001b[0mmembers = [\n",
      "                          \u001b[32m+\u001b[0m \u001b[0m\"allUsers\",\n",
      "                        ]\n",
      "                      \u001b[32m+\u001b[0m \u001b[0mrole    = \"roles/run.invoker\"\n",
      "                    },\n",
      "                ]\n",
      "            }\n",
      "        )\n",
      "      \u001b[32m+\u001b[0m \u001b[0m\u001b[1m\u001b[0mproject\u001b[0m\u001b[0m     = (known after apply)\n",
      "      \u001b[32m+\u001b[0m \u001b[0m\u001b[1m\u001b[0mservice\u001b[0m\u001b[0m     = \"kitchensink-app\"\n",
      "    }\n",
      "\n",
      "\u001b[1m  # google_cloudbuild_trigger.docker_build\u001b[0m will be created\u001b[0m\u001b[0m\n",
      "\u001b[0m  \u001b[32m+\u001b[0m\u001b[0m resource \"google_cloudbuild_trigger\" \"docker_build\" {\n",
      "      \u001b[32m+\u001b[0m \u001b[0m\u001b[1m\u001b[0mcreate_time\u001b[0m\u001b[0m = (known after apply)\n",
      "      \u001b[32m+\u001b[0m \u001b[0m\u001b[1m\u001b[0mfilename\u001b[0m\u001b[0m    = \"cloudbuild.yaml\"\n",
      "      \u001b[32m+\u001b[0m \u001b[0m\u001b[1m\u001b[0mid\u001b[0m\u001b[0m          = (known after apply)\n",
      "      \u001b[32m+\u001b[0m \u001b[0m\u001b[1m\u001b[0mlocation\u001b[0m\u001b[0m    = \"us-central1\"\n",
      "      \u001b[32m+\u001b[0m \u001b[0m\u001b[1m\u001b[0mname\u001b[0m\u001b[0m        = \"kitchensink-build\"\n",
      "      \u001b[32m+\u001b[0m \u001b[0m\u001b[1m\u001b[0mproject\u001b[0m\u001b[0m     = \"ali-gcp-450510\"\n",
      "      \u001b[32m+\u001b[0m \u001b[0m\u001b[1m\u001b[0mtrigger_id\u001b[0m\u001b[0m  = (known after apply)\n",
      "\n",
      "      \u001b[32m+\u001b[0m \u001b[0mapproval_config {\n",
      "          \u001b[32m+\u001b[0m \u001b[0m\u001b[1m\u001b[0mapproval_required\u001b[0m\u001b[0m = (known after apply)\n",
      "        }\n",
      "\n",
      "      \u001b[32m+\u001b[0m \u001b[0mgithub {\n",
      "          \u001b[32m+\u001b[0m \u001b[0m\u001b[1m\u001b[0mname\u001b[0m\u001b[0m  = \"YOUR_REPOSITORY_NAME\"\n",
      "          \u001b[32m+\u001b[0m \u001b[0m\u001b[1m\u001b[0mowner\u001b[0m\u001b[0m = \"YOUR_GITHUB_USERNAME\"\n",
      "\n",
      "          \u001b[32m+\u001b[0m \u001b[0mpush {\n",
      "              \u001b[32m+\u001b[0m \u001b[0m\u001b[1m\u001b[0mbranch\u001b[0m\u001b[0m = \"main\"\n",
      "            }\n",
      "        }\n",
      "    }\n",
      "\n",
      "\u001b[0m\u001b[1mPlan:\u001b[0m 4 to add, 0 to change, 0 to destroy.\n",
      "\u001b[0m\u001b[0m\n",
      "\u001b[1mChanges to Outputs:\u001b[0m\u001b[0m\n",
      "  \u001b[32m+\u001b[0m \u001b[0m\u001b[1m\u001b[0mcloud_run_url\u001b[0m\u001b[0m = (known after apply)\n",
      "\u001b[0m\u001b[1m\n",
      "Do you want to perform these actions?\u001b[0m\n",
      "  Terraform will perform the actions described above.\n",
      "  Only 'yes' will be accepted to approve.\n",
      "\n",
      "^C\u001b[1mEnter a value:\u001b[0m \u001b[0m\n",
      "\n",
      "\n",
      "Interrupt received.\n",
      "Please wait for Terraform to exit or data loss may occur.\n",
      "Gracefully shutting down...\n",
      "\n",
      "\u001b[31m╷\u001b[0m\u001b[0m\n",
      "\u001b[31m│\u001b[0m \u001b[0m\u001b[1m\u001b[31mError: \u001b[0m\u001b[0m\u001b[1mError asking for approval: interrupted\u001b[0m\n",
      "\u001b[31m│\u001b[0m \u001b[0m\n",
      "\u001b[31m│\u001b[0m \u001b[0m\u001b[0m\n",
      "\u001b[31m╵\u001b[0m\u001b[0m\n"
     ]
    }
   ],
   "source": [
    "!pwd\n",
    "!cd ./spring-kitchensink/spring/kitchensink/terraform/ && terraform init && terraform apply -var=\"gcp_project_id=$(gcloud config get-value project)\" && terraform apply\n",
    "# !terraform init                                                                                                    \n",
    "# !terraform apply  \n"
   ]
  },
  {
   "cell_type": "code",
   "execution_count": 17,
   "id": "c4028f2d-e301-4a44-90da-9c3cd64be39a",
   "metadata": {},
   "outputs": [
    {
     "data": {
      "text/html": [
       "<pre style=\"white-space:pre;overflow-x:auto;line-height:normal;font-family:Menlo,'DejaVu Sans Mono',consolas,'Courier New',monospace\"><span style=\"color: #000080; text-decoration-color: #000080\">To get the current GCP project ID and update your Terraform configuration, you can use the </span><span style=\"color: #008080; text-decoration-color: #008080; background-color: #000000; font-weight: bold\">gcloud</span><span style=\"color: #000080; text-decoration-color: #000080\"> command-line tool</span>\n",
       "<span style=\"color: #000080; text-decoration-color: #000080\">to retrieve the project ID and then pass it as a variable to Terraform. Here's how you can do it:</span>                  \n",
       "\n",
       "<span style=\"color: #808000; text-decoration-color: #808000; font-weight: bold\"> 1 </span><span style=\"color: #000080; text-decoration-color: #000080; font-weight: bold\">Retrieve the current GCP project ID</span><span style=\"color: #000080; text-decoration-color: #000080\"> using the </span><span style=\"color: #008080; text-decoration-color: #008080; background-color: #000000; font-weight: bold\">gcloud</span><span style=\"color: #000080; text-decoration-color: #000080\"> command:                                                   </span>\n",
       "\n",
       "<span style=\"background-color: #f8f8f8\">                                                                                                                   </span>\n",
       "<span style=\"background-color: #f8f8f8\"> </span><span style=\"color: #000000; text-decoration-color: #000000; background-color: #f8f8f8\">gcloud</span><span style=\"color: #bbbbbb; text-decoration-color: #bbbbbb; background-color: #f8f8f8\"> </span><span style=\"color: #000000; text-decoration-color: #000000; background-color: #f8f8f8\">config</span><span style=\"color: #bbbbbb; text-decoration-color: #bbbbbb; background-color: #f8f8f8\"> </span><span style=\"color: #000000; text-decoration-color: #000000; background-color: #f8f8f8\">get-value</span><span style=\"color: #bbbbbb; text-decoration-color: #bbbbbb; background-color: #f8f8f8\"> </span><span style=\"color: #000000; text-decoration-color: #000000; background-color: #f8f8f8\">project</span><span style=\"background-color: #f8f8f8\">                                                                                   </span>\n",
       "<span style=\"background-color: #f8f8f8\">                                                                                                                   </span>\n",
       "\n",
       "<span style=\"color: #808000; text-decoration-color: #808000; font-weight: bold\"> 2 </span><span style=\"color: #000080; text-decoration-color: #000080; font-weight: bold\">Update your Terraform configuration</span><span style=\"color: #000080; text-decoration-color: #000080\"> to use this project ID. You can pass it as a variable when running Terraform</span>\n",
       "<span style=\"color: #808000; text-decoration-color: #808000; font-weight: bold\">   </span><span style=\"color: #000080; text-decoration-color: #000080\">commands. Here's how you can modify your </span><span style=\"color: #008080; text-decoration-color: #008080; background-color: #000000; font-weight: bold\">main.tf</span><span style=\"color: #000080; text-decoration-color: #000080\"> to use a variable for the project ID:                          </span>\n",
       "\n",
       "<span style=\"color: #000080; text-decoration-color: #000080\">spring/kitchensink/terraform/main.tf</span>                                                                               \n",
       "\n",
       "<span style=\"background-color: #f8f8f8\">                                                                                                                   </span>\n",
       "<span style=\"background-color: #f8f8f8\"> </span><span style=\"color: #000000; text-decoration-color: #000000; background-color: #f8f8f8\">&lt;&lt;&lt;&lt;&lt;</span><span style=\"color: #666666; text-decoration-color: #666666; background-color: #f8f8f8\">&lt;&lt;</span><span style=\"color: #ba2121; text-decoration-color: #ba2121; background-color: #f8f8f8\">SEARCH</span><span style=\"background-color: #f8f8f8\">                                                                                                     </span>\n",
       "<span style=\"background-color: #f8f8f8\"> </span><span style=\"color: #000000; text-decoration-color: #000000; background-color: #f8f8f8\">variable \"gcp_project_id\" {</span><span style=\"background-color: #f8f8f8\">                                                                                       </span>\n",
       "<span style=\"background-color: #f8f8f8\"> </span><span style=\"color: #000000; text-decoration-color: #000000; background-color: #f8f8f8\">  description = \"GCP Project ID\"</span><span style=\"background-color: #f8f8f8\">                                                                                  </span>\n",
       "<span style=\"background-color: #f8f8f8\"> </span><span style=\"color: #000000; text-decoration-color: #000000; background-color: #f8f8f8\">  type        = string</span><span style=\"background-color: #f8f8f8\">                                                                                            </span>\n",
       "<span style=\"background-color: #f8f8f8\"> </span><span style=\"color: #000000; text-decoration-color: #000000; background-color: #f8f8f8\">}</span><span style=\"background-color: #f8f8f8\">                                                                                                                 </span>\n",
       "<span style=\"background-color: #f8f8f8\"> </span><span style=\"color: #000000; text-decoration-color: #000000; background-color: #f8f8f8\">=======</span><span style=\"background-color: #f8f8f8\">                                                                                                           </span>\n",
       "<span style=\"background-color: #f8f8f8\"> </span><span style=\"color: #000000; text-decoration-color: #000000; background-color: #f8f8f8\">variable \"gcp_project_id\" {</span><span style=\"background-color: #f8f8f8\">                                                                                       </span>\n",
       "<span style=\"background-color: #f8f8f8\"> </span><span style=\"color: #000000; text-decoration-color: #000000; background-color: #f8f8f8\">  description = \"GCP Project ID\"</span><span style=\"background-color: #f8f8f8\">                                                                                  </span>\n",
       "<span style=\"background-color: #f8f8f8\"> </span><span style=\"color: #000000; text-decoration-color: #000000; background-color: #f8f8f8\">  type        = string</span><span style=\"background-color: #f8f8f8\">                                                                                            </span>\n",
       "<span style=\"background-color: #f8f8f8\"> </span><span style=\"color: #000000; text-decoration-color: #000000; background-color: #f8f8f8\">  default     = \"YOUR_PROJECT_ID\"</span><span style=\"background-color: #f8f8f8\">                                                                                 </span>\n",
       "<span style=\"background-color: #f8f8f8\"> </span><span style=\"color: #000000; text-decoration-color: #000000; background-color: #f8f8f8\">}</span><span style=\"background-color: #f8f8f8\">                                                                                                                 </span>\n",
       "<span style=\"background-color: #f8f8f8\"> </span><span style=\"color: #000000; text-decoration-color: #000000; background-color: #f8f8f8\">&gt;&gt;&gt;&gt;&gt;&gt;&gt; REPLACE</span><span style=\"background-color: #f8f8f8\">                                                                                                   </span>\n",
       "<span style=\"background-color: #f8f8f8\"> </span><span style=\"color: #008000; text-decoration-color: #008000; background-color: #f8f8f8; font-weight: bold\">variable</span><span style=\"color: #bbbbbb; text-decoration-color: #bbbbbb; background-color: #f8f8f8\"> </span><span style=\"color: #19177c; text-decoration-color: #19177c; background-color: #f8f8f8\">\"gcp_project_id\"</span><span style=\"color: #bbbbbb; text-decoration-color: #bbbbbb; background-color: #f8f8f8\"> </span><span style=\"color: #000000; text-decoration-color: #000000; background-color: #f8f8f8\">{</span><span style=\"background-color: #f8f8f8\">                                                                                       </span>\n",
       "<span style=\"background-color: #f8f8f8\"> </span><span style=\"color: #bbbbbb; text-decoration-color: #bbbbbb; background-color: #f8f8f8\">  </span><span style=\"color: #687822; text-decoration-color: #687822; background-color: #f8f8f8\">description</span><span style=\"color: #bbbbbb; text-decoration-color: #bbbbbb; background-color: #f8f8f8\"> </span><span style=\"color: #666666; text-decoration-color: #666666; background-color: #f8f8f8\">=</span><span style=\"color: #bbbbbb; text-decoration-color: #bbbbbb; background-color: #f8f8f8\"> </span><span style=\"color: #ba2121; text-decoration-color: #ba2121; background-color: #f8f8f8\">\"GCP Project ID\"</span><span style=\"background-color: #f8f8f8\">                                                                                  </span>\n",
       "<span style=\"background-color: #f8f8f8\"> </span><span style=\"color: #bbbbbb; text-decoration-color: #bbbbbb; background-color: #f8f8f8\">  </span><span style=\"color: #687822; text-decoration-color: #687822; background-color: #f8f8f8\">type</span><span style=\"color: #bbbbbb; text-decoration-color: #bbbbbb; background-color: #f8f8f8\">        </span><span style=\"color: #666666; text-decoration-color: #666666; background-color: #f8f8f8\">=</span><span style=\"color: #bbbbbb; text-decoration-color: #bbbbbb; background-color: #f8f8f8\"> </span><span style=\"color: #b00040; text-decoration-color: #b00040; background-color: #f8f8f8\">string</span><span style=\"background-color: #f8f8f8\">                                                                                            </span>\n",
       "<span style=\"background-color: #f8f8f8\"> </span><span style=\"color: #000000; text-decoration-color: #000000; background-color: #f8f8f8\">}</span><span style=\"background-color: #f8f8f8\">                                                                                                                 </span>\n",
       "<span style=\"background-color: #f8f8f8\"> </span><span style=\"color: #000000; text-decoration-color: #000000; background-color: #f8f8f8\">=======</span><span style=\"background-color: #f8f8f8\">                                                                                                           </span>\n",
       "<span style=\"background-color: #f8f8f8\"> </span><span style=\"color: #008000; text-decoration-color: #008000; background-color: #f8f8f8; font-weight: bold\">variable</span><span style=\"color: #bbbbbb; text-decoration-color: #bbbbbb; background-color: #f8f8f8\"> </span><span style=\"color: #19177c; text-decoration-color: #19177c; background-color: #f8f8f8\">\"gcp_project_id\"</span><span style=\"color: #bbbbbb; text-decoration-color: #bbbbbb; background-color: #f8f8f8\"> </span><span style=\"color: #000000; text-decoration-color: #000000; background-color: #f8f8f8\">{</span><span style=\"background-color: #f8f8f8\">                                                                                       </span>\n",
       "<span style=\"background-color: #f8f8f8\"> </span><span style=\"color: #bbbbbb; text-decoration-color: #bbbbbb; background-color: #f8f8f8\">  </span><span style=\"color: #687822; text-decoration-color: #687822; background-color: #f8f8f8\">description</span><span style=\"color: #bbbbbb; text-decoration-color: #bbbbbb; background-color: #f8f8f8\"> </span><span style=\"color: #666666; text-decoration-color: #666666; background-color: #f8f8f8\">=</span><span style=\"color: #bbbbbb; text-decoration-color: #bbbbbb; background-color: #f8f8f8\"> </span><span style=\"color: #ba2121; text-decoration-color: #ba2121; background-color: #f8f8f8\">\"GCP Project ID\"</span><span style=\"background-color: #f8f8f8\">                                                                                  </span>\n",
       "<span style=\"background-color: #f8f8f8\"> </span><span style=\"color: #bbbbbb; text-decoration-color: #bbbbbb; background-color: #f8f8f8\">  </span><span style=\"color: #687822; text-decoration-color: #687822; background-color: #f8f8f8\">type</span><span style=\"color: #bbbbbb; text-decoration-color: #bbbbbb; background-color: #f8f8f8\">        </span><span style=\"color: #666666; text-decoration-color: #666666; background-color: #f8f8f8\">=</span><span style=\"color: #bbbbbb; text-decoration-color: #bbbbbb; background-color: #f8f8f8\"> </span><span style=\"color: #b00040; text-decoration-color: #b00040; background-color: #f8f8f8\">string</span><span style=\"background-color: #f8f8f8\">                                                                                            </span>\n",
       "<span style=\"background-color: #f8f8f8\"> </span><span style=\"color: #bbbbbb; text-decoration-color: #bbbbbb; background-color: #f8f8f8\">  </span><span style=\"color: #687822; text-decoration-color: #687822; background-color: #f8f8f8\">default</span><span style=\"color: #bbbbbb; text-decoration-color: #bbbbbb; background-color: #f8f8f8\">     </span><span style=\"color: #666666; text-decoration-color: #666666; background-color: #f8f8f8\">=</span><span style=\"color: #bbbbbb; text-decoration-color: #bbbbbb; background-color: #f8f8f8\"> </span><span style=\"color: #ba2121; text-decoration-color: #ba2121; background-color: #f8f8f8\">\"YOUR_PROJECT_ID\"</span><span style=\"background-color: #f8f8f8\">                                                                                 </span>\n",
       "<span style=\"background-color: #f8f8f8\"> </span><span style=\"color: #000000; text-decoration-color: #000000; background-color: #f8f8f8\">}</span><span style=\"background-color: #f8f8f8\">                                                                                                                 </span>\n",
       "<span style=\"background-color: #f8f8f8\"> </span><span style=\"color: #000000; text-decoration-color: #000000; background-color: #f8f8f8\">&gt;&gt;&gt;&gt;&gt;&gt;&gt;</span><span style=\"color: #bbbbbb; text-decoration-color: #bbbbbb; background-color: #f8f8f8\"> </span><span style=\"color: #000000; text-decoration-color: #000000; background-color: #f8f8f8\">REPLACE</span><span style=\"background-color: #f8f8f8\">                                                                                                   </span>\n",
       "<span style=\"background-color: #f8f8f8\">                                                                                                                   </span>\n",
       "\n",
       "<span style=\"color: #000080; text-decoration-color: #000080\">Replace </span><span style=\"color: #008080; text-decoration-color: #008080; background-color: #000000; font-weight: bold\">\"YOUR_PROJECT_ID\"</span><span style=\"color: #000080; text-decoration-color: #000080\"> with the actual project ID you retrieved using the </span><span style=\"color: #008080; text-decoration-color: #008080; background-color: #000000; font-weight: bold\">gcloud</span><span style=\"color: #000080; text-decoration-color: #000080\"> command.</span>                       \n",
       "\n",
       "<span style=\"color: #808000; text-decoration-color: #808000; font-weight: bold\"> 3 </span><span style=\"color: #000080; text-decoration-color: #000080; font-weight: bold\">Pass the project ID as a variable</span><span style=\"color: #000080; text-decoration-color: #000080\"> when running Terraform:                                                       </span>\n",
       "\n",
       "<span style=\"background-color: #f8f8f8\">                                                                                                                   </span>\n",
       "<span style=\"background-color: #f8f8f8\"> </span><span style=\"color: #000000; text-decoration-color: #000000; background-color: #f8f8f8\">terraform</span><span style=\"color: #bbbbbb; text-decoration-color: #bbbbbb; background-color: #f8f8f8\"> </span><span style=\"color: #000000; text-decoration-color: #000000; background-color: #f8f8f8\">init</span><span style=\"background-color: #f8f8f8\">                                                                                                    </span>\n",
       "<span style=\"background-color: #f8f8f8\"> </span><span style=\"color: #000000; text-decoration-color: #000000; background-color: #f8f8f8\">terraform</span><span style=\"color: #bbbbbb; text-decoration-color: #bbbbbb; background-color: #f8f8f8\"> </span><span style=\"color: #000000; text-decoration-color: #000000; background-color: #f8f8f8\">apply</span><span style=\"color: #bbbbbb; text-decoration-color: #bbbbbb; background-color: #f8f8f8\"> </span><span style=\"color: #000000; text-decoration-color: #000000; background-color: #f8f8f8\">-var</span><span style=\"color: #666666; text-decoration-color: #666666; background-color: #f8f8f8\">=</span><span style=\"color: #ba2121; text-decoration-color: #ba2121; background-color: #f8f8f8\">\"gcp_project_id=</span><span style=\"color: #008000; text-decoration-color: #008000; background-color: #f8f8f8; font-weight: bold\">$(</span><span style=\"color: #000000; text-decoration-color: #000000; background-color: #f8f8f8\">gcloud</span><span style=\"color: #bbbbbb; text-decoration-color: #bbbbbb; background-color: #f8f8f8\"> </span><span style=\"color: #000000; text-decoration-color: #000000; background-color: #f8f8f8\">config</span><span style=\"color: #bbbbbb; text-decoration-color: #bbbbbb; background-color: #f8f8f8\"> </span><span style=\"color: #000000; text-decoration-color: #000000; background-color: #f8f8f8\">get-value</span><span style=\"color: #bbbbbb; text-decoration-color: #bbbbbb; background-color: #f8f8f8\"> </span><span style=\"color: #000000; text-decoration-color: #000000; background-color: #f8f8f8\">project</span><span style=\"color: #008000; text-decoration-color: #008000; background-color: #f8f8f8; font-weight: bold\">)</span><span style=\"color: #ba2121; text-decoration-color: #ba2121; background-color: #f8f8f8\">\"</span><span style=\"background-color: #f8f8f8\">                                          </span>\n",
       "<span style=\"background-color: #f8f8f8\">                                                                                                                   </span>\n",
       "\n",
       "<span style=\"color: #000080; text-decoration-color: #000080\">This approach ensures that your Terraform configuration dynamically uses the current GCP project ID.</span>               \n",
       "</pre>\n"
      ],
      "text/plain": [
       "\u001b[34mTo get the current GCP project ID and update your Terraform configuration, you can use the \u001b[0m\u001b[1;36;40mgcloud\u001b[0m\u001b[34m command-line tool\u001b[0m\n",
       "\u001b[34mto retrieve the project ID and then pass it as a variable to Terraform. Here's how you can do it:\u001b[0m                  \n",
       "\n",
       "\u001b[1;33m 1 \u001b[0m\u001b[1;34mRetrieve the current GCP project ID\u001b[0m\u001b[34m using the \u001b[0m\u001b[1;36;40mgcloud\u001b[0m\u001b[34m command:\u001b[0m\u001b[34m                                                   \u001b[0m\n",
       "\n",
       "\u001b[48;2;248;248;248m                                                                                                                   \u001b[0m\n",
       "\u001b[48;2;248;248;248m \u001b[0m\u001b[38;2;0;0;0;48;2;248;248;248mgcloud\u001b[0m\u001b[38;2;187;187;187;48;2;248;248;248m \u001b[0m\u001b[38;2;0;0;0;48;2;248;248;248mconfig\u001b[0m\u001b[38;2;187;187;187;48;2;248;248;248m \u001b[0m\u001b[38;2;0;0;0;48;2;248;248;248mget-value\u001b[0m\u001b[38;2;187;187;187;48;2;248;248;248m \u001b[0m\u001b[38;2;0;0;0;48;2;248;248;248mproject\u001b[0m\u001b[48;2;248;248;248m                                                                                  \u001b[0m\u001b[48;2;248;248;248m \u001b[0m\n",
       "\u001b[48;2;248;248;248m                                                                                                                   \u001b[0m\n",
       "\n",
       "\u001b[1;33m 2 \u001b[0m\u001b[1;34mUpdate your Terraform configuration\u001b[0m\u001b[34m to use this project ID. You can pass it as a variable when running Terraform\u001b[0m\n",
       "\u001b[1;33m   \u001b[0m\u001b[34mcommands. Here's how you can modify your \u001b[0m\u001b[1;36;40mmain.tf\u001b[0m\u001b[34m to use a variable for the project ID:\u001b[0m\u001b[34m                          \u001b[0m\n",
       "\n",
       "\u001b[34mspring/kitchensink/terraform/main.tf\u001b[0m                                                                               \n",
       "\n",
       "\u001b[48;2;248;248;248m                                                                                                                   \u001b[0m\n",
       "\u001b[48;2;248;248;248m \u001b[0m\u001b[38;2;0;0;0;48;2;248;248;248m<\u001b[0m\u001b[38;2;0;0;0;48;2;248;248;248m<\u001b[0m\u001b[38;2;0;0;0;48;2;248;248;248m<\u001b[0m\u001b[38;2;0;0;0;48;2;248;248;248m<\u001b[0m\u001b[38;2;0;0;0;48;2;248;248;248m<\u001b[0m\u001b[38;2;102;102;102;48;2;248;248;248m<<\u001b[0m\u001b[38;2;186;33;33;48;2;248;248;248mSEARCH\u001b[0m\u001b[48;2;248;248;248m                                                                                                    \u001b[0m\u001b[48;2;248;248;248m \u001b[0m\n",
       "\u001b[48;2;248;248;248m \u001b[0m\u001b[38;2;0;0;0;48;2;248;248;248mvariable \"gcp_project_id\" {\u001b[0m\u001b[48;2;248;248;248m                                                                                      \u001b[0m\u001b[48;2;248;248;248m \u001b[0m\n",
       "\u001b[48;2;248;248;248m \u001b[0m\u001b[38;2;0;0;0;48;2;248;248;248m  description = \"GCP Project ID\"\u001b[0m\u001b[48;2;248;248;248m                                                                                 \u001b[0m\u001b[48;2;248;248;248m \u001b[0m\n",
       "\u001b[48;2;248;248;248m \u001b[0m\u001b[38;2;0;0;0;48;2;248;248;248m  type        = string\u001b[0m\u001b[48;2;248;248;248m                                                                                           \u001b[0m\u001b[48;2;248;248;248m \u001b[0m\n",
       "\u001b[48;2;248;248;248m \u001b[0m\u001b[38;2;0;0;0;48;2;248;248;248m}\u001b[0m\u001b[48;2;248;248;248m                                                                                                                \u001b[0m\u001b[48;2;248;248;248m \u001b[0m\n",
       "\u001b[48;2;248;248;248m \u001b[0m\u001b[38;2;0;0;0;48;2;248;248;248m=======\u001b[0m\u001b[48;2;248;248;248m                                                                                                          \u001b[0m\u001b[48;2;248;248;248m \u001b[0m\n",
       "\u001b[48;2;248;248;248m \u001b[0m\u001b[38;2;0;0;0;48;2;248;248;248mvariable \"gcp_project_id\" {\u001b[0m\u001b[48;2;248;248;248m                                                                                      \u001b[0m\u001b[48;2;248;248;248m \u001b[0m\n",
       "\u001b[48;2;248;248;248m \u001b[0m\u001b[38;2;0;0;0;48;2;248;248;248m  description = \"GCP Project ID\"\u001b[0m\u001b[48;2;248;248;248m                                                                                 \u001b[0m\u001b[48;2;248;248;248m \u001b[0m\n",
       "\u001b[48;2;248;248;248m \u001b[0m\u001b[38;2;0;0;0;48;2;248;248;248m  type        = string\u001b[0m\u001b[48;2;248;248;248m                                                                                           \u001b[0m\u001b[48;2;248;248;248m \u001b[0m\n",
       "\u001b[48;2;248;248;248m \u001b[0m\u001b[38;2;0;0;0;48;2;248;248;248m  default     = \"YOUR_PROJECT_ID\"\u001b[0m\u001b[48;2;248;248;248m                                                                                \u001b[0m\u001b[48;2;248;248;248m \u001b[0m\n",
       "\u001b[48;2;248;248;248m \u001b[0m\u001b[38;2;0;0;0;48;2;248;248;248m}\u001b[0m\u001b[48;2;248;248;248m                                                                                                                \u001b[0m\u001b[48;2;248;248;248m \u001b[0m\n",
       "\u001b[48;2;248;248;248m \u001b[0m\u001b[38;2;0;0;0;48;2;248;248;248m>>>>>>> REPLACE\u001b[0m\u001b[48;2;248;248;248m                                                                                                  \u001b[0m\u001b[48;2;248;248;248m \u001b[0m\n",
       "\u001b[48;2;248;248;248m \u001b[0m\u001b[1;38;2;0;128;0;48;2;248;248;248mvariable\u001b[0m\u001b[38;2;187;187;187;48;2;248;248;248m \u001b[0m\u001b[38;2;25;23;124;48;2;248;248;248m\"gcp_project_id\"\u001b[0m\u001b[38;2;187;187;187;48;2;248;248;248m \u001b[0m\u001b[38;2;0;0;0;48;2;248;248;248m{\u001b[0m\u001b[48;2;248;248;248m                                                                                      \u001b[0m\u001b[48;2;248;248;248m \u001b[0m\n",
       "\u001b[48;2;248;248;248m \u001b[0m\u001b[38;2;187;187;187;48;2;248;248;248m  \u001b[0m\u001b[38;2;104;120;34;48;2;248;248;248mdescription\u001b[0m\u001b[38;2;187;187;187;48;2;248;248;248m \u001b[0m\u001b[38;2;102;102;102;48;2;248;248;248m=\u001b[0m\u001b[38;2;187;187;187;48;2;248;248;248m \u001b[0m\u001b[38;2;186;33;33;48;2;248;248;248m\"GCP Project ID\"\u001b[0m\u001b[48;2;248;248;248m                                                                                 \u001b[0m\u001b[48;2;248;248;248m \u001b[0m\n",
       "\u001b[48;2;248;248;248m \u001b[0m\u001b[38;2;187;187;187;48;2;248;248;248m  \u001b[0m\u001b[38;2;104;120;34;48;2;248;248;248mtype\u001b[0m\u001b[38;2;187;187;187;48;2;248;248;248m        \u001b[0m\u001b[38;2;102;102;102;48;2;248;248;248m=\u001b[0m\u001b[38;2;187;187;187;48;2;248;248;248m \u001b[0m\u001b[38;2;176;0;64;48;2;248;248;248mstring\u001b[0m\u001b[48;2;248;248;248m                                                                                           \u001b[0m\u001b[48;2;248;248;248m \u001b[0m\n",
       "\u001b[48;2;248;248;248m \u001b[0m\u001b[38;2;0;0;0;48;2;248;248;248m}\u001b[0m\u001b[48;2;248;248;248m                                                                                                                \u001b[0m\u001b[48;2;248;248;248m \u001b[0m\n",
       "\u001b[48;2;248;248;248m \u001b[0m\u001b[38;2;0;0;0;48;2;248;248;248m=\u001b[0m\u001b[38;2;0;0;0;48;2;248;248;248m=\u001b[0m\u001b[38;2;0;0;0;48;2;248;248;248m=\u001b[0m\u001b[38;2;0;0;0;48;2;248;248;248m=\u001b[0m\u001b[38;2;0;0;0;48;2;248;248;248m=\u001b[0m\u001b[38;2;0;0;0;48;2;248;248;248m=\u001b[0m\u001b[38;2;0;0;0;48;2;248;248;248m=\u001b[0m\u001b[48;2;248;248;248m                                                                                                          \u001b[0m\u001b[48;2;248;248;248m \u001b[0m\n",
       "\u001b[48;2;248;248;248m \u001b[0m\u001b[1;38;2;0;128;0;48;2;248;248;248mvariable\u001b[0m\u001b[38;2;187;187;187;48;2;248;248;248m \u001b[0m\u001b[38;2;25;23;124;48;2;248;248;248m\"gcp_project_id\"\u001b[0m\u001b[38;2;187;187;187;48;2;248;248;248m \u001b[0m\u001b[38;2;0;0;0;48;2;248;248;248m{\u001b[0m\u001b[48;2;248;248;248m                                                                                      \u001b[0m\u001b[48;2;248;248;248m \u001b[0m\n",
       "\u001b[48;2;248;248;248m \u001b[0m\u001b[38;2;187;187;187;48;2;248;248;248m  \u001b[0m\u001b[38;2;104;120;34;48;2;248;248;248mdescription\u001b[0m\u001b[38;2;187;187;187;48;2;248;248;248m \u001b[0m\u001b[38;2;102;102;102;48;2;248;248;248m=\u001b[0m\u001b[38;2;187;187;187;48;2;248;248;248m \u001b[0m\u001b[38;2;186;33;33;48;2;248;248;248m\"GCP Project ID\"\u001b[0m\u001b[48;2;248;248;248m                                                                                 \u001b[0m\u001b[48;2;248;248;248m \u001b[0m\n",
       "\u001b[48;2;248;248;248m \u001b[0m\u001b[38;2;187;187;187;48;2;248;248;248m  \u001b[0m\u001b[38;2;104;120;34;48;2;248;248;248mtype\u001b[0m\u001b[38;2;187;187;187;48;2;248;248;248m        \u001b[0m\u001b[38;2;102;102;102;48;2;248;248;248m=\u001b[0m\u001b[38;2;187;187;187;48;2;248;248;248m \u001b[0m\u001b[38;2;176;0;64;48;2;248;248;248mstring\u001b[0m\u001b[48;2;248;248;248m                                                                                           \u001b[0m\u001b[48;2;248;248;248m \u001b[0m\n",
       "\u001b[48;2;248;248;248m \u001b[0m\u001b[38;2;187;187;187;48;2;248;248;248m  \u001b[0m\u001b[38;2;104;120;34;48;2;248;248;248mdefault\u001b[0m\u001b[38;2;187;187;187;48;2;248;248;248m     \u001b[0m\u001b[38;2;102;102;102;48;2;248;248;248m=\u001b[0m\u001b[38;2;187;187;187;48;2;248;248;248m \u001b[0m\u001b[38;2;186;33;33;48;2;248;248;248m\"YOUR_PROJECT_ID\"\u001b[0m\u001b[48;2;248;248;248m                                                                                \u001b[0m\u001b[48;2;248;248;248m \u001b[0m\n",
       "\u001b[48;2;248;248;248m \u001b[0m\u001b[38;2;0;0;0;48;2;248;248;248m}\u001b[0m\u001b[48;2;248;248;248m                                                                                                                \u001b[0m\u001b[48;2;248;248;248m \u001b[0m\n",
       "\u001b[48;2;248;248;248m \u001b[0m\u001b[38;2;0;0;0;48;2;248;248;248m>\u001b[0m\u001b[38;2;0;0;0;48;2;248;248;248m>\u001b[0m\u001b[38;2;0;0;0;48;2;248;248;248m>\u001b[0m\u001b[38;2;0;0;0;48;2;248;248;248m>\u001b[0m\u001b[38;2;0;0;0;48;2;248;248;248m>\u001b[0m\u001b[38;2;0;0;0;48;2;248;248;248m>\u001b[0m\u001b[38;2;0;0;0;48;2;248;248;248m>\u001b[0m\u001b[38;2;187;187;187;48;2;248;248;248m \u001b[0m\u001b[38;2;0;0;0;48;2;248;248;248mR\u001b[0m\u001b[38;2;0;0;0;48;2;248;248;248mE\u001b[0m\u001b[38;2;0;0;0;48;2;248;248;248mP\u001b[0m\u001b[38;2;0;0;0;48;2;248;248;248mL\u001b[0m\u001b[38;2;0;0;0;48;2;248;248;248mA\u001b[0m\u001b[38;2;0;0;0;48;2;248;248;248mC\u001b[0m\u001b[38;2;0;0;0;48;2;248;248;248mE\u001b[0m\u001b[48;2;248;248;248m                                                                                                  \u001b[0m\u001b[48;2;248;248;248m \u001b[0m\n",
       "\u001b[48;2;248;248;248m                                                                                                                   \u001b[0m\n",
       "\n",
       "\u001b[34mReplace \u001b[0m\u001b[1;36;40m\"YOUR_PROJECT_ID\"\u001b[0m\u001b[34m with the actual project ID you retrieved using the \u001b[0m\u001b[1;36;40mgcloud\u001b[0m\u001b[34m command.\u001b[0m                       \n",
       "\n",
       "\u001b[1;33m 3 \u001b[0m\u001b[1;34mPass the project ID as a variable\u001b[0m\u001b[34m when running Terraform:\u001b[0m\u001b[34m                                                       \u001b[0m\n",
       "\n",
       "\u001b[48;2;248;248;248m                                                                                                                   \u001b[0m\n",
       "\u001b[48;2;248;248;248m \u001b[0m\u001b[38;2;0;0;0;48;2;248;248;248mterraform\u001b[0m\u001b[38;2;187;187;187;48;2;248;248;248m \u001b[0m\u001b[38;2;0;0;0;48;2;248;248;248minit\u001b[0m\u001b[48;2;248;248;248m                                                                                                   \u001b[0m\u001b[48;2;248;248;248m \u001b[0m\n",
       "\u001b[48;2;248;248;248m \u001b[0m\u001b[38;2;0;0;0;48;2;248;248;248mterraform\u001b[0m\u001b[38;2;187;187;187;48;2;248;248;248m \u001b[0m\u001b[38;2;0;0;0;48;2;248;248;248mapply\u001b[0m\u001b[38;2;187;187;187;48;2;248;248;248m \u001b[0m\u001b[38;2;0;0;0;48;2;248;248;248m-var\u001b[0m\u001b[38;2;102;102;102;48;2;248;248;248m=\u001b[0m\u001b[38;2;186;33;33;48;2;248;248;248m\"\u001b[0m\u001b[38;2;186;33;33;48;2;248;248;248mgcp_project_id=\u001b[0m\u001b[1;38;2;0;128;0;48;2;248;248;248m$(\u001b[0m\u001b[38;2;0;0;0;48;2;248;248;248mgcloud\u001b[0m\u001b[38;2;187;187;187;48;2;248;248;248m \u001b[0m\u001b[38;2;0;0;0;48;2;248;248;248mconfig\u001b[0m\u001b[38;2;187;187;187;48;2;248;248;248m \u001b[0m\u001b[38;2;0;0;0;48;2;248;248;248mget-value\u001b[0m\u001b[38;2;187;187;187;48;2;248;248;248m \u001b[0m\u001b[38;2;0;0;0;48;2;248;248;248mproject\u001b[0m\u001b[1;38;2;0;128;0;48;2;248;248;248m)\u001b[0m\u001b[38;2;186;33;33;48;2;248;248;248m\"\u001b[0m\u001b[48;2;248;248;248m                                         \u001b[0m\u001b[48;2;248;248;248m \u001b[0m\n",
       "\u001b[48;2;248;248;248m                                                                                                                   \u001b[0m\n",
       "\n",
       "\u001b[34mThis approach ensures that your Terraform configuration dynamically uses the current GCP project ID.\u001b[0m               \n"
      ]
     },
     "metadata": {},
     "output_type": "display_data"
    },
    {
     "data": {
      "text/html": [
       "<pre style=\"white-space:pre;overflow-x:auto;line-height:normal;font-family:Menlo,'DejaVu Sans Mono',consolas,'Courier New',monospace\">\n",
       "</pre>\n"
      ],
      "text/plain": [
       "\n"
      ]
     },
     "metadata": {},
     "output_type": "display_data"
    },
    {
     "data": {
      "text/html": [
       "<pre style=\"white-space:pre;overflow-x:auto;line-height:normal;font-family:Menlo,'DejaVu Sans Mono',consolas,'Courier New',monospace\">Tokens: 9.0k sent, 281 received. Cost: $0.03 message, $0.16 session.\n",
       "</pre>\n"
      ],
      "text/plain": [
       "Tokens: 9.0k sent, 281 received. Cost: $0.03 message, $0.16 session.\n"
      ]
     },
     "metadata": {},
     "output_type": "display_data"
    },
    {
     "data": {
      "text/html": [
       "<pre style=\"white-space:pre;overflow-x:auto;line-height:normal;font-family:Menlo,'DejaVu Sans Mono',consolas,'Courier New',monospace\">Applied edit to spring/kitchensink/terraform/main.tf\n",
       "</pre>\n"
      ],
      "text/plain": [
       "Applied edit to spring/kitchensink/terraform/main.tf\n"
      ]
     },
     "metadata": {},
     "output_type": "display_data"
    },
    {
     "ename": "NoSectionError",
     "evalue": "No section: 'user'",
     "output_type": "error",
     "traceback": [
      "\u001b[0;31m---------------------------------------------------------------------------\u001b[0m",
      "\u001b[0;31mNoSectionError\u001b[0m                            Traceback (most recent call last)",
      "Cell \u001b[0;32mIn[17], line 1\u001b[0m\n\u001b[0;32m----> 1\u001b[0m aider_output \u001b[38;5;241m=\u001b[39m \u001b[43mcoder\u001b[49m\u001b[38;5;241;43m.\u001b[39;49m\u001b[43mrun\u001b[49m\u001b[43m(\u001b[49m\u001b[38;5;124;43m\"\u001b[39;49m\u001b[38;5;124;43mget current project id of gcp and update terraform either in main.tf or pass by var to starting terraform\u001b[39;49m\u001b[38;5;124;43m\"\u001b[39;49m\u001b[43m)\u001b[49m\n",
      "File \u001b[0;32m/opt/conda/lib/python3.10/site-packages/aider/coders/base_coder.py:825\u001b[0m, in \u001b[0;36mCoder.run\u001b[0;34m(self, with_message, preproc)\u001b[0m\n\u001b[1;32m    823\u001b[0m \u001b[38;5;28;01mif\u001b[39;00m with_message:\n\u001b[1;32m    824\u001b[0m     \u001b[38;5;28mself\u001b[39m\u001b[38;5;241m.\u001b[39mio\u001b[38;5;241m.\u001b[39muser_input(with_message)\n\u001b[0;32m--> 825\u001b[0m     \u001b[38;5;28;43mself\u001b[39;49m\u001b[38;5;241;43m.\u001b[39;49m\u001b[43mrun_one\u001b[49m\u001b[43m(\u001b[49m\u001b[43mwith_message\u001b[49m\u001b[43m,\u001b[49m\u001b[43m \u001b[49m\u001b[43mpreproc\u001b[49m\u001b[43m)\u001b[49m\n\u001b[1;32m    826\u001b[0m     \u001b[38;5;28;01mreturn\u001b[39;00m \u001b[38;5;28mself\u001b[39m\u001b[38;5;241m.\u001b[39mpartial_response_content\n\u001b[1;32m    827\u001b[0m \u001b[38;5;28;01mwhile\u001b[39;00m \u001b[38;5;28;01mTrue\u001b[39;00m:\n",
      "File \u001b[0;32m/opt/conda/lib/python3.10/site-packages/aider/coders/base_coder.py:879\u001b[0m, in \u001b[0;36mCoder.run_one\u001b[0;34m(self, user_message, preproc)\u001b[0m\n\u001b[1;32m    877\u001b[0m \u001b[38;5;28;01mwhile\u001b[39;00m message:\n\u001b[1;32m    878\u001b[0m     \u001b[38;5;28mself\u001b[39m\u001b[38;5;241m.\u001b[39mreflected_message \u001b[38;5;241m=\u001b[39m \u001b[38;5;28;01mNone\u001b[39;00m\n\u001b[0;32m--> 879\u001b[0m     \u001b[38;5;28;43mlist\u001b[39;49m\u001b[43m(\u001b[49m\u001b[38;5;28;43mself\u001b[39;49m\u001b[38;5;241;43m.\u001b[39;49m\u001b[43msend_message\u001b[49m\u001b[43m(\u001b[49m\u001b[43mmessage\u001b[49m\u001b[43m)\u001b[49m\u001b[43m)\u001b[49m\n\u001b[1;32m    881\u001b[0m     \u001b[38;5;28;01mif\u001b[39;00m \u001b[38;5;129;01mnot\u001b[39;00m \u001b[38;5;28mself\u001b[39m\u001b[38;5;241m.\u001b[39mreflected_message:\n\u001b[1;32m    882\u001b[0m         \u001b[38;5;28;01mbreak\u001b[39;00m\n",
      "File \u001b[0;32m/opt/conda/lib/python3.10/site-packages/aider/coders/base_coder.py:1435\u001b[0m, in \u001b[0;36mCoder.send_message\u001b[0;34m(self, inp)\u001b[0m\n\u001b[1;32m   1433\u001b[0m \u001b[38;5;28;01mif\u001b[39;00m edited:\n\u001b[1;32m   1434\u001b[0m     \u001b[38;5;28mself\u001b[39m\u001b[38;5;241m.\u001b[39maider_edited_files\u001b[38;5;241m.\u001b[39mupdate(edited)\n\u001b[0;32m-> 1435\u001b[0m     saved_message \u001b[38;5;241m=\u001b[39m \u001b[38;5;28;43mself\u001b[39;49m\u001b[38;5;241;43m.\u001b[39;49m\u001b[43mauto_commit\u001b[49m\u001b[43m(\u001b[49m\u001b[43medited\u001b[49m\u001b[43m)\u001b[49m\n\u001b[1;32m   1437\u001b[0m     \u001b[38;5;28;01mif\u001b[39;00m \u001b[38;5;129;01mnot\u001b[39;00m saved_message \u001b[38;5;129;01mand\u001b[39;00m \u001b[38;5;28mhasattr\u001b[39m(\u001b[38;5;28mself\u001b[39m\u001b[38;5;241m.\u001b[39mgpt_prompts, \u001b[38;5;124m\"\u001b[39m\u001b[38;5;124mfiles_content_gpt_edits_no_repo\u001b[39m\u001b[38;5;124m\"\u001b[39m):\n\u001b[1;32m   1438\u001b[0m         saved_message \u001b[38;5;241m=\u001b[39m \u001b[38;5;28mself\u001b[39m\u001b[38;5;241m.\u001b[39mgpt_prompts\u001b[38;5;241m.\u001b[39mfiles_content_gpt_edits_no_repo\n",
      "File \u001b[0;32m/opt/conda/lib/python3.10/site-packages/aider/coders/base_coder.py:2145\u001b[0m, in \u001b[0;36mCoder.auto_commit\u001b[0;34m(self, edited, context)\u001b[0m\n\u001b[1;32m   2142\u001b[0m     context \u001b[38;5;241m=\u001b[39m \u001b[38;5;28mself\u001b[39m\u001b[38;5;241m.\u001b[39mget_context_from_history(\u001b[38;5;28mself\u001b[39m\u001b[38;5;241m.\u001b[39mcur_messages)\n\u001b[1;32m   2144\u001b[0m \u001b[38;5;28;01mtry\u001b[39;00m:\n\u001b[0;32m-> 2145\u001b[0m     res \u001b[38;5;241m=\u001b[39m \u001b[38;5;28;43mself\u001b[39;49m\u001b[38;5;241;43m.\u001b[39;49m\u001b[43mrepo\u001b[49m\u001b[38;5;241;43m.\u001b[39;49m\u001b[43mcommit\u001b[49m\u001b[43m(\u001b[49m\u001b[43mfnames\u001b[49m\u001b[38;5;241;43m=\u001b[39;49m\u001b[43medited\u001b[49m\u001b[43m,\u001b[49m\u001b[43m \u001b[49m\u001b[43mcontext\u001b[49m\u001b[38;5;241;43m=\u001b[39;49m\u001b[43mcontext\u001b[49m\u001b[43m,\u001b[49m\u001b[43m \u001b[49m\u001b[43maider_edits\u001b[49m\u001b[38;5;241;43m=\u001b[39;49m\u001b[38;5;28;43;01mTrue\u001b[39;49;00m\u001b[43m)\u001b[49m\n\u001b[1;32m   2146\u001b[0m     \u001b[38;5;28;01mif\u001b[39;00m res:\n\u001b[1;32m   2147\u001b[0m         \u001b[38;5;28mself\u001b[39m\u001b[38;5;241m.\u001b[39mshow_auto_commit_outcome(res)\n",
      "File \u001b[0;32m/opt/conda/lib/python3.10/site-packages/aider/repo.py:148\u001b[0m, in \u001b[0;36mGitRepo.commit\u001b[0;34m(self, fnames, context, message, aider_edits)\u001b[0m\n\u001b[1;32m    145\u001b[0m \u001b[38;5;28;01melse\u001b[39;00m:\n\u001b[1;32m    146\u001b[0m     cmd \u001b[38;5;241m+\u001b[39m\u001b[38;5;241m=\u001b[39m [\u001b[38;5;124m\"\u001b[39m\u001b[38;5;124m-a\u001b[39m\u001b[38;5;124m\"\u001b[39m]\n\u001b[0;32m--> 148\u001b[0m original_user_name \u001b[38;5;241m=\u001b[39m \u001b[38;5;28;43mself\u001b[39;49m\u001b[38;5;241;43m.\u001b[39;49m\u001b[43mrepo\u001b[49m\u001b[38;5;241;43m.\u001b[39;49m\u001b[43mconfig_reader\u001b[49m\u001b[43m(\u001b[49m\u001b[43m)\u001b[49m\u001b[38;5;241;43m.\u001b[39;49m\u001b[43mget_value\u001b[49m\u001b[43m(\u001b[49m\u001b[38;5;124;43m\"\u001b[39;49m\u001b[38;5;124;43muser\u001b[39;49m\u001b[38;5;124;43m\"\u001b[39;49m\u001b[43m,\u001b[49m\u001b[43m \u001b[49m\u001b[38;5;124;43m\"\u001b[39;49m\u001b[38;5;124;43mname\u001b[39;49m\u001b[38;5;124;43m\"\u001b[39;49m\u001b[43m)\u001b[49m\n\u001b[1;32m    149\u001b[0m original_committer_name_env \u001b[38;5;241m=\u001b[39m os\u001b[38;5;241m.\u001b[39menviron\u001b[38;5;241m.\u001b[39mget(\u001b[38;5;124m\"\u001b[39m\u001b[38;5;124mGIT_COMMITTER_NAME\u001b[39m\u001b[38;5;124m\"\u001b[39m)\n\u001b[1;32m    150\u001b[0m committer_name \u001b[38;5;241m=\u001b[39m \u001b[38;5;124mf\u001b[39m\u001b[38;5;124m\"\u001b[39m\u001b[38;5;132;01m{\u001b[39;00moriginal_user_name\u001b[38;5;132;01m}\u001b[39;00m\u001b[38;5;124m (aider)\u001b[39m\u001b[38;5;124m\"\u001b[39m\n",
      "File \u001b[0;32m/opt/conda/lib/python3.10/site-packages/git/config.py:793\u001b[0m, in \u001b[0;36mGitConfigParser.get_value\u001b[0;34m(self, section, option, default)\u001b[0m\n\u001b[1;32m    776\u001b[0m \u001b[38;5;250m\u001b[39m\u001b[38;5;124;03m\"\"\"Get an option's value.\u001b[39;00m\n\u001b[1;32m    777\u001b[0m \n\u001b[1;32m    778\u001b[0m \u001b[38;5;124;03mIf multiple values are specified for this option in the section, the last one\u001b[39;00m\n\u001b[0;32m   (...)\u001b[0m\n\u001b[1;32m    790\u001b[0m \u001b[38;5;124;03m    Otherwise the exceptions known to the ConfigParser will be raised.\u001b[39;00m\n\u001b[1;32m    791\u001b[0m \u001b[38;5;124;03m\"\"\"\u001b[39;00m\n\u001b[1;32m    792\u001b[0m \u001b[38;5;28;01mtry\u001b[39;00m:\n\u001b[0;32m--> 793\u001b[0m     valuestr \u001b[38;5;241m=\u001b[39m \u001b[38;5;28;43mself\u001b[39;49m\u001b[38;5;241;43m.\u001b[39;49m\u001b[43mget\u001b[49m\u001b[43m(\u001b[49m\u001b[43msection\u001b[49m\u001b[43m,\u001b[49m\u001b[43m \u001b[49m\u001b[43moption\u001b[49m\u001b[43m)\u001b[49m\n\u001b[1;32m    794\u001b[0m \u001b[38;5;28;01mexcept\u001b[39;00m \u001b[38;5;167;01mException\u001b[39;00m:\n\u001b[1;32m    795\u001b[0m     \u001b[38;5;28;01mif\u001b[39;00m default \u001b[38;5;129;01mis\u001b[39;00m \u001b[38;5;129;01mnot\u001b[39;00m \u001b[38;5;28;01mNone\u001b[39;00m:\n",
      "File \u001b[0;32m/opt/conda/lib/python3.10/site-packages/git/config.py:114\u001b[0m, in \u001b[0;36mneeds_values.<locals>.assure_data_present\u001b[0;34m(self, *args, **kwargs)\u001b[0m\n\u001b[1;32m    111\u001b[0m \u001b[38;5;129m@wraps\u001b[39m(func)\n\u001b[1;32m    112\u001b[0m \u001b[38;5;28;01mdef\u001b[39;00m\u001b[38;5;250m \u001b[39m\u001b[38;5;21massure_data_present\u001b[39m(\u001b[38;5;28mself\u001b[39m: \u001b[38;5;124m\"\u001b[39m\u001b[38;5;124mGitConfigParser\u001b[39m\u001b[38;5;124m\"\u001b[39m, \u001b[38;5;241m*\u001b[39margs: Any, \u001b[38;5;241m*\u001b[39m\u001b[38;5;241m*\u001b[39mkwargs: Any) \u001b[38;5;241m-\u001b[39m\u001b[38;5;241m>\u001b[39m _T:\n\u001b[1;32m    113\u001b[0m     \u001b[38;5;28mself\u001b[39m\u001b[38;5;241m.\u001b[39mread()\n\u001b[0;32m--> 114\u001b[0m     \u001b[38;5;28;01mreturn\u001b[39;00m \u001b[43mfunc\u001b[49m\u001b[43m(\u001b[49m\u001b[38;5;28;43mself\u001b[39;49m\u001b[43m,\u001b[49m\u001b[43m \u001b[49m\u001b[38;5;241;43m*\u001b[39;49m\u001b[43margs\u001b[49m\u001b[43m,\u001b[49m\u001b[43m \u001b[49m\u001b[38;5;241;43m*\u001b[39;49m\u001b[38;5;241;43m*\u001b[39;49m\u001b[43mkwargs\u001b[49m\u001b[43m)\u001b[49m\n",
      "File \u001b[0;32m/opt/conda/lib/python3.10/configparser.py:783\u001b[0m, in \u001b[0;36mRawConfigParser.get\u001b[0;34m(self, section, option, raw, vars, fallback)\u001b[0m\n\u001b[1;32m    768\u001b[0m \u001b[38;5;250m\u001b[39m\u001b[38;5;124;03m\"\"\"Get an option value for a given section.\u001b[39;00m\n\u001b[1;32m    769\u001b[0m \n\u001b[1;32m    770\u001b[0m \u001b[38;5;124;03mIf `vars` is provided, it must be a dictionary. The option is looked up\u001b[39;00m\n\u001b[0;32m   (...)\u001b[0m\n\u001b[1;32m    780\u001b[0m \u001b[38;5;124;03mThe section DEFAULT is special.\u001b[39;00m\n\u001b[1;32m    781\u001b[0m \u001b[38;5;124;03m\"\"\"\u001b[39;00m\n\u001b[1;32m    782\u001b[0m \u001b[38;5;28;01mtry\u001b[39;00m:\n\u001b[0;32m--> 783\u001b[0m     d \u001b[38;5;241m=\u001b[39m \u001b[38;5;28;43mself\u001b[39;49m\u001b[38;5;241;43m.\u001b[39;49m\u001b[43m_unify_values\u001b[49m\u001b[43m(\u001b[49m\u001b[43msection\u001b[49m\u001b[43m,\u001b[49m\u001b[43m \u001b[49m\u001b[38;5;28;43mvars\u001b[39;49m\u001b[43m)\u001b[49m\n\u001b[1;32m    784\u001b[0m \u001b[38;5;28;01mexcept\u001b[39;00m NoSectionError:\n\u001b[1;32m    785\u001b[0m     \u001b[38;5;28;01mif\u001b[39;00m fallback \u001b[38;5;129;01mis\u001b[39;00m _UNSET:\n",
      "File \u001b[0;32m/opt/conda/lib/python3.10/configparser.py:1154\u001b[0m, in \u001b[0;36mRawConfigParser._unify_values\u001b[0;34m(self, section, vars)\u001b[0m\n\u001b[1;32m   1152\u001b[0m \u001b[38;5;28;01mexcept\u001b[39;00m \u001b[38;5;167;01mKeyError\u001b[39;00m:\n\u001b[1;32m   1153\u001b[0m     \u001b[38;5;28;01mif\u001b[39;00m section \u001b[38;5;241m!=\u001b[39m \u001b[38;5;28mself\u001b[39m\u001b[38;5;241m.\u001b[39mdefault_section:\n\u001b[0;32m-> 1154\u001b[0m         \u001b[38;5;28;01mraise\u001b[39;00m NoSectionError(section) \u001b[38;5;28;01mfrom\u001b[39;00m\u001b[38;5;250m \u001b[39m\u001b[38;5;28;01mNone\u001b[39;00m\n\u001b[1;32m   1155\u001b[0m \u001b[38;5;66;03m# Update with the entry specific variables\u001b[39;00m\n\u001b[1;32m   1156\u001b[0m vardict \u001b[38;5;241m=\u001b[39m {}\n",
      "\u001b[0;31mNoSectionError\u001b[0m: No section: 'user'"
     ]
    }
   ],
   "source": [
    "aider_output = coder.run(\"get current project id of gcp and update terraform either in main.tf or pass by var to starting terraform\")\n"
   ]
  },
  {
   "cell_type": "code",
   "execution_count": 19,
   "id": "ece46368-d3a6-4b67-b7bc-f84de75bd81d",
   "metadata": {},
   "outputs": [
    {
     "data": {
      "text/html": [
       "<pre style=\"white-space:pre;overflow-x:auto;line-height:normal;font-family:Menlo,'DejaVu Sans Mono',consolas,'Courier New',monospace\"><span style=\"color: #000080; text-decoration-color: #000080\">The errors you're encountering suggest issues with the Cloud Build trigger configuration and the image path for the</span>\n",
       "<span style=\"color: #000080; text-decoration-color: #000080\">Cloud Run service. Let's address these:</span>                                                                            \n",
       "\n",
       "<span style=\"color: #808000; text-decoration-color: #808000; font-weight: bold\"> 1 </span><span style=\"color: #000080; text-decoration-color: #000080; font-weight: bold\">Cloud Build Trigger Error</span><span style=\"color: #000080; text-decoration-color: #000080\">: The error indicates an invalid argument in the Cloud Build trigger. Ensure that the  </span>\n",
       "<span style=\"color: #808000; text-decoration-color: #808000; font-weight: bold\">   </span><span style=\"color: #000080; text-decoration-color: #000080\">GitHub repository details and the build steps are correctly configured.                                         </span>\n",
       "<span style=\"color: #808000; text-decoration-color: #808000; font-weight: bold\"> 2 </span><span style=\"color: #000080; text-decoration-color: #000080; font-weight: bold\">Cloud Run Service Error</span><span style=\"color: #000080; text-decoration-color: #000080\">: The error indicates that the Docker image was not found. This might be due to incorrect</span>\n",
       "<span style=\"color: #808000; text-decoration-color: #808000; font-weight: bold\">   </span><span style=\"color: #000080; text-decoration-color: #000080\">image path formatting or the image not being built and pushed correctly.                                        </span>\n",
       "\n",
       "<span style=\"color: #000080; text-decoration-color: #000080\">Let's update the </span><span style=\"color: #008080; text-decoration-color: #008080; background-color: #000000; font-weight: bold\">main.tf</span><span style=\"color: #000080; text-decoration-color: #000080\"> and </span><span style=\"color: #008080; text-decoration-color: #008080; background-color: #000000; font-weight: bold\">cloudbuild.yaml</span><span style=\"color: #000080; text-decoration-color: #000080\"> to fix these issues:</span>                                                  \n",
       "\n",
       "                                      <span style=\"color: #000080; text-decoration-color: #000080; font-weight: bold\">Update </span><span style=\"color: #008080; text-decoration-color: #008080; background-color: #000000; font-weight: bold\">main.tf</span><span style=\"color: #000080; text-decoration-color: #000080; font-weight: bold\"> for Cloud Build Trigger</span>                                       \n",
       "\n",
       "<span style=\"color: #000080; text-decoration-color: #000080\">Ensure the </span><span style=\"color: #008080; text-decoration-color: #008080; background-color: #000000; font-weight: bold\">google_cloudbuild_trigger</span><span style=\"color: #000080; text-decoration-color: #000080\"> is correctly configured with the build steps:</span>                                 \n",
       "\n",
       "<span style=\"color: #000080; text-decoration-color: #000080\">spring/kitchensink/terraform/main.tf</span>                                                                               \n",
       "\n",
       "<span style=\"background-color: #f8f8f8\">                                                                                                                   </span>\n",
       "<span style=\"background-color: #f8f8f8\"> </span><span style=\"color: #000000; text-decoration-color: #000000; background-color: #f8f8f8\">&lt;&lt;&lt;&lt;&lt;</span><span style=\"color: #666666; text-decoration-color: #666666; background-color: #f8f8f8\">&lt;&lt;</span><span style=\"color: #ba2121; text-decoration-color: #ba2121; background-color: #f8f8f8\">SEARCH</span><span style=\"background-color: #f8f8f8\">                                                                                                     </span>\n",
       "<span style=\"background-color: #f8f8f8\"> </span><span style=\"color: #000000; text-decoration-color: #000000; background-color: #f8f8f8\">resource \"google_cloudbuild_trigger\" \"docker_build\" {</span><span style=\"background-color: #f8f8f8\">                                                             </span>\n",
       "<span style=\"background-color: #f8f8f8\"> </span><span style=\"color: #000000; text-decoration-color: #000000; background-color: #f8f8f8\">  name     = \"kitchensink-build\"</span><span style=\"background-color: #f8f8f8\">                                                                                  </span>\n",
       "<span style=\"background-color: #f8f8f8\"> </span><span style=\"color: #000000; text-decoration-color: #000000; background-color: #f8f8f8\">  location = var.gcp_region</span><span style=\"background-color: #f8f8f8\">                                                                                       </span>\n",
       "<span style=\"background-color: #f8f8f8\">                                                                                                                   </span>\n",
       "<span style=\"background-color: #f8f8f8\"> </span><span style=\"color: #000000; text-decoration-color: #000000; background-color: #f8f8f8\">  github {</span><span style=\"background-color: #f8f8f8\">                                                                                                        </span>\n",
       "<span style=\"background-color: #f8f8f8\"> </span><span style=\"color: #000000; text-decoration-color: #000000; background-color: #f8f8f8\">    owner = \"YOUR_GITHUB_USERNAME\"</span><span style=\"background-color: #f8f8f8\">                                                                                </span>\n",
       "<span style=\"background-color: #f8f8f8\"> </span><span style=\"color: #000000; text-decoration-color: #000000; background-color: #f8f8f8\">    name  = \"YOUR_REPOSITORY_NAME\"</span><span style=\"background-color: #f8f8f8\">                                                                                </span>\n",
       "<span style=\"background-color: #f8f8f8\"> </span><span style=\"color: #000000; text-decoration-color: #000000; background-color: #f8f8f8\">    push {</span><span style=\"background-color: #f8f8f8\">                                                                                                        </span>\n",
       "<span style=\"background-color: #f8f8f8\"> </span><span style=\"color: #000000; text-decoration-color: #000000; background-color: #f8f8f8\">      branch = \"main\"</span><span style=\"background-color: #f8f8f8\">                                                                                             </span>\n",
       "<span style=\"background-color: #f8f8f8\"> </span><span style=\"color: #000000; text-decoration-color: #000000; background-color: #f8f8f8\">    }</span><span style=\"background-color: #f8f8f8\">                                                                                                             </span>\n",
       "<span style=\"background-color: #f8f8f8\"> </span><span style=\"color: #000000; text-decoration-color: #000000; background-color: #f8f8f8\">  }</span><span style=\"background-color: #f8f8f8\">                                                                                                               </span>\n",
       "<span style=\"background-color: #f8f8f8\">                                                                                                                   </span>\n",
       "<span style=\"background-color: #f8f8f8\"> </span><span style=\"color: #000000; text-decoration-color: #000000; background-color: #f8f8f8\">  filename = \"cloudbuild.yaml\"</span><span style=\"background-color: #f8f8f8\">                                                                                    </span>\n",
       "<span style=\"background-color: #f8f8f8\"> </span><span style=\"color: #000000; text-decoration-color: #000000; background-color: #f8f8f8\">=======</span><span style=\"background-color: #f8f8f8\">                                                                                                           </span>\n",
       "<span style=\"background-color: #f8f8f8\"> </span><span style=\"color: #000000; text-decoration-color: #000000; background-color: #f8f8f8\">resource \"google_cloudbuild_trigger\" \"docker_build\" {</span><span style=\"background-color: #f8f8f8\">                                                             </span>\n",
       "<span style=\"background-color: #f8f8f8\"> </span><span style=\"color: #000000; text-decoration-color: #000000; background-color: #f8f8f8\">  provider = google-beta</span><span style=\"background-color: #f8f8f8\">                                                                                          </span>\n",
       "<span style=\"background-color: #f8f8f8\"> </span><span style=\"color: #000000; text-decoration-color: #000000; background-color: #f8f8f8\">  name     = \"kitchensink-build\"</span><span style=\"background-color: #f8f8f8\">                                                                                  </span>\n",
       "<span style=\"background-color: #f8f8f8\"> </span><span style=\"color: #000000; text-decoration-color: #000000; background-color: #f8f8f8\">  location = var.gcp_region</span><span style=\"background-color: #f8f8f8\">                                                                                       </span>\n",
       "<span style=\"background-color: #f8f8f8\">                                                                                                                   </span>\n",
       "<span style=\"background-color: #f8f8f8\"> </span><span style=\"color: #000000; text-decoration-color: #000000; background-color: #f8f8f8\">  github {</span><span style=\"background-color: #f8f8f8\">                                                                                                        </span>\n",
       "<span style=\"background-color: #f8f8f8\"> </span><span style=\"color: #000000; text-decoration-color: #000000; background-color: #f8f8f8\">    owner = \"YOUR_GITHUB_USERNAME\"</span><span style=\"background-color: #f8f8f8\">                                                                                </span>\n",
       "<span style=\"background-color: #f8f8f8\"> </span><span style=\"color: #000000; text-decoration-color: #000000; background-color: #f8f8f8\">    name  = \"YOUR_REPOSITORY_NAME\"</span><span style=\"background-color: #f8f8f8\">                                                                                </span>\n",
       "<span style=\"background-color: #f8f8f8\"> </span><span style=\"color: #000000; text-decoration-color: #000000; background-color: #f8f8f8\">    push {</span><span style=\"background-color: #f8f8f8\">                                                                                                        </span>\n",
       "<span style=\"background-color: #f8f8f8\"> </span><span style=\"color: #000000; text-decoration-color: #000000; background-color: #f8f8f8\">      branch = \"main\"</span><span style=\"background-color: #f8f8f8\">                                                                                             </span>\n",
       "<span style=\"background-color: #f8f8f8\"> </span><span style=\"color: #000000; text-decoration-color: #000000; background-color: #f8f8f8\">    }</span><span style=\"background-color: #f8f8f8\">                                                                                                             </span>\n",
       "<span style=\"background-color: #f8f8f8\"> </span><span style=\"color: #000000; text-decoration-color: #000000; background-color: #f8f8f8\">  }</span><span style=\"background-color: #f8f8f8\">                                                                                                               </span>\n",
       "<span style=\"background-color: #f8f8f8\">                                                                                                                   </span>\n",
       "<span style=\"background-color: #f8f8f8\"> </span><span style=\"color: #000000; text-decoration-color: #000000; background-color: #f8f8f8\">  build {</span><span style=\"background-color: #f8f8f8\">                                                                                                         </span>\n",
       "<span style=\"background-color: #f8f8f8\"> </span><span style=\"color: #000000; text-decoration-color: #000000; background-color: #f8f8f8\">    steps {</span><span style=\"background-color: #f8f8f8\">                                                                                                       </span>\n",
       "<span style=\"background-color: #f8f8f8\"> </span><span style=\"color: #000000; text-decoration-color: #000000; background-color: #f8f8f8\">      name = \"gcr.io/cloud-builders/docker\"</span><span style=\"background-color: #f8f8f8\">                                                                       </span>\n",
       "<span style=\"background-color: #f8f8f8\"> </span><span style=\"color: #000000; text-decoration-color: #000000; background-color: #f8f8f8\">      args = [\"build\", \"-t\", </span><span style=\"background-color: #f8f8f8\">                                                                                     </span>\n",
       "<span style=\"background-color: #f8f8f8\"> </span><span style=\"color: #000000; text-decoration-color: #000000; background-color: #f8f8f8\">\"${google_artifact_registry_repository.docker_repo.repository_url}/kitchensink:latest\", \".\"]</span><span style=\"background-color: #f8f8f8\">                      </span>\n",
       "<span style=\"background-color: #f8f8f8\"> </span><span style=\"color: #000000; text-decoration-color: #000000; background-color: #f8f8f8\">    }</span><span style=\"background-color: #f8f8f8\">                                                                                                             </span>\n",
       "<span style=\"background-color: #f8f8f8\">                                                                                                                   </span>\n",
       "<span style=\"background-color: #f8f8f8\"> </span><span style=\"color: #000000; text-decoration-color: #000000; background-color: #f8f8f8\">    images = [\"${google_artifact_registry_repository.docker_repo.repository_url}/kitchensink:latest\"]</span><span style=\"background-color: #f8f8f8\">             </span>\n",
       "<span style=\"background-color: #f8f8f8\"> </span><span style=\"color: #000000; text-decoration-color: #000000; background-color: #f8f8f8\">  }</span><span style=\"background-color: #f8f8f8\">                                                                                                               </span>\n",
       "<span style=\"background-color: #f8f8f8\"> </span><span style=\"color: #000000; text-decoration-color: #000000; background-color: #f8f8f8\">&gt;&gt;&gt;&gt;&gt;&gt;&gt; REPLACE</span><span style=\"background-color: #f8f8f8\">                                                                                                   </span>\n",
       "<span style=\"background-color: #f8f8f8\"> </span><span style=\"color: #008000; text-decoration-color: #008000; background-color: #f8f8f8; font-weight: bold\">resource</span><span style=\"color: #bbbbbb; text-decoration-color: #bbbbbb; background-color: #f8f8f8\"> </span><span style=\"color: #0000ff; text-decoration-color: #0000ff; background-color: #f8f8f8; font-weight: bold\">\"google_cloudbuild_trigger\"</span><span style=\"color: #bbbbbb; text-decoration-color: #bbbbbb; background-color: #f8f8f8\"> </span><span style=\"color: #19177c; text-decoration-color: #19177c; background-color: #f8f8f8\">\"docker_build\"</span><span style=\"color: #bbbbbb; text-decoration-color: #bbbbbb; background-color: #f8f8f8\"> </span><span style=\"color: #000000; text-decoration-color: #000000; background-color: #f8f8f8\">{</span><span style=\"background-color: #f8f8f8\">                                                             </span>\n",
       "<span style=\"background-color: #f8f8f8\"> </span><span style=\"color: #bbbbbb; text-decoration-color: #bbbbbb; background-color: #f8f8f8\">  </span><span style=\"color: #687822; text-decoration-color: #687822; background-color: #f8f8f8\">name</span><span style=\"color: #bbbbbb; text-decoration-color: #bbbbbb; background-color: #f8f8f8\">     </span><span style=\"color: #666666; text-decoration-color: #666666; background-color: #f8f8f8\">=</span><span style=\"color: #bbbbbb; text-decoration-color: #bbbbbb; background-color: #f8f8f8\"> </span><span style=\"color: #ba2121; text-decoration-color: #ba2121; background-color: #f8f8f8\">\"kitchensink-build\"</span><span style=\"background-color: #f8f8f8\">                                                                                  </span>\n",
       "<span style=\"background-color: #f8f8f8\"> </span><span style=\"color: #bbbbbb; text-decoration-color: #bbbbbb; background-color: #f8f8f8\">  </span><span style=\"color: #687822; text-decoration-color: #687822; background-color: #f8f8f8\">location</span><span style=\"color: #bbbbbb; text-decoration-color: #bbbbbb; background-color: #f8f8f8\"> </span><span style=\"color: #666666; text-decoration-color: #666666; background-color: #f8f8f8\">=</span><span style=\"color: #bbbbbb; text-decoration-color: #bbbbbb; background-color: #f8f8f8\"> </span><span style=\"color: #19177c; text-decoration-color: #19177c; background-color: #f8f8f8\">var.gcp_region</span><span style=\"background-color: #f8f8f8\">                                                                                       </span>\n",
       "<span style=\"background-color: #f8f8f8\">                                                                                                                   </span>\n",
       "<span style=\"background-color: #f8f8f8\"> </span><span style=\"color: #bbbbbb; text-decoration-color: #bbbbbb; background-color: #f8f8f8\">  </span><span style=\"color: #008000; text-decoration-color: #008000; background-color: #f8f8f8\">github</span><span style=\"color: #bbbbbb; text-decoration-color: #bbbbbb; background-color: #f8f8f8\"> </span><span style=\"color: #000000; text-decoration-color: #000000; background-color: #f8f8f8\">{</span><span style=\"background-color: #f8f8f8\">                                                                                                        </span>\n",
       "<span style=\"background-color: #f8f8f8\"> </span><span style=\"color: #bbbbbb; text-decoration-color: #bbbbbb; background-color: #f8f8f8\">    </span><span style=\"color: #687822; text-decoration-color: #687822; background-color: #f8f8f8\">owner</span><span style=\"color: #bbbbbb; text-decoration-color: #bbbbbb; background-color: #f8f8f8\"> </span><span style=\"color: #666666; text-decoration-color: #666666; background-color: #f8f8f8\">=</span><span style=\"color: #bbbbbb; text-decoration-color: #bbbbbb; background-color: #f8f8f8\"> </span><span style=\"color: #ba2121; text-decoration-color: #ba2121; background-color: #f8f8f8\">\"YOUR_GITHUB_USERNAME\"</span><span style=\"background-color: #f8f8f8\">                                                                                </span>\n",
       "<span style=\"background-color: #f8f8f8\"> </span><span style=\"color: #bbbbbb; text-decoration-color: #bbbbbb; background-color: #f8f8f8\">    </span><span style=\"color: #687822; text-decoration-color: #687822; background-color: #f8f8f8\">name</span><span style=\"color: #bbbbbb; text-decoration-color: #bbbbbb; background-color: #f8f8f8\">  </span><span style=\"color: #666666; text-decoration-color: #666666; background-color: #f8f8f8\">=</span><span style=\"color: #bbbbbb; text-decoration-color: #bbbbbb; background-color: #f8f8f8\"> </span><span style=\"color: #ba2121; text-decoration-color: #ba2121; background-color: #f8f8f8\">\"YOUR_REPOSITORY_NAME\"</span><span style=\"background-color: #f8f8f8\">                                                                                </span>\n",
       "<span style=\"background-color: #f8f8f8\"> </span><span style=\"color: #bbbbbb; text-decoration-color: #bbbbbb; background-color: #f8f8f8\">    </span><span style=\"color: #008000; text-decoration-color: #008000; background-color: #f8f8f8\">push</span><span style=\"color: #bbbbbb; text-decoration-color: #bbbbbb; background-color: #f8f8f8\"> </span><span style=\"color: #000000; text-decoration-color: #000000; background-color: #f8f8f8\">{</span><span style=\"background-color: #f8f8f8\">                                                                                                        </span>\n",
       "<span style=\"background-color: #f8f8f8\"> </span><span style=\"color: #bbbbbb; text-decoration-color: #bbbbbb; background-color: #f8f8f8\">      </span><span style=\"color: #687822; text-decoration-color: #687822; background-color: #f8f8f8\">branch</span><span style=\"color: #bbbbbb; text-decoration-color: #bbbbbb; background-color: #f8f8f8\"> </span><span style=\"color: #666666; text-decoration-color: #666666; background-color: #f8f8f8\">=</span><span style=\"color: #bbbbbb; text-decoration-color: #bbbbbb; background-color: #f8f8f8\"> </span><span style=\"color: #ba2121; text-decoration-color: #ba2121; background-color: #f8f8f8\">\"main\"</span><span style=\"background-color: #f8f8f8\">                                                                                             </span>\n",
       "<span style=\"background-color: #f8f8f8\"> </span><span style=\"color: #bbbbbb; text-decoration-color: #bbbbbb; background-color: #f8f8f8\">    </span><span style=\"color: #000000; text-decoration-color: #000000; background-color: #f8f8f8\">}</span><span style=\"background-color: #f8f8f8\">                                                                                                             </span>\n",
       "<span style=\"background-color: #f8f8f8\"> </span><span style=\"color: #bbbbbb; text-decoration-color: #bbbbbb; background-color: #f8f8f8\">  </span><span style=\"color: #000000; text-decoration-color: #000000; background-color: #f8f8f8\">}</span><span style=\"background-color: #f8f8f8\">                                                                                                               </span>\n",
       "<span style=\"background-color: #f8f8f8\">                                                                                                                   </span>\n",
       "<span style=\"background-color: #f8f8f8\"> </span><span style=\"color: #bbbbbb; text-decoration-color: #bbbbbb; background-color: #f8f8f8\">  </span><span style=\"color: #687822; text-decoration-color: #687822; background-color: #f8f8f8\">filename</span><span style=\"color: #bbbbbb; text-decoration-color: #bbbbbb; background-color: #f8f8f8\"> </span><span style=\"color: #666666; text-decoration-color: #666666; background-color: #f8f8f8\">=</span><span style=\"color: #bbbbbb; text-decoration-color: #bbbbbb; background-color: #f8f8f8\"> </span><span style=\"color: #ba2121; text-decoration-color: #ba2121; background-color: #f8f8f8\">\"cloudbuild.yaml\"</span><span style=\"background-color: #f8f8f8\">                                                                                    </span>\n",
       "<span style=\"background-color: #f8f8f8\"> </span><span style=\"color: #666666; text-decoration-color: #666666; background-color: #f8f8f8\">=</span><span style=\"color: #000000; text-decoration-color: #000000; background-color: #f8f8f8\">======</span><span style=\"background-color: #f8f8f8\">                                                                                                           </span>\n",
       "<span style=\"background-color: #f8f8f8\"> </span><span style=\"color: #008000; text-decoration-color: #008000; background-color: #f8f8f8; font-weight: bold\">resource</span><span style=\"color: #bbbbbb; text-decoration-color: #bbbbbb; background-color: #f8f8f8\"> </span><span style=\"color: #0000ff; text-decoration-color: #0000ff; background-color: #f8f8f8; font-weight: bold\">\"google_cloudbuild_trigger\"</span><span style=\"color: #bbbbbb; text-decoration-color: #bbbbbb; background-color: #f8f8f8\"> </span><span style=\"color: #19177c; text-decoration-color: #19177c; background-color: #f8f8f8\">\"docker_build\"</span><span style=\"color: #bbbbbb; text-decoration-color: #bbbbbb; background-color: #f8f8f8\"> </span><span style=\"color: #000000; text-decoration-color: #000000; background-color: #f8f8f8\">{</span><span style=\"background-color: #f8f8f8\">                                                             </span>\n",
       "<span style=\"background-color: #f8f8f8\"> </span><span style=\"color: #bbbbbb; text-decoration-color: #bbbbbb; background-color: #f8f8f8\">  </span><span style=\"color: #687822; text-decoration-color: #687822; background-color: #f8f8f8\">provider</span><span style=\"color: #bbbbbb; text-decoration-color: #bbbbbb; background-color: #f8f8f8\"> </span><span style=\"color: #666666; text-decoration-color: #666666; background-color: #f8f8f8\">=</span><span style=\"color: #bbbbbb; text-decoration-color: #bbbbbb; background-color: #f8f8f8\"> </span><span style=\"color: #000000; text-decoration-color: #000000; background-color: #f8f8f8\">google-beta</span><span style=\"background-color: #f8f8f8\">                                                                                          </span>\n",
       "<span style=\"background-color: #f8f8f8\"> </span><span style=\"color: #bbbbbb; text-decoration-color: #bbbbbb; background-color: #f8f8f8\">  </span><span style=\"color: #687822; text-decoration-color: #687822; background-color: #f8f8f8\">name</span><span style=\"color: #bbbbbb; text-decoration-color: #bbbbbb; background-color: #f8f8f8\">     </span><span style=\"color: #666666; text-decoration-color: #666666; background-color: #f8f8f8\">=</span><span style=\"color: #bbbbbb; text-decoration-color: #bbbbbb; background-color: #f8f8f8\"> </span><span style=\"color: #ba2121; text-decoration-color: #ba2121; background-color: #f8f8f8\">\"kitchensink-build\"</span><span style=\"background-color: #f8f8f8\">                                                                                  </span>\n",
       "<span style=\"background-color: #f8f8f8\"> </span><span style=\"color: #bbbbbb; text-decoration-color: #bbbbbb; background-color: #f8f8f8\">  </span><span style=\"color: #687822; text-decoration-color: #687822; background-color: #f8f8f8\">location</span><span style=\"color: #bbbbbb; text-decoration-color: #bbbbbb; background-color: #f8f8f8\"> </span><span style=\"color: #666666; text-decoration-color: #666666; background-color: #f8f8f8\">=</span><span style=\"color: #bbbbbb; text-decoration-color: #bbbbbb; background-color: #f8f8f8\"> </span><span style=\"color: #19177c; text-decoration-color: #19177c; background-color: #f8f8f8\">var.gcp_region</span><span style=\"background-color: #f8f8f8\">                                                                                       </span>\n",
       "<span style=\"background-color: #f8f8f8\">                                                                                                                   </span>\n",
       "<span style=\"background-color: #f8f8f8\"> </span><span style=\"color: #bbbbbb; text-decoration-color: #bbbbbb; background-color: #f8f8f8\">  </span><span style=\"color: #008000; text-decoration-color: #008000; background-color: #f8f8f8\">github</span><span style=\"color: #bbbbbb; text-decoration-color: #bbbbbb; background-color: #f8f8f8\"> </span><span style=\"color: #000000; text-decoration-color: #000000; background-color: #f8f8f8\">{</span><span style=\"background-color: #f8f8f8\">                                                                                                        </span>\n",
       "<span style=\"background-color: #f8f8f8\"> </span><span style=\"color: #bbbbbb; text-decoration-color: #bbbbbb; background-color: #f8f8f8\">    </span><span style=\"color: #687822; text-decoration-color: #687822; background-color: #f8f8f8\">owner</span><span style=\"color: #bbbbbb; text-decoration-color: #bbbbbb; background-color: #f8f8f8\"> </span><span style=\"color: #666666; text-decoration-color: #666666; background-color: #f8f8f8\">=</span><span style=\"color: #bbbbbb; text-decoration-color: #bbbbbb; background-color: #f8f8f8\"> </span><span style=\"color: #ba2121; text-decoration-color: #ba2121; background-color: #f8f8f8\">\"YOUR_GITHUB_USERNAME\"</span><span style=\"background-color: #f8f8f8\">                                                                                </span>\n",
       "<span style=\"background-color: #f8f8f8\"> </span><span style=\"color: #bbbbbb; text-decoration-color: #bbbbbb; background-color: #f8f8f8\">    </span><span style=\"color: #687822; text-decoration-color: #687822; background-color: #f8f8f8\">name</span><span style=\"color: #bbbbbb; text-decoration-color: #bbbbbb; background-color: #f8f8f8\">  </span><span style=\"color: #666666; text-decoration-color: #666666; background-color: #f8f8f8\">=</span><span style=\"color: #bbbbbb; text-decoration-color: #bbbbbb; background-color: #f8f8f8\"> </span><span style=\"color: #ba2121; text-decoration-color: #ba2121; background-color: #f8f8f8\">\"YOUR_REPOSITORY_NAME\"</span><span style=\"background-color: #f8f8f8\">                                                                                </span>\n",
       "<span style=\"background-color: #f8f8f8\"> </span><span style=\"color: #bbbbbb; text-decoration-color: #bbbbbb; background-color: #f8f8f8\">    </span><span style=\"color: #008000; text-decoration-color: #008000; background-color: #f8f8f8\">push</span><span style=\"color: #bbbbbb; text-decoration-color: #bbbbbb; background-color: #f8f8f8\"> </span><span style=\"color: #000000; text-decoration-color: #000000; background-color: #f8f8f8\">{</span><span style=\"background-color: #f8f8f8\">                                                                                                        </span>\n",
       "<span style=\"background-color: #f8f8f8\"> </span><span style=\"color: #bbbbbb; text-decoration-color: #bbbbbb; background-color: #f8f8f8\">      </span><span style=\"color: #687822; text-decoration-color: #687822; background-color: #f8f8f8\">branch</span><span style=\"color: #bbbbbb; text-decoration-color: #bbbbbb; background-color: #f8f8f8\"> </span><span style=\"color: #666666; text-decoration-color: #666666; background-color: #f8f8f8\">=</span><span style=\"color: #bbbbbb; text-decoration-color: #bbbbbb; background-color: #f8f8f8\"> </span><span style=\"color: #ba2121; text-decoration-color: #ba2121; background-color: #f8f8f8\">\"main\"</span><span style=\"background-color: #f8f8f8\">                                                                                             </span>\n",
       "<span style=\"background-color: #f8f8f8\"> </span><span style=\"color: #bbbbbb; text-decoration-color: #bbbbbb; background-color: #f8f8f8\">    </span><span style=\"color: #000000; text-decoration-color: #000000; background-color: #f8f8f8\">}</span><span style=\"background-color: #f8f8f8\">                                                                                                             </span>\n",
       "<span style=\"background-color: #f8f8f8\"> </span><span style=\"color: #bbbbbb; text-decoration-color: #bbbbbb; background-color: #f8f8f8\">  </span><span style=\"color: #000000; text-decoration-color: #000000; background-color: #f8f8f8\">}</span><span style=\"background-color: #f8f8f8\">                                                                                                               </span>\n",
       "<span style=\"background-color: #f8f8f8\">                                                                                                                   </span>\n",
       "<span style=\"background-color: #f8f8f8\"> </span><span style=\"color: #bbbbbb; text-decoration-color: #bbbbbb; background-color: #f8f8f8\">  </span><span style=\"color: #008000; text-decoration-color: #008000; background-color: #f8f8f8\">build</span><span style=\"color: #bbbbbb; text-decoration-color: #bbbbbb; background-color: #f8f8f8\"> </span><span style=\"color: #000000; text-decoration-color: #000000; background-color: #f8f8f8\">{</span><span style=\"background-color: #f8f8f8\">                                                                                                         </span>\n",
       "<span style=\"background-color: #f8f8f8\"> </span><span style=\"color: #bbbbbb; text-decoration-color: #bbbbbb; background-color: #f8f8f8\">    </span><span style=\"color: #008000; text-decoration-color: #008000; background-color: #f8f8f8\">steps</span><span style=\"color: #bbbbbb; text-decoration-color: #bbbbbb; background-color: #f8f8f8\"> </span><span style=\"color: #000000; text-decoration-color: #000000; background-color: #f8f8f8\">{</span><span style=\"background-color: #f8f8f8\">                                                                                                       </span>\n",
       "<span style=\"background-color: #f8f8f8\"> </span><span style=\"color: #bbbbbb; text-decoration-color: #bbbbbb; background-color: #f8f8f8\">      </span><span style=\"color: #687822; text-decoration-color: #687822; background-color: #f8f8f8\">name</span><span style=\"color: #bbbbbb; text-decoration-color: #bbbbbb; background-color: #f8f8f8\"> </span><span style=\"color: #666666; text-decoration-color: #666666; background-color: #f8f8f8\">=</span><span style=\"color: #bbbbbb; text-decoration-color: #bbbbbb; background-color: #f8f8f8\"> </span><span style=\"color: #ba2121; text-decoration-color: #ba2121; background-color: #f8f8f8\">\"gcr.io/cloud-builders/docker\"</span><span style=\"background-color: #f8f8f8\">                                                                       </span>\n",
       "<span style=\"background-color: #f8f8f8\"> </span><span style=\"color: #bbbbbb; text-decoration-color: #bbbbbb; background-color: #f8f8f8\">      </span><span style=\"color: #687822; text-decoration-color: #687822; background-color: #f8f8f8\">args</span><span style=\"color: #bbbbbb; text-decoration-color: #bbbbbb; background-color: #f8f8f8\"> </span><span style=\"color: #666666; text-decoration-color: #666666; background-color: #f8f8f8\">=</span><span style=\"color: #bbbbbb; text-decoration-color: #bbbbbb; background-color: #f8f8f8\"> </span><span style=\"color: #000000; text-decoration-color: #000000; background-color: #f8f8f8\">[</span><span style=\"color: #ba2121; text-decoration-color: #ba2121; background-color: #f8f8f8\">\"build\", \"-t\", </span><span style=\"background-color: #f8f8f8\">                                                                                     </span>\n",
       "<span style=\"background-color: #f8f8f8\"> </span><span style=\"color: #ba2121; text-decoration-color: #ba2121; background-color: #f8f8f8\">\"${google_artifact_registry_repository.docker_repo.repository_url}/kitchensink:latest\", \".\"</span><span style=\"color: #000000; text-decoration-color: #000000; background-color: #f8f8f8\">]</span><span style=\"background-color: #f8f8f8\">                      </span>\n",
       "<span style=\"background-color: #f8f8f8\"> </span><span style=\"color: #bbbbbb; text-decoration-color: #bbbbbb; background-color: #f8f8f8\">    </span><span style=\"color: #000000; text-decoration-color: #000000; background-color: #f8f8f8\">}</span><span style=\"background-color: #f8f8f8\">                                                                                                             </span>\n",
       "<span style=\"background-color: #f8f8f8\">                                                                                                                   </span>\n",
       "<span style=\"background-color: #f8f8f8\"> </span><span style=\"color: #bbbbbb; text-decoration-color: #bbbbbb; background-color: #f8f8f8\">    </span><span style=\"color: #687822; text-decoration-color: #687822; background-color: #f8f8f8\">images</span><span style=\"color: #bbbbbb; text-decoration-color: #bbbbbb; background-color: #f8f8f8\"> </span><span style=\"color: #666666; text-decoration-color: #666666; background-color: #f8f8f8\">=</span><span style=\"color: #bbbbbb; text-decoration-color: #bbbbbb; background-color: #f8f8f8\"> </span><span style=\"color: #000000; text-decoration-color: #000000; background-color: #f8f8f8\">[</span><span style=\"color: #ba2121; text-decoration-color: #ba2121; background-color: #f8f8f8\">\"${google_artifact_registry_repository.docker_repo.repository_url}/kitchensink:latest\"</span><span style=\"color: #000000; text-decoration-color: #000000; background-color: #f8f8f8\">]</span><span style=\"background-color: #f8f8f8\">             </span>\n",
       "<span style=\"background-color: #f8f8f8\"> </span><span style=\"color: #bbbbbb; text-decoration-color: #bbbbbb; background-color: #f8f8f8\">  </span><span style=\"color: #000000; text-decoration-color: #000000; background-color: #f8f8f8\">}</span><span style=\"background-color: #f8f8f8\">                                                                                                               </span>\n",
       "<span style=\"background-color: #f8f8f8\"> </span><span style=\"color: #000000; text-decoration-color: #000000; background-color: #f8f8f8\">&gt;&gt;&gt;&gt;&gt;&gt;&gt;</span><span style=\"color: #bbbbbb; text-decoration-color: #bbbbbb; background-color: #f8f8f8\"> </span><span style=\"color: #000000; text-decoration-color: #000000; background-color: #f8f8f8\">REPLACE</span><span style=\"background-color: #f8f8f8\">                                                                                                   </span>\n",
       "<span style=\"background-color: #f8f8f8\">                                                                                                                   </span>\n",
       "\n",
       "                                   <span style=\"color: #000080; text-decoration-color: #000080; font-weight: bold\">Update </span><span style=\"color: #008080; text-decoration-color: #008080; background-color: #000000; font-weight: bold\">cloudbuild.yaml</span><span style=\"color: #000080; text-decoration-color: #000080; font-weight: bold\"> for Correct Image Path</span>                                   \n",
       "\n",
       "<span style=\"color: #000080; text-decoration-color: #000080\">Ensure the image path is correctly formatted in </span><span style=\"color: #008080; text-decoration-color: #008080; background-color: #000000; font-weight: bold\">cloudbuild.yaml</span><span style=\"color: #000080; text-decoration-color: #000080\">:</span>                                                   \n",
       "\n",
       "<span style=\"color: #000080; text-decoration-color: #000080\">spring/kitchensink/terraform/cloudbuild.yaml</span>                                                                       \n",
       "\n",
       "<span style=\"background-color: #f8f8f8\">                                                                                                                   </span>\n",
       "<span style=\"background-color: #f8f8f8\"> &lt;&lt;&lt;&lt;&lt;&lt;&lt; SEARCH                                                                                                    </span>\n",
       "<span style=\"background-color: #f8f8f8\"> </span><span style=\"color: #bbbbbb; text-decoration-color: #bbbbbb; background-color: #f8f8f8\">      </span><span style=\"background-color: #f8f8f8\">- 'REGION−docker.pkg.dev/{_REGION}-docker.pkg.dev/PROJECT_ID/${_ARTIFACT_REPO_NAME}/kitchensink:latest'     </span>\n",
       "<span style=\"background-color: #f8f8f8\"> =======                                                                                                           </span>\n",
       "<span style=\"background-color: #f8f8f8\"> </span><span style=\"color: #bbbbbb; text-decoration-color: #bbbbbb; background-color: #f8f8f8\">      </span><span style=\"background-color: #f8f8f8\">- '${_REGION}-docker.pkg.dev/$PROJECT_ID/${_ARTIFACT_REPO_NAME}/kitchensink:latest'                         </span>\n",
       "<span style=\"background-color: #f8f8f8\"> &gt;&gt;&gt;&gt;&gt;&gt;&gt; REPLACE                                                                                                   </span>\n",
       "<span style=\"background-color: #f8f8f8\">                                                                                                                   </span>\n",
       "\n",
       "<span style=\"color: #000080; text-decoration-color: #000080\">spring/kitchensink/terraform/cloudbuild.yaml</span>                                                                       \n",
       "\n",
       "<span style=\"background-color: #f8f8f8\">                                                                                                                   </span>\n",
       "<span style=\"background-color: #f8f8f8\"> &lt;&lt;&lt;&lt;&lt;&lt;&lt; SEARCH                                                                                                    </span>\n",
       "<span style=\"background-color: #f8f8f8\"> </span><span style=\"color: #bbbbbb; text-decoration-color: #bbbbbb; background-color: #f8f8f8\">      </span><span style=\"background-color: #f8f8f8\">- 'REGION−docker.pkg.dev/{_REGION}-docker.pkg.dev/PROJECT_ID/${_ARTIFACT_REPO_NAME}/kitchensink:latest'     </span>\n",
       "<span style=\"background-color: #f8f8f8\"> =======                                                                                                           </span>\n",
       "<span style=\"background-color: #f8f8f8\"> </span><span style=\"color: #bbbbbb; text-decoration-color: #bbbbbb; background-color: #f8f8f8\">      </span><span style=\"background-color: #f8f8f8\">- '${_REGION}-docker.pkg.dev/$PROJECT_ID/${_ARTIFACT_REPO_NAME}/kitchensink:latest'                         </span>\n",
       "<span style=\"background-color: #f8f8f8\"> &gt;&gt;&gt;&gt;&gt;&gt;&gt; REPLACE                                                                                                   </span>\n",
       "<span style=\"background-color: #f8f8f8\">                                                                                                                   </span>\n",
       "\n",
       "<span style=\"color: #000080; text-decoration-color: #000080\">spring/kitchensink/terraform/cloudbuild.yaml</span>                                                                       \n",
       "\n",
       "<span style=\"background-color: #f8f8f8\">                                                                                                                   </span>\n",
       "<span style=\"background-color: #f8f8f8\"> &lt;&lt;&lt;&lt;&lt;&lt;&lt; SEARCH                                                                                                    </span>\n",
       "<span style=\"background-color: #f8f8f8\"> </span><span style=\"color: #bbbbbb; text-decoration-color: #bbbbbb; background-color: #f8f8f8\">      </span><span style=\"background-color: #f8f8f8\">-                                                                                                           </span>\n",
       "<span style=\"background-color: #f8f8f8\"> '--image=REGION−docker.pkg.dev/{_REGION}-docker.pkg.dev/PROJECT_ID/${_ARTIFACT_REPO_NAME}/kitchensink:latest'     </span>\n",
       "<span style=\"background-color: #f8f8f8\"> </span><span style=\"color: #bbbbbb; text-decoration-color: #bbbbbb; background-color: #f8f8f8\">      </span><span style=\"background-color: #f8f8f8\">- '--region=${_REGION}'                                                                                     </span>\n",
       "<span style=\"background-color: #f8f8f8\"> =======                                                                                                           </span>\n",
       "<span style=\"background-color: #f8f8f8\"> </span><span style=\"color: #bbbbbb; text-decoration-color: #bbbbbb; background-color: #f8f8f8\">      </span><span style=\"background-color: #f8f8f8\">- '--image=${_REGION}-docker.pkg.dev/$PROJECT_ID/${_ARTIFACT_REPO_NAME}/kitchensink:latest'                 </span>\n",
       "<span style=\"background-color: #f8f8f8\"> </span><span style=\"color: #bbbbbb; text-decoration-color: #bbbbbb; background-color: #f8f8f8\">      </span><span style=\"background-color: #f8f8f8\">- '--region=${_REGION}'                                                                                     </span>\n",
       "<span style=\"background-color: #f8f8f8\"> &gt;&gt;&gt;&gt;&gt;&gt;&gt; REPLACE                                                                                                   </span>\n",
       "<span style=\"background-color: #f8f8f8\">                                                                                                                   </span>\n",
       "\n",
       "<span style=\"color: #000080; text-decoration-color: #000080\">After applying these changes, re-run the Terraform commands to apply the configuration:</span>                            \n",
       "\n",
       "<span style=\"background-color: #f8f8f8\">                                                                                                                   </span>\n",
       "<span style=\"background-color: #f8f8f8\"> </span><span style=\"color: #000000; text-decoration-color: #000000; background-color: #f8f8f8\">terraform</span><span style=\"color: #bbbbbb; text-decoration-color: #bbbbbb; background-color: #f8f8f8\"> </span><span style=\"color: #000000; text-decoration-color: #000000; background-color: #f8f8f8\">init</span><span style=\"background-color: #f8f8f8\">                                                                                                    </span>\n",
       "<span style=\"background-color: #f8f8f8\"> </span><span style=\"color: #000000; text-decoration-color: #000000; background-color: #f8f8f8\">terraform</span><span style=\"color: #bbbbbb; text-decoration-color: #bbbbbb; background-color: #f8f8f8\"> </span><span style=\"color: #000000; text-decoration-color: #000000; background-color: #f8f8f8\">apply</span><span style=\"background-color: #f8f8f8\">                                                                                                   </span>\n",
       "<span style=\"background-color: #f8f8f8\">                                                                                                                   </span>\n",
       "\n",
       "<span style=\"color: #000080; text-decoration-color: #000080\">This should resolve the issues with the Cloud Build trigger and the Cloud Run service deployment.</span>                  \n",
       "</pre>\n"
      ],
      "text/plain": [
       "\u001b[34mThe errors you're encountering suggest issues with the Cloud Build trigger configuration and the image path for the\u001b[0m\n",
       "\u001b[34mCloud Run service. Let's address these:\u001b[0m                                                                            \n",
       "\n",
       "\u001b[1;33m 1 \u001b[0m\u001b[1;34mCloud Build Trigger Error\u001b[0m\u001b[34m: The error indicates an invalid argument in the Cloud Build trigger. Ensure that the \u001b[0m\u001b[34m \u001b[0m\n",
       "\u001b[1;33m   \u001b[0m\u001b[34mGitHub repository details and the build steps are correctly configured.\u001b[0m\u001b[34m                                         \u001b[0m\n",
       "\u001b[1;33m 2 \u001b[0m\u001b[1;34mCloud Run Service Error\u001b[0m\u001b[34m: The error indicates that the Docker image was not found. This might be due to incorrect\u001b[0m\n",
       "\u001b[1;33m   \u001b[0m\u001b[34mimage path formatting or the image not being built and pushed correctly.\u001b[0m\u001b[34m                                        \u001b[0m\n",
       "\n",
       "\u001b[34mLet's update the \u001b[0m\u001b[1;36;40mmain.tf\u001b[0m\u001b[34m and \u001b[0m\u001b[1;36;40mcloudbuild.yaml\u001b[0m\u001b[34m to fix these issues:\u001b[0m                                                  \n",
       "\n",
       "                                      \u001b[1;34mUpdate \u001b[0m\u001b[1;36;40mmain.tf\u001b[0m\u001b[1;34m for Cloud Build Trigger\u001b[0m                                       \n",
       "\n",
       "\u001b[34mEnsure the \u001b[0m\u001b[1;36;40mgoogle_cloudbuild_trigger\u001b[0m\u001b[34m is correctly configured with the build steps:\u001b[0m                                 \n",
       "\n",
       "\u001b[34mspring/kitchensink/terraform/main.tf\u001b[0m                                                                               \n",
       "\n",
       "\u001b[48;2;248;248;248m                                                                                                                   \u001b[0m\n",
       "\u001b[48;2;248;248;248m \u001b[0m\u001b[38;2;0;0;0;48;2;248;248;248m<\u001b[0m\u001b[38;2;0;0;0;48;2;248;248;248m<\u001b[0m\u001b[38;2;0;0;0;48;2;248;248;248m<\u001b[0m\u001b[38;2;0;0;0;48;2;248;248;248m<\u001b[0m\u001b[38;2;0;0;0;48;2;248;248;248m<\u001b[0m\u001b[38;2;102;102;102;48;2;248;248;248m<<\u001b[0m\u001b[38;2;186;33;33;48;2;248;248;248mSEARCH\u001b[0m\u001b[48;2;248;248;248m                                                                                                    \u001b[0m\u001b[48;2;248;248;248m \u001b[0m\n",
       "\u001b[48;2;248;248;248m \u001b[0m\u001b[38;2;0;0;0;48;2;248;248;248mresource \"google_cloudbuild_trigger\" \"docker_build\" {\u001b[0m\u001b[48;2;248;248;248m                                                            \u001b[0m\u001b[48;2;248;248;248m \u001b[0m\n",
       "\u001b[48;2;248;248;248m \u001b[0m\u001b[38;2;0;0;0;48;2;248;248;248m  name     = \"kitchensink-build\"\u001b[0m\u001b[48;2;248;248;248m                                                                                 \u001b[0m\u001b[48;2;248;248;248m \u001b[0m\n",
       "\u001b[48;2;248;248;248m \u001b[0m\u001b[38;2;0;0;0;48;2;248;248;248m  location = var.gcp_region\u001b[0m\u001b[48;2;248;248;248m                                                                                      \u001b[0m\u001b[48;2;248;248;248m \u001b[0m\n",
       "\u001b[48;2;248;248;248m \u001b[0m\u001b[48;2;248;248;248m                                                                                                                 \u001b[0m\u001b[48;2;248;248;248m \u001b[0m\n",
       "\u001b[48;2;248;248;248m \u001b[0m\u001b[38;2;0;0;0;48;2;248;248;248m  github {\u001b[0m\u001b[48;2;248;248;248m                                                                                                       \u001b[0m\u001b[48;2;248;248;248m \u001b[0m\n",
       "\u001b[48;2;248;248;248m \u001b[0m\u001b[38;2;0;0;0;48;2;248;248;248m    owner = \"YOUR_GITHUB_USERNAME\"\u001b[0m\u001b[48;2;248;248;248m                                                                               \u001b[0m\u001b[48;2;248;248;248m \u001b[0m\n",
       "\u001b[48;2;248;248;248m \u001b[0m\u001b[38;2;0;0;0;48;2;248;248;248m    name  = \"YOUR_REPOSITORY_NAME\"\u001b[0m\u001b[48;2;248;248;248m                                                                               \u001b[0m\u001b[48;2;248;248;248m \u001b[0m\n",
       "\u001b[48;2;248;248;248m \u001b[0m\u001b[38;2;0;0;0;48;2;248;248;248m    push {\u001b[0m\u001b[48;2;248;248;248m                                                                                                       \u001b[0m\u001b[48;2;248;248;248m \u001b[0m\n",
       "\u001b[48;2;248;248;248m \u001b[0m\u001b[38;2;0;0;0;48;2;248;248;248m      branch = \"main\"\u001b[0m\u001b[48;2;248;248;248m                                                                                            \u001b[0m\u001b[48;2;248;248;248m \u001b[0m\n",
       "\u001b[48;2;248;248;248m \u001b[0m\u001b[38;2;0;0;0;48;2;248;248;248m    }\u001b[0m\u001b[48;2;248;248;248m                                                                                                            \u001b[0m\u001b[48;2;248;248;248m \u001b[0m\n",
       "\u001b[48;2;248;248;248m \u001b[0m\u001b[38;2;0;0;0;48;2;248;248;248m  }\u001b[0m\u001b[48;2;248;248;248m                                                                                                              \u001b[0m\u001b[48;2;248;248;248m \u001b[0m\n",
       "\u001b[48;2;248;248;248m \u001b[0m\u001b[48;2;248;248;248m                                                                                                                 \u001b[0m\u001b[48;2;248;248;248m \u001b[0m\n",
       "\u001b[48;2;248;248;248m \u001b[0m\u001b[38;2;0;0;0;48;2;248;248;248m  filename = \"cloudbuild.yaml\"\u001b[0m\u001b[48;2;248;248;248m                                                                                   \u001b[0m\u001b[48;2;248;248;248m \u001b[0m\n",
       "\u001b[48;2;248;248;248m \u001b[0m\u001b[38;2;0;0;0;48;2;248;248;248m=======\u001b[0m\u001b[48;2;248;248;248m                                                                                                          \u001b[0m\u001b[48;2;248;248;248m \u001b[0m\n",
       "\u001b[48;2;248;248;248m \u001b[0m\u001b[38;2;0;0;0;48;2;248;248;248mresource \"google_cloudbuild_trigger\" \"docker_build\" {\u001b[0m\u001b[48;2;248;248;248m                                                            \u001b[0m\u001b[48;2;248;248;248m \u001b[0m\n",
       "\u001b[48;2;248;248;248m \u001b[0m\u001b[38;2;0;0;0;48;2;248;248;248m  provider = google-beta\u001b[0m\u001b[48;2;248;248;248m                                                                                         \u001b[0m\u001b[48;2;248;248;248m \u001b[0m\n",
       "\u001b[48;2;248;248;248m \u001b[0m\u001b[38;2;0;0;0;48;2;248;248;248m  name     = \"kitchensink-build\"\u001b[0m\u001b[48;2;248;248;248m                                                                                 \u001b[0m\u001b[48;2;248;248;248m \u001b[0m\n",
       "\u001b[48;2;248;248;248m \u001b[0m\u001b[38;2;0;0;0;48;2;248;248;248m  location = var.gcp_region\u001b[0m\u001b[48;2;248;248;248m                                                                                      \u001b[0m\u001b[48;2;248;248;248m \u001b[0m\n",
       "\u001b[48;2;248;248;248m \u001b[0m\u001b[48;2;248;248;248m                                                                                                                 \u001b[0m\u001b[48;2;248;248;248m \u001b[0m\n",
       "\u001b[48;2;248;248;248m \u001b[0m\u001b[38;2;0;0;0;48;2;248;248;248m  github {\u001b[0m\u001b[48;2;248;248;248m                                                                                                       \u001b[0m\u001b[48;2;248;248;248m \u001b[0m\n",
       "\u001b[48;2;248;248;248m \u001b[0m\u001b[38;2;0;0;0;48;2;248;248;248m    owner = \"YOUR_GITHUB_USERNAME\"\u001b[0m\u001b[48;2;248;248;248m                                                                               \u001b[0m\u001b[48;2;248;248;248m \u001b[0m\n",
       "\u001b[48;2;248;248;248m \u001b[0m\u001b[38;2;0;0;0;48;2;248;248;248m    name  = \"YOUR_REPOSITORY_NAME\"\u001b[0m\u001b[48;2;248;248;248m                                                                               \u001b[0m\u001b[48;2;248;248;248m \u001b[0m\n",
       "\u001b[48;2;248;248;248m \u001b[0m\u001b[38;2;0;0;0;48;2;248;248;248m    push {\u001b[0m\u001b[48;2;248;248;248m                                                                                                       \u001b[0m\u001b[48;2;248;248;248m \u001b[0m\n",
       "\u001b[48;2;248;248;248m \u001b[0m\u001b[38;2;0;0;0;48;2;248;248;248m      branch = \"main\"\u001b[0m\u001b[48;2;248;248;248m                                                                                            \u001b[0m\u001b[48;2;248;248;248m \u001b[0m\n",
       "\u001b[48;2;248;248;248m \u001b[0m\u001b[38;2;0;0;0;48;2;248;248;248m    }\u001b[0m\u001b[48;2;248;248;248m                                                                                                            \u001b[0m\u001b[48;2;248;248;248m \u001b[0m\n",
       "\u001b[48;2;248;248;248m \u001b[0m\u001b[38;2;0;0;0;48;2;248;248;248m  }\u001b[0m\u001b[48;2;248;248;248m                                                                                                              \u001b[0m\u001b[48;2;248;248;248m \u001b[0m\n",
       "\u001b[48;2;248;248;248m \u001b[0m\u001b[48;2;248;248;248m                                                                                                                 \u001b[0m\u001b[48;2;248;248;248m \u001b[0m\n",
       "\u001b[48;2;248;248;248m \u001b[0m\u001b[38;2;0;0;0;48;2;248;248;248m  build {\u001b[0m\u001b[48;2;248;248;248m                                                                                                        \u001b[0m\u001b[48;2;248;248;248m \u001b[0m\n",
       "\u001b[48;2;248;248;248m \u001b[0m\u001b[38;2;0;0;0;48;2;248;248;248m    steps {\u001b[0m\u001b[48;2;248;248;248m                                                                                                      \u001b[0m\u001b[48;2;248;248;248m \u001b[0m\n",
       "\u001b[48;2;248;248;248m \u001b[0m\u001b[38;2;0;0;0;48;2;248;248;248m      name = \"gcr.io/cloud-builders/docker\"\u001b[0m\u001b[48;2;248;248;248m                                                                      \u001b[0m\u001b[48;2;248;248;248m \u001b[0m\n",
       "\u001b[48;2;248;248;248m \u001b[0m\u001b[38;2;0;0;0;48;2;248;248;248m      args = [\"build\", \"-t\", \u001b[0m\u001b[48;2;248;248;248m                                                                                    \u001b[0m\u001b[48;2;248;248;248m \u001b[0m\n",
       "\u001b[48;2;248;248;248m \u001b[0m\u001b[38;2;0;0;0;48;2;248;248;248m\"${google_artifact_registry_repository.docker_repo.repository_url}/kitchensink:latest\", \".\"]\u001b[0m\u001b[48;2;248;248;248m                     \u001b[0m\u001b[48;2;248;248;248m \u001b[0m\n",
       "\u001b[48;2;248;248;248m \u001b[0m\u001b[38;2;0;0;0;48;2;248;248;248m    }\u001b[0m\u001b[48;2;248;248;248m                                                                                                            \u001b[0m\u001b[48;2;248;248;248m \u001b[0m\n",
       "\u001b[48;2;248;248;248m \u001b[0m\u001b[48;2;248;248;248m                                                                                                                 \u001b[0m\u001b[48;2;248;248;248m \u001b[0m\n",
       "\u001b[48;2;248;248;248m \u001b[0m\u001b[38;2;0;0;0;48;2;248;248;248m    images = [\"${google_artifact_registry_repository.docker_repo.repository_url}/kitchensink:latest\"]\u001b[0m\u001b[48;2;248;248;248m            \u001b[0m\u001b[48;2;248;248;248m \u001b[0m\n",
       "\u001b[48;2;248;248;248m \u001b[0m\u001b[38;2;0;0;0;48;2;248;248;248m  }\u001b[0m\u001b[48;2;248;248;248m                                                                                                              \u001b[0m\u001b[48;2;248;248;248m \u001b[0m\n",
       "\u001b[48;2;248;248;248m \u001b[0m\u001b[38;2;0;0;0;48;2;248;248;248m>>>>>>> REPLACE\u001b[0m\u001b[48;2;248;248;248m                                                                                                  \u001b[0m\u001b[48;2;248;248;248m \u001b[0m\n",
       "\u001b[48;2;248;248;248m \u001b[0m\u001b[1;38;2;0;128;0;48;2;248;248;248mresource\u001b[0m\u001b[38;2;187;187;187;48;2;248;248;248m \u001b[0m\u001b[1;38;2;0;0;255;48;2;248;248;248m\"google_cloudbuild_trigger\"\u001b[0m\u001b[38;2;187;187;187;48;2;248;248;248m \u001b[0m\u001b[38;2;25;23;124;48;2;248;248;248m\"docker_build\"\u001b[0m\u001b[38;2;187;187;187;48;2;248;248;248m \u001b[0m\u001b[38;2;0;0;0;48;2;248;248;248m{\u001b[0m\u001b[48;2;248;248;248m                                                            \u001b[0m\u001b[48;2;248;248;248m \u001b[0m\n",
       "\u001b[48;2;248;248;248m \u001b[0m\u001b[38;2;187;187;187;48;2;248;248;248m  \u001b[0m\u001b[38;2;104;120;34;48;2;248;248;248mname\u001b[0m\u001b[38;2;187;187;187;48;2;248;248;248m     \u001b[0m\u001b[38;2;102;102;102;48;2;248;248;248m=\u001b[0m\u001b[38;2;187;187;187;48;2;248;248;248m \u001b[0m\u001b[38;2;186;33;33;48;2;248;248;248m\"kitchensink-build\"\u001b[0m\u001b[48;2;248;248;248m                                                                                 \u001b[0m\u001b[48;2;248;248;248m \u001b[0m\n",
       "\u001b[48;2;248;248;248m \u001b[0m\u001b[38;2;187;187;187;48;2;248;248;248m  \u001b[0m\u001b[38;2;104;120;34;48;2;248;248;248mlocation\u001b[0m\u001b[38;2;187;187;187;48;2;248;248;248m \u001b[0m\u001b[38;2;102;102;102;48;2;248;248;248m=\u001b[0m\u001b[38;2;187;187;187;48;2;248;248;248m \u001b[0m\u001b[38;2;25;23;124;48;2;248;248;248mvar.gcp_region\u001b[0m\u001b[48;2;248;248;248m                                                                                      \u001b[0m\u001b[48;2;248;248;248m \u001b[0m\n",
       "\u001b[48;2;248;248;248m \u001b[0m\u001b[48;2;248;248;248m                                                                                                                 \u001b[0m\u001b[48;2;248;248;248m \u001b[0m\n",
       "\u001b[48;2;248;248;248m \u001b[0m\u001b[38;2;187;187;187;48;2;248;248;248m  \u001b[0m\u001b[38;2;0;128;0;48;2;248;248;248mgithub\u001b[0m\u001b[38;2;187;187;187;48;2;248;248;248m \u001b[0m\u001b[38;2;0;0;0;48;2;248;248;248m{\u001b[0m\u001b[48;2;248;248;248m                                                                                                       \u001b[0m\u001b[48;2;248;248;248m \u001b[0m\n",
       "\u001b[48;2;248;248;248m \u001b[0m\u001b[38;2;187;187;187;48;2;248;248;248m    \u001b[0m\u001b[38;2;104;120;34;48;2;248;248;248mowner\u001b[0m\u001b[38;2;187;187;187;48;2;248;248;248m \u001b[0m\u001b[38;2;102;102;102;48;2;248;248;248m=\u001b[0m\u001b[38;2;187;187;187;48;2;248;248;248m \u001b[0m\u001b[38;2;186;33;33;48;2;248;248;248m\"YOUR_GITHUB_USERNAME\"\u001b[0m\u001b[48;2;248;248;248m                                                                               \u001b[0m\u001b[48;2;248;248;248m \u001b[0m\n",
       "\u001b[48;2;248;248;248m \u001b[0m\u001b[38;2;187;187;187;48;2;248;248;248m    \u001b[0m\u001b[38;2;104;120;34;48;2;248;248;248mname\u001b[0m\u001b[38;2;187;187;187;48;2;248;248;248m  \u001b[0m\u001b[38;2;102;102;102;48;2;248;248;248m=\u001b[0m\u001b[38;2;187;187;187;48;2;248;248;248m \u001b[0m\u001b[38;2;186;33;33;48;2;248;248;248m\"YOUR_REPOSITORY_NAME\"\u001b[0m\u001b[48;2;248;248;248m                                                                               \u001b[0m\u001b[48;2;248;248;248m \u001b[0m\n",
       "\u001b[48;2;248;248;248m \u001b[0m\u001b[38;2;187;187;187;48;2;248;248;248m    \u001b[0m\u001b[38;2;0;128;0;48;2;248;248;248mpush\u001b[0m\u001b[38;2;187;187;187;48;2;248;248;248m \u001b[0m\u001b[38;2;0;0;0;48;2;248;248;248m{\u001b[0m\u001b[48;2;248;248;248m                                                                                                       \u001b[0m\u001b[48;2;248;248;248m \u001b[0m\n",
       "\u001b[48;2;248;248;248m \u001b[0m\u001b[38;2;187;187;187;48;2;248;248;248m      \u001b[0m\u001b[38;2;104;120;34;48;2;248;248;248mbranch\u001b[0m\u001b[38;2;187;187;187;48;2;248;248;248m \u001b[0m\u001b[38;2;102;102;102;48;2;248;248;248m=\u001b[0m\u001b[38;2;187;187;187;48;2;248;248;248m \u001b[0m\u001b[38;2;186;33;33;48;2;248;248;248m\"main\"\u001b[0m\u001b[48;2;248;248;248m                                                                                            \u001b[0m\u001b[48;2;248;248;248m \u001b[0m\n",
       "\u001b[48;2;248;248;248m \u001b[0m\u001b[38;2;187;187;187;48;2;248;248;248m    \u001b[0m\u001b[38;2;0;0;0;48;2;248;248;248m}\u001b[0m\u001b[48;2;248;248;248m                                                                                                            \u001b[0m\u001b[48;2;248;248;248m \u001b[0m\n",
       "\u001b[48;2;248;248;248m \u001b[0m\u001b[38;2;187;187;187;48;2;248;248;248m  \u001b[0m\u001b[38;2;0;0;0;48;2;248;248;248m}\u001b[0m\u001b[48;2;248;248;248m                                                                                                              \u001b[0m\u001b[48;2;248;248;248m \u001b[0m\n",
       "\u001b[48;2;248;248;248m \u001b[0m\u001b[48;2;248;248;248m                                                                                                                 \u001b[0m\u001b[48;2;248;248;248m \u001b[0m\n",
       "\u001b[48;2;248;248;248m \u001b[0m\u001b[38;2;187;187;187;48;2;248;248;248m  \u001b[0m\u001b[38;2;104;120;34;48;2;248;248;248mfilename\u001b[0m\u001b[38;2;187;187;187;48;2;248;248;248m \u001b[0m\u001b[38;2;102;102;102;48;2;248;248;248m=\u001b[0m\u001b[38;2;187;187;187;48;2;248;248;248m \u001b[0m\u001b[38;2;186;33;33;48;2;248;248;248m\"cloudbuild.yaml\"\u001b[0m\u001b[48;2;248;248;248m                                                                                   \u001b[0m\u001b[48;2;248;248;248m \u001b[0m\n",
       "\u001b[48;2;248;248;248m \u001b[0m\u001b[38;2;102;102;102;48;2;248;248;248m=\u001b[0m\u001b[38;2;0;0;0;48;2;248;248;248m=\u001b[0m\u001b[38;2;0;0;0;48;2;248;248;248m=\u001b[0m\u001b[38;2;0;0;0;48;2;248;248;248m=\u001b[0m\u001b[38;2;0;0;0;48;2;248;248;248m=\u001b[0m\u001b[38;2;0;0;0;48;2;248;248;248m=\u001b[0m\u001b[38;2;0;0;0;48;2;248;248;248m=\u001b[0m\u001b[48;2;248;248;248m                                                                                                          \u001b[0m\u001b[48;2;248;248;248m \u001b[0m\n",
       "\u001b[48;2;248;248;248m \u001b[0m\u001b[1;38;2;0;128;0;48;2;248;248;248mresource\u001b[0m\u001b[38;2;187;187;187;48;2;248;248;248m \u001b[0m\u001b[1;38;2;0;0;255;48;2;248;248;248m\"google_cloudbuild_trigger\"\u001b[0m\u001b[38;2;187;187;187;48;2;248;248;248m \u001b[0m\u001b[38;2;25;23;124;48;2;248;248;248m\"docker_build\"\u001b[0m\u001b[38;2;187;187;187;48;2;248;248;248m \u001b[0m\u001b[38;2;0;0;0;48;2;248;248;248m{\u001b[0m\u001b[48;2;248;248;248m                                                            \u001b[0m\u001b[48;2;248;248;248m \u001b[0m\n",
       "\u001b[48;2;248;248;248m \u001b[0m\u001b[38;2;187;187;187;48;2;248;248;248m  \u001b[0m\u001b[38;2;104;120;34;48;2;248;248;248mprovider\u001b[0m\u001b[38;2;187;187;187;48;2;248;248;248m \u001b[0m\u001b[38;2;102;102;102;48;2;248;248;248m=\u001b[0m\u001b[38;2;187;187;187;48;2;248;248;248m \u001b[0m\u001b[38;2;0;0;0;48;2;248;248;248mg\u001b[0m\u001b[38;2;0;0;0;48;2;248;248;248mo\u001b[0m\u001b[38;2;0;0;0;48;2;248;248;248mo\u001b[0m\u001b[38;2;0;0;0;48;2;248;248;248mg\u001b[0m\u001b[38;2;0;0;0;48;2;248;248;248ml\u001b[0m\u001b[38;2;0;0;0;48;2;248;248;248me\u001b[0m\u001b[38;2;0;0;0;48;2;248;248;248m-\u001b[0m\u001b[38;2;0;0;0;48;2;248;248;248mb\u001b[0m\u001b[38;2;0;0;0;48;2;248;248;248me\u001b[0m\u001b[38;2;0;0;0;48;2;248;248;248mt\u001b[0m\u001b[38;2;0;0;0;48;2;248;248;248ma\u001b[0m\u001b[48;2;248;248;248m                                                                                         \u001b[0m\u001b[48;2;248;248;248m \u001b[0m\n",
       "\u001b[48;2;248;248;248m \u001b[0m\u001b[38;2;187;187;187;48;2;248;248;248m  \u001b[0m\u001b[38;2;104;120;34;48;2;248;248;248mname\u001b[0m\u001b[38;2;187;187;187;48;2;248;248;248m     \u001b[0m\u001b[38;2;102;102;102;48;2;248;248;248m=\u001b[0m\u001b[38;2;187;187;187;48;2;248;248;248m \u001b[0m\u001b[38;2;186;33;33;48;2;248;248;248m\"kitchensink-build\"\u001b[0m\u001b[48;2;248;248;248m                                                                                 \u001b[0m\u001b[48;2;248;248;248m \u001b[0m\n",
       "\u001b[48;2;248;248;248m \u001b[0m\u001b[38;2;187;187;187;48;2;248;248;248m  \u001b[0m\u001b[38;2;104;120;34;48;2;248;248;248mlocation\u001b[0m\u001b[38;2;187;187;187;48;2;248;248;248m \u001b[0m\u001b[38;2;102;102;102;48;2;248;248;248m=\u001b[0m\u001b[38;2;187;187;187;48;2;248;248;248m \u001b[0m\u001b[38;2;25;23;124;48;2;248;248;248mvar.gcp_region\u001b[0m\u001b[48;2;248;248;248m                                                                                      \u001b[0m\u001b[48;2;248;248;248m \u001b[0m\n",
       "\u001b[48;2;248;248;248m \u001b[0m\u001b[48;2;248;248;248m                                                                                                                 \u001b[0m\u001b[48;2;248;248;248m \u001b[0m\n",
       "\u001b[48;2;248;248;248m \u001b[0m\u001b[38;2;187;187;187;48;2;248;248;248m  \u001b[0m\u001b[38;2;0;128;0;48;2;248;248;248mgithub\u001b[0m\u001b[38;2;187;187;187;48;2;248;248;248m \u001b[0m\u001b[38;2;0;0;0;48;2;248;248;248m{\u001b[0m\u001b[48;2;248;248;248m                                                                                                       \u001b[0m\u001b[48;2;248;248;248m \u001b[0m\n",
       "\u001b[48;2;248;248;248m \u001b[0m\u001b[38;2;187;187;187;48;2;248;248;248m    \u001b[0m\u001b[38;2;104;120;34;48;2;248;248;248mowner\u001b[0m\u001b[38;2;187;187;187;48;2;248;248;248m \u001b[0m\u001b[38;2;102;102;102;48;2;248;248;248m=\u001b[0m\u001b[38;2;187;187;187;48;2;248;248;248m \u001b[0m\u001b[38;2;186;33;33;48;2;248;248;248m\"YOUR_GITHUB_USERNAME\"\u001b[0m\u001b[48;2;248;248;248m                                                                               \u001b[0m\u001b[48;2;248;248;248m \u001b[0m\n",
       "\u001b[48;2;248;248;248m \u001b[0m\u001b[38;2;187;187;187;48;2;248;248;248m    \u001b[0m\u001b[38;2;104;120;34;48;2;248;248;248mname\u001b[0m\u001b[38;2;187;187;187;48;2;248;248;248m  \u001b[0m\u001b[38;2;102;102;102;48;2;248;248;248m=\u001b[0m\u001b[38;2;187;187;187;48;2;248;248;248m \u001b[0m\u001b[38;2;186;33;33;48;2;248;248;248m\"YOUR_REPOSITORY_NAME\"\u001b[0m\u001b[48;2;248;248;248m                                                                               \u001b[0m\u001b[48;2;248;248;248m \u001b[0m\n",
       "\u001b[48;2;248;248;248m \u001b[0m\u001b[38;2;187;187;187;48;2;248;248;248m    \u001b[0m\u001b[38;2;0;128;0;48;2;248;248;248mpush\u001b[0m\u001b[38;2;187;187;187;48;2;248;248;248m \u001b[0m\u001b[38;2;0;0;0;48;2;248;248;248m{\u001b[0m\u001b[48;2;248;248;248m                                                                                                       \u001b[0m\u001b[48;2;248;248;248m \u001b[0m\n",
       "\u001b[48;2;248;248;248m \u001b[0m\u001b[38;2;187;187;187;48;2;248;248;248m      \u001b[0m\u001b[38;2;104;120;34;48;2;248;248;248mbranch\u001b[0m\u001b[38;2;187;187;187;48;2;248;248;248m \u001b[0m\u001b[38;2;102;102;102;48;2;248;248;248m=\u001b[0m\u001b[38;2;187;187;187;48;2;248;248;248m \u001b[0m\u001b[38;2;186;33;33;48;2;248;248;248m\"main\"\u001b[0m\u001b[48;2;248;248;248m                                                                                            \u001b[0m\u001b[48;2;248;248;248m \u001b[0m\n",
       "\u001b[48;2;248;248;248m \u001b[0m\u001b[38;2;187;187;187;48;2;248;248;248m    \u001b[0m\u001b[38;2;0;0;0;48;2;248;248;248m}\u001b[0m\u001b[48;2;248;248;248m                                                                                                            \u001b[0m\u001b[48;2;248;248;248m \u001b[0m\n",
       "\u001b[48;2;248;248;248m \u001b[0m\u001b[38;2;187;187;187;48;2;248;248;248m  \u001b[0m\u001b[38;2;0;0;0;48;2;248;248;248m}\u001b[0m\u001b[48;2;248;248;248m                                                                                                              \u001b[0m\u001b[48;2;248;248;248m \u001b[0m\n",
       "\u001b[48;2;248;248;248m \u001b[0m\u001b[48;2;248;248;248m                                                                                                                 \u001b[0m\u001b[48;2;248;248;248m \u001b[0m\n",
       "\u001b[48;2;248;248;248m \u001b[0m\u001b[38;2;187;187;187;48;2;248;248;248m  \u001b[0m\u001b[38;2;0;128;0;48;2;248;248;248mbuild\u001b[0m\u001b[38;2;187;187;187;48;2;248;248;248m \u001b[0m\u001b[38;2;0;0;0;48;2;248;248;248m{\u001b[0m\u001b[48;2;248;248;248m                                                                                                        \u001b[0m\u001b[48;2;248;248;248m \u001b[0m\n",
       "\u001b[48;2;248;248;248m \u001b[0m\u001b[38;2;187;187;187;48;2;248;248;248m    \u001b[0m\u001b[38;2;0;128;0;48;2;248;248;248msteps\u001b[0m\u001b[38;2;187;187;187;48;2;248;248;248m \u001b[0m\u001b[38;2;0;0;0;48;2;248;248;248m{\u001b[0m\u001b[48;2;248;248;248m                                                                                                      \u001b[0m\u001b[48;2;248;248;248m \u001b[0m\n",
       "\u001b[48;2;248;248;248m \u001b[0m\u001b[38;2;187;187;187;48;2;248;248;248m      \u001b[0m\u001b[38;2;104;120;34;48;2;248;248;248mname\u001b[0m\u001b[38;2;187;187;187;48;2;248;248;248m \u001b[0m\u001b[38;2;102;102;102;48;2;248;248;248m=\u001b[0m\u001b[38;2;187;187;187;48;2;248;248;248m \u001b[0m\u001b[38;2;186;33;33;48;2;248;248;248m\"gcr.io/cloud-builders/docker\"\u001b[0m\u001b[48;2;248;248;248m                                                                      \u001b[0m\u001b[48;2;248;248;248m \u001b[0m\n",
       "\u001b[48;2;248;248;248m \u001b[0m\u001b[38;2;187;187;187;48;2;248;248;248m      \u001b[0m\u001b[38;2;104;120;34;48;2;248;248;248margs\u001b[0m\u001b[38;2;187;187;187;48;2;248;248;248m \u001b[0m\u001b[38;2;102;102;102;48;2;248;248;248m=\u001b[0m\u001b[38;2;187;187;187;48;2;248;248;248m \u001b[0m\u001b[38;2;0;0;0;48;2;248;248;248m[\u001b[0m\u001b[38;2;186;33;33;48;2;248;248;248m\"build\", \"-t\", \u001b[0m\u001b[48;2;248;248;248m                                                                                    \u001b[0m\u001b[48;2;248;248;248m \u001b[0m\n",
       "\u001b[48;2;248;248;248m \u001b[0m\u001b[38;2;186;33;33;48;2;248;248;248m\"${google_artifact_registry_repository.docker_repo.repository_url}/kitchensink:latest\", \".\"\u001b[0m\u001b[38;2;0;0;0;48;2;248;248;248m]\u001b[0m\u001b[48;2;248;248;248m                     \u001b[0m\u001b[48;2;248;248;248m \u001b[0m\n",
       "\u001b[48;2;248;248;248m \u001b[0m\u001b[38;2;187;187;187;48;2;248;248;248m    \u001b[0m\u001b[38;2;0;0;0;48;2;248;248;248m}\u001b[0m\u001b[48;2;248;248;248m                                                                                                            \u001b[0m\u001b[48;2;248;248;248m \u001b[0m\n",
       "\u001b[48;2;248;248;248m \u001b[0m\u001b[48;2;248;248;248m                                                                                                                 \u001b[0m\u001b[48;2;248;248;248m \u001b[0m\n",
       "\u001b[48;2;248;248;248m \u001b[0m\u001b[38;2;187;187;187;48;2;248;248;248m    \u001b[0m\u001b[38;2;104;120;34;48;2;248;248;248mimages\u001b[0m\u001b[38;2;187;187;187;48;2;248;248;248m \u001b[0m\u001b[38;2;102;102;102;48;2;248;248;248m=\u001b[0m\u001b[38;2;187;187;187;48;2;248;248;248m \u001b[0m\u001b[38;2;0;0;0;48;2;248;248;248m[\u001b[0m\u001b[38;2;186;33;33;48;2;248;248;248m\"${google_artifact_registry_repository.docker_repo.repository_url}/kitchensink:latest\"\u001b[0m\u001b[38;2;0;0;0;48;2;248;248;248m]\u001b[0m\u001b[48;2;248;248;248m            \u001b[0m\u001b[48;2;248;248;248m \u001b[0m\n",
       "\u001b[48;2;248;248;248m \u001b[0m\u001b[38;2;187;187;187;48;2;248;248;248m  \u001b[0m\u001b[38;2;0;0;0;48;2;248;248;248m}\u001b[0m\u001b[48;2;248;248;248m                                                                                                              \u001b[0m\u001b[48;2;248;248;248m \u001b[0m\n",
       "\u001b[48;2;248;248;248m \u001b[0m\u001b[38;2;0;0;0;48;2;248;248;248m>\u001b[0m\u001b[38;2;0;0;0;48;2;248;248;248m>\u001b[0m\u001b[38;2;0;0;0;48;2;248;248;248m>\u001b[0m\u001b[38;2;0;0;0;48;2;248;248;248m>\u001b[0m\u001b[38;2;0;0;0;48;2;248;248;248m>\u001b[0m\u001b[38;2;0;0;0;48;2;248;248;248m>\u001b[0m\u001b[38;2;0;0;0;48;2;248;248;248m>\u001b[0m\u001b[38;2;187;187;187;48;2;248;248;248m \u001b[0m\u001b[38;2;0;0;0;48;2;248;248;248mR\u001b[0m\u001b[38;2;0;0;0;48;2;248;248;248mE\u001b[0m\u001b[38;2;0;0;0;48;2;248;248;248mP\u001b[0m\u001b[38;2;0;0;0;48;2;248;248;248mL\u001b[0m\u001b[38;2;0;0;0;48;2;248;248;248mA\u001b[0m\u001b[38;2;0;0;0;48;2;248;248;248mC\u001b[0m\u001b[38;2;0;0;0;48;2;248;248;248mE\u001b[0m\u001b[48;2;248;248;248m                                                                                                  \u001b[0m\u001b[48;2;248;248;248m \u001b[0m\n",
       "\u001b[48;2;248;248;248m                                                                                                                   \u001b[0m\n",
       "\n",
       "                                   \u001b[1;34mUpdate \u001b[0m\u001b[1;36;40mcloudbuild.yaml\u001b[0m\u001b[1;34m for Correct Image Path\u001b[0m                                   \n",
       "\n",
       "\u001b[34mEnsure the image path is correctly formatted in \u001b[0m\u001b[1;36;40mcloudbuild.yaml\u001b[0m\u001b[34m:\u001b[0m                                                   \n",
       "\n",
       "\u001b[34mspring/kitchensink/terraform/cloudbuild.yaml\u001b[0m                                                                       \n",
       "\n",
       "\u001b[48;2;248;248;248m                                                                                                                   \u001b[0m\n",
       "\u001b[48;2;248;248;248m \u001b[0m\u001b[48;2;248;248;248m<<<<<<< SEARCH                                                                                                   \u001b[0m\u001b[48;2;248;248;248m \u001b[0m\n",
       "\u001b[48;2;248;248;248m \u001b[0m\u001b[38;2;187;187;187;48;2;248;248;248m      \u001b[0m\u001b[48;2;248;248;248m- 'REGION−docker.pkg.dev/{_REGION}-docker.pkg.dev/PROJECT_ID/${_ARTIFACT_REPO_NAME}/kitchensink:latest'    \u001b[0m\u001b[48;2;248;248;248m \u001b[0m\n",
       "\u001b[48;2;248;248;248m \u001b[0m\u001b[48;2;248;248;248m=======                                                                                                          \u001b[0m\u001b[48;2;248;248;248m \u001b[0m\n",
       "\u001b[48;2;248;248;248m \u001b[0m\u001b[38;2;187;187;187;48;2;248;248;248m      \u001b[0m\u001b[48;2;248;248;248m- '${_REGION}-docker.pkg.dev/$PROJECT_ID/${_ARTIFACT_REPO_NAME}/kitchensink:latest'                        \u001b[0m\u001b[48;2;248;248;248m \u001b[0m\n",
       "\u001b[48;2;248;248;248m \u001b[0m\u001b[48;2;248;248;248m>>>>>>> REPLACE                                                                                                  \u001b[0m\u001b[48;2;248;248;248m \u001b[0m\n",
       "\u001b[48;2;248;248;248m                                                                                                                   \u001b[0m\n",
       "\n",
       "\u001b[34mspring/kitchensink/terraform/cloudbuild.yaml\u001b[0m                                                                       \n",
       "\n",
       "\u001b[48;2;248;248;248m                                                                                                                   \u001b[0m\n",
       "\u001b[48;2;248;248;248m \u001b[0m\u001b[48;2;248;248;248m<<<<<<< SEARCH                                                                                                   \u001b[0m\u001b[48;2;248;248;248m \u001b[0m\n",
       "\u001b[48;2;248;248;248m \u001b[0m\u001b[38;2;187;187;187;48;2;248;248;248m      \u001b[0m\u001b[48;2;248;248;248m- 'REGION−docker.pkg.dev/{_REGION}-docker.pkg.dev/PROJECT_ID/${_ARTIFACT_REPO_NAME}/kitchensink:latest'    \u001b[0m\u001b[48;2;248;248;248m \u001b[0m\n",
       "\u001b[48;2;248;248;248m \u001b[0m\u001b[48;2;248;248;248m=======                                                                                                          \u001b[0m\u001b[48;2;248;248;248m \u001b[0m\n",
       "\u001b[48;2;248;248;248m \u001b[0m\u001b[38;2;187;187;187;48;2;248;248;248m      \u001b[0m\u001b[48;2;248;248;248m- '${_REGION}-docker.pkg.dev/$PROJECT_ID/${_ARTIFACT_REPO_NAME}/kitchensink:latest'                        \u001b[0m\u001b[48;2;248;248;248m \u001b[0m\n",
       "\u001b[48;2;248;248;248m \u001b[0m\u001b[48;2;248;248;248m>>>>>>> REPLACE                                                                                                  \u001b[0m\u001b[48;2;248;248;248m \u001b[0m\n",
       "\u001b[48;2;248;248;248m                                                                                                                   \u001b[0m\n",
       "\n",
       "\u001b[34mspring/kitchensink/terraform/cloudbuild.yaml\u001b[0m                                                                       \n",
       "\n",
       "\u001b[48;2;248;248;248m                                                                                                                   \u001b[0m\n",
       "\u001b[48;2;248;248;248m \u001b[0m\u001b[48;2;248;248;248m<<<<<<< SEARCH                                                                                                   \u001b[0m\u001b[48;2;248;248;248m \u001b[0m\n",
       "\u001b[48;2;248;248;248m \u001b[0m\u001b[38;2;187;187;187;48;2;248;248;248m      \u001b[0m\u001b[48;2;248;248;248m-                                                                                                          \u001b[0m\u001b[48;2;248;248;248m \u001b[0m\n",
       "\u001b[48;2;248;248;248m \u001b[0m\u001b[48;2;248;248;248m'--image=REGION−docker.pkg.dev/{_REGION}-docker.pkg.dev/PROJECT_ID/${_ARTIFACT_REPO_NAME}/kitchensink:latest'    \u001b[0m\u001b[48;2;248;248;248m \u001b[0m\n",
       "\u001b[48;2;248;248;248m \u001b[0m\u001b[38;2;187;187;187;48;2;248;248;248m      \u001b[0m\u001b[48;2;248;248;248m- '--region=${_REGION}'                                                                                    \u001b[0m\u001b[48;2;248;248;248m \u001b[0m\n",
       "\u001b[48;2;248;248;248m \u001b[0m\u001b[48;2;248;248;248m=======                                                                                                          \u001b[0m\u001b[48;2;248;248;248m \u001b[0m\n",
       "\u001b[48;2;248;248;248m \u001b[0m\u001b[38;2;187;187;187;48;2;248;248;248m      \u001b[0m\u001b[48;2;248;248;248m- '--image=${_REGION}-docker.pkg.dev/$PROJECT_ID/${_ARTIFACT_REPO_NAME}/kitchensink:latest'                \u001b[0m\u001b[48;2;248;248;248m \u001b[0m\n",
       "\u001b[48;2;248;248;248m \u001b[0m\u001b[38;2;187;187;187;48;2;248;248;248m      \u001b[0m\u001b[48;2;248;248;248m- '--region=${_REGION}'                                                                                    \u001b[0m\u001b[48;2;248;248;248m \u001b[0m\n",
       "\u001b[48;2;248;248;248m \u001b[0m\u001b[48;2;248;248;248m>>>>>>> REPLACE                                                                                                  \u001b[0m\u001b[48;2;248;248;248m \u001b[0m\n",
       "\u001b[48;2;248;248;248m                                                                                                                   \u001b[0m\n",
       "\n",
       "\u001b[34mAfter applying these changes, re-run the Terraform commands to apply the configuration:\u001b[0m                            \n",
       "\n",
       "\u001b[48;2;248;248;248m                                                                                                                   \u001b[0m\n",
       "\u001b[48;2;248;248;248m \u001b[0m\u001b[38;2;0;0;0;48;2;248;248;248mterraform\u001b[0m\u001b[38;2;187;187;187;48;2;248;248;248m \u001b[0m\u001b[38;2;0;0;0;48;2;248;248;248minit\u001b[0m\u001b[48;2;248;248;248m                                                                                                   \u001b[0m\u001b[48;2;248;248;248m \u001b[0m\n",
       "\u001b[48;2;248;248;248m \u001b[0m\u001b[38;2;0;0;0;48;2;248;248;248mterraform\u001b[0m\u001b[38;2;187;187;187;48;2;248;248;248m \u001b[0m\u001b[38;2;0;0;0;48;2;248;248;248mapply\u001b[0m\u001b[48;2;248;248;248m                                                                                                  \u001b[0m\u001b[48;2;248;248;248m \u001b[0m\n",
       "\u001b[48;2;248;248;248m                                                                                                                   \u001b[0m\n",
       "\n",
       "\u001b[34mThis should resolve the issues with the Cloud Build trigger and the Cloud Run service deployment.\u001b[0m                  \n"
      ]
     },
     "metadata": {},
     "output_type": "display_data"
    },
    {
     "data": {
      "text/html": [
       "<pre style=\"white-space:pre;overflow-x:auto;line-height:normal;font-family:Menlo,'DejaVu Sans Mono',consolas,'Courier New',monospace\">\n",
       "</pre>\n"
      ],
      "text/plain": [
       "\n"
      ]
     },
     "metadata": {},
     "output_type": "display_data"
    },
    {
     "data": {
      "text/html": [
       "<pre style=\"white-space:pre;overflow-x:auto;line-height:normal;font-family:Menlo,'DejaVu Sans Mono',consolas,'Courier New',monospace\">Tokens: 9.6k sent, 738 received. Cost: $0.03 message, $0.19 session.\n",
       "</pre>\n"
      ],
      "text/plain": [
       "Tokens: 9.6k sent, 738 received. Cost: $0.03 message, $0.19 session.\n"
      ]
     },
     "metadata": {},
     "output_type": "display_data"
    },
    {
     "data": {
      "text/html": [
       "<pre style=\"white-space:pre;overflow-x:auto;line-height:normal;font-family:Menlo,'DejaVu Sans Mono',consolas,'Courier New',monospace\">Committing spring/kitchensink/terraform/main.tf before applying edits.\n",
       "</pre>\n"
      ],
      "text/plain": [
       "Committing spring/kitchensink/terraform/main.tf before applying edits.\n"
      ]
     },
     "metadata": {},
     "output_type": "display_data"
    },
    {
     "data": {
      "text/html": [
       "<pre style=\"white-space:pre;overflow-x:auto;line-height:normal;font-family:Menlo,'DejaVu Sans Mono',consolas,'Courier New',monospace\">Committing spring/kitchensink/terraform/cloudbuild.yaml before applying edits.\n",
       "</pre>\n"
      ],
      "text/plain": [
       "Committing spring/kitchensink/terraform/cloudbuild.yaml before applying edits.\n"
      ]
     },
     "metadata": {},
     "output_type": "display_data"
    },
    {
     "data": {
      "text/html": [
       "<pre style=\"white-space:pre;overflow-x:auto;line-height:normal;font-family:Menlo,'DejaVu Sans Mono',consolas,'Courier New',monospace\"><span style=\"color: #800000; text-decoration-color: #800000\">Exception while updating files:</span>\n",
       "</pre>\n"
      ],
      "text/plain": [
       "\u001b[31mException while updating files:\u001b[0m\n"
      ]
     },
     "metadata": {},
     "output_type": "display_data"
    },
    {
     "data": {
      "text/html": [
       "<pre style=\"white-space:pre;overflow-x:auto;line-height:normal;font-family:Menlo,'DejaVu Sans Mono',consolas,'Courier New',monospace\"><span style=\"color: #800000; text-decoration-color: #800000\">No section: 'user'</span>\n",
       "</pre>\n"
      ],
      "text/plain": [
       "\u001b[31mNo section: 'user'\u001b[0m\n"
      ]
     },
     "metadata": {},
     "output_type": "display_data"
    },
    {
     "name": "stderr",
     "output_type": "stream",
     "text": [
      "Traceback (most recent call last):\n",
      "  File \"/opt/conda/lib/python3.10/site-packages/aider/coders/base_coder.py\", line 2063, in apply_updates\n",
      "    edits = self.prepare_to_edit(edits)\n",
      "  File \"/opt/conda/lib/python3.10/site-packages/aider/coders/base_coder.py\", line 2053, in prepare_to_edit\n",
      "    self.dirty_commit()\n",
      "  File \"/opt/conda/lib/python3.10/site-packages/aider/coders/base_coder.py\", line 2181, in dirty_commit\n",
      "    self.repo.commit(fnames=self.need_commit_before_edits)\n",
      "  File \"/opt/conda/lib/python3.10/site-packages/aider/repo.py\", line 148, in commit\n",
      "    original_user_name = self.repo.config_reader().get_value(\"user\", \"name\")\n",
      "  File \"/opt/conda/lib/python3.10/site-packages/git/config.py\", line 793, in get_value\n",
      "    valuestr = self.get(section, option)\n",
      "  File \"/opt/conda/lib/python3.10/site-packages/git/config.py\", line 114, in assure_data_present\n",
      "    return func(self, *args, **kwargs)\n",
      "  File \"/opt/conda/lib/python3.10/configparser.py\", line 783, in get\n",
      "    d = self._unify_values(section, vars)\n",
      "  File \"/opt/conda/lib/python3.10/configparser.py\", line 1154, in _unify_values\n",
      "    raise NoSectionError(section) from None\n",
      "configparser.NoSectionError: No section: 'user'\n"
     ]
    },
    {
     "data": {
      "text/html": [
       "<pre style=\"white-space:pre;overflow-x:auto;line-height:normal;font-family:Menlo,'DejaVu Sans Mono',consolas,'Courier New',monospace\"><span style=\"color: #000080; text-decoration-color: #000080\">It seems like there might be an issue with your </span><span style=\"color: #008080; text-decoration-color: #008080; background-color: #000000; font-weight: bold\">gcloud</span><span style=\"color: #000080; text-decoration-color: #000080\"> configuration, specifically with the user section. This can </span>\n",
       "<span style=\"color: #000080; text-decoration-color: #000080\">happen if the </span><span style=\"color: #008080; text-decoration-color: #008080; background-color: #000000; font-weight: bold\">gcloud</span><span style=\"color: #000080; text-decoration-color: #000080\"> CLI is not properly configured with your account details. To resolve this, you can run the </span>   \n",
       "<span style=\"color: #000080; text-decoration-color: #000080\">following command to reinitialize your </span><span style=\"color: #008080; text-decoration-color: #008080; background-color: #000000; font-weight: bold\">gcloud</span><span style=\"color: #000080; text-decoration-color: #000080\"> configuration:</span>                                                       \n",
       "\n",
       "<span style=\"background-color: #f8f8f8\">                                                                                                                   </span>\n",
       "<span style=\"background-color: #f8f8f8\"> </span><span style=\"color: #000000; text-decoration-color: #000000; background-color: #f8f8f8\">gcloud</span><span style=\"color: #bbbbbb; text-decoration-color: #bbbbbb; background-color: #f8f8f8\"> </span><span style=\"color: #000000; text-decoration-color: #000000; background-color: #f8f8f8\">init</span><span style=\"background-color: #f8f8f8\">                                                                                                       </span>\n",
       "<span style=\"background-color: #f8f8f8\">                                                                                                                   </span>\n",
       "\n",
       "<span style=\"color: #000080; text-decoration-color: #000080\">This command will guide you through the process of setting up your Google Cloud account, selecting a project, and </span> \n",
       "<span style=\"color: #000080; text-decoration-color: #000080\">configuring the default region. Once you've completed this setup, you should be able to retrieve the project ID and</span>\n",
       "<span style=\"color: #000080; text-decoration-color: #000080\">continue with your Terraform deployment.</span>                                                                           \n",
       "\n",
       "<span style=\"color: #000080; text-decoration-color: #000080\">If you encounter any issues during the </span><span style=\"color: #008080; text-decoration-color: #008080; background-color: #000000; font-weight: bold\">gcloud init</span><span style=\"color: #000080; text-decoration-color: #000080\"> process, please let me know!</span>                                    \n",
       "</pre>\n"
      ],
      "text/plain": [
       "\u001b[34mIt seems like there might be an issue with your \u001b[0m\u001b[1;36;40mgcloud\u001b[0m\u001b[34m configuration, specifically with the user section. This can \u001b[0m\n",
       "\u001b[34mhappen if the \u001b[0m\u001b[1;36;40mgcloud\u001b[0m\u001b[34m CLI is not properly configured with your account details. To resolve this, you can run the \u001b[0m   \n",
       "\u001b[34mfollowing command to reinitialize your \u001b[0m\u001b[1;36;40mgcloud\u001b[0m\u001b[34m configuration:\u001b[0m                                                       \n",
       "\n",
       "\u001b[48;2;248;248;248m                                                                                                                   \u001b[0m\n",
       "\u001b[48;2;248;248;248m \u001b[0m\u001b[38;2;0;0;0;48;2;248;248;248mgcloud\u001b[0m\u001b[38;2;187;187;187;48;2;248;248;248m \u001b[0m\u001b[38;2;0;0;0;48;2;248;248;248minit\u001b[0m\u001b[48;2;248;248;248m                                                                                                      \u001b[0m\u001b[48;2;248;248;248m \u001b[0m\n",
       "\u001b[48;2;248;248;248m                                                                                                                   \u001b[0m\n",
       "\n",
       "\u001b[34mThis command will guide you through the process of setting up your Google Cloud account, selecting a project, and \u001b[0m \n",
       "\u001b[34mconfiguring the default region. Once you've completed this setup, you should be able to retrieve the project ID and\u001b[0m\n",
       "\u001b[34mcontinue with your Terraform deployment.\u001b[0m                                                                           \n",
       "\n",
       "\u001b[34mIf you encounter any issues during the \u001b[0m\u001b[1;36;40mgcloud init\u001b[0m\u001b[34m process, please let me know!\u001b[0m                                    \n"
      ]
     },
     "metadata": {},
     "output_type": "display_data"
    },
    {
     "data": {
      "text/html": [
       "<pre style=\"white-space:pre;overflow-x:auto;line-height:normal;font-family:Menlo,'DejaVu Sans Mono',consolas,'Courier New',monospace\">\n",
       "</pre>\n"
      ],
      "text/plain": [
       "\n"
      ]
     },
     "metadata": {},
     "output_type": "display_data"
    },
    {
     "data": {
      "text/html": [
       "<pre style=\"white-space:pre;overflow-x:auto;line-height:normal;font-family:Menlo,'DejaVu Sans Mono',consolas,'Courier New',monospace\">Tokens: 10k sent, 138 received. Cost: $0.03 message, $0.22 session.\n",
       "</pre>\n"
      ],
      "text/plain": [
       "Tokens: 10k sent, 138 received. Cost: $0.03 message, $0.22 session.\n"
      ]
     },
     "metadata": {},
     "output_type": "display_data"
    },
    {
     "data": {
      "text/html": [
       "<pre style=\"white-space:pre;overflow-x:auto;line-height:normal;font-family:Menlo,'DejaVu Sans Mono',consolas,'Courier New',monospace\">\n",
       "</pre>\n"
      ],
      "text/plain": [
       "\n"
      ]
     },
     "metadata": {},
     "output_type": "display_data"
    },
    {
     "data": {
      "text/html": [
       "<pre style=\"white-space:pre;overflow-x:auto;line-height:normal;font-family:Menlo,'DejaVu Sans Mono',consolas,'Courier New',monospace\">terraform init \n",
       "terraform apply\n",
       "</pre>\n"
      ],
      "text/plain": [
       "\u001b[7mterraform init \u001b[0m\n",
       "\u001b[7mterraform apply\u001b[0m\n"
      ]
     },
     "metadata": {},
     "output_type": "display_data"
    },
    {
     "data": {
      "text/html": [
       "<pre style=\"white-space:pre;overflow-x:auto;line-height:normal;font-family:Menlo,'DejaVu Sans Mono',consolas,'Courier New',monospace\">\n",
       "</pre>\n"
      ],
      "text/plain": [
       "\n"
      ]
     },
     "metadata": {},
     "output_type": "display_data"
    },
    {
     "data": {
      "text/html": [
       "<pre style=\"white-space:pre;overflow-x:auto;line-height:normal;font-family:Menlo,'DejaVu Sans Mono',consolas,'Courier New',monospace\">gcloud init\n",
       "</pre>\n"
      ],
      "text/plain": [
       "\u001b[7mgcloud init\u001b[0m\n"
      ]
     },
     "metadata": {},
     "output_type": "display_data"
    },
    {
     "data": {
      "text/plain": [
       "\"It seems like there might be an issue with your `gcloud` configuration, specifically with the user section. This can happen if the `gcloud` CLI is not properly configured with your account details. To resolve this, you can run the following command to reinitialize your `gcloud` configuration:\\n\\n```bash\\ngcloud init\\n```\\n\\nThis command will guide you through the process of setting up your Google Cloud account, selecting a project, and configuring the default region. Once you've completed this setup, you should be able to retrieve the project ID and continue with your Terraform deployment.\\n\\nIf you encounter any issues during the `gcloud init` process, please let me know!\""
      ]
     },
     "execution_count": 19,
     "metadata": {},
     "output_type": "execute_result"
    }
   ],
   "source": [
    "coder.run(\"\"\"google_artifact_registry_repository.docker_repo: Creating...\n",
    "google_cloud_run_service.cloud_run: Creating...\n",
    "google_cloudbuild_trigger.docker_build: Creating...\n",
    "google_artifact_registry_repository.docker_repo: Still creating... [10s elapsed]\n",
    "google_artifact_registry_repository.docker_repo: Creation complete after 16s [id=projects/ali-gcp-450510/locations/us-central1/repositories/kitchensink-repo]\n",
    "╷\n",
    "│ Error: Error creating Trigger: googleapi: Error 400: Request contains an invalid argument.\n",
    "│ \n",
    "│   with google_cloudbuild_trigger.docker_build,\n",
    "│   on main.tf line 47, in resource \"google_cloudbuild_trigger\" \"docker_build\":\n",
    "│   47: resource \"google_cloudbuild_trigger\" \"docker_build\" {\n",
    "│ \n",
    "╵\n",
    "╷\n",
    "│ Error: Error waiting to create Service: resource is in failed state \"Ready:False\", message: Revision 'kitchensink-app-00001-229' is not ready and cannot serve traffic. Image 'us-central1-docker.pkg.dev/var.gcpprojectid/{var.gcp_project_id}/{var.artifact_repo_name}/kitchensink:latest' not found.\n",
    "│ \n",
    "│   with google_cloud_run_service.cloud_run,\n",
    "│   on main.tf line 63, in resource \"google_cloud_run_service\" \"cloud_run\":\n",
    "│   63: resource \"google_cloud_run_service\" \"cloud_run\" {\n",
    "│ \"\"\")"
   ]
  },
  {
   "cell_type": "code",
   "execution_count": 35,
   "id": "bb2fd3d0-e797-45b9-8725-f492667d8c10",
   "metadata": {},
   "outputs": [
    {
     "data": {
      "text/html": [
       "<pre style=\"white-space:pre;overflow-x:auto;line-height:normal;font-family:Menlo,'DejaVu Sans Mono',consolas,'Courier New',monospace\"><span style=\"color: #000080; text-decoration-color: #000080\">The error you're encountering is likely due to incorrect formatting or extra spaces in the </span><span style=\"color: #008080; text-decoration-color: #008080; background-color: #000000; font-weight: bold\">gcloud run deploy</span><span style=\"color: #000080; text-decoration-color: #000080\"> </span>      \n",
       "<span style=\"color: #000080; text-decoration-color: #000080\">command. Let's ensure the command is formatted correctly and doesn't have any trailing spaces or unrecognized </span>     \n",
       "<span style=\"color: #000080; text-decoration-color: #000080\">arguments.</span>                                                                                                         \n",
       "\n",
       "<span style=\"color: #000080; text-decoration-color: #000080\">Here's the corrected script:</span>                                                                                       \n",
       "\n",
       "<span style=\"background-color: #f8f8f8\">                                                                                                                   </span>\n",
       "<span style=\"background-color: #f8f8f8\"> </span><span style=\"color: #000000; text-decoration-color: #000000; background-color: #f8f8f8\">%%bash</span><span style=\"background-color: #f8f8f8\">                                                                                                            </span>\n",
       "<span style=\"background-color: #f8f8f8\"> </span><span style=\"color: #008000; text-decoration-color: #008000; background-color: #f8f8f8\">set</span><span style=\"color: #bbbbbb; text-decoration-color: #bbbbbb; background-color: #f8f8f8\"> </span><span style=\"color: #000000; text-decoration-color: #000000; background-color: #f8f8f8\">-e</span><span style=\"background-color: #f8f8f8\">                                                                                                            </span>\n",
       "<span style=\"background-color: #f8f8f8\">                                                                                                                   </span>\n",
       "<span style=\"background-color: #f8f8f8\"> </span><span style=\"color: #19177c; text-decoration-color: #19177c; background-color: #f8f8f8\">PROJECT_ID</span><span style=\"color: #666666; text-decoration-color: #666666; background-color: #f8f8f8\">=</span><span style=\"color: #ba2121; text-decoration-color: #ba2121; background-color: #f8f8f8\">\"</span><span style=\"color: #008000; text-decoration-color: #008000; background-color: #f8f8f8; font-weight: bold\">$(</span><span style=\"color: #000000; text-decoration-color: #000000; background-color: #f8f8f8\">gcloud</span><span style=\"color: #bbbbbb; text-decoration-color: #bbbbbb; background-color: #f8f8f8\"> </span><span style=\"color: #000000; text-decoration-color: #000000; background-color: #f8f8f8\">config</span><span style=\"color: #bbbbbb; text-decoration-color: #bbbbbb; background-color: #f8f8f8\"> </span><span style=\"color: #000000; text-decoration-color: #000000; background-color: #f8f8f8\">get-value</span><span style=\"color: #bbbbbb; text-decoration-color: #bbbbbb; background-color: #f8f8f8\"> </span><span style=\"color: #000000; text-decoration-color: #000000; background-color: #f8f8f8\">project</span><span style=\"color: #008000; text-decoration-color: #008000; background-color: #f8f8f8; font-weight: bold\">)</span><span style=\"color: #ba2121; text-decoration-color: #ba2121; background-color: #f8f8f8\">\"</span><span style=\"background-color: #f8f8f8\">                                                                   </span>\n",
       "<span style=\"background-color: #f8f8f8\"> </span><span style=\"color: #19177c; text-decoration-color: #19177c; background-color: #f8f8f8\">REGION</span><span style=\"color: #666666; text-decoration-color: #666666; background-color: #f8f8f8\">=</span><span style=\"color: #ba2121; text-decoration-color: #ba2121; background-color: #f8f8f8\">\"us-central1\"</span><span style=\"background-color: #f8f8f8\">                                                                                              </span>\n",
       "<span style=\"background-color: #f8f8f8\"> </span><span style=\"color: #19177c; text-decoration-color: #19177c; background-color: #f8f8f8\">REPO_NAME</span><span style=\"color: #666666; text-decoration-color: #666666; background-color: #f8f8f8\">=</span><span style=\"color: #ba2121; text-decoration-color: #ba2121; background-color: #f8f8f8\">\"kitchensink-repo\"</span><span style=\"background-color: #f8f8f8\">                                                                                      </span>\n",
       "<span style=\"background-color: #f8f8f8\"> </span><span style=\"color: #19177c; text-decoration-color: #19177c; background-color: #f8f8f8\">IMAGE_NAME</span><span style=\"color: #666666; text-decoration-color: #666666; background-color: #f8f8f8\">=</span><span style=\"color: #ba2121; text-decoration-color: #ba2121; background-color: #f8f8f8\">\"kitchensink\"</span><span style=\"background-color: #f8f8f8\">                                                                                          </span>\n",
       "<span style=\"background-color: #f8f8f8\">                                                                                                                   </span>\n",
       "<span style=\"background-color: #f8f8f8\"> </span><span style=\"color: #3d7b7b; text-decoration-color: #3d7b7b; background-color: #f8f8f8; font-style: italic\"># Build Docker image locally</span><span style=\"background-color: #f8f8f8\">                                                                                      </span>\n",
       "<span style=\"background-color: #f8f8f8\"> </span><span style=\"color: #000000; text-decoration-color: #000000; background-color: #f8f8f8\">docker</span><span style=\"color: #bbbbbb; text-decoration-color: #bbbbbb; background-color: #f8f8f8\"> </span><span style=\"color: #000000; text-decoration-color: #000000; background-color: #f8f8f8\">build</span><span style=\"color: #bbbbbb; text-decoration-color: #bbbbbb; background-color: #f8f8f8\"> </span><span style=\"color: #000000; text-decoration-color: #000000; background-color: #f8f8f8\">-t</span><span style=\"color: #bbbbbb; text-decoration-color: #bbbbbb; background-color: #f8f8f8\"> </span><span style=\"color: #ba2121; text-decoration-color: #ba2121; background-color: #f8f8f8\">\"</span><span style=\"color: #a45a77; text-decoration-color: #a45a77; background-color: #f8f8f8; font-weight: bold\">${</span><span style=\"color: #19177c; text-decoration-color: #19177c; background-color: #f8f8f8\">IMAGE_NAME</span><span style=\"color: #a45a77; text-decoration-color: #a45a77; background-color: #f8f8f8; font-weight: bold\">}</span><span style=\"color: #ba2121; text-decoration-color: #ba2121; background-color: #f8f8f8\">\"</span><span style=\"color: #bbbbbb; text-decoration-color: #bbbbbb; background-color: #f8f8f8\"> </span><span style=\"color: #000000; text-decoration-color: #000000; background-color: #f8f8f8\">.</span><span style=\"background-color: #f8f8f8\">                                                                                 </span>\n",
       "<span style=\"background-color: #f8f8f8\">                                                                                                                   </span>\n",
       "<span style=\"background-color: #f8f8f8\"> </span><span style=\"color: #3d7b7b; text-decoration-color: #3d7b7b; background-color: #f8f8f8; font-style: italic\"># Tag for Artifact Registry</span><span style=\"background-color: #f8f8f8\">                                                                                       </span>\n",
       "<span style=\"background-color: #f8f8f8\"> </span><span style=\"color: #000000; text-decoration-color: #000000; background-color: #f8f8f8\">docker</span><span style=\"color: #bbbbbb; text-decoration-color: #bbbbbb; background-color: #f8f8f8\"> </span><span style=\"color: #000000; text-decoration-color: #000000; background-color: #f8f8f8\">tag</span><span style=\"color: #bbbbbb; text-decoration-color: #bbbbbb; background-color: #f8f8f8\"> </span><span style=\"color: #ba2121; text-decoration-color: #ba2121; background-color: #f8f8f8\">\"</span><span style=\"color: #a45a77; text-decoration-color: #a45a77; background-color: #f8f8f8; font-weight: bold\">${</span><span style=\"color: #19177c; text-decoration-color: #19177c; background-color: #f8f8f8\">IMAGE_NAME</span><span style=\"color: #a45a77; text-decoration-color: #a45a77; background-color: #f8f8f8; font-weight: bold\">}</span><span style=\"color: #ba2121; text-decoration-color: #ba2121; background-color: #f8f8f8\">:latest\"</span><span style=\"color: #bbbbbb; text-decoration-color: #bbbbbb; background-color: #f8f8f8\"> </span><span style=\"color: #ba2121; text-decoration-color: #ba2121; background-color: #f8f8f8\">\"</span><span style=\"color: #a45a77; text-decoration-color: #a45a77; background-color: #f8f8f8; font-weight: bold\">${</span><span style=\"color: #19177c; text-decoration-color: #19177c; background-color: #f8f8f8\">REGION</span><span style=\"color: #a45a77; text-decoration-color: #a45a77; background-color: #f8f8f8; font-weight: bold\">}</span><span style=\"color: #ba2121; text-decoration-color: #ba2121; background-color: #f8f8f8\">-docker.pkg.dev/</span><span style=\"color: #a45a77; text-decoration-color: #a45a77; background-color: #f8f8f8; font-weight: bold\">${</span><span style=\"color: #19177c; text-decoration-color: #19177c; background-color: #f8f8f8\">PROJECT_ID</span><span style=\"color: #a45a77; text-decoration-color: #a45a77; background-color: #f8f8f8; font-weight: bold\">}</span><span style=\"color: #ba2121; text-decoration-color: #ba2121; background-color: #f8f8f8\">/</span><span style=\"color: #a45a77; text-decoration-color: #a45a77; background-color: #f8f8f8; font-weight: bold\">${</span><span style=\"color: #19177c; text-decoration-color: #19177c; background-color: #f8f8f8\">REPO_NAME</span><span style=\"color: #a45a77; text-decoration-color: #a45a77; background-color: #f8f8f8; font-weight: bold\">}</span><span style=\"color: #ba2121; text-decoration-color: #ba2121; background-color: #f8f8f8\">/</span><span style=\"color: #a45a77; text-decoration-color: #a45a77; background-color: #f8f8f8; font-weight: bold\">${</span><span style=\"color: #19177c; text-decoration-color: #19177c; background-color: #f8f8f8\">IMAGE_NAME</span><span style=\"color: #a45a77; text-decoration-color: #a45a77; background-color: #f8f8f8; font-weight: bold\">}</span><span style=\"color: #ba2121; text-decoration-color: #ba2121; background-color: #f8f8f8\">:latest\"</span><span style=\"background-color: #f8f8f8\">      </span>\n",
       "<span style=\"background-color: #f8f8f8\">                                                                                                                   </span>\n",
       "<span style=\"background-color: #f8f8f8\"> </span><span style=\"color: #3d7b7b; text-decoration-color: #3d7b7b; background-color: #f8f8f8; font-style: italic\"># Push to Artifact Registry</span><span style=\"background-color: #f8f8f8\">                                                                                       </span>\n",
       "<span style=\"background-color: #f8f8f8\"> </span><span style=\"color: #000000; text-decoration-color: #000000; background-color: #f8f8f8\">docker</span><span style=\"color: #bbbbbb; text-decoration-color: #bbbbbb; background-color: #f8f8f8\"> </span><span style=\"color: #000000; text-decoration-color: #000000; background-color: #f8f8f8\">push</span><span style=\"color: #bbbbbb; text-decoration-color: #bbbbbb; background-color: #f8f8f8\"> </span><span style=\"color: #ba2121; text-decoration-color: #ba2121; background-color: #f8f8f8\">\"</span><span style=\"color: #a45a77; text-decoration-color: #a45a77; background-color: #f8f8f8; font-weight: bold\">${</span><span style=\"color: #19177c; text-decoration-color: #19177c; background-color: #f8f8f8\">REGION</span><span style=\"color: #a45a77; text-decoration-color: #a45a77; background-color: #f8f8f8; font-weight: bold\">}</span><span style=\"color: #ba2121; text-decoration-color: #ba2121; background-color: #f8f8f8\">-docker.pkg.dev/</span><span style=\"color: #a45a77; text-decoration-color: #a45a77; background-color: #f8f8f8; font-weight: bold\">${</span><span style=\"color: #19177c; text-decoration-color: #19177c; background-color: #f8f8f8\">PROJECT_ID</span><span style=\"color: #a45a77; text-decoration-color: #a45a77; background-color: #f8f8f8; font-weight: bold\">}</span><span style=\"color: #ba2121; text-decoration-color: #ba2121; background-color: #f8f8f8\">/</span><span style=\"color: #a45a77; text-decoration-color: #a45a77; background-color: #f8f8f8; font-weight: bold\">${</span><span style=\"color: #19177c; text-decoration-color: #19177c; background-color: #f8f8f8\">REPO_NAME</span><span style=\"color: #a45a77; text-decoration-color: #a45a77; background-color: #f8f8f8; font-weight: bold\">}</span><span style=\"color: #ba2121; text-decoration-color: #ba2121; background-color: #f8f8f8\">/</span><span style=\"color: #a45a77; text-decoration-color: #a45a77; background-color: #f8f8f8; font-weight: bold\">${</span><span style=\"color: #19177c; text-decoration-color: #19177c; background-color: #f8f8f8\">IMAGE_NAME</span><span style=\"color: #a45a77; text-decoration-color: #a45a77; background-color: #f8f8f8; font-weight: bold\">}</span><span style=\"color: #ba2121; text-decoration-color: #ba2121; background-color: #f8f8f8\">:latest\"</span><span style=\"background-color: #f8f8f8\">                            </span>\n",
       "<span style=\"background-color: #f8f8f8\">                                                                                                                   </span>\n",
       "<span style=\"background-color: #f8f8f8\"> </span><span style=\"color: #3d7b7b; text-decoration-color: #3d7b7b; background-color: #f8f8f8; font-style: italic\"># Deploy to Cloud Run</span><span style=\"background-color: #f8f8f8\">                                                                                             </span>\n",
       "<span style=\"background-color: #f8f8f8\"> </span><span style=\"color: #000000; text-decoration-color: #000000; background-color: #f8f8f8\">gcloud</span><span style=\"color: #bbbbbb; text-decoration-color: #bbbbbb; background-color: #f8f8f8\"> </span><span style=\"color: #000000; text-decoration-color: #000000; background-color: #f8f8f8\">run</span><span style=\"color: #bbbbbb; text-decoration-color: #bbbbbb; background-color: #f8f8f8\"> </span><span style=\"color: #000000; text-decoration-color: #000000; background-color: #f8f8f8\">deploy</span><span style=\"color: #bbbbbb; text-decoration-color: #bbbbbb; background-color: #f8f8f8\"> </span><span style=\"color: #ba2121; text-decoration-color: #ba2121; background-color: #f8f8f8\">\"</span><span style=\"color: #a45a77; text-decoration-color: #a45a77; background-color: #f8f8f8; font-weight: bold\">${</span><span style=\"color: #19177c; text-decoration-color: #19177c; background-color: #f8f8f8\">IMAGE_NAME</span><span style=\"color: #a45a77; text-decoration-color: #a45a77; background-color: #f8f8f8; font-weight: bold\">}</span><span style=\"color: #ba2121; text-decoration-color: #ba2121; background-color: #f8f8f8\">\"</span><span style=\"color: #bbbbbb; text-decoration-color: #bbbbbb; background-color: #f8f8f8\"> </span><span style=\"color: #aa5d1f; text-decoration-color: #aa5d1f; background-color: #f8f8f8; font-weight: bold\">\\</span><span style=\"background-color: #f8f8f8\">                                                                               </span>\n",
       "<span style=\"background-color: #f8f8f8\"> </span><span style=\"color: #bbbbbb; text-decoration-color: #bbbbbb; background-color: #f8f8f8\">  </span><span style=\"color: #000000; text-decoration-color: #000000; background-color: #f8f8f8\">--image</span><span style=\"color: #bbbbbb; text-decoration-color: #bbbbbb; background-color: #f8f8f8\"> </span><span style=\"color: #ba2121; text-decoration-color: #ba2121; background-color: #f8f8f8\">\"</span><span style=\"color: #a45a77; text-decoration-color: #a45a77; background-color: #f8f8f8; font-weight: bold\">${</span><span style=\"color: #19177c; text-decoration-color: #19177c; background-color: #f8f8f8\">REGION</span><span style=\"color: #a45a77; text-decoration-color: #a45a77; background-color: #f8f8f8; font-weight: bold\">}</span><span style=\"color: #ba2121; text-decoration-color: #ba2121; background-color: #f8f8f8\">-docker.pkg.dev/</span><span style=\"color: #a45a77; text-decoration-color: #a45a77; background-color: #f8f8f8; font-weight: bold\">${</span><span style=\"color: #19177c; text-decoration-color: #19177c; background-color: #f8f8f8\">PROJECT_ID</span><span style=\"color: #a45a77; text-decoration-color: #a45a77; background-color: #f8f8f8; font-weight: bold\">}</span><span style=\"color: #ba2121; text-decoration-color: #ba2121; background-color: #f8f8f8\">/</span><span style=\"color: #a45a77; text-decoration-color: #a45a77; background-color: #f8f8f8; font-weight: bold\">${</span><span style=\"color: #19177c; text-decoration-color: #19177c; background-color: #f8f8f8\">REPO_NAME</span><span style=\"color: #a45a77; text-decoration-color: #a45a77; background-color: #f8f8f8; font-weight: bold\">}</span><span style=\"color: #ba2121; text-decoration-color: #ba2121; background-color: #f8f8f8\">/</span><span style=\"color: #a45a77; text-decoration-color: #a45a77; background-color: #f8f8f8; font-weight: bold\">${</span><span style=\"color: #19177c; text-decoration-color: #19177c; background-color: #f8f8f8\">IMAGE_NAME</span><span style=\"color: #a45a77; text-decoration-color: #a45a77; background-color: #f8f8f8; font-weight: bold\">}</span><span style=\"color: #ba2121; text-decoration-color: #ba2121; background-color: #f8f8f8\">:latest\"</span><span style=\"color: #bbbbbb; text-decoration-color: #bbbbbb; background-color: #f8f8f8\"> </span><span style=\"color: #aa5d1f; text-decoration-color: #aa5d1f; background-color: #f8f8f8; font-weight: bold\">\\</span><span style=\"background-color: #f8f8f8\">                            </span>\n",
       "<span style=\"background-color: #f8f8f8\"> </span><span style=\"color: #bbbbbb; text-decoration-color: #bbbbbb; background-color: #f8f8f8\">  </span><span style=\"color: #000000; text-decoration-color: #000000; background-color: #f8f8f8\">--region</span><span style=\"color: #bbbbbb; text-decoration-color: #bbbbbb; background-color: #f8f8f8\"> </span><span style=\"color: #ba2121; text-decoration-color: #ba2121; background-color: #f8f8f8\">\"</span><span style=\"color: #a45a77; text-decoration-color: #a45a77; background-color: #f8f8f8; font-weight: bold\">${</span><span style=\"color: #19177c; text-decoration-color: #19177c; background-color: #f8f8f8\">REGION</span><span style=\"color: #a45a77; text-decoration-color: #a45a77; background-color: #f8f8f8; font-weight: bold\">}</span><span style=\"color: #ba2121; text-decoration-color: #ba2121; background-color: #f8f8f8\">\"</span><span style=\"color: #bbbbbb; text-decoration-color: #bbbbbb; background-color: #f8f8f8\"> </span><span style=\"color: #aa5d1f; text-decoration-color: #aa5d1f; background-color: #f8f8f8; font-weight: bold\">\\</span><span style=\"background-color: #f8f8f8\">                                                                                          </span>\n",
       "<span style=\"background-color: #f8f8f8\"> </span><span style=\"color: #bbbbbb; text-decoration-color: #bbbbbb; background-color: #f8f8f8\">  </span><span style=\"color: #000000; text-decoration-color: #000000; background-color: #f8f8f8\">--platform</span><span style=\"color: #bbbbbb; text-decoration-color: #bbbbbb; background-color: #f8f8f8\"> </span><span style=\"color: #000000; text-decoration-color: #000000; background-color: #f8f8f8\">managed</span><span style=\"color: #bbbbbb; text-decoration-color: #bbbbbb; background-color: #f8f8f8\"> </span><span style=\"color: #aa5d1f; text-decoration-color: #aa5d1f; background-color: #f8f8f8; font-weight: bold\">\\</span><span style=\"background-color: #f8f8f8\">                                                                                            </span>\n",
       "<span style=\"background-color: #f8f8f8\"> </span><span style=\"color: #bbbbbb; text-decoration-color: #bbbbbb; background-color: #f8f8f8\">  </span><span style=\"color: #000000; text-decoration-color: #000000; background-color: #f8f8f8\">--allow-unauthenticated</span><span style=\"background-color: #f8f8f8\">                                                                                         </span>\n",
       "<span style=\"background-color: #f8f8f8\">                                                                                                                   </span>\n",
       "\n",
       "<span style=\"color: #000080; text-decoration-color: #000080\">Make sure there are no trailing spaces after the backslashes (</span><span style=\"color: #008080; text-decoration-color: #008080; background-color: #000000; font-weight: bold\">\\</span><span style=\"color: #000080; text-decoration-color: #000080\">) in the </span><span style=\"color: #008080; text-decoration-color: #008080; background-color: #000000; font-weight: bold\">gcloud run deploy</span><span style=\"color: #000080; text-decoration-color: #000080\"> command. This should </span>    \n",
       "<span style=\"color: #000080; text-decoration-color: #000080\">resolve the issue with unrecognized arguments.</span>                                                                     \n",
       "</pre>\n"
      ],
      "text/plain": [
       "\u001b[34mThe error you're encountering is likely due to incorrect formatting or extra spaces in the \u001b[0m\u001b[1;36;40mgcloud run deploy\u001b[0m\u001b[34m \u001b[0m      \n",
       "\u001b[34mcommand. Let's ensure the command is formatted correctly and doesn't have any trailing spaces or unrecognized \u001b[0m     \n",
       "\u001b[34marguments.\u001b[0m                                                                                                         \n",
       "\n",
       "\u001b[34mHere's the corrected script:\u001b[0m                                                                                       \n",
       "\n",
       "\u001b[48;2;248;248;248m                                                                                                                   \u001b[0m\n",
       "\u001b[48;2;248;248;248m \u001b[0m\u001b[38;2;0;0;0;48;2;248;248;248m%%bash\u001b[0m\u001b[48;2;248;248;248m                                                                                                           \u001b[0m\u001b[48;2;248;248;248m \u001b[0m\n",
       "\u001b[48;2;248;248;248m \u001b[0m\u001b[38;2;0;128;0;48;2;248;248;248mset\u001b[0m\u001b[38;2;187;187;187;48;2;248;248;248m \u001b[0m\u001b[38;2;0;0;0;48;2;248;248;248m-e\u001b[0m\u001b[48;2;248;248;248m                                                                                                           \u001b[0m\u001b[48;2;248;248;248m \u001b[0m\n",
       "\u001b[48;2;248;248;248m \u001b[0m\u001b[48;2;248;248;248m                                                                                                                 \u001b[0m\u001b[48;2;248;248;248m \u001b[0m\n",
       "\u001b[48;2;248;248;248m \u001b[0m\u001b[38;2;25;23;124;48;2;248;248;248mPROJECT_ID\u001b[0m\u001b[38;2;102;102;102;48;2;248;248;248m=\u001b[0m\u001b[38;2;186;33;33;48;2;248;248;248m\"\u001b[0m\u001b[1;38;2;0;128;0;48;2;248;248;248m$(\u001b[0m\u001b[38;2;0;0;0;48;2;248;248;248mgcloud\u001b[0m\u001b[38;2;187;187;187;48;2;248;248;248m \u001b[0m\u001b[38;2;0;0;0;48;2;248;248;248mconfig\u001b[0m\u001b[38;2;187;187;187;48;2;248;248;248m \u001b[0m\u001b[38;2;0;0;0;48;2;248;248;248mget-value\u001b[0m\u001b[38;2;187;187;187;48;2;248;248;248m \u001b[0m\u001b[38;2;0;0;0;48;2;248;248;248mproject\u001b[0m\u001b[1;38;2;0;128;0;48;2;248;248;248m)\u001b[0m\u001b[38;2;186;33;33;48;2;248;248;248m\"\u001b[0m\u001b[48;2;248;248;248m                                                                  \u001b[0m\u001b[48;2;248;248;248m \u001b[0m\n",
       "\u001b[48;2;248;248;248m \u001b[0m\u001b[38;2;25;23;124;48;2;248;248;248mREGION\u001b[0m\u001b[38;2;102;102;102;48;2;248;248;248m=\u001b[0m\u001b[38;2;186;33;33;48;2;248;248;248m\"us-central1\"\u001b[0m\u001b[48;2;248;248;248m                                                                                             \u001b[0m\u001b[48;2;248;248;248m \u001b[0m\n",
       "\u001b[48;2;248;248;248m \u001b[0m\u001b[38;2;25;23;124;48;2;248;248;248mREPO_NAME\u001b[0m\u001b[38;2;102;102;102;48;2;248;248;248m=\u001b[0m\u001b[38;2;186;33;33;48;2;248;248;248m\"kitchensink-repo\"\u001b[0m\u001b[48;2;248;248;248m                                                                                     \u001b[0m\u001b[48;2;248;248;248m \u001b[0m\n",
       "\u001b[48;2;248;248;248m \u001b[0m\u001b[38;2;25;23;124;48;2;248;248;248mIMAGE_NAME\u001b[0m\u001b[38;2;102;102;102;48;2;248;248;248m=\u001b[0m\u001b[38;2;186;33;33;48;2;248;248;248m\"kitchensink\"\u001b[0m\u001b[48;2;248;248;248m                                                                                         \u001b[0m\u001b[48;2;248;248;248m \u001b[0m\n",
       "\u001b[48;2;248;248;248m \u001b[0m\u001b[48;2;248;248;248m                                                                                                                 \u001b[0m\u001b[48;2;248;248;248m \u001b[0m\n",
       "\u001b[48;2;248;248;248m \u001b[0m\u001b[3;38;2;61;123;123;48;2;248;248;248m# Build Docker image locally\u001b[0m\u001b[48;2;248;248;248m                                                                                     \u001b[0m\u001b[48;2;248;248;248m \u001b[0m\n",
       "\u001b[48;2;248;248;248m \u001b[0m\u001b[38;2;0;0;0;48;2;248;248;248mdocker\u001b[0m\u001b[38;2;187;187;187;48;2;248;248;248m \u001b[0m\u001b[38;2;0;0;0;48;2;248;248;248mbuild\u001b[0m\u001b[38;2;187;187;187;48;2;248;248;248m \u001b[0m\u001b[38;2;0;0;0;48;2;248;248;248m-t\u001b[0m\u001b[38;2;187;187;187;48;2;248;248;248m \u001b[0m\u001b[38;2;186;33;33;48;2;248;248;248m\"\u001b[0m\u001b[1;38;2;164;90;119;48;2;248;248;248m${\u001b[0m\u001b[38;2;25;23;124;48;2;248;248;248mIMAGE_NAME\u001b[0m\u001b[1;38;2;164;90;119;48;2;248;248;248m}\u001b[0m\u001b[38;2;186;33;33;48;2;248;248;248m\"\u001b[0m\u001b[38;2;187;187;187;48;2;248;248;248m \u001b[0m\u001b[38;2;0;0;0;48;2;248;248;248m.\u001b[0m\u001b[48;2;248;248;248m                                                                                \u001b[0m\u001b[48;2;248;248;248m \u001b[0m\n",
       "\u001b[48;2;248;248;248m \u001b[0m\u001b[48;2;248;248;248m                                                                                                                 \u001b[0m\u001b[48;2;248;248;248m \u001b[0m\n",
       "\u001b[48;2;248;248;248m \u001b[0m\u001b[3;38;2;61;123;123;48;2;248;248;248m# Tag for Artifact Registry\u001b[0m\u001b[48;2;248;248;248m                                                                                      \u001b[0m\u001b[48;2;248;248;248m \u001b[0m\n",
       "\u001b[48;2;248;248;248m \u001b[0m\u001b[38;2;0;0;0;48;2;248;248;248mdocker\u001b[0m\u001b[38;2;187;187;187;48;2;248;248;248m \u001b[0m\u001b[38;2;0;0;0;48;2;248;248;248mtag\u001b[0m\u001b[38;2;187;187;187;48;2;248;248;248m \u001b[0m\u001b[38;2;186;33;33;48;2;248;248;248m\"\u001b[0m\u001b[1;38;2;164;90;119;48;2;248;248;248m${\u001b[0m\u001b[38;2;25;23;124;48;2;248;248;248mIMAGE_NAME\u001b[0m\u001b[1;38;2;164;90;119;48;2;248;248;248m}\u001b[0m\u001b[38;2;186;33;33;48;2;248;248;248m:latest\u001b[0m\u001b[38;2;186;33;33;48;2;248;248;248m\"\u001b[0m\u001b[38;2;187;187;187;48;2;248;248;248m \u001b[0m\u001b[38;2;186;33;33;48;2;248;248;248m\"\u001b[0m\u001b[1;38;2;164;90;119;48;2;248;248;248m${\u001b[0m\u001b[38;2;25;23;124;48;2;248;248;248mREGION\u001b[0m\u001b[1;38;2;164;90;119;48;2;248;248;248m}\u001b[0m\u001b[38;2;186;33;33;48;2;248;248;248m-docker.pkg.dev/\u001b[0m\u001b[1;38;2;164;90;119;48;2;248;248;248m${\u001b[0m\u001b[38;2;25;23;124;48;2;248;248;248mPROJECT_ID\u001b[0m\u001b[1;38;2;164;90;119;48;2;248;248;248m}\u001b[0m\u001b[38;2;186;33;33;48;2;248;248;248m/\u001b[0m\u001b[1;38;2;164;90;119;48;2;248;248;248m${\u001b[0m\u001b[38;2;25;23;124;48;2;248;248;248mREPO_NAME\u001b[0m\u001b[1;38;2;164;90;119;48;2;248;248;248m}\u001b[0m\u001b[38;2;186;33;33;48;2;248;248;248m/\u001b[0m\u001b[1;38;2;164;90;119;48;2;248;248;248m${\u001b[0m\u001b[38;2;25;23;124;48;2;248;248;248mIMAGE_NAME\u001b[0m\u001b[1;38;2;164;90;119;48;2;248;248;248m}\u001b[0m\u001b[38;2;186;33;33;48;2;248;248;248m:latest\u001b[0m\u001b[38;2;186;33;33;48;2;248;248;248m\"\u001b[0m\u001b[48;2;248;248;248m     \u001b[0m\u001b[48;2;248;248;248m \u001b[0m\n",
       "\u001b[48;2;248;248;248m \u001b[0m\u001b[48;2;248;248;248m                                                                                                                 \u001b[0m\u001b[48;2;248;248;248m \u001b[0m\n",
       "\u001b[48;2;248;248;248m \u001b[0m\u001b[3;38;2;61;123;123;48;2;248;248;248m# Push to Artifact Registry\u001b[0m\u001b[48;2;248;248;248m                                                                                      \u001b[0m\u001b[48;2;248;248;248m \u001b[0m\n",
       "\u001b[48;2;248;248;248m \u001b[0m\u001b[38;2;0;0;0;48;2;248;248;248mdocker\u001b[0m\u001b[38;2;187;187;187;48;2;248;248;248m \u001b[0m\u001b[38;2;0;0;0;48;2;248;248;248mpush\u001b[0m\u001b[38;2;187;187;187;48;2;248;248;248m \u001b[0m\u001b[38;2;186;33;33;48;2;248;248;248m\"\u001b[0m\u001b[1;38;2;164;90;119;48;2;248;248;248m${\u001b[0m\u001b[38;2;25;23;124;48;2;248;248;248mREGION\u001b[0m\u001b[1;38;2;164;90;119;48;2;248;248;248m}\u001b[0m\u001b[38;2;186;33;33;48;2;248;248;248m-docker.pkg.dev/\u001b[0m\u001b[1;38;2;164;90;119;48;2;248;248;248m${\u001b[0m\u001b[38;2;25;23;124;48;2;248;248;248mPROJECT_ID\u001b[0m\u001b[1;38;2;164;90;119;48;2;248;248;248m}\u001b[0m\u001b[38;2;186;33;33;48;2;248;248;248m/\u001b[0m\u001b[1;38;2;164;90;119;48;2;248;248;248m${\u001b[0m\u001b[38;2;25;23;124;48;2;248;248;248mREPO_NAME\u001b[0m\u001b[1;38;2;164;90;119;48;2;248;248;248m}\u001b[0m\u001b[38;2;186;33;33;48;2;248;248;248m/\u001b[0m\u001b[1;38;2;164;90;119;48;2;248;248;248m${\u001b[0m\u001b[38;2;25;23;124;48;2;248;248;248mIMAGE_NAME\u001b[0m\u001b[1;38;2;164;90;119;48;2;248;248;248m}\u001b[0m\u001b[38;2;186;33;33;48;2;248;248;248m:latest\u001b[0m\u001b[38;2;186;33;33;48;2;248;248;248m\"\u001b[0m\u001b[48;2;248;248;248m                           \u001b[0m\u001b[48;2;248;248;248m \u001b[0m\n",
       "\u001b[48;2;248;248;248m \u001b[0m\u001b[48;2;248;248;248m                                                                                                                 \u001b[0m\u001b[48;2;248;248;248m \u001b[0m\n",
       "\u001b[48;2;248;248;248m \u001b[0m\u001b[3;38;2;61;123;123;48;2;248;248;248m# Deploy to Cloud Run\u001b[0m\u001b[48;2;248;248;248m                                                                                            \u001b[0m\u001b[48;2;248;248;248m \u001b[0m\n",
       "\u001b[48;2;248;248;248m \u001b[0m\u001b[38;2;0;0;0;48;2;248;248;248mgcloud\u001b[0m\u001b[38;2;187;187;187;48;2;248;248;248m \u001b[0m\u001b[38;2;0;0;0;48;2;248;248;248mrun\u001b[0m\u001b[38;2;187;187;187;48;2;248;248;248m \u001b[0m\u001b[38;2;0;0;0;48;2;248;248;248mdeploy\u001b[0m\u001b[38;2;187;187;187;48;2;248;248;248m \u001b[0m\u001b[38;2;186;33;33;48;2;248;248;248m\"\u001b[0m\u001b[1;38;2;164;90;119;48;2;248;248;248m${\u001b[0m\u001b[38;2;25;23;124;48;2;248;248;248mIMAGE_NAME\u001b[0m\u001b[1;38;2;164;90;119;48;2;248;248;248m}\u001b[0m\u001b[38;2;186;33;33;48;2;248;248;248m\"\u001b[0m\u001b[38;2;187;187;187;48;2;248;248;248m \u001b[0m\u001b[1;38;2;170;93;31;48;2;248;248;248m\\\u001b[0m\u001b[48;2;248;248;248m                                                                              \u001b[0m\u001b[48;2;248;248;248m \u001b[0m\n",
       "\u001b[48;2;248;248;248m \u001b[0m\u001b[38;2;187;187;187;48;2;248;248;248m  \u001b[0m\u001b[38;2;0;0;0;48;2;248;248;248m--image\u001b[0m\u001b[38;2;187;187;187;48;2;248;248;248m \u001b[0m\u001b[38;2;186;33;33;48;2;248;248;248m\"\u001b[0m\u001b[1;38;2;164;90;119;48;2;248;248;248m${\u001b[0m\u001b[38;2;25;23;124;48;2;248;248;248mREGION\u001b[0m\u001b[1;38;2;164;90;119;48;2;248;248;248m}\u001b[0m\u001b[38;2;186;33;33;48;2;248;248;248m-docker.pkg.dev/\u001b[0m\u001b[1;38;2;164;90;119;48;2;248;248;248m${\u001b[0m\u001b[38;2;25;23;124;48;2;248;248;248mPROJECT_ID\u001b[0m\u001b[1;38;2;164;90;119;48;2;248;248;248m}\u001b[0m\u001b[38;2;186;33;33;48;2;248;248;248m/\u001b[0m\u001b[1;38;2;164;90;119;48;2;248;248;248m${\u001b[0m\u001b[38;2;25;23;124;48;2;248;248;248mREPO_NAME\u001b[0m\u001b[1;38;2;164;90;119;48;2;248;248;248m}\u001b[0m\u001b[38;2;186;33;33;48;2;248;248;248m/\u001b[0m\u001b[1;38;2;164;90;119;48;2;248;248;248m${\u001b[0m\u001b[38;2;25;23;124;48;2;248;248;248mIMAGE_NAME\u001b[0m\u001b[1;38;2;164;90;119;48;2;248;248;248m}\u001b[0m\u001b[38;2;186;33;33;48;2;248;248;248m:latest\u001b[0m\u001b[38;2;186;33;33;48;2;248;248;248m\"\u001b[0m\u001b[38;2;187;187;187;48;2;248;248;248m \u001b[0m\u001b[1;38;2;170;93;31;48;2;248;248;248m\\\u001b[0m\u001b[48;2;248;248;248m                           \u001b[0m\u001b[48;2;248;248;248m \u001b[0m\n",
       "\u001b[48;2;248;248;248m \u001b[0m\u001b[38;2;187;187;187;48;2;248;248;248m  \u001b[0m\u001b[38;2;0;0;0;48;2;248;248;248m--region\u001b[0m\u001b[38;2;187;187;187;48;2;248;248;248m \u001b[0m\u001b[38;2;186;33;33;48;2;248;248;248m\"\u001b[0m\u001b[1;38;2;164;90;119;48;2;248;248;248m${\u001b[0m\u001b[38;2;25;23;124;48;2;248;248;248mREGION\u001b[0m\u001b[1;38;2;164;90;119;48;2;248;248;248m}\u001b[0m\u001b[38;2;186;33;33;48;2;248;248;248m\"\u001b[0m\u001b[38;2;187;187;187;48;2;248;248;248m \u001b[0m\u001b[1;38;2;170;93;31;48;2;248;248;248m\\\u001b[0m\u001b[48;2;248;248;248m                                                                                         \u001b[0m\u001b[48;2;248;248;248m \u001b[0m\n",
       "\u001b[48;2;248;248;248m \u001b[0m\u001b[38;2;187;187;187;48;2;248;248;248m  \u001b[0m\u001b[38;2;0;0;0;48;2;248;248;248m--platform\u001b[0m\u001b[38;2;187;187;187;48;2;248;248;248m \u001b[0m\u001b[38;2;0;0;0;48;2;248;248;248mmanaged\u001b[0m\u001b[38;2;187;187;187;48;2;248;248;248m \u001b[0m\u001b[1;38;2;170;93;31;48;2;248;248;248m\\\u001b[0m\u001b[48;2;248;248;248m                                                                                           \u001b[0m\u001b[48;2;248;248;248m \u001b[0m\n",
       "\u001b[48;2;248;248;248m \u001b[0m\u001b[38;2;187;187;187;48;2;248;248;248m  \u001b[0m\u001b[38;2;0;0;0;48;2;248;248;248m--allow-unauthenticated\u001b[0m\u001b[48;2;248;248;248m                                                                                        \u001b[0m\u001b[48;2;248;248;248m \u001b[0m\n",
       "\u001b[48;2;248;248;248m                                                                                                                   \u001b[0m\n",
       "\n",
       "\u001b[34mMake sure there are no trailing spaces after the backslashes (\u001b[0m\u001b[1;36;40m\\\u001b[0m\u001b[34m) in the \u001b[0m\u001b[1;36;40mgcloud run deploy\u001b[0m\u001b[34m command. This should \u001b[0m    \n",
       "\u001b[34mresolve the issue with unrecognized arguments.\u001b[0m                                                                     \n"
      ]
     },
     "metadata": {},
     "output_type": "display_data"
    },
    {
     "data": {
      "text/html": [
       "<pre style=\"white-space:pre;overflow-x:auto;line-height:normal;font-family:Menlo,'DejaVu Sans Mono',consolas,'Courier New',monospace\">\n",
       "</pre>\n"
      ],
      "text/plain": [
       "\n"
      ]
     },
     "metadata": {},
     "output_type": "display_data"
    },
    {
     "data": {
      "text/html": [
       "<pre style=\"white-space:pre;overflow-x:auto;line-height:normal;font-family:Menlo,'DejaVu Sans Mono',consolas,'Courier New',monospace\">Tokens: 13k sent, 264 received. Cost: $0.03 message, $0.24 session.\n",
       "</pre>\n"
      ],
      "text/plain": [
       "Tokens: 13k sent, 264 received. Cost: $0.03 message, $0.24 session.\n"
      ]
     },
     "metadata": {},
     "output_type": "display_data"
    },
    {
     "data": {
      "text/html": [
       "<pre style=\"white-space:pre;overflow-x:auto;line-height:normal;font-family:Menlo,'DejaVu Sans Mono',consolas,'Courier New',monospace\">\n",
       "</pre>\n"
      ],
      "text/plain": [
       "\n"
      ]
     },
     "metadata": {},
     "output_type": "display_data"
    },
    {
     "data": {
      "text/html": [
       "<pre style=\"white-space:pre;overflow-x:auto;line-height:normal;font-family:Menlo,'DejaVu Sans Mono',consolas,'Courier New',monospace\">%%bash                                                                                                      \n",
       "set -e                                                                                                      \n",
       "                                                                                                            \n",
       "PROJECT_ID=\"$(gcloud config get-value project)\"                                                             \n",
       "REGION=\"us-central1\"                                                                                        \n",
       "REPO_NAME=\"kitchensink-repo\"                                                                                \n",
       "IMAGE_NAME=\"kitchensink\"                                                                                    \n",
       "                                                                                                            \n",
       "# Build Docker image locally                                                                                \n",
       "docker build -t \"${IMAGE_NAME}\" .                                                                           \n",
       "                                                                                                            \n",
       "# Tag for Artifact Registry                                                                                 \n",
       "docker tag \"${IMAGE_NAME}:latest\" \"${REGION}-docker.pkg.dev/${PROJECT_ID}/${REPO_NAME}/${IMAGE_NAME}:latest\"\n",
       "                                                                                                            \n",
       "# Push to Artifact Registry                                                                                 \n",
       "docker push \"${REGION}-docker.pkg.dev/${PROJECT_ID}/${REPO_NAME}/${IMAGE_NAME}:latest\"                      \n",
       "                                                                                                            \n",
       "# Deploy to Cloud Run                                                                                       \n",
       "gcloud run deploy \"${IMAGE_NAME}\" \\                                                                         \n",
       "  --image \"${REGION}-docker.pkg.dev/${PROJECT_ID}/${REPO_NAME}/${IMAGE_NAME}:latest\" \\                      \n",
       "  --region \"${REGION}\" \\                                                                                    \n",
       "  --platform managed \\                                                                                      \n",
       "  --allow-unauthenticated                                                                                   \n",
       "</pre>\n"
      ],
      "text/plain": [
       "\u001b[7m%%bash                                                                                                      \u001b[0m\n",
       "\u001b[7mset -e                                                                                                      \u001b[0m\n",
       "\u001b[7m                                                                                                            \u001b[0m\n",
       "\u001b[7mPROJECT_ID=\"$(gcloud config get-value project)\"                                                             \u001b[0m\n",
       "\u001b[7mREGION=\"us-central1\"                                                                                        \u001b[0m\n",
       "\u001b[7mREPO_NAME=\"kitchensink-repo\"                                                                                \u001b[0m\n",
       "\u001b[7mIMAGE_NAME=\"kitchensink\"                                                                                    \u001b[0m\n",
       "\u001b[7m                                                                                                            \u001b[0m\n",
       "\u001b[7m# Build Docker image locally                                                                                \u001b[0m\n",
       "\u001b[7mdocker build -t \"${IMAGE_NAME}\" .                                                                           \u001b[0m\n",
       "\u001b[7m                                                                                                            \u001b[0m\n",
       "\u001b[7m# Tag for Artifact Registry                                                                                 \u001b[0m\n",
       "\u001b[7mdocker tag \"${IMAGE_NAME}:latest\" \"${REGION}-docker.pkg.dev/${PROJECT_ID}/${REPO_NAME}/${IMAGE_NAME}:latest\"\u001b[0m\n",
       "\u001b[7m                                                                                                            \u001b[0m\n",
       "\u001b[7m# Push to Artifact Registry                                                                                 \u001b[0m\n",
       "\u001b[7mdocker push \"${REGION}-docker.pkg.dev/${PROJECT_ID}/${REPO_NAME}/${IMAGE_NAME}:latest\"                      \u001b[0m\n",
       "\u001b[7m                                                                                                            \u001b[0m\n",
       "\u001b[7m# Deploy to Cloud Run                                                                                       \u001b[0m\n",
       "\u001b[7mgcloud run deploy \"${IMAGE_NAME}\" \\                                                                         \u001b[0m\n",
       "\u001b[7m  --image \"${REGION}-docker.pkg.dev/${PROJECT_ID}/${REPO_NAME}/${IMAGE_NAME}:latest\" \\                      \u001b[0m\n",
       "\u001b[7m  --region \"${REGION}\" \\                                                                                    \u001b[0m\n",
       "\u001b[7m  --platform managed \\                                                                                      \u001b[0m\n",
       "\u001b[7m  --allow-unauthenticated                                                                                   \u001b[0m\n"
      ]
     },
     "metadata": {},
     "output_type": "display_data"
    },
    {
     "data": {
      "text/plain": [
       "'The error you\\'re encountering is likely due to incorrect formatting or extra spaces in the `gcloud run deploy` command. Let\\'s ensure the command is formatted correctly and doesn\\'t have any trailing spaces or unrecognized arguments.\\n\\nHere\\'s the corrected script:\\n\\n```bash\\n%%bash\\nset -e\\n\\nPROJECT_ID=\"$(gcloud config get-value project)\"\\nREGION=\"us-central1\"\\nREPO_NAME=\"kitchensink-repo\"\\nIMAGE_NAME=\"kitchensink\"\\n\\n# Build Docker image locally\\ndocker build -t \"${IMAGE_NAME}\" .\\n\\n# Tag for Artifact Registry\\ndocker tag \"${IMAGE_NAME}:latest\" \"${REGION}-docker.pkg.dev/${PROJECT_ID}/${REPO_NAME}/${IMAGE_NAME}:latest\"\\n\\n# Push to Artifact Registry\\ndocker push \"${REGION}-docker.pkg.dev/${PROJECT_ID}/${REPO_NAME}/${IMAGE_NAME}:latest\"\\n\\n# Deploy to Cloud Run\\ngcloud run deploy \"${IMAGE_NAME}\" \\\\\\n  --image \"${REGION}-docker.pkg.dev/${PROJECT_ID}/${REPO_NAME}/${IMAGE_NAME}:latest\" \\\\\\n  --region \"${REGION}\" \\\\\\n  --platform managed \\\\\\n  --allow-unauthenticated\\n```\\n\\nMake sure there are no trailing spaces after the backslashes (`\\\\`) in the `gcloud run deploy` command. This should resolve the issue with unrecognized arguments.'"
      ]
     },
     "execution_count": 35,
     "metadata": {},
     "output_type": "execute_result"
    }
   ],
   "source": [
    "# !repomix\n",
    "coder.run(\"\"\"\n",
    "ERROR: (gcloud.run.deploy) unrecognized arguments:   \n",
    "\n",
    "To search the help text of gcloud commands, run:\n",
    "  gcloud help -- SEARCH_TERMS\n",
    "---------------------------------------------------------------------------\n",
    "CalledProcessError                        Traceback (most recent call last)\n",
    "Cell In[34], line 1\n",
    "----> 1 get_ipython().run_cell_magic('bash', '', 'set -e                                                                                                            \\n                                                                                                                  \\nPROJECT_ID=\"$(gcloud config get-value project)\"                                                                   \\nREGION=\"us-central1\"                                                                                              \\nREPO_NAME=\"kitchensink-repo\"                                                                                      \\nIMAGE_NAME=\"kitchensink\"                                                                                          \\n                                                                                                                  \\n# Build Docker image locally                                                                                      \\ndocker build -t \"${IMAGE_NAME}\" .                                                                                 \\n                                                                                                                  \\n# Tag for Artifact Registry                                                                                       \\ndocker tag \"IMAGENAME:latest\"\"{IMAGE_NAME}:latest\" \"{REGION}-docker.pkg.dev/PROJECTID/{PROJECT_ID}/{REPO_NAME}/${IMAGE_NAME}:latest\"      \\n                                                                                                                  \\n# Push to Artifact Registry                                                                                       \\ndocker push \"REGION−docker.pkg.dev/{REGION}-docker.pkg.dev/{PROJECT_ID}/REPONAME/{REPO_NAME}/{IMAGE_NAME}:latest\"                            \\n                                                                                                                  \\n# Deploy to Cloud Run                                                                                             \\ngcloud run deploy \"${IMAGE_NAME}\" \\\\                                                                               \\n  --image \"REGION−docker.pkg.dev/{REGION}-docker.pkg.dev/{PROJECT_ID}/REPONAME/{REPO_NAME}/{IMAGE_NAME}:latest\" \\\\                            \\n  --region \"${REGION}\" \\\\                                                                                          \\n  --platform managed \\\\                                                                                            \\n  --allow-unauthenticated \\n')\n",
    "\n",
    "File /opt/conda/lib/python3.10/site-packages/IPython/core/interactiveshell.py:2517, in InteractiveShell.run_cell_magic(self, magic_name, line, cell)\n",
    "   2515 with self.builtin_trap:\n",
    "   2516     args = (magic_arg_s, cell)\n",
    "-> 2517     result = fn(*args, **kwargs)\n",
    "   2519 # The code below prevents the output from being displayed\n",
    "   2520 # when using magics with decorator @output_can_be_silenced\n",
    "   2521 # when the last Python token in the expression is a ';'.\n",
    "   2522 if getattr(fn, magic.MAGIC_OUTPUT_CAN_BE_SILENCED, False):\n",
    "\n",
    "File /opt/conda/lib/python3.10/site-packages/IPython/core/magics/script.py:154, in ScriptMagics._make_script_magic.<locals>.named_script_magic(line, cell)\n",
    "    152 else:\n",
    "    153     line = script\n",
    "--> 154 return self.shebang(line, cell)\n",
    "\n",
    "File /opt/conda/lib/python3.10/site-packages/IPython/core/magics/script.py:314, in ScriptMagics.shebang(self, line, cell)\n",
    "    309 if args.raise_error and p.returncode != 0:\n",
    "    310     # If we get here and p.returncode is still None, we must have\n",
    "    311     # killed it but not yet seen its return code. We don't wait for it,\n",
    "    312     # in case it's stuck in uninterruptible sleep. -9 = SIGKILL\n",
    "    313     rc = p.returncode or -9\n",
    "--> 314     raise CalledProcessError(rc, cell)\n",
    "\n",
    "CalledProcessError: Command 'b'set -e                                                                                                            \\n                                                                                                                  \\nPROJECT_ID=\"(gcloud config get-value project)\"                                                                   \\nREGION=\"us-central1\"                                                                                              \\nREPO_NAME=\"kitchensink-repo\"                                                                                      \\nIMAGE_NAME=\"kitchensink\"                                                                                          \\n                                                                                                                  \\n# Build Docker image locally                                                                                      \\ndocker build -t \"(gcloud config get-value project)\"                                                                   \\nREGION=\"us-central1\"                                                                                              \\nREPO_NAME=\"kitchensink-repo\"                                                                                      \\nIMAGE_NAME=\"kitchensink\"                                                                                          \\n                                                                                                                  \\n# Build Docker image locally                                                                                      \\ndocker build -t \"{IMAGE_NAME}\" .                                                                                 \\n                                                                                                                  \\n# Tag for Artifact Registry                                                                                       \\ndocker tag \"IMAGENAME:latest\"\"{IMAGE_NAME}:latest\" \"{REGION}-docker.pkg.dev/PROJECTID/{PROJECT_ID}/{REPO_NAME}/{IMAGE_NAME}:latest\"      \\n                                                                                                                  \\n# Push to Artifact Registry                                                                                       \\ndocker push \"REGION−docker.pkg.dev/{REGION}-docker.pkg.dev/{PROJECT_ID}/REPONAME/{REPO_NAME}/{IMAGE_NAME}:latest\"                            \\n                                                                                                                  \\n# Deploy to Cloud Run                                                                                             \\ngcloud run deploy \"{IMAGE_NAME}:latest\"      \\n                                                                                                                  \\n# Push to Artifact Registry                                                                                       \\ndocker push \"REGION−docker.pkg.dev/{REGION}-docker.pkg.dev/{PROJECT_ID}/REPONAME/{REPO_NAME}/{IMAGE_NAME}:latest\"                            \\n                                                                                                                  \\n# Deploy to Cloud Run                                                                                             \\ngcloud run deploy \"{IMAGE_NAME}\" \\\\                                                                               \\n  --image \"REGION−docker.pkg.dev/{REGION}-docker.pkg.dev/{PROJECT_ID}/REPONAME/{REPO_NAME}/{IMAGE_NAME}:latest\" \\\\                            \\n  --region \"${REGION}\" \\\\                                                                                          \\n  --platform managed \\\\                                                                                            \\n  --allow-unauthenticated \\n'' returned non-zero exit status 2.\n",
    "\"\"\")"
   ]
  },
  {
   "cell_type": "code",
   "execution_count": 53,
   "id": "da61d735-96f9-45e7-94ff-b5f7675097bb",
   "metadata": {},
   "outputs": [
    {
     "name": "stdout",
     "output_type": "stream",
     "text": [
      "Sending build context to Docker daemon  105.7MB\n",
      "Step 1/11 : FROM maven:3.9.4-eclipse-temurin-21 AS builder\n",
      " ---> deb1d31e5bc6\n",
      "Step 2/11 : WORKDIR /app\n",
      " ---> Using cache\n",
      " ---> c21f85773156\n",
      "Step 3/11 : COPY pom.xml .\n",
      " ---> Using cache\n",
      " ---> 7a3c7f83330f\n",
      "Step 4/11 : RUN mvn dependency:go-offline\n",
      " ---> Using cache\n",
      " ---> 95a7a659a5e3\n",
      "Step 5/11 : COPY src/ ./src\n",
      " ---> Using cache\n",
      " ---> 2d9a0e19de62\n",
      "Step 6/11 : RUN mvn clean package -DskipTests\n",
      " ---> Using cache\n",
      " ---> e4dde86efc22\n",
      "Step 7/11 : FROM eclipse-temurin:21-jre-alpine\n",
      " ---> 54d4bf45d703\n",
      "Step 8/11 : WORKDIR /app\n",
      " ---> Using cache\n",
      " ---> 5f68c2bd6c19\n",
      "Step 9/11 : COPY --from=builder /app/target/spring-kitchensink-1.0.0-SNAPSHOT.jar /app/app.jar\n",
      " ---> Using cache\n",
      " ---> 873ff59ff8f2\n",
      "Step 10/11 : EXPOSE 8080\n",
      " ---> Using cache\n",
      " ---> 6bea7e7163fc\n",
      "Step 11/11 : CMD [\"java\", \"-jar\", \"/app/app.jar\"]\n",
      " ---> Running in d79ea6df4d8f\n",
      "Removing intermediate container d79ea6df4d8f\n",
      " ---> 6b92727f7b19\n",
      "Successfully built 6b92727f7b19\n",
      "Successfully tagged my-spring-app:latest\n"
     ]
    }
   ],
   "source": [
    "##test local\n",
    "# Replace 'my-spring-app' with your preferred image name\n",
    "!docker build -t my-spring-app .\n"
   ]
  },
  {
   "cell_type": "code",
   "execution_count": 58,
   "id": "ef4b7d38-2846-41f9-8b66-2e72f8e68c40",
   "metadata": {},
   "outputs": [
    {
     "name": "stdout",
     "output_type": "stream",
     "text": [
      "docker: Error response from daemon: Conflict. The container name \"/my-container\" is already in use by container \"fea35a31c37fdab7c07467010e7996ec74de79fa5c47e39209c9ef02e8f50ea4\". You have to remove (or rename) that container to be able to reuse that name.\n",
      "See 'docker run --help'.\n"
     ]
    }
   ],
   "source": [
    "# -p 9999:8080 means \"map host port 9999 to container port 8080\"\n",
    "!docker run -d -p 9999:8080 --name my-container my-spring-app\n",
    " "
   ]
  },
  {
   "cell_type": "code",
   "execution_count": 61,
   "id": "5bf497c6-59ec-4aa9-9b51-ec5f4f40b21a",
   "metadata": {},
   "outputs": [
    {
     "name": "stdout",
     "output_type": "stream",
     "text": [
      "{\"id\":\"67b040c7047c130c30395161\",\"name\":\"John Doe\",\"email\":\"john33@example.com\",\"phoneNumber\":\"1234567890\"}"
     ]
    }
   ],
   "source": [
    "!curl -X POST -H \"Content-Type: application/json\" -d '{ \\\n",
    "  \"name\": \"John Doe\", \\\n",
    "  \"email\": \"john33@example.com\", \\\n",
    "  \"phoneNumber\": \"1234567890\" \\\n",
    "}' http://localhost:9999/api/members"
   ]
  },
  {
   "cell_type": "code",
   "execution_count": 68,
   "id": "c6c4c3e6-0e29-41ef-8dbc-3a513d491b88",
   "metadata": {},
   "outputs": [
    {
     "name": "stdout",
     "output_type": "stream",
     "text": [
      "PROJECT_ID: ali-gcp-450510\n",
      "REGION: us-central1\n",
      "REPO_NAME: kitchensink-repo\n",
      "IMAGE_NAME: kitchensink\n",
      "Sending build context to Docker daemon  105.7MB\n",
      "Step 1/11 : FROM maven:3.9.4-eclipse-temurin-21 AS builder\n",
      " ---> deb1d31e5bc6\n",
      "Step 2/11 : WORKDIR /app\n",
      " ---> Using cache\n",
      " ---> c21f85773156\n",
      "Step 3/11 : COPY pom.xml .\n",
      " ---> Using cache\n",
      " ---> 7a3c7f83330f\n",
      "Step 4/11 : RUN mvn dependency:go-offline\n",
      " ---> Using cache\n",
      " ---> 95a7a659a5e3\n",
      "Step 5/11 : COPY src/ ./src\n",
      " ---> Using cache\n",
      " ---> 2d9a0e19de62\n",
      "Step 6/11 : RUN mvn clean package -DskipTests\n",
      " ---> Using cache\n",
      " ---> e4dde86efc22\n",
      "Step 7/11 : FROM eclipse-temurin:21-jre-alpine\n",
      " ---> 54d4bf45d703\n",
      "Step 8/11 : WORKDIR /app\n",
      " ---> Using cache\n",
      " ---> 5f68c2bd6c19\n",
      "Step 9/11 : COPY --from=builder /app/target/spring-kitchensink-1.0.0-SNAPSHOT.jar /app/app.jar\n",
      " ---> Using cache\n",
      " ---> 873ff59ff8f2\n",
      "Step 10/11 : EXPOSE 8080\n",
      " ---> Using cache\n",
      " ---> 6bea7e7163fc\n",
      "Step 11/11 : CMD [\"java\", \"-jar\", \"/app/app.jar\"]\n",
      " ---> Using cache\n",
      " ---> 6b92727f7b19\n",
      "Successfully built 6b92727f7b19\n",
      "Successfully tagged kitchensink:latest\n",
      "The push refers to repository [us-central1-docker.pkg.dev/ali-gcp-450510/kitchensink-repo/kitchensink]\n",
      "f5efdf7d3dba: Preparing\n",
      "c92fc897efe2: Preparing\n",
      "4a31297e6baa: Preparing\n",
      "822032205b9c: Preparing\n",
      "93509ae705ea: Preparing\n",
      "8f5df01935a3: Preparing\n",
      "08000c18d16d: Preparing\n",
      "8f5df01935a3: Waiting\n",
      "08000c18d16d: Waiting\n",
      "93509ae705ea: Layer already exists\n",
      "c92fc897efe2: Layer already exists\n",
      "8f5df01935a3: Layer already exists\n",
      "08000c18d16d: Layer already exists\n",
      "f5efdf7d3dba: Layer already exists\n",
      "822032205b9c: Layer already exists\n",
      "4a31297e6baa: Layer already exists\n",
      "latest: digest: sha256:77e54dd23ef123f62319d7cea26706c8b105185dad526d4e4c1a581488891aff size: 1786\n"
     ]
    },
    {
     "name": "stderr",
     "output_type": "stream",
     "text": [
      "Deploying container to Cloud Run service [\u001b[1mkitchensink\u001b[m] in project [\u001b[1mali-gcp-450510\u001b[m] region [\u001b[1mus-central1\u001b[m]\n",
      "Deploying...\n",
      "Setting IAM Policy................................done\n",
      "Creating Revision........................................................................................................done\n",
      "Routing traffic.....done\n",
      "Done.\n",
      "Service [\u001b[1mkitchensink\u001b[m] revision [\u001b[1mkitchensink-00003-6s4\u001b[m] has been deployed and is serving \u001b[1m100\u001b[m percent of traffic.\n",
      "Service URL: \u001b[1mhttps://kitchensink-93677313045.us-central1.run.app\u001b[m\n"
     ]
    }
   ],
   "source": [
    "%%bash\n",
    "set -e\n",
    "\n",
    "# 1) Set environment variables\n",
    "PROJECT_ID=\"$(gcloud config get-value project)\"\n",
    "REGION=\"us-central1\"           # Or your chosen region\n",
    "REPO_NAME=\"kitchensink-repo\"\n",
    "IMAGE_NAME=\"kitchensink\"\n",
    "\n",
    "echo \"PROJECT_ID: ${PROJECT_ID}\"\n",
    "echo \"REGION: ${REGION}\"\n",
    "echo \"REPO_NAME: ${REPO_NAME}\"\n",
    "echo \"IMAGE_NAME: ${IMAGE_NAME}\"\n",
    "\n",
    "# 2) Build the Docker image (from the Dockerfile in current dir)\n",
    "docker build -t \"${IMAGE_NAME}\" .\n",
    "\n",
    "# 3) Tag the image for Artifact Registry\n",
    "#    Format: [REGION]-docker.pkg.dev/[PROJECT_ID]/[REPO_NAME]/[IMAGE_NAME]:[tag]\n",
    "docker tag \"${IMAGE_NAME}:latest\" \\\n",
    "  \"REGION−docker.pkg.dev/{REGION}-docker.pkg.dev/{PROJECT_ID}/REPONAME/{REPO_NAME}/{IMAGE_NAME}:latest\"\n",
    "\n",
    "# 4) Push the image to Artifact Registry\n",
    "docker push \"REGION−docker.pkg.dev/{REGION}-docker.pkg.dev/{PROJECT_ID}/REPONAME/{REPO_NAME}/{IMAGE_NAME}:latest\"\n",
    "\n",
    "# 5) Deploy to Cloud Run\n",
    "gcloud run deploy \"${IMAGE_NAME}\" \\\n",
    "  --image \"REGION−docker.pkg.dev/{REGION}-docker.pkg.dev/{PROJECT_ID}/REPONAME/{REPO_NAME}/{IMAGE_NAME}:latest\" \\\n",
    "  --region \"${REGION}\" \\\n",
    "  --platform managed \\\n",
    "  --allow-unauthenticated\n"
   ]
  },
  {
   "cell_type": "code",
   "execution_count": 48,
   "id": "8c5bf6bf-032d-4cfc-bc92-4982558ecc5e",
   "metadata": {},
   "outputs": [],
   "source": [
    "# !docker build -t my-spring-app ."
   ]
  },
  {
   "cell_type": "code",
   "execution_count": 49,
   "id": "42a95bc6-4173-47c5-8014-c1cc01c2263b",
   "metadata": {},
   "outputs": [],
   "source": [
    "# !docker run -p 8081:8081 my-spring-app\n"
   ]
  },
  {
   "cell_type": "code",
   "execution_count": 69,
   "id": "10a0da6c-2d17-4bfd-a71a-b70cc2cdf24a",
   "metadata": {},
   "outputs": [],
   "source": [
    "#  %%bash                                                                                                            \n",
    "#  set -e                                                                                                                     \n",
    "#  # Deploy to Cloud Run                                                                                             \n",
    "# gcloud run deploy kitchensink \\\n",
    "#   --image us-central1-docker.pkg.dev/$PROJECT_ID/kitchensink-repo/kitchensink:latest \\\n",
    "#   --region us-central1 \\\n",
    "#   --platform managed \\\n",
    "#   --allow-unauthenticated    "
   ]
  },
  {
   "cell_type": "code",
   "execution_count": 27,
   "id": "83af1a2f-c22c-4c34-aeb1-6eb79e572973",
   "metadata": {},
   "outputs": [
    {
     "name": "stdout",
     "output_type": "stream",
     "text": [
      "CONTAINER ID   IMAGE     COMMAND   CREATED   STATUS    PORTS     NAMES\n"
     ]
    }
   ],
   "source": [
    "!docker ps"
   ]
  },
  {
   "cell_type": "code",
   "execution_count": 14,
   "id": "33ec20d4-b35a-44b8-804a-f45a160d3f0b",
   "metadata": {},
   "outputs": [
    {
     "name": "stdout",
     "output_type": "stream",
     "text": [
      "openjdk 11.0.26 2025-01-21\n",
      "OpenJDK Runtime Environment (build 11.0.26+4-post-Debian-1deb11u1)\n",
      "OpenJDK 64-Bit Server VM (build 11.0.26+4-post-Debian-1deb11u1, mixed mode, sharing)\n"
     ]
    }
   ],
   "source": [
    "!java --version"
   ]
  },
  {
   "cell_type": "code",
   "execution_count": null,
   "id": "250c24e4-5d8c-4c13-a192-7d3e54242018",
   "metadata": {},
   "outputs": [],
   "source": []
  }
 ],
 "metadata": {
  "environment": {
   "kernel": "conda-base-py",
   "name": "workbench-notebooks.m127",
   "type": "gcloud",
   "uri": "us-docker.pkg.dev/deeplearning-platform-release/gcr.io/workbench-notebooks:m127"
  },
  "kernelspec": {
   "display_name": "Python 3 (ipykernel)",
   "language": "python",
   "name": "conda-base-py"
  },
  "language_info": {
   "codemirror_mode": {
    "name": "ipython",
    "version": 3
   },
   "file_extension": ".py",
   "mimetype": "text/x-python",
   "name": "python",
   "nbconvert_exporter": "python",
   "pygments_lexer": "ipython3",
   "version": "3.10.16"
  }
 },
 "nbformat": 4,
 "nbformat_minor": 5
}
